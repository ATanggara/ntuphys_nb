{
 "cells": [
  {
   "cell_type": "markdown",
   "metadata": {},
   "source": [
    "# 7. Branch points and branch cuts\n",
    "\n",
    "When [introducing complex algebra](03_complex_numbers.ipynb), we postponed discussion of what it means to raise a complex number to a non-integer power, such as $z^{1/2}$, $z^{4/3}$, or $z^{\\pi}$. It is now time to open that particular can of worms.  Out of this can will come the two indispensible concepts of **branch points** and **branch cuts**.\n",
    "\n",
    "## Non-integer powers as multi-valued operations<a name=\"noninteger_powers\"></a>\n",
    "\n",
    "Given a complex number in its [polar representation](03_complex_numbers.ipynb#polar), $z = r\\exp[i\\theta]$, raising to the power of $p$ could be handled this way:\n",
    "\n",
    "$$z^p = \\left(re^{i\\theta}\\right)^p = r^p e^{ip\\theta}.$$\n",
    "\n",
    "The problem lies in the complex exponential term $e^{ip\\theta}$.  Since $\\theta = \\mathrm{arg}(z)$ is an angle, we can change it by any integer multiple of $2\\pi$ without altering the value of $z$.  If this fact is taken into account, the above equation becomes\n",
    "\n",
    "$$z^p = \\left(r\\,e^{i(\\theta + 2\\pi n)}\\right)^p = \\left(r^p e^{ip\\theta} \\right) e^{2\\pi i n p} \\quad\\; \\mathrm{where}\\;\\; n\\in\\mathbb{Z}.$$\n",
    "\n",
    "Hence, there is a extra factor of $\\exp(2\\pi i n p)$ which we need to consider. If the power $p$ is an integer, then $2\\pi n p$ is an integer multiple of $2\\pi$. Therefore, in this case $z^p$ takes the same value regardless of our choice of $n \\in \\mathbb{Z}$:\n",
    "\n",
    "$$z^p = \\left(r\\,e^{i(\\theta + 2\\pi n)}\\right)^p = r^p e^{ip\\theta} \\;\\;\\mathrm{for\\;all}\\;\\; n\\in\\mathbb{Z} \\;(\\text{if}\\,p\\in\\mathbb{Z}).$$\n",
    "\n",
    "On the other hand, if $p$ is not an integer, then there is no unique answer, since $\\exp\\left(2 \\pi i np\\right)$ can have multiple possible values depending on the choice of $n \\in \\mathbb{Z}$.  In such cases, the \"raise to the power of $p$\" operation is a **multi-valued operation**. This means it cannot be treated as a function in the usual sense, since [the basic definition of a function states that it must have unambiguous outputs](00_mathfunctions.ipynb)."
   ]
  },
  {
   "cell_type": "markdown",
   "metadata": {},
   "source": [
    "### Roots of unity<a name=\"roots_of_unity\"></a>\n",
    "\n",
    "Let's take a closer look at the problematic exponential term,\n",
    "\n",
    "$$\\exp\\left(2\\pi i np\\right), \\quad n \\in \\mathbb{Z}.$$\n",
    "\n",
    "If $p$ is irrational, $2\\pi np$ never repeats itself modulo $2\\pi$.  So we have an infinite number of different results for $z^p$, one for each integer $n$, where each result is equally legitimate!\n",
    "\n",
    "More interesting is the case of a non-integer *rational* power, which can be written as $p = P/Q$, where $P$ and $Q$ are integers with no common divisor.  Then $2\\pi n\\, (P/Q)$ has $Q$ unique values modulo $2\\pi$:\n",
    "\n",
    "$$ 2\\pi n\\, \\left(\\frac{P}{Q}\\right) = 2\\pi \\times \\left\\{0,\\, \\frac{1}{Q},\\, \\frac{2}{Q},\\, \\dots, \\frac{(Q-1)}{Q} \\right\\} \\quad(\\mathrm{modulo} \\; 2\\pi).$$\n",
    "\n",
    "Note that this set is independent of the numerator $P$; it turns out that $P$ only affects the sequence in which these numbers are generated. We can clarify this using a few simple examples:\n",
    "\n",
    "<table width=75%>\n",
    "<tr><td>**Example**</td></tr>\n",
    "<tr><td>Consider the complex square root operation, $z^{1/2}$.  If we write $z$ in its polar respresentation,<br/>$$z = r e^{i\\theta},$$<br/>then<br/>\n",
    "$$z^{1/2} = \\left[r \\, e^{i(\\theta + 2 \\pi n)} \\right]^{1/2} = r^{1/2} \\, e^{i\\theta/2} \\, e^{i \\pi n}, \\quad n \\in \\mathbb{Z}.$$<br/>\n",
    "The factor of $e^{i\\pi n}$ takes on two possible values: $+1$ for even $n$, and $-1$ for odd $n$.  Hence, the square root operation has two possible values:<br/>\n",
    "$$z^{1/2} = \\left\\{\\begin{array}{ll}\\;\\;\\; r^{1/2} \\, e^{i\\theta/2}, & \\mathrm{or} \\\\ -r^{1/2} \\, e^{i\\theta/2} &\\end{array}\\right.$$<br/>\n",
    "We can write this more compactly as follows:<br/>\n",
    "$$z^{1/2} = r^{1/2} \\, e^{i\\theta/2} \\;\\times\\; \\left\\{1, -1\\right\\}.$$</td></tr></table>\n",
    "\n",
    "<table width=75%>\n",
    "<tr><td>**Example**</td></tr>\n",
    "<tr><td>Consider the cube root operation $z^{1/3}$.  Again, we write $z$ in its polar representation, and obtain\n",
    "\n",
    "$$z^{1/3} = r^{1/3} \\, e^{i\\theta/3} \\, e^{2\\pi i n/3}, \\quad n \\in \\mathbb{Z}.$$\n",
    "\n",
    "The multi-valuedness comes from the factor of $\\exp(2\\pi i n/3)$.  Let us work out the value of this factor for different values of the integer $n$:\n",
    "\n",
    "$$\\begin{array}{|c||c|c|c|c|c|c|c|c|c|} \\hline n &\\cdots & -2 & -1 & 0 & 1 & 2 & 3 & 4 & \\cdots \\\\ \\hline e^{2\\pi i n/3} &\\cdots & e^{2\\pi i /3} & e^{-2\\pi i /3} & \\;\\,\\;1\\;\\,\\; & e^{2\\pi i /3} & e^{-2\\pi i /3} & \\;\\,\\;1\\;\\,\\; & e^{2\\pi i /3} & \\cdots \\\\ \\hline \\end{array}$$\n",
    "\n",
    "From the pattern, we can figure out that there are three possible values of the exponential factor:\n",
    "\n",
    "$$e^{2\\pi i n/3} = \\left\\{1, e^{2\\pi i /3}, e^{-2\\pi i /3}\\right\\}.$$\n",
    "\n",
    "Therefore, the cube root operation has three distinct values:\n",
    "\n",
    "$$z^{1/3} = r^{1/3} \\, e^{i\\theta/3} \\;\\times\\; \\left\\{1, e^{2\\pi i /3}, e^{-2\\pi i /3}\\right\\}.$$</td></tr></table>\n",
    "\n",
    "<table width=75%>\n",
    "<tr><td>**Example**</td></tr>\n",
    "<tr><td>Consider the operation $z^{2/3}$.  Again, we write $z$ in its polar representation, and obtain\n",
    "\n",
    "$$z^{2/3} = r^{2/3} \\, e^{2i\\theta/3} \\, e^{4\\pi i n/3}, \\quad n \\in \\mathbb{Z}.$$\n",
    "\n",
    "The multi-valuedness comes from the factor of $\\exp(4\\pi i n/3)$.  Let us work out the value of this factor for different values of the integer $n$:\n",
    "\n",
    "$$\\begin{array}{|c||c|c|c|c|c|c|c|c|c|} \\hline n &\\cdots & -2 & -1 & 0 & 1 & 2 & 3 & 4 & \\cdots \\\\ \\hline e^{4\\pi i n/3} &\\cdots & e^{-2\\pi i /3} & e^{2\\pi i /3} & \\;\\,\\;1\\;\\,\\; & e^{-2\\pi i /3} & e^{2\\pi i /3} & \\;\\,\\;1\\;\\,\\; & e^{-2\\pi i /3} & \\cdots \\\\ \\hline \\end{array}$$\n",
    "\n",
    "Hence, there are three possible values of this exponential factor,\n",
    "\n",
    "$$e^{2\\pi i n (2/3)} = \\left\\{1, e^{2\\pi i /3}, e^{-2\\pi i /3}\\right\\}.$$\n",
    "\n",
    "Note that this is the exact same set of values that we obtained for $e^{2\\pi i n/3}$ in the previous example. Thus,\n",
    "\n",
    "$$z^{2/3} = r^{2/3} \\, e^{2i\\theta/3} \\;\\times\\; \\left\\{1, e^{2\\pi i /3}, e^{-2\\pi i /3}\\right\\}.$$</td></tr></table>\n",
    "\n",
    "Based on the above discussion, the general expression for a complex rational-power operation is:\n",
    "\n",
    "$$z^{P/Q} = r^{P/Q} e^{i\\theta (P/Q)} \\times \\left\\{1,\\, e^{2\\pi i \\cdot (1/Q)},\\, e^{2\\pi i \\cdot (2/Q)},\\, \\dots, e^{2\\pi i \\cdot [(1-Q)/Q]} \\right\\}.$$\n",
    "\n",
    "The quantities in the curly brackets are called the **$Q$-roots of unity**. In the [complex plane](03_complex_numbers.ipynb#complex_plane), they sit at $Q$ evenly-spaced positions along the unit circle, with $1$ (unity) as one of the values, as shown in the following figure."
   ]
  },
  {
   "cell_type": "code",
   "execution_count": 1,
   "metadata": {
    "collapsed": false
   },
   "outputs": [
    {
     "data": {
      "image/png": "[encoded data removed]",
      "text/plain": [
       "<matplotlib.figure.Figure at 0x7ff48d0fa438>"
      ]
     },
     "metadata": {},
     "output_type": "display_data"
    }
   ],
   "source": [
    "%matplotlib inline\n",
    "from ipywidgets import interact, IntSlider\n",
    "from numpy import linspace, sin, cos, exp, pi, arange\n",
    "import matplotlib.pyplot as plt\n",
    "\n",
    "def plot_unity_roots(p):\n",
    "    plt.figure(figsize=(10,5))\n",
    "    ax = plt.subplot(1,1,1)\n",
    "    \n",
    "    ## (Plot the circular arc that the points lie on.)\n",
    "    phi = linspace(-pi, pi, 50)\n",
    "    plt.plot(cos(phi), sin(phi), color='grey')\n",
    "    \n",
    "    ## Plot the roots of unit.\n",
    "    z = exp(1j*2*pi*arange(0, p)/p)\n",
    "    for n in range(p):\n",
    "        plt.plot([0, z[n].real], [0, z[n].imag], '--', color='grey')\n",
    "    plt.plot(z.real, z.imag, 'o', color='blue', markersize=15)\n",
    "    \n",
    "    plt.xlabel('Re(z)')\n",
    "    plt.ylabel('Im(z)')\n",
    "    plt.title('{}-roots of unity'.format(p)) \n",
    "    plt.xlim(-1.2, 1.2)\n",
    "    plt.ylim(-1.2, 1.2)\n",
    "    plt.axes().set_aspect('equal')\n",
    "\n",
    "interact(plot_unity_roots,\n",
    "         p = IntSlider(min=1, max=20, step=1, value=5));"
   ]
  },
  {
   "cell_type": "markdown",
   "metadata": {},
   "source": [
    "### Complex logarithms<a name=\"complex_logarithm\"></a>\n",
    "\n",
    "Here is another way to think about the problem of non-integer powers.  Recall what it means to raise a number to, say, the power of 5: we simply multiply the number by itself five times.  How can we define raising a number to a non-integer power $p$?  For the real case, [we used the following definition](00_mathfunctions.ipynb#exponential) based on a combination of exponential and logarithm functions:\n",
    "\n",
    "$$x^p \\equiv \\exp\\left[\\,p\\ln(x)\\right].$$\n",
    "\n",
    "This definition relies on the fact that, for real inputs, the logarithm is a well-defined function.  That, in turn, comes from the definition of the logarithm as the inverse of the exponential function. Since the real exponential is a one-to-one function, it has a well-defined inverse which is also a one-to-one function.\n",
    "\n",
    "For complex numbers, however, the exponential function is many-to-one, not one-to-one.  Specifically, changing its input by any multiple of $2\\pi i$ gives the same value:\n",
    "\n",
    "$$\\exp(z + 2\\pi i n) = \\exp(z) \\cdot e^{2\\pi i n} = \\exp(z) \\quad \\forall\\; n \\in \\mathbb{Z}.$$\n",
    "\n",
    "The inverse of the complex exponential function, which we call the **complex logarithm**, does not produce a single unique output for each input $z$.  Instead, $\\ln(z)$ refers to an infinite discrete set of values, separated by integer multiples of $2\\pi i$.  We can express this state of affairs in the following way:\n",
    "\n",
    "$$\\ln(z) = \\big[\\ln(z)\\big]_{\\mathrm{p.v.}}\\; +\\; 2 \\pi i n, \\quad n \\in \\mathbb{Z}.$$\n",
    "\n",
    "Here, $[\\ln(z)]_{\\mathrm{p.v.}}$ denotes the **principal value** of $\\ln(z)$, which refers to a \"standardized\" value of the logarithm operation (which we'll define later).  Do not think of the principal value as the \"actual\" result of the $\\ln(z)$ operation! There are multiple possible results, each equally legitimate; we simply decide to pick one of them as a \"reference\" result for convenience.\n",
    "\n",
    "Regardless of which principal value we pick, the above equation can then be used to define the \"raising a number to the power of $a$\" operation, by sticking it into the logarithm appearing in the formula $z^p \\equiv \\exp\\left[p\\ln(z)\\right]$. The result is \n",
    "\n",
    "$$\\begin{align}z^p &= \\exp\\Big\\{p\\big([\\ln(z)]_{\\mathrm{p.v.}} + 2\\pi i n\\big)\\Big\\}\\\\ &= \\exp\\Big\\{p[\\ln(z)]_{\\mathrm{p.v.}}\\Big\\} \\times e^{2\\pi i np}, \\quad n \\in \\mathbb{Z}.\\end{align}$$\n",
    "\n",
    "The final factor, which is responsible for the multi-valuedness, are the roots of unity studied in the [previous section](#roots_of_unity)."
   ]
  },
  {
   "cell_type": "markdown",
   "metadata": {},
   "source": [
    "## Branches\n",
    "\n",
    "We have discussed two examples of multi-valued complex operations: taking non-integer powers, and the complex logarithm. Most of the multi-valued operations typically encountered in practice are variants of these. However, we usually prefer to deal with [functions](00_mathfunctions.ipynb) rather than multi-valued operations. One major motivating factor is that the concept of the [complex derivative](06_complex_derivatives.ipynb) was formulated with functions in mind.\n",
    "\n",
    "There is a standard procedure to convert multi-valued operations into functions. The procedure consists of two steps:\n",
    "* Restrict the domain of the input $z$, by excluding those values of $z$ lying on one or more curve(s) in the complex plane, called **branch cuts**. (The reason for this terminology will become clear later).\n",
    "* For $z$ away from the branch cuts, the outputs of the multi-valued operation can be categorized into discrete **branches**.  On each individual branch, the operation then behaves like a function.  Sometimes, we pick one of the branches and refer to it as the **principal branch**.  The values obtained on the principal branch are called **principal values**.\n",
    "\n",
    "The above procedure is best understood by working through the following basic example."
   ]
  },
  {
   "cell_type": "markdown",
   "metadata": {},
   "source": [
    "### Branches of the complex square root\n",
    "\n",
    "Consider the complex square root operation, $z^{1/2}$. As [previously noted](#noninteger_powers), this is a multi-valued operation, with two possible values for each $z \\in \\mathbb{C}$.  Suppose we want to deal with a square root function, $\\sqrt{z}$. This can be accomplished as follows:\n",
    "<ol>\n",
    "<li>\n",
    "Restrict the domain by excluding values of $z$ along the negative real axis.  The negative real axis will be the branch cut.  We only deal with complex numbers that can be written as\n",
    "\n",
    "$$z = r e^{i\\theta}, \\quad \\theta \\in (-\\pi, \\pi).$$</li>\n",
    "<li>\n",
    "Observe that the square root has two possible values, corresponding to the [2-roots of unity](#roots_of_unity).  If we consistently pick the $+1$ root, that defines one \"branch\" of the square root. In this branch, for any $z = re^{i\\theta}$ away from the branch cut, the value of the square root is\n",
    "\n",
    "$$f_+(z) = r^{1/2} \\, e^{i\\theta/2}, \\quad \\theta \\in (-\\pi, \\pi).$$\n",
    "\n",
    "This is a well-defined function with unambiguous outputs. On the other hand, picking the $-1$ root of unity gives us the other branch, corresponding to a different function:\n",
    "\n",
    "$$f_-(z) = -r^{1/2} \\, e^{i\\theta/2}, \\quad \\theta \\in (-\\pi, \\pi).$$</li></ol></td>\n",
    "\n",
    "The following plot shows the positions of $f_+(z)$ and $f_-(z)$ in the complex plane, as we vary $z$."
   ]
  },
  {
   "cell_type": "code",
   "execution_count": 37,
   "metadata": {
    "collapsed": false
   },
   "outputs": [
    {
     "data": {
      "image/png": "[encoded data removed]",
      "text/plain": [
       "<matplotlib.figure.Figure at 0x7fb6d9380358>"
      ]
     },
     "metadata": {},
     "output_type": "display_data"
    }
   ],
   "source": [
    "%matplotlib inline\n",
    "from ipywidgets import interact, FloatSlider\n",
    "from numpy import linspace, sin, cos, pi, sqrt\n",
    "import matplotlib.pyplot as plt\n",
    "\n",
    "def plot_sqrt_branches(absz, argz):\n",
    "    ## (Plot the circular arc that the points lie on.)\n",
    "    rez, imz = absz * cos(argz), absz * sin(argz)\n",
    "    plt.figure(figsize=(10,5))\n",
    "    plt.plot([-5, 0], [0, 0], linewidth=3, color=\"red\", label='Branch cut')\n",
    "    plt.plot(rez, imz, 'o', markersize=10, color=\"yellowgreen\", label='z')\n",
    "    if absz > 0.0 and (argz == -3.14 or argz == 3.14):\n",
    "        plt.text(-2, 1, 'f_+ and f_- undefined;\\nz lies on the branch cut!', color='red')\n",
    "    else:\n",
    "        sqrtr = sqrt(absz)\n",
    "        x, y  = sqrtr * cos(0.5*argz), sqrtr * sin(0.5*argz)\n",
    "        plt.plot(x, y, '*', markersize=12, color=\"mediumblue\", label='f_+(z)')\n",
    "        plt.plot(-x, -y, '*', markersize=12, color=\"darkorange\", label='f_-(z)')\n",
    "    plt.title(\"Branches of the complex square root\\nUse sliders to adjust the value of z.\")\n",
    "    plt.xlabel('x')\n",
    "    plt.ylabel('y')\n",
    "    plt.xlim(-5, 5)\n",
    "    plt.ylim(-5, 5)\n",
    "    plt.axes().set_aspect('equal')\n",
    "    plt.legend(numpoints=1, loc='best')\n",
    "\n",
    "interact(plot_sqrt_branches,\n",
    "         absz = FloatSlider(min=0.0, max=2.0, step=0.1, value=2.0, description='|z|'),\n",
    "         argz = FloatSlider(min=-3.14, max=3.14, step=0.02, value=0.0, description='arg(z)'));"
   ]
  },
  {
   "cell_type": "markdown",
   "metadata": {},
   "source": [
    "It is important to keep in mind that the definition of $f_+(z)$ and $f_-(z)$ implicitly depend on the first choice that we made: to represent the complex argument of $z$ as $\\theta \\in (-\\pi,\\pi)$.  This choice establishes the negative real axis as the branch cut for the square root operation. After we have made this choice, the functions $f_+(z)$ and $f_-(z)$ are perfectly well-defined functions. You should be able to see, from the above figure, that $f_+(z)$ lies in the right half of the complex plane, i.e. it has arguments $\\in (-\\pi/2, \\pi/2)$. On the other hand, $f_-(z)$ lies in the left half of the complex plane.\n",
    "\n",
    "The red line in the figure indicates the branch cut, which, in this case, lies on the negative real axis. The end-point of the branch cut is called a **branch point**.  This branch point occurs at $z = 0$.\n",
    "\n",
    "Each of the branch functions, $f_+(z)$ and $f_-(z)$, are not merely well-defined functions; they are in fact [analytic functions](06_complex_derivatives.ipynb#analytic) over all of the complex plane except the branch cut. This fact can be proven using the [Cauchy-Riemann equations](06_complex_derivatives.ipynb#cauchy_riemann), and is left as an [exercise](#exercises)."
   ]
  },
  {
   "cell_type": "markdown",
   "metadata": {},
   "source": [
    "### Different branch cuts for the complex square root\n",
    "\n",
    "So far, the branch cut has been assigned to the negative real axis. However, this choice is not unique. For instance, we can alternatively specify the input $z$ using the polar representation with a different argument range:\n",
    "\n",
    "$$z = re^{i\\theta}, \\quad \\theta \\in (0, 2\\pi).$$\n",
    "\n",
    "Then we can use the same formulas as before to define the branches of the complex square root:\n",
    "\n",
    "$$f_\\pm(z) = \\pm r^{1/2} \\, e^{i\\theta/2}.$$\n",
    "\n",
    "Because the domain of $\\theta$ is now $(0, 2\\pi)$, the set of inputs $z$ excludes the positive real axis. The branch cut is now on the positive real axis, rather than the negative real axis. With this new choice of branch cut, the effects of the branch functions are shown below."
   ]
  },
  {
   "cell_type": "code",
   "execution_count": 38,
   "metadata": {
    "collapsed": false
   },
   "outputs": [
    {
     "data": {
      "image/png": "[encoded data removed]",
      "text/plain": [
       "<matplotlib.figure.Figure at 0x7fb6d94e1518>"
      ]
     },
     "metadata": {},
     "output_type": "display_data"
    }
   ],
   "source": [
    "%matplotlib inline\n",
    "from ipywidgets import interact, FloatSlider\n",
    "from numpy import linspace, sin, cos, pi, sqrt\n",
    "import matplotlib.pyplot as plt\n",
    "\n",
    "def plot_sqrt_branches(absz, argz):\n",
    "    ## (Plot the circular arc that the points lie on.)\n",
    "    rez, imz = absz * cos(argz), absz * sin(argz)\n",
    "    plt.figure(figsize=(10,5))\n",
    "    plt.plot([0, 5], [0, 0], linewidth=3, color=\"red\", label='Branch cut')\n",
    "    plt.plot(rez, imz, 'o', markersize=10, color=\"yellowgreen\", label='z')\n",
    "    if absz > 0.0 and (argz == 0.0 or argz == 6.28):\n",
    "        plt.text(-2, 1, 'f_+ and f_- undefined;\\nz lies on the branch cut!', color='red')\n",
    "    else:\n",
    "        sqrtr = sqrt(absz)\n",
    "        x, y  = sqrtr * cos(0.5*argz), sqrtr * sin(0.5*argz)\n",
    "        plt.plot(x, y, '*', markersize=12, color=\"mediumblue\", label='f_+(z)')\n",
    "        plt.plot(-x, -y, '*', markersize=12, color=\"darkorange\", label='f_-(z)')\n",
    "    plt.title(\"Branches of the complex square root\\nUse sliders to adjust the value of z.\")\n",
    "    plt.xlabel('x')\n",
    "    plt.ylabel('y')\n",
    "    plt.xlim(-5, 5)\n",
    "    plt.ylim(-5, 5)\n",
    "    plt.axes().set_aspect('equal')\n",
    "    plt.legend(numpoints=1, loc='best')\n",
    "\n",
    "interact(plot_sqrt_branches,\n",
    "         absz = FloatSlider(min=0.0, max=2.0, step=0.1, value=2.0, description='|z|'),\n",
    "         argz = FloatSlider(min=0, max=6.28, step=0.02, value=3.14, description='arg(z)'));"
   ]
  },
  {
   "cell_type": "markdown",
   "metadata": {},
   "source": [
    "The two branch functions now have different effects: $f_+(z)$ maps points onto the upper half of the complex plane, while $f_-(z)$ maps points onto the lower half of the complex plane. Two values of $z$ which lie just above and below the branch cut, indicated by the red triangle and purple star in the left-hand plot, are again \"separated\" by each branch function, mapping to points at very different positions in the complex plane.\n",
    "\n",
    "We can think of \"crossing\" a branch cut in $z$ as having the effect of moving continuously from one branch to another. In the above figure, consider the case where $\\mathrm{arg}(z) = 0.02$, just above the branch cut.  Then $f_+(z)$ lies just above the positive real axis, and $f_-(z)$ lies just below the negative real axis.  Next, switch the argument to $\\mathrm{arg}(z) = 6.26$, just below the branch cut.  This is equivalent to a small downwards displacement of $z$, \"crossing\" the branch cut.  Now, $f_+(z)$ lies just above the negative real axis, near the position of $f_-(z)$ in the previous case.  Conversely, $f_-(z)$ lies just below the positive real axis, near the position of $f_+(z)$ in the previous case. Thus, crossing the branch cut has moved the value of the $f_+(z)$ branch onto the $f_-(z)$, and vice versa.\n",
    "\n",
    "These observations generalize to the $z^{p/q}$ operation, for rational $p/q$ with $q$ roots of unity. By assigning a branch cut, we define $q$ functions, one for each root of unity. Each of these $q$ functions takes a complex input $z$, and gives an unambiguous, smoothly-varying output $f(z)$ (i.e., the function is analytic within its domain). The branch cut serves as a kind of boundary where the different branches are \"glued\" together. By moving $z$ across a branch cut, we can pass continuously from one branch to another."
   ]
  },
  {
   "cell_type": "markdown",
   "metadata": {},
   "source": [
    "### Branch points\n",
    "\n",
    "We have mentioned that the tip of each branch cut is called a **branch point**. At the branch point, the multi-valued operation gives a single unambiguous answer; different branches meet to produce the same output.\n",
    "\n",
    "For example, we saw that the $z^a$ operation's branch cuts end at $z = 0$.  This is indeed a branch point, as the different choices of roots of unity all produce the same output: $0^a = 0$.  (Actually, there is another branch point, at $z = \\infty$, as we'll see.)\n",
    "\n",
    "Next, consider the complex logarithm $\\ln(z)$.  It has a branch point at $z = 0$, but by the property\n",
    "\n",
    "$$\\ln\\left(\\frac{1}{z}\\right) = -\\ln(z),$$\n",
    "\n",
    "this means that there is also a branch point at $z = \\infty$.  Using the definition $z^a \\equiv \\exp[a\\ln(z)]$, we can see that the branch points of the non-integer power operation arise from, and are identical to, the branch points of the logarithm."
   ]
  },
  {
   "cell_type": "markdown",
   "metadata": {},
   "source": [
    "## Branch cuts for general multi-valued operations\n",
    "\n",
    "Having discussed in detail the simplest multi-valued operations, $z^p$ and $\\ln(z)$, let us now describe how to assign branch cuts for more general multi-valued operations. This is a two-step process:\n",
    "\n",
    "* First, locate the branch points.  In most of the examples that we will encounter, the multi-valuedness arises from the [complex logarithm](#complex_logarithm).  In such cases, the branch points are the values of $z$ that make the input to the logarithm either zero or infinity.\n",
    "* Second, define \"cuts\" in the complex plane, such that (i) every branch point has a cut ending on it and (ii) every cut ends on a branch point (which could be a branch point at infinity). The branch cuts should not intersect.\n",
    "\n",
    "It is worth emphasizing again that branch points are independent of the choice of branch cuts. Each branch point is, by definition, a point where the multi-valued operation becomes single-valued.  For the operations $z^a$ and $\\ln(z)$, the branch points are at the origin (and infinity), but for other operations they may occur at other positions in the complex plane.\n",
    "\n",
    "The choice of where to place branch cuts is not unique.  Branch cuts are usually chosen to be straight lines, for simplicity, but this is not necessary. The various choices of branch cuts simply correspond to different ways of partitioning the multi-valued operation's various values into distinct branches."
   ]
  },
  {
   "cell_type": "code",
   "execution_count": null,
   "metadata": {
    "collapsed": true
   },
   "outputs": [],
   "source": []
  },
  {
   "cell_type": "markdown",
   "metadata": {},
   "source": [
    "### An important example<a name=\"two_logs_example\"></a>\n",
    "\n",
    "Consider the operation\n",
    "\n",
    "$$f(z) = \\ln(z+1) - \\ln(z-1).$$\n",
    "\n",
    "This is multi-valued, due to the presence of the complex logarithm.  The branch points occur where the inputs to the logarithms are either zero or infinite. The former occurs when $z = 1$ and $z = -1$. It might seem also that $z = \\infty$ is also a branch point, but this is not the case, because we can write\n",
    "\n",
    "$$f(z) = \\ln\\left(\\frac{z+1}{z-1}\\right).$$\n",
    "\n",
    "The input to the logarithm goes to 1 for $z = \\infty$.  In a sense, the branch points at infinity from the two logarithms \"cancel each other out\".  So there are only two branch points, at $z = 1$ and $z = -1$. We can assign any branch cut that joins these two.  A convenient choice is shown below:\n",
    "\n",
    "<img src=\"img/branch_cut_example1.png\" alt=\"Placement of branch cut.\" width=30%>\n",
    "\n",
    "This choice of branch cut is nice because we can express the $z+1$ and $z - 1$ terms using the polar representations\n",
    "\n",
    "$$z + 1 = r_1\\,e^{i\\theta_1}, \\quad z - 1 = r_2\\, e^{i\\theta_2},$$\n",
    "\n",
    "where $r_1$, $r_2$, $\\theta_1$, and $\\theta_2$ are shown graphically in the above figure. The positioning of the branch cut corresponds to a particular choice for the ranges of the complex arguments $\\theta_1$ and $\\theta_2$.  As we'll shortly see, the present choice of branch cut corresponds to\n",
    "\n",
    "$$\\theta_1 \\in (-\\pi,\\pi), \\quad \\theta_2 \\in (-\\pi,\\pi).$$\n",
    "\n",
    "Hence, in terms of this polar representation, $f(z)$ can be written as\n",
    "\n",
    "$$f(z) = \\ln\\left(\\frac{r_1}{r_2}\\right) + i(\\theta_1 - \\theta_2 + 2\\pi m), \\quad m\\in\\mathbb{Z},$$\n",
    "$$\\mathrm{where}\\; z = -1 + r_1\\,e^{i\\theta_1} = 1 + r_2\\,e^{i\\theta_2},\\quad\\theta_1, \\theta_2 \\in (-\\pi,\\pi).$$\n",
    "\n",
    "The choice of integer $m$ specifies the branch, and $m = 0$ is conventionally assumed to be the principal branch.\n",
    "\n",
    "Let's now verify that setting $\\theta_1 \\in (-\\pi,\\pi)$ and $\\theta_2 \\in (-\\pi,\\pi)$ is consistent with our choice of branch cut. Consider the principal branch, and compare the outputs of the above formula for $z$ just above the real axis, and for $z$ just below the real axis.  There are three cases of interest.  Firstly, for $\\mathrm{Re}(z) < 1$ (to the left of the leftmost branch point),\n",
    "\n",
    "$$\\begin{aligned}\\mathrm{Im}(z) &= 0^+ \\;\\;\\Rightarrow\\;\\; f(z) = \\ln\\left(\\frac{r_1}{r_2}\\right) + i\\Big((\\pi) - (\\pi)\\Big) \\quad = \\ln\\left(\\frac{r_1}{r_2}\\right) \\\\ \\mathrm{Im}(z) &= 0^- \\;\\;\\Rightarrow \\;\\; f(z) = \\ln\\left(\\frac{r_1}{r_2}\\right) + i\\Big((-\\pi) - (-\\pi)\\Big) = \\ln\\left(\\frac{r_1}{r_2}\\right).\\end{aligned}$$\n",
    "\n",
    "Thus, there is no discontinuity along this segment of the real axis.\n",
    "\n",
    "Secondly, for $-1 < \\mathrm{Re}(z) < 1$ (between the two branch points),\n",
    "\n",
    "$$\\begin{aligned}\\mathrm{Im}(z) &= 0^+ \\;\\;\\Rightarrow\\;\\; f(z) = \\ln\\left(\\frac{r_1}{r_2}\\right) + i\\Big((0) - (\\pi)\\Big) \\;\\;= \\ln\\left(\\frac{r_1}{r_2}\\right) -i\\pi \\\\ \\mathrm{Im}(z) &= 0^- \\;\\;\\Rightarrow\\;\\; f(z) = \\ln\\left(\\frac{r_1}{r_2}\\right) + i\\Big((0) - (-\\pi)\\Big) = \\ln\\left(\\frac{r_1}{r_2}\\right) + i\\pi.\\end{aligned}$$\n",
    "\n",
    "Hence, in the segment between the two branch points, there is a discontinuity of $\\pm 2\\pi i$ on different sides of the real axis.  The value of this discontinuity is exactly equal, of course, to the separation between the different branches of the complex logarithm.\n",
    "\n",
    "Finally, for $\\mathrm{Re}(z) > 1$ (to the right of the rightmost branch point), there is again no discontinuity:\n",
    "\n",
    "$$\\begin{aligned}\\mathrm{Im}(z) &= 0^+ \\;\\;\\Rightarrow\\;\\; f(z) = \\ln\\left(\\frac{r_1}{r_2}\\right) + i\\Big((0) - (0)\\Big) = \\ln\\left(\\frac{r_1}{r_2}\\right) \\\\ \\mathrm{Im}(z) &= 0^- \\;\\;\\Rightarrow\\;\\; f(z) = \\ln\\left(\\frac{r_1}{r_2}\\right) + i\\Big((0) - (0)\\Big) = \\ln\\left(\\frac{r_1}{r_2}\\right).\\end{aligned}$$"
   ]
  },
  {
   "cell_type": "markdown",
   "metadata": {},
   "source": [
    "## Exercises<a name=\"exercises\"></a>\n",
    "\n",
    "<ol>\n",
    "<li>Find the values of $(i)^i$.</li>\n",
    "<li>For each of the following multi-valued functions, find all the possible function values, at the specified $z$:<ol style=\"list-style-type:lower-alpha\"><li>&nbsp;&nbsp;$z^{1/3}$ at $z = 1$.</li><li>&nbsp;&nbsp;$z^{3/5}$ at $z = i$.</li><li>&nbsp;&nbsp;$\\ln(z+i)$ at $z = 1$.</li><li>&nbsp;&nbsp;$\\cos^{-1}(z)$ at $z = i$</li></ol></li>\n",
    "<li>For the square root operation $z^{1/2}$, choose a branch cut. Then show that both the branch functions $f_\\pm(z)$ are [analytic](06_complex_derivatives.ipynb#analytic) over all of $\\mathbb{C}$ excluding the branch cut.</li>\n",
    "<li>Consider $f(z) = \\ln(z+a) - \\ln(z-a)$.  For simplicity, let $a$ be a positive real number.  As [discussed above](#two_logs_example), we can write this as\n",
    "\n",
    "$$f(z) = \\ln\\left|\\frac{z+a}{z-a}\\right| + i(\\theta_+ - \\theta_-), \\qquad \\theta_\\pm \\equiv \\mathrm{arg}(z\\pm a).$$\n",
    "\n",
    "Suppose we represent the arguments as $\\theta_+ \\in (-\\pi,\\pi)$ and $\\theta_- \\in (0,2\\pi)$.  Explain why this implies a branch cut consisting of a straight line joining $a$ with $-a$.  Using this representation, calculate the change in $f(z)$ over an infinitesimal loop encircling $z = a$ or $z = -a$.  Calculate also the change in $f(z)$ over a loop of radius $R \\gg a$ encircling the origin (and thus enclosing both branch points).</li>\n",
    "</ol>"
   ]
  }
 ],
 "metadata": {
  "kernelspec": {
   "display_name": "Python 3",
   "language": "python",
   "name": "python3"
  },
  "language_info": {
   "codemirror_mode": {
    "name": "ipython",
    "version": 3
   },
   "file_extension": ".py",
   "mimetype": "text/x-python",
   "name": "python",
   "nbconvert_exporter": "python",
   "pygments_lexer": "ipython3",
   "version": "3.5.2"
  }
 },
 "nbformat": 4,
 "nbformat_minor": 0
}
