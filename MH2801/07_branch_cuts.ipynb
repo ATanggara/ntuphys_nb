{
 "cells": [
  {
   "cell_type": "markdown",
   "metadata": {},
   "source": [
    "# 7. Branch Points and Branch Cuts\n",
    "\n",
    "When [introducing complex algebra](03_complex_numbers.ipynb), we postponed discussion of what it means to raise a complex number to a non-integer power, such as $z^{1/2}$, $z^{4/3}$, or $z^{\\pi}$. It is now time to open that can of worms.  This will involve two important new concepts: **branch points** and **branch cuts**.\n",
    "\n",
    "## Non-integer powers as multi-valued operations<a name=\"noninteger_powers\"></a>\n",
    "\n",
    "Given a complex number in its [polar representation](03_complex_numbers.ipynb#polar), $z = r\\exp[i\\theta]$, raising to the power of $p$ could be handled this way:\n",
    "\n",
    "$$z^p = \\left(re^{i\\theta}\\right)^p = r^p e^{ip\\theta}.$$\n",
    "\n",
    "Let's take a closer look at the complex exponential term $e^{ip\\theta}$.  Since $\\theta = \\mathrm{arg}(z)$ is an angle, we can change it by any integer multiple of $2\\pi$ without altering the value of $z$.  Taking this into account, we can re-write the above equation more carefully as\n",
    "\n",
    "$$z^p = \\left(r\\,e^{i(\\theta + 2\\pi n)}\\right)^p = \\left(r^p e^{ip\\theta} \\right) e^{2\\pi i n p} \\quad\\; \\mathrm{where}\\;\\; n\\in\\mathbb{Z}.$$\n",
    "\n",
    "Thus, there is an ambiguous factor of $\\exp(2\\pi i n p)$, where $n$ can be any integer. If $p$ is an integer, there is no problem, since $2\\pi n p$ will be an integer multiple of $2\\pi$, so $z^p$ has the same value regardless of $n$:\n",
    "\n",
    "$$z^p = r^p e^{ip\\theta} \\;\\;\\textrm{unambiguously} \\;\\;\\;(\\text{if}\\,p\\in\\mathbb{Z}).$$\n",
    "\n",
    "But if $p$ is not an integer, there is no unique answer, since $\\exp\\left(2 \\pi i np\\right)$ has different values for different $n$. In that case, \"raising to the power of $p$\" is a **multi-valued operation**. It cannot be treated as a function in the usual sense, since [functions must have unambiguous outputs](00_mathfunctions.ipynb)."
   ]
  },
  {
   "cell_type": "markdown",
   "metadata": {},
   "source": [
    "### Roots of unity<a name=\"roots_of_unity\"></a>\n",
    "\n",
    "Let's take a closer look at the problematic exponential term,\n",
    "\n",
    "$$\\exp\\left(2\\pi i np\\right), \\quad n \\in \\mathbb{Z}.$$\n",
    "\n",
    "If $p$ is irrational, $2\\pi np$ never repeats modulo $2\\pi$. Thus, $z^p$ has an infinite set of values, one for each integer $n$.\n",
    "\n",
    "More interesting is the case of a non-integer *rational* power. Any rational number can be written as $p = P/Q$ where $P$ and $Q$ are integers with no common divisor.  It can be proven using [modular arithmetic](https://en.wikipedia.org/wiki/Modular_arithmetic) (though we will not go into the details) that $2\\pi n\\, (P/Q)$ has exactly $Q$ unique values modulo $2\\pi$:\n",
    "\n",
    "$$ 2\\pi n\\, \\left(\\frac{P}{Q}\\right) = 2\\pi \\times \\left\\{0,\\, \\frac{1}{Q},\\, \\frac{2}{Q},\\, \\dots, \\frac{(Q-1)}{Q} \\right\\} \\quad(\\mathrm{modulo} \\; 2\\pi).$$\n",
    "\n",
    "This set of values is independent of the numerator $P$, which merely affects the sequence in which the numbers are generated. We can clarify this using a few simple examples:"
   ]
  },
  {
   "cell_type": "markdown",
   "metadata": {},
   "source": [
    "<a name=\"squareroot_ex\"></a>\n",
    "<table width=\"75%\" style=\"font-size: 100%; border: 1px solid gray;\">\n",
    "<tr><td style=\"text-align:left\"><strong>Example</strong></td></tr>\n",
    "<tr><td style=\"text-align:left\">Consider the complex square root operation, $z^{1/2}$.  If we write $z$ in its polar respresentation,<br/>$$z = r e^{i\\theta},$$<br/>then<br/>\n",
    "$$z^{1/2} = \\left[r \\, e^{i(\\theta + 2 \\pi n)} \\right]^{1/2} = r^{1/2} \\, e^{i\\theta/2} \\, e^{i \\pi n}, \\quad n \\in \\mathbb{Z}.$$<br/>\n",
    "The factor of $e^{i\\pi n}$ has two possible values: $+1$ for even $n$, and $-1$ for odd $n$.  Hence,<br/>$$z^{1/2} = r^{1/2} \\, e^{i\\theta/2} \\;\\times\\; \\left\\{1, -1\\right\\}.$$</td></tr></table>\n",
    "\n",
    "<table width=\"75%\" style=\"font-size: 100%; border: 1px solid gray;\">\n",
    "<tr><td style=\"text-align:left\"><strong>Example</strong></td></tr>\n",
    "<tr><td style=\"text-align:left\">Consider the cube root operation $z^{1/3}$.  Again, we write $z$ in its polar representation, and obtain\n",
    "\n",
    "$$z^{1/3} = r^{1/3} \\, e^{i\\theta/3} \\, e^{2\\pi i n/3}, \\quad n \\in \\mathbb{Z}.$$\n",
    "\n",
    "The factor of $\\exp(2\\pi i n/3)$ has the following values for different $n$:\n",
    "\n",
    "$$\\begin{array}{|c||c|c|c|c|c|c|c|c|c|} \\hline n &\\cdots & -2 & -1 & 0 & 1 & 2 & 3 & 4 & \\cdots \\\\ \\hline e^{2\\pi i n/3} &\\cdots & e^{2\\pi i /3} & e^{-2\\pi i /3} & \\;\\,\\;1\\;\\,\\; & e^{2\\pi i /3} & e^{-2\\pi i /3} & \\;\\,\\;1\\;\\,\\; & e^{2\\pi i /3} & \\cdots \\\\ \\hline \\end{array}$$\n",
    "\n",
    "From the pattern, we see that there are three possible values of the exponential factor:\n",
    "\n",
    "$$e^{2\\pi i n/3} = \\left\\{1, e^{2\\pi i /3}, e^{-2\\pi i /3}\\right\\}.$$\n",
    "\n",
    "Therefore, the cube root operation has three distinct values:\n",
    "\n",
    "$$z^{1/3} = r^{1/3} \\, e^{i\\theta/3} \\;\\times\\; \\left\\{1, e^{2\\pi i /3}, e^{-2\\pi i /3}\\right\\}.$$</td></tr></table>\n",
    "\n",
    "<table width=\"75%\" style=\"font-size: 100%; border: 1px solid gray;\">\n",
    "<tr><td style=\"text-align:left\"><strong>Example</strong></td></tr>\n",
    "<tr><td style=\"text-align:left\">Consider the operation $z^{2/3}$.  Again, writing $z$ in its polar representation,\n",
    "\n",
    "$$z^{2/3} = r^{2/3} \\, e^{2i\\theta/3} \\, e^{4\\pi i n/3}, \\quad n \\in \\mathbb{Z}.$$\n",
    "\n",
    "The factor of $\\exp(4\\pi i n/3)$ has the following values for different $n$:\n",
    "\n",
    "$$\\begin{array}{|c||c|c|c|c|c|c|c|c|c|} \\hline n &\\cdots & -2 & -1 & 0 & 1 & 2 & 3 & 4 & \\cdots \\\\ \\hline e^{4\\pi i n/3} &\\cdots & e^{-2\\pi i /3} & e^{2\\pi i /3} & \\;\\,\\;1\\;\\,\\; & e^{-2\\pi i /3} & e^{2\\pi i /3} & \\;\\,\\;1\\;\\,\\; & e^{-2\\pi i /3} & \\cdots \\\\ \\hline \\end{array}$$\n",
    "\n",
    "Hence, there are three possible values of this exponential factor,\n",
    "\n",
    "$$e^{2\\pi i n (2/3)} = \\left\\{1, e^{2\\pi i /3}, e^{-2\\pi i /3}\\right\\}.$$\n",
    "\n",
    "Note that this is the exact same set we obtained for $e^{2\\pi i n/3}$ in the previous example, in agreement with the earlier assertion that the numerator $P$ has no effect on the set of values. Thus,\n",
    "\n",
    "$$z^{2/3} = r^{2/3} \\, e^{2i\\theta/3} \\;\\times\\; \\left\\{1, e^{2\\pi i /3}, e^{-2\\pi i /3}\\right\\}.$$</td></tr></table>"
   ]
  },
  {
   "cell_type": "markdown",
   "metadata": {},
   "source": [
    "From the above examples, we deduce the following expression for rational powers:\n",
    "\n",
    "$$z^{P/Q} = r^{P/Q} \\; e^{i\\theta\\, (P/Q)}\\, \\times \\Big\\{1,\\, e^{2\\pi i /Q},\\, e^{4\\pi i /Q},\\, \\dots, e^{2\\pi i (1-Q)/Q} \\Big\\}.$$\n",
    "\n",
    "The quantities in the curly brackets are called the **roots of unity**. In the [complex plane](03_complex_numbers.ipynb#complex_plane), they sit at $Q$ evenly-spaced points on the unit circle, with $1$ as one of the values, as shown in the following figure."
   ]
  },
  {
   "cell_type": "code",
   "execution_count": 1,
   "metadata": {},
   "outputs": [
    {
     "data": {
      "application/vnd.jupyter.widget-view+json": {
       "model_id": "7eb84e91c46d43718ebb7f30ad9423dc",
       "version_major": 2,
       "version_minor": 0
      },
      "text/plain": [
       "interactive(children=(IntSlider(value=5, description='Q', max=20, min=1), Output()), _dom_classes=('widget-int…"
      ]
     },
     "metadata": {},
     "output_type": "display_data"
    }
   ],
   "source": [
    "## Demo: plot the roots of unity in the complex plane\n",
    "%matplotlib inline\n",
    "from ipywidgets import interact, IntSlider\n",
    "from numpy import linspace, sin, cos, exp, pi, arange\n",
    "import matplotlib.pyplot as plt\n",
    "\n",
    "def plot_unity_roots(q):\n",
    "    plt.figure(figsize=(10,5))\n",
    "    ax = plt.subplot(1,1,1)\n",
    "    ax.set_aspect('equal')\n",
    "\n",
    "    ## (Plot the circular arc that the points lie on.)\n",
    "    phi = linspace(-pi, pi, 50)\n",
    "    plt.plot(cos(phi), sin(phi), color='grey')\n",
    "\n",
    "    ## Plot the roots of unity.\n",
    "    z = exp(1j*2*pi*arange(0, q)/q)\n",
    "    plt.plot(z.real, z.imag, 'o', color='blue', markersize=10)\n",
    "\n",
    "    ## Axes, etc.\n",
    "    plt.title('{}-roots of unity'.format(q)) \n",
    "    plt.axis([-1.2, 1.2, -1.2, 1.2])\n",
    "    plt.xlabel('Re(z)'); plt.ylabel('Im(z)')\n",
    "    plt.show()\n",
    "\n",
    "interact(plot_unity_roots, q = IntSlider(min=1, max=20, step=1, value=5, description='Q'));"
   ]
  },
  {
   "cell_type": "markdown",
   "metadata": {},
   "source": [
    "### Complex logarithms<a name=\"complex_logarithm\"></a>\n",
    "\n",
    "Here is another way to think about non-integer powers.  Recall what it means to raise a number to, say, the power of 5: we simply multiply the number by itself five times.  What about raising a number to a non-integer power $p$?  For the real case, [the power is defined as a combination of exponential and logarithm functions](00_mathfunctions.ipynb#exponential):\n",
    "\n",
    "$$x^p \\equiv \\exp\\Big[\\,p\\ln(x)\\Big].$$\n",
    "\n",
    "This definition relies on the fact that, for real inputs, the logarithm is a well-defined function.  That, in turn, comes from the definition of the logarithm as the inverse of the exponential function. Since the real exponential is one-to-one, its inverse is also one-to-one.\n",
    "\n",
    "The complex exponential, however, is many-to-one, since changing its input by any multiple of $2\\pi i$ yields the same output:\n",
    "\n",
    "$$\\exp(z + 2\\pi i n) = \\exp(z) \\cdot e^{2\\pi i n} = \\exp(z) \\quad \\mathrm{for~all}\\;\\, n \\in \\mathbb{Z}.$$\n",
    "\n",
    "The inverse of the complex exponential is the **complex logarithm**. Since the complex exponential is many-to-one, the complex logarithm does not have a unique output.  Instead, $\\ln(z)$ refers to an infinite discrete set of values, separated by integer multiples of $2\\pi i$.  We can express this state of affairs in the following way:\n",
    "\n",
    "$$\\ln(z) = \\big[\\ln(z)\\big]_{\\mathrm{p.v.}}\\, +\\; 2 \\pi i n, \\quad n \\in \\mathbb{Z}.$$\n",
    "\n",
    "Here, $[\\ln(z)]_{\\mathrm{p.v.}}$ denotes the **principal value** of $\\ln(z)$, which refers to a reference value of the logarithm operation (which we'll define later).  Do not think of the principal value as the \"actual\" result of the $\\ln(z)$ operation! There are multiple values, each equally legitimate; the principal value is merely one of these possible results.\n",
    "\n",
    "We now apply the formula $z^p \\equiv \\exp\\left[p\\ln(z)\\right]$, with $\\ln(z)$ as the multi-valued complex logarithm. Then\n",
    "\n",
    "$$\\begin{align}z^p &= \\exp\\Big\\{p\\big(\\big[\\ln(z)\\big]_{\\mathrm{p.v.}} + 2\\pi i n\\big)\\Big\\}\\\\ &= \\exp\\Big\\{p\\,\\big[\\ln(z)\\big]_{\\mathrm{p.v.}}\\Big\\} \\times e^{2\\pi i np}, \\quad n \\in \\mathbb{Z}.\\end{align}$$\n",
    "\n",
    "The final factor, which is responsible for the multi-valuedness, are precisely the [roots of unity](#roots_of_unity)."
   ]
  },
  {
   "cell_type": "markdown",
   "metadata": {},
   "source": [
    "## Branches<a name=\"branches\"></a>\n",
    "\n",
    "We have discussed two examples of multi-valued complex operations: non-integer powers and the complex logarithm. However, we usually prefer to deal with [functions](00_mathfunctions.ipynb) rather than multi-valued operations. One reason is that the concept of the [complex derivative](06_complex_derivatives.ipynb) is based on functions, not multi-valued operations.\n",
    "\n",
    "There is a standard procedure to convert multi-valued operations into functions. First, we define one or more curve(s) in the complex plane, called **branch cuts** (the reason for this name will be explained later).  Next, we modify the domain (i.e., the set of permissible inputs) by excluding all values of $z$ lying on a branch cut. Then the outputs of the multi-valued operation can be grouped into discrete **branches**, with each branch behaving just like a function.\n",
    "\n",
    "The above procedure can be understood through the example of the square root."
   ]
  },
  {
   "cell_type": "markdown",
   "metadata": {},
   "source": [
    "### Branches of the complex square root\n",
    "\n",
    "We have [previously seen](#squareroot_ex) that the complex square root, $z^{1/2}$, has two possible values. We can define the two branches as follows:\n",
    "\n",
    "1. Define a branch cut along the negative real axis, so that the domain excludes all values of $z$ along the branch cut. In other words, we will only consider complex numbers whose polar representation can be written as $$z = r e^{i\\theta}, \\quad \\theta \\in (-\\pi, \\pi).$$ (For those unfamiliar with this notation, $\\theta \\in (-\\pi, \\pi)$ refers to the interval $-\\pi < \\theta < \\pi$.  The parentheses indicate that the boundary values of $-\\pi$ and $\\pi$ are excluded.  By contrast, we would write $\\theta \\in [-\\pi, \\pi]$ to refer to the interval $-\\pi \\le \\theta \\le \\pi$, with the square brackets indicating that the boundary values are included.)\n",
    "2. One branch is associated with the root of unity $+1$. On this branch, for $z = re^{i\\theta}$, the value is $$f_+(z) = r^{1/2} \\, e^{i\\theta/2}, \\quad \\theta \\in (-\\pi, \\pi).$$\n",
    "3. The other branch is associated with the root of unity $-1$. On this branch, the value is $$f_-(z) = -r^{1/2} \\, e^{i\\theta/2}, \\quad \\theta \\in (-\\pi, \\pi).$$\n",
    "\n",
    "In the following plot, you can observe how varying $z$ affects the positions of $f_+(z)$ and $f_-(z)$ in the complex plane:"
   ]
  },
  {
   "cell_type": "code",
   "execution_count": 2,
   "metadata": {},
   "outputs": [
    {
     "data": {
      "application/vnd.jupyter.widget-view+json": {
       "model_id": "c575614ebe674f8b81b7c442eb82af48",
       "version_major": 2,
       "version_minor": 0
      },
      "text/plain": [
       "interactive(children=(FloatSlider(value=0.0, description='arg(z)', max=3.1, min=-3.1), FloatSlider(value=2.0, …"
      ]
     },
     "metadata": {},
     "output_type": "display_data"
    }
   ],
   "source": [
    "## Demo: plot the branches of the square root, in the complex plane\n",
    "%matplotlib inline\n",
    "from ipywidgets import interact, FloatSlider\n",
    "from numpy import linspace, exp, sin, cos, pi, sqrt, real, imag\n",
    "import matplotlib.pyplot as plt\n",
    "\n",
    "def plot_sqrt_branches(argz, absz):\n",
    "    xlim, ylim = 3, 3\n",
    "    z = absz * exp(1j * argz)\n",
    "\n",
    "    plt.figure(figsize=(10,10)) # Show z in the left subplot\n",
    "    ax1 = plt.subplot(1,2,1)\n",
    "    ax1.set_aspect('equal')\n",
    "    plt.plot([-xlim, xlim], [0, 0], '--', linewidth=1, color=\"grey\")\n",
    "    plt.plot([0, 0], [-ylim, ylim], '--', linewidth=1, color=\"grey\")\n",
    "    plt.plot([-xlim, 0], [0, 0], linewidth=3, color=\"red\", label='Branch cut')\n",
    "    plt.plot([0, xlim], [0, 0], '--', linewidth=1, color=\"grey\")\n",
    "    plt.plot([0, real(z)], [0, imag(z)], linewidth=1, color=\"grey\")\n",
    "    dr, phi = 0.25 * absz, linspace(0, argz, 30)\n",
    "    plt.plot(dr*cos(phi), dr*sin(phi), linewidth=1, color=\"grey\")\n",
    "    plt.plot(real(z), imag(z), 'o', markersize=10, color=\"yellowgreen\", label='z')\n",
    "    plt.title(\"Use sliders to adjust the value of z\")\n",
    "    plt.axis([-xlim, xlim, -ylim, ylim])\n",
    "    plt.xlabel('x'); plt.ylabel('y')\n",
    "    plt.legend(numpoints=1, loc='best')\n",
    "\n",
    "    ax2 = plt.subplot(1,2,2) # Show f1 and f2 in the right subplot\n",
    "    ax2.set_aspect('equal')\n",
    "    x = sqrt(absz) * cos(0.5*argz)\n",
    "    y = sqrt(absz) * sin(0.5*argz)\n",
    "    plt.plot([-xlim, xlim], [0, 0], '--', linewidth=1, color=\"grey\")\n",
    "    plt.plot([0, 0], [-ylim, ylim], '--', linewidth=1, color=\"grey\")\n",
    "    plt.plot(x, y, '*', markersize=12, color=\"mediumblue\", label='f_+(z)')\n",
    "    plt.plot(-x, -y, '*', markersize=12, color=\"darkorange\", label='f_-(z)')\n",
    "\n",
    "    plt.title(\"Branches of the complex square root\")\n",
    "    plt.axis([-xlim, xlim, -ylim, ylim])\n",
    "    plt.xlabel('x'); plt.ylabel('y')\n",
    "    plt.legend(numpoints=1, loc='best')\n",
    "    plt.show()\n",
    "\n",
    "interact(plot_sqrt_branches,\n",
    "         argz = FloatSlider(min=-3.1, max=3.1, step=0.1, value=0.0, description='arg(z)'),\n",
    "         absz = FloatSlider(min=0.0, max=2.0, step=0.2, value=2.0, description='|z|'));"
   ]
  },
  {
   "cell_type": "markdown",
   "metadata": {},
   "source": [
    "The red line in the figure indicates the branch cut. Our definitions of $f_+(z)$ and $f_-(z)$ implicitly depend on the choice of placing the branch cut on the negative real axis, which led to the representation of the argument of $z$ as $\\theta \\in (-\\pi,\\pi)$.\n",
    "\n",
    "In the above plot, note that $f_+(z)$ always lies in the right half of the complex plane, whereas $f_-(z)$ lies in the left half of the complex plane.  Both $f_+$ and $f_-$ are well-defined functions with unambiguous outputs, albeit with domains that do not cover the entire complex plane.  Moreover, they are [analytic](06_complex_derivatives.ipynb#analytic) over their entire domain (i.e., all of the complex plane except the branch cut); this can be proven using the [Cauchy-Riemann equations](06_complex_derivatives.ipynb#cauchy_riemann), and is left as an [exercise](#exercises).\n",
    "\n",
    "The end-point of the branch cut is called a **branch point**. For $z = 0$, both branches give the same result: $f_+(0) = f_-(0) = 0$. We will have more to say about branch points [below](#branchpoints)."
   ]
  },
  {
   "cell_type": "markdown",
   "metadata": {},
   "source": [
    "### Different branch cuts for the complex square root\n",
    "\n",
    "In the above example, you may be wondering why the branch cut has to lie along the negative real axis. In fact, this choice is not unique. For instance, we could place the branch cut along the positive real axis. This corresponds to specifying the input $z$ using a different interval for $\\theta$:\n",
    "\n",
    "$$z = re^{i\\theta}, \\quad \\theta \\in (0, 2\\pi).$$\n",
    "\n",
    "Next, we use the same formulas as before to define the branches of the complex square root:\n",
    "\n",
    "$$f_\\pm(z) = \\pm r^{1/2} \\, e^{i\\theta/2}.$$\n",
    "\n",
    "But because the domain of $\\theta$ has been changed to $(0, 2\\pi)$, the set of inputs $z$ now excludes the positive real axis. With this new choice of branch cut, the branches are shown in the following figure."
   ]
  },
  {
   "cell_type": "code",
   "execution_count": 3,
   "metadata": {},
   "outputs": [
    {
     "data": {
      "application/vnd.jupyter.widget-view+json": {
       "model_id": "abccba61af604e919e4f66709cc4fb8d",
       "version_major": 2,
       "version_minor": 0
      },
      "text/plain": [
       "interactive(children=(FloatSlider(value=3.14, description='arg(z)', max=6.2, min=0.1), FloatSlider(value=2.0, …"
      ]
     },
     "metadata": {},
     "output_type": "display_data"
    }
   ],
   "source": [
    "## Demo: plot the branches of the square root, in the complex plane\n",
    "%matplotlib inline\n",
    "from ipywidgets import interact, FloatSlider\n",
    "from numpy import linspace, exp, sin, cos, pi, sqrt, real, imag\n",
    "import matplotlib.pyplot as plt\n",
    "\n",
    "def plot_sqrt_branches(argz, absz):\n",
    "    xlim, ylim = 3, 3\n",
    "    z = absz * exp(1j*argz)\n",
    "\n",
    "    plt.figure(figsize=(10,10)) # Show z in the left subplot\n",
    "    ax1 = plt.subplot(1,2,1)\n",
    "    ax1.set_aspect('equal')\n",
    "    plt.plot([-xlim, xlim], [0, 0], '--', linewidth=1, color=\"grey\")\n",
    "    plt.plot([0, 0], [-ylim, ylim], '--', linewidth=1, color=\"grey\")\n",
    "    plt.plot([0, xlim], [0, 0], linewidth=3, color=\"red\", label='Branch cut')\n",
    "    plt.plot([0, xlim], [0, 0], '--', linewidth=1, color=\"grey\")\n",
    "    plt.plot([0, real(z)], [0, imag(z)], linewidth=1, color=\"grey\")\n",
    "    dr, phi = 0.25 * absz, linspace(0, argz, 30)\n",
    "    plt.plot(dr*cos(phi), dr*sin(phi), linewidth=1, color=\"grey\")\n",
    "    plt.plot(real(z), imag(z), 'o', markersize=10, color=\"yellowgreen\", label='z')\n",
    "    plt.title(\"Use sliders to adjust the value of z\")\n",
    "    plt.axis([-xlim, xlim, -ylim, ylim])\n",
    "    plt.xlabel('x'); plt.ylabel('y')\n",
    "    plt.legend(numpoints=1, loc='best')\n",
    "\n",
    "    ax2 = plt.subplot(1,2,2) # Show f1 and f2 in the right subplot\n",
    "    ax2.set_aspect('equal')\n",
    "    x = sqrt(absz) * cos(0.5*argz)\n",
    "    y = sqrt(absz) * sin(0.5*argz)\n",
    "    plt.plot([-xlim, xlim], [0, 0], '--', linewidth=1, color=\"grey\")\n",
    "    plt.plot([0, 0], [-ylim, ylim], '--', linewidth=1, color=\"grey\")\n",
    "    plt.plot(x, y, '*', markersize=12, color=\"mediumblue\", label='f_+(z)')\n",
    "    plt.plot(-x, -y, '*', markersize=12, color=\"darkorange\", label='f_-(z)')\n",
    "\n",
    "    plt.title(\"Branches of the complex square root\")\n",
    "    plt.axis([-xlim, xlim, -ylim, ylim])\n",
    "    plt.xlabel('x'); plt.ylabel('y')\n",
    "    plt.legend(numpoints=1, loc='best')\n",
    "    plt.show()\n",
    "\n",
    "interact(plot_sqrt_branches,\n",
    "         argz = FloatSlider(min=0.1, max=6.2, step=0.1, value=3.14, description='arg(z)'),\n",
    "         absz = FloatSlider(min=0.0, max=2.0, step=0.2, value=2.0, description='|z|'));"
   ]
  },
  {
   "cell_type": "markdown",
   "metadata": {},
   "source": [
    "These two branch functions are different from what we had before.  Now, $f_+(z)$ is always in the upper half of the complex plane, and $f_-(z)$ in the lower half of the complex plane. However, both branches still have the same value at the branch point: $f_+(0) = f_-(0) = 0$.\n",
    "\n",
    "The branch cut serves as a boundary where\\ two branches are \"glued\" together. We can think of \"crossing\" a branch cut as having the effect of moving continuously from one branch to another. In the above figure, for example, consider the case where $\\mathrm{arg}(z) = 0.1$, just above the branch cut.  Observe that $f_+(z)$ lies just above the positive real axis, and $f_-(z)$ lies just below the negative real axis.  Next, change the argument to $\\mathrm{arg}(z) = 6.2$, so that $z$ lies just below the branch cut.  This is equivalent to a small downwards displacement of $z$, \"crossing\" the branch cut.  Observe that $f_-(z)$ now lies just below the positive real axis, near where $f_+(z)$ was previously, and $f_+(z)$ now lies just above the negative real axis where $f_-(z)$ was previously.  Crossing the branch cut thus swaps the values of the positive and negative branches.\n",
    "\n",
    "The three-dimensional plot below provides another way to visualize the role of the branch cut.  Here, the horizontal axes correspond to $x = \\mathrm{Re}(z)$ and $y = \\mathrm{Im}(z)$. The vertical axis shows the arguments for the two values of the complex square root, with $\\mathrm{arg}\\big[f_+(z)\\big]$ plotted in orange and $\\mathrm{arg}\\big[f_-(z)\\big]$ plotted in blue. As you vary the choice of the branch cut, observe that this affects which values of the multi-valued operation are assigned to the $+$ (orange) branch, and which values are assigned to the $-$ (blue) branch.  Hence, the choice of branch cut is just a choice about how to divide up the branches of a multi-valued operation\\."
   ]
  },
  {
   "cell_type": "code",
   "execution_count": 4,
   "metadata": {},
   "outputs": [
    {
     "data": {
      "application/vnd.jupyter.widget-view+json": {
       "model_id": "6688dd75fb6643d897e693fdfc0d6d39",
       "version_major": 2,
       "version_minor": 0
      },
      "text/plain": [
       "interactive(children=(FloatSlider(value=-3.1, description='Branch cut angle', max=3.1, min=-3.1), Output()), _…"
      ]
     },
     "metadata": {},
     "output_type": "display_data"
    }
   ],
   "source": [
    "## Demo: 3D plot of the arguments of the square root.\n",
    "## This may take some time to run.\n",
    "%matplotlib inline\n",
    "from ipywidgets import interact, FloatSlider\n",
    "from numpy import linspace, meshgrid, cos, sin, pi, ones\n",
    "import matplotlib.pyplot as plt\n",
    "from mpl_toolkits.mplot3d import Axes3D\n",
    "import matplotlib.tri as mtri\n",
    "\n",
    "def plot_sqrt_arg(thetab):\n",
    "\n",
    "    rmin, rmax, nr = 0.05, 3., 25\n",
    "    rvec = linspace(rmin, rmax, nr)\n",
    "    npmin, dphi = 10, 0.1\n",
    "\n",
    "    def plot_branch(ax, phimin, phimax, m, plus_branch):\n",
    "        delta_phi = phimax - phimin\n",
    "        if delta_phi < 1e-4: return\n",
    "\n",
    "        ## Generate a triangular mesh for the surface\n",
    "        nphi   = max(npmin, int(delta_phi/dphi))\n",
    "        phivec = linspace(phimin, phimax, nphi)\n",
    "        rr, pp = meshgrid(rvec, phivec)\n",
    "        xt, yt = rr*cos(pp), rr*sin(pp)\n",
    "        x, y = xt.flatten(), yt.flatten()\n",
    "        tri  = mtri.Triangulation(x, y).triangles\n",
    "\n",
    "        phi = 0.5*pp.flatten() + m * pi\n",
    "        if plus_branch:\n",
    "            col = \"darkorange\"\n",
    "        else:\n",
    "            col = \"royalblue\"\n",
    "        ax.plot_trisurf(x, y, phi, triangles=tri,\n",
    "                        linewidth=0.1, alpha=1.0, color=col)\n",
    "\n",
    "    fig = plt.figure(figsize=(12,6))\n",
    "    ax = fig.add_subplot(1, 1, 1, projection='3d')\n",
    "    ## Draw some guides to the eye\n",
    "    phi = linspace(-pi, pi, 200)\n",
    "    ax.plot(rmax*cos(phi), rmax*sin(phi), -pi*ones(len(phi)), color=\"grey\")\n",
    "    ax.plot([0, rmax*cos(thetab)], [0, rmax*sin(thetab)], [-pi, -pi],\n",
    "            linewidth=3, color=\"red\")\n",
    "\n",
    "    ## We will plot the branches in several segments, then join them.\n",
    "    ## Main parts of + branch and - branch:\n",
    "    if thetab < 0:\n",
    "        plot_branch(ax, thetab, 0,   0, True)\n",
    "        plot_branch(ax, 0, pi,       0, True)\n",
    "        plot_branch(ax, -pi, thetab, 0, False)\n",
    "    else:\n",
    "        plot_branch(ax, thetab, pi, 0, True)\n",
    "        plot_branch(ax, -pi, 0,     0, False)\n",
    "        plot_branch(ax, 0, thetab,  0, False)\n",
    "\n",
    "    theta1 = min(thetab, 0)\n",
    "    plot_branch(ax, -pi + 0.001, theta1, 1, True)  # Upper part of + branch\n",
    "    plot_branch(ax, theta1, 0, 1, False) # Upper part of - branch\n",
    "\n",
    "    theta2 = max(thetab, 0)\n",
    "    plot_branch(ax, 0, theta2,  -1, True)  # Lower part of + branch\n",
    "    plot_branch(ax, theta2, pi, -1, False) # Lower part of - branch\n",
    "\n",
    "    ## Set plot axis parameters\n",
    "    ax.view_init(elev=30., azim=-100)\n",
    "    ax.set_xlabel('x'); ax.set_ylabel('y'); ax.set_zlabel('arg(f)')\n",
    "    ax.set_xlim3d(-rmax, rmax); ax.set_ylim3d(-rmax, rmax); ax.set_zlim3d(-pi, pi)\n",
    "    plt.show()\n",
    "\n",
    "interact(plot_sqrt_arg,\n",
    "         thetab = FloatSlider(min=-3.1, max=3.1, step=0.1, value=-3.1,\n",
    "                              description='Branch cut angle'));"
   ]
  },
  {
   "cell_type": "markdown",
   "metadata": {},
   "source": [
    "### Branch points<a name=\"branchpoints\"></a>\n",
    "\n",
    "The tip of each branch cut is called a **branch point**. A branch point is a point where different branches yield the same output, and the usual multi-valuedness goes away. Whereas the choice of branch cuts is non-unique, the positions of the branch points of a multi-valued operation are uniquely determined.\n",
    "\n",
    "For the purposes of this course, you mostly only need to remember the branch points arising from two common cases:\n",
    "\n",
    "* The $z^p$ operation (for non-integer $p$) has branch points at $z = 0$ and $z = \\infty$.  For rational powers $p = P/Q$, where $P$ and $Q$ have no common divisor, there are $Q$ branches, one for each root of unity.  At each branch point, all $Q$ branches meet.\n",
    "* The [complex logarithm](#complex_logarithm) has branch points at $z = 0$ and $z = \\infty$.  There is an infinite series of branches, separated from each other by multiples of $2 \\pi i$.  At each branch point, all the branches meet.\n",
    "\n",
    "We can easily see that $z^p$ must have a branch point at $z = 0$: its only possible value at the origin is $0$, regardless of which root of unity we choose. To understand the other branch points listed above, a clearer understanding of the concept of \"infinity\" for complex numbers is required, so we will discuss that now."
   ]
  },
  {
   "cell_type": "markdown",
   "metadata": {},
   "source": [
    "## Aside: the meaning of \"infinity\" for complex numbers\n",
    "<a name=\"infinity\"></a>\n",
    "\n",
    "When talking about $z = \\infty$, we are referring to something called **complex infinity**, which can be regarded as a complex number with infinite magnitude and *undefined* argument.\n",
    "\n",
    "The fact that the argument is undefined may seem strange, but actually we already know of another complex number with this feature: $z = 0$ has zero magnitude and undefined argument.  These two special complex numbers are the reciprocals of each other: $1/\\infty = 0$ and $1/0 = \\infty$.\n",
    "\n",
    "The complex $\\infty$ behaves differently from the familiar concept of infinity associated with real numbers. For real numbers, positive infinity ($+\\infty$) is distinct from negative infinity ($-\\infty$). But this doesn't hold for complex numbers, since complex numbers occupy a two-dimensional plane rather than a line. Thus, for complex numbers it does not make sense to define \"positive infinity\" and \"negative infinity\" as distinct entities. Instead, we work with a single complex $\\infty$.\n",
    "\n",
    "From this discussion, we can see why $z^p$ has a branch point at $z = \\infty$. For any finite and nonzero $z$, we can write $z = re^{i\\theta}$, where $r$ is a positive number. The $z^p$ operation then yields a set of complex numbers of the form $r^p \\, e^{ip\\theta}\\,\\times\\, \\{\\text{root of unity}\\}$.  For each number in this set, the magnitude goes to infinity as $r \\rightarrow \\infty$. In this limit, the argument (i.e., the choice of root of unity) becomes irrelevant, and the result is simply $\\infty$.\n",
    "\n",
    "By similar reasoning, one can prove that $\\ln(z)$ has branch points at $z = 0$ and $z = \\infty$. [This is left as an exercise.](#exercises)"
   ]
  },
  {
   "cell_type": "markdown",
   "metadata": {},
   "source": [
    "## Branch cuts for general multi-valued operations*\n",
    "*(&ast; Optional topic)*\n",
    "\n",
    "Having discussed the simplest multi-valued operations, $z^p$ and $\\ln(z)$, here is how to assign branch cuts for more general multi-valued operations. This is a two-step process:\n",
    "\n",
    "1. Locate the [branch points](#branchpoints).\n",
    "2. Assign [branch cuts](#branches) in the complex plane, such that (i) every branch point has a branch cut ending on it, and (ii) every branch cut ends on a branch point. Note that any branch point at $\\infty$ must also obey these rules. The branch cuts should not intersect.\n",
    "\n",
    "The choice of where to place branch cuts is not unique.  Branch cuts are usually chosen to be straight lines, for simplicity, but this is not necessary. Different choices of branch cuts correspond to different ways of partitioning the values of the multi-valued operation into separate branches."
   ]
  },
  {
   "cell_type": "markdown",
   "metadata": {},
   "source": [
    "### An example*<a name=\"two_logs_example\"></a>\n",
    "*(&ast; Optional topic)*\n",
    "\n",
    "We can illustrate the process of assigning branch cuts, and defining branch functions, using the following nontrivial multi-valued operation:\n",
    "\n",
    "$$f(z) = \\ln\\left(\\frac{z+1}{z-1}\\right).$$\n",
    "\n",
    "This is multi-valued because of the presence of the complex logarithm. The branch points are $z = 1$ and $z = -1$, as these are the points where the input to the logarithm becomes $\\infty$ or $0$ respectively. Note that $z = \\infty$ is *not* a branch point; at $z = \\infty$, the input to the logarithm is $-1$, which is not a branch point for the logarithm.\n",
    "\n",
    "We can assign any branch cut that joins the branch points at $z = \\pm 1$.  A convenient choice is shown below:\n",
    "\n",
    "<img src=\"img/branch_cut_example1.png\" alt=\"Placement of branch cut.\" width=300>\n",
    "\n",
    "This choice of branch cut is nice because we can express the $z+1$ and $z - 1$ terms using the polar representations\n",
    "\n",
    "$$\\begin{align}z + 1 &= r_1\\,e^{i\\theta_1}, \\\\ z - 1 &= r_2\\, e^{i\\theta_2},\\end{align}$$\n",
    "\n",
    "where $r_1$, $r_2$, $\\theta_1$, and $\\theta_2$ are shown graphically in the above figure. The positioning of the branch cut corresponds to a particular choice for the ranges of the complex arguments $\\theta_1$ and $\\theta_2$.  As we'll shortly see, the present choice of branch cut corresponds to\n",
    "\n",
    "$$\\theta_1 \\in (-\\pi,\\pi), \\quad \\theta_2 \\in (-\\pi,\\pi).$$\n",
    "\n",
    "Hence, in terms of this polar representation, $f(z)$ can be written as\n",
    "\n",
    "$$f(z) = \\ln\\left(\\frac{r_1}{r_2}\\right) + i(\\theta_1 - \\theta_2 + 2\\pi m), \\quad m\\in\\mathbb{Z},$$\n",
    "$$\\mathrm{where}\\; z = -1 + r_1\\,e^{i\\theta_1} = 1 + r_2\\,e^{i\\theta_2},\\quad\\theta_1, \\theta_2 \\in (-\\pi,\\pi).$$\n",
    "\n",
    "The choice of $m$ specifies the branch, and we can choose $m = 0$ as the principal branch.\n",
    "\n",
    "Let's now verify that setting $\\theta_1 \\in (-\\pi,\\pi)$ and $\\theta_2 \\in (-\\pi,\\pi)$ is consistent with our choice of branch cut. Consider the principal branch, and compare the outputs of the above formula for $z$ just above the real axis, and for $z$ just below the real axis.  There are three cases of interest.  Firstly, for $\\mathrm{Re}(z) < 1$ (to the left of the leftmost branch point),\n",
    "\n",
    "$$\\begin{aligned}\\mathrm{Im}(z) &= 0^+ \\;\\;\\Rightarrow\\;\\; f(z) = \\ln\\left(\\frac{r_1}{r_2}\\right) + i\\Big((\\pi) - (\\pi)\\Big) \\quad = \\ln\\left(\\frac{r_1}{r_2}\\right) \\\\ \\mathrm{Im}(z) &= 0^- \\;\\;\\Rightarrow \\;\\; f(z) = \\ln\\left(\\frac{r_1}{r_2}\\right) + i\\Big((-\\pi) - (-\\pi)\\Big) = \\ln\\left(\\frac{r_1}{r_2}\\right).\\end{aligned}$$\n",
    "\n",
    "Thus, there is no discontinuity along this segment of the real axis.\n",
    "\n",
    "Secondly, for $-1 < \\mathrm{Re}(z) < 1$ (between the two branch points),\n",
    "\n",
    "$$\\begin{aligned}\\mathrm{Im}(z) &= 0^+ \\;\\;\\Rightarrow\\;\\; f(z) = \\ln\\left(\\frac{r_1}{r_2}\\right) + i\\Big((0) - (\\pi)\\Big) \\;\\;= \\ln\\left(\\frac{r_1}{r_2}\\right) -i\\pi \\\\ \\mathrm{Im}(z) &= 0^- \\;\\;\\Rightarrow\\;\\; f(z) = \\ln\\left(\\frac{r_1}{r_2}\\right) + i\\Big((0) - (-\\pi)\\Big) = \\ln\\left(\\frac{r_1}{r_2}\\right) + i\\pi.\\end{aligned}$$\n",
    "\n",
    "Hence, in the segment between the two branch points, there is a discontinuity of $\\pm 2\\pi i$ on different sides of the real axis.  The value of this discontinuity is exactly equal, of course, to the separation between the different branches of the complex logarithm.\n",
    "\n",
    "Finally, for $\\mathrm{Re}(z) > 1$ (to the right of the rightmost branch point), there is again no discontinuity:\n",
    "\n",
    "$$\\begin{aligned}\\mathrm{Im}(z) &= 0^+ \\;\\;\\Rightarrow\\;\\; f(z) = \\ln\\left(\\frac{r_1}{r_2}\\right) + i\\Big((0) - (0)\\Big) = \\ln\\left(\\frac{r_1}{r_2}\\right) \\\\ \\mathrm{Im}(z) &= 0^- \\;\\;\\Rightarrow\\;\\; f(z) = \\ln\\left(\\frac{r_1}{r_2}\\right) + i\\Big((0) - (0)\\Big) = \\ln\\left(\\frac{r_1}{r_2}\\right).\\end{aligned}$$"
   ]
  },
  {
   "cell_type": "markdown",
   "metadata": {},
   "source": [
    "## Exercises<a name=\"exercises\"></a>\n",
    "\n",
    "1. Find the values of $(i)^i$. [(Solution)](11_solutions.ipynb#07_01)\n",
    "2. Prove that $\\ln(z)$ has branch points at $z = 0$ and $z = \\infty$. [(Solution)](11_solutions.ipynb#07_02)\n",
    "3. For each of the following multi-valued functions, find all the possible function values, at the specified $z$:\n",
    "    1. $z^{1/3}$ at $z = 1$\n",
    "    2. $z^{3/5}$ at $z = i$\n",
    "    3. $\\ln(z+i)$ at $z = 1$.\n",
    "    4. $\\cos^{-1}(z)$ at $z = i$\n",
    "4. For the square root operation $z^{1/2}$, choose a branch cut. Then show that both the branch functions $f_\\pm(z)$ are [analytic](06_complex_derivatives.ipynb#analytic) over all of $\\mathbb{C}$ excluding the branch cut.\n",
    "5. Consider $f(z) = \\ln(z+a) - \\ln(z-a)$.  For simplicity, let $a$ be a positive real number.  As [discussed above](#two_logs_example), we can write this as $$f(z) = \\ln\\left|\\frac{z+a}{z-a}\\right| + i(\\theta_+ - \\theta_-), \\qquad \\theta_\\pm \\equiv \\mathrm{arg}(z\\pm a).$$ Suppose we represent the arguments as $\\theta_+ \\in (-\\pi,\\pi)$ and $\\theta_- \\in (-\\pi,\\pi)$.  Explain why this implies a branch cut consisting of a straight line joining $a$ with $-a$.  Using this representation, calculate the change in $f(z)$ over an infinitesimal loop encircling $z = a$ or $z = -a$.  Calculate also the change in $f(z)$ over a loop of radius $R \\gg a$ encircling the origin (and thus enclosing both branch points).\n"
   ]
  }
 ],
 "metadata": {
  "kernelspec": {
   "display_name": "Python 3",
   "language": "python",
   "name": "python3"
  },
  "language_info": {
   "codemirror_mode": {
    "name": "ipython",
    "version": 3
   },
   "file_extension": ".py",
   "mimetype": "text/x-python",
   "name": "python",
   "nbconvert_exporter": "python",
   "pygments_lexer": "ipython3",
   "version": "3.8.6"
  }
 },
 "nbformat": 4,
 "nbformat_minor": 1
}
