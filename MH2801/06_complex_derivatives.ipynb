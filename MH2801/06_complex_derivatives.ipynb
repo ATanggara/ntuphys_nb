{
 "cells": [
  {
   "cell_type": "markdown",
   "metadata": {},
   "source": [
    "# 6. Complex Derivatives\n",
    "\n",
    "We have studied functions that take real inputs and give complex outputs (e.g., complex solutions to the [damped harmonic oscillator](04_complex_oscillations.ipynb), which are complex functions of time).  For such functions, the [derivative](01_derivatives.ipynb) with respect to its real input is much like the derivative of a real function of real inputs.  It is equivalent to taking the derivatives of the real and imaginary parts, separately:\n",
    "\n",
    "$$\\frac{d\\psi}{dx} = \\frac{d\\mathrm{Re}(\\psi)}{dx} + i \\frac{d\\mathrm{Im}(\\psi)}{dx}.$$\n",
    "\n",
    "Now consider the more complicated case of a function of a *complex* variable:\n",
    "\n",
    "$$f(z) \\in \\mathbb{C}, \\;\\;\\mathrm{where}\\;\\; z \\in \\mathbb{C}.$$\n",
    "\n",
    "At one level, we could just treat this as a function of two independent real inputs: $f(x,y)$, where $z = x + i y$. However, in doing so we would be disregarding the mathematical structure of the complex input&mdash;the fact that $z$ is not merely a collection of two real numbers, but a complex *number* that can participate in algebraic operations.  This structure has important implications for the differential calculus of complex functions."
   ]
  },
  {
   "cell_type": "markdown",
   "metadata": {},
   "source": [
    "## Complex continuity and differentiability\n",
    "\n",
    "The concept of a **continuous complex function** makes use of an \"epsilon-delta definition\", similar to the [definition for functions of real variables](00_mathfunctions.ipynb#continuity):\n",
    "\n",
    "> A complex function $f(z)$ is continuous at $z_0 \\in \\mathbb{C}$ if, for any $\\epsilon > 0$, we can find a $\\delta > 0$ such that\n",
    "> $$\\big|\\, z - z_0 \\,\\big| < \\delta \\;\\;\\; \\Rightarrow \\;\\;\\; \\big|\\, f(z) - f(z_0) \\,\\big| < \\epsilon.$$\n",
    "\n",
    "Here, $\\big|\\cdots\\big|$ denotes the [magnitude of a complex number](03_complex_numbers.ipynb#magnitude).  If you have difficulty processing this definition, don't worry; it basically says that as $z$ is varied smoothly, there are no abrupt jumps in the value of $f(z)$.\n",
    "\n",
    "If a function is continuous at a point $z$, we can define its **complex derivative** as\n",
    "\n",
    "> $$f'(z) = \\frac{df}{dz} = \\lim_{\\delta z\\rightarrow 0} \\frac{f(z+\\delta z) - f(z)}{\\delta z}.$$\n",
    "\n",
    "This is very similar to the [definition of the derivative](01_derivatives.ipynb) for a function of a real variable.  However, there's a complication which doesn't appear in the real case: the infinitesimal $\\delta z$ is a complex number, not just a real number, yet the above definition does not specify the [argument](03_complex_numbers.ipynb#polar) of $\\delta z$. The choice of the argument of $\\delta z$ is equivalent to the direction in the complex plane in which $\\delta z$ points, as shown in the following figure:\n",
    "\n",
    "<img src=\"img/complex_derivative.png\" alt=\"Choice of delta z.\" width=250>\n",
    "\n",
    "In principle, we might get different results from the above formula when we plug in different infinitesimals $\\delta z$, even in the limit where $\\delta z \\rightarrow 0$ and even though $f(z)$ is continuous.\n",
    "\n",
    "<a name=\"example2\"></a>\n",
    "<table width=\"75%\" style=\"font-size: 100%; border: 1px solid gray;\">\n",
    "    <tr><td style=\"text-align:left\"><strong>Example</strong></td></tr>\n",
    "<tr><td style=\"text-align:left\">Consider the function $f(z) = z^*$.  According to the formula for the complex derivative,<br/>$$\\lim_{\\delta z \\rightarrow0} \\frac{f(z+\\delta z) - f(z)}{\\delta z} = \\lim_{\\delta z \\rightarrow0} \\frac{z^*+\\delta z^* - z^*}{\\delta z} = \\lim_{\\delta z \\rightarrow0} \\frac{\\delta z^*}{\\delta z}.$$<br/>But if we plug in a real $\\delta z$, we get a different result than if we plug in an imaginary $\\delta z$:<br/>$$\\begin{aligned}\\delta z \\in \\mathbb{R} \\;\\; &\\Rightarrow \\frac{\\delta z^*}{\\delta z} = 1.\\\\ \\delta z \\in i \\cdot \\mathbb{R} &\\Rightarrow \\frac{\\delta z^*}{\\delta z} = -1.\\end{aligned}$$</td></tr></table>"
   ]
  },
  {
   "cell_type": "code",
   "execution_count": 1,
   "metadata": {},
   "outputs": [
    {
     "name": "stdout",
     "output_type": "stream",
     "text": [
      "derivative with real dz = (0.999999993922529+0j)\n",
      "derivative with imag dz = (-1-0j)\n"
     ]
    }
   ],
   "source": [
    "## Verify the above example numerically:\n",
    "from numpy import conj\n",
    "\n",
    "def f(z):\n",
    "    return conj(z)\n",
    "\n",
    "z  = 1.0+0j\n",
    "\n",
    "dz = 1e-8;  df_dz = (f(z+dz) - f(z)) / dz\n",
    "print(\"derivative with real dz = {}\".format(df_dz))\n",
    "\n",
    "dz = 1e-8j; df_dz = (f(z+dz) - f(z)) / dz\n",
    "print(\"derivative with imag dz = {}\".format(df_dz))"
   ]
  },
  {
   "cell_type": "markdown",
   "metadata": {},
   "source": [
    "We can deal with this complication by regarding the complex derivative as well-defined *only if* the above definition gives the same answer regardless of the argument of $\\delta z$. If a function satisfies this property at a point $z$, we say that the function is **complex-differentiable** at $z$.\n",
    "\n",
    "We saw in the preceding example that $f(z) = z^*$ is not complex-differentiable for any $z \\in \\mathbb{C}$.  On the other hand, the following example shows that the function $f(z) = z$ is complex-differentiable for all $z \\in \\mathbb{C}$:\n",
    "\n",
    "<a name=\"example2\"></a>\n",
    "<table width=\"75%\" style=\"font-size: 100%; border: 1px solid gray;\">\n",
    "    <tr><td style=\"text-align:left\"><strong>Example</strong></td></tr>\n",
    "<tr><td style=\"text-align:left\">The function $f(z) = z$ is complex differentiable for any $z \\in \\mathbb{C}$. This is proven as follows:<br/>$$\\lim_{\\delta z \\rightarrow0} \\frac{f(z+\\delta z) - f(z)}{\\delta z} = \\lim_{\\delta z \\rightarrow0} \\frac{z+\\delta z - z}{\\delta z} = \\lim_{\\delta z \\rightarrow0} \\frac{\\delta z}{\\delta z} = 1.$$<br/>The reason the result doesn't depend on the argument of $\\delta z$ is that the derivative formula simplifies to the fraction $\\delta z / \\delta z$, which is equal to 1 for any $|\\delta z| > 0$. Note that we simplify the fraction to 1 <em>before</em> taking the limit $\\delta z \\rightarrow 0$. We can't take the limit first because, <a href=\"01_derivatives.ipynb#limit_expressions\">as previously discussed</a>, $0/0$ is undefined.</td></tr></table>"
   ]
  },
  {
   "cell_type": "markdown",
   "metadata": {},
   "source": [
    "## Analytic functions<a name=\"analytic\"></a>\n",
    "\n",
    "If a function $f(z)$ is complex-differentiable for all points $z$ in some domain $D\\subset \\mathbb{C}$, then $f(z)$ is said to be **analytic** in $D$.\n",
    "\n",
    "The concepts of analyticity and complex-differentiability are closely related. It's mainly a matter of terminology: we speak of a function being complex-differentiable *at a given point*, and we speak of a function being analytic *in a given domain*.\n",
    "\n",
    "<a name=\"example2\"></a>\n",
    "<table width=\"75%\" style=\"font-size: 100%; border: 1px solid gray;\">\n",
    "<tr><td style=\"text-align:left\"><strong>Example</strong></td></tr>\n",
    "<tr><td style=\"text-align:left\">As shown in the preceding section, $f(z) = z$ is complex-differentiable for any point $z \\in \\mathbb{C}$.  Thence, $f(z) = z$ is analytic in $\\mathbb{C}$.</td></tr></table>\n",
    "\n",
    "A function's domain of analyticity is often described spatially, in terms of the [complex plane](03_complex_numbers.ipynb#complex_plane).  For example, we might say that a function is analytic \"everywhere in the complex plane\", which means the entire domain $\\mathbb{C}$.  Or we might say that a function is analytic \"in the upper half of the complex plane\", meaning for all $z$ such that $\\mathrm{Im}(z) > 0$."
   ]
  },
  {
   "cell_type": "markdown",
   "metadata": {},
   "source": [
    "### Common analytic functions<a name=\"common_analytic\"></a>\n",
    "\n",
    "There is an important class of functions which are analytic over the entire complex plane, or most of the complex plane.  These are functions generated from algebraic formulas which do not contain $z^*$, and involve $z$ in some \"simple\" combination of operations like addition, multiplication, and integer powers.\n",
    "\n",
    "For example, we have seen that the function $f(z) = z$ is analytic in $\\mathbb{C}$.  Likewise, $f(z) = \\alpha z + \\beta$, where $\\alpha, \\beta$ are complex constants, is analytic everywhere in $\\mathbb{C}$. This can be proven in a similar fashion:\n",
    "\n",
    "$$\\begin{align}f'(z) &= \\lim_{\\delta z\\rightarrow 0} \\frac{[\\alpha\\,(z+\\delta z) + \\beta] - [\\alpha z + \\beta]}{\\delta z} \\\\&= \\lim_{\\delta z\\rightarrow 0} \\frac{\\alpha \\delta z}{\\delta z} \\\\&= \\alpha.\\end{align}$$\n",
    "\n",
    "We can also show that $f(z) = z^n$, with $n \\in \\mathbb{N}$, is analytic everywhere in $\\mathbb{C}$:\n",
    "\n",
    "$$\\begin{aligned}f'(z) &= \\lim_{\\delta z\\rightarrow 0} \\frac{(z+\\delta z)^n - z^n}{\\delta z} \\\\&=\n",
    "\\lim_{\\delta z\\rightarrow 0} \\frac{(z^n + n z^{n-1} \\delta z + \\cdots) - z^n}{\\delta z} \\\\&= n z^{n-1}.\\end{aligned}$$\n",
    "\n",
    "Note that these derivatives have exactly the same algebraic formulas as the corresponding real derivatives. This is no coincidence: to derive the complex derivatives, we take the same series of algebra steps used for deriving the real derivatives.\n",
    "\n",
    "From the discussion so far, it is evident that complex polynomials are analytic everywhere in $\\mathbb{C}$. Likewise, functions that are defined in terms of power series, including the [complex exponential](03_complex_numbers.ipynb#euler_formula) and [complex sines and cosines](03_complex_numbers.ipynb#complex_sin_cos), are analytic everywhere in $\\mathbb{C}$. Functions involving reciprocals (negative integer powers), such as $f(z) = z^{-1}$ or $f(z) = z^{-2}$, are analytic everywhere *except* at points where $f(z)$ becomes singular (i.e., the denominator goes to zero). (We will prove this [later](#using_cauchy_riemann), by using the [Cauchy-Riemann equations](#cauchy_riemann).) More generally, whenever a function involves $z$ in some combination of integer polynomials, reciprocals, or functions with power series expansions&mdash;and does not involve $z^*$ in an irreducible way&mdash;then the function is analytic everywhere except at the singular points.  Moreover, the formula for the complex derivative is the same as the corresponding formula for real derivatives.\n",
    "\n",
    "<a name=\"example2\"></a>\n",
    "<table width=\"75%\" style=\"font-size: 100%; border: 1px solid gray;\">\n",
    "<tr><td style=\"text-align:left\"><strong>Example</strong></td></tr>\n",
    "<tr><td style=\"text-align:left\">The function<br/>$$f(z) = \\frac{1}{\\cos(z)}$$<br/>is analytic everywhere in $\\mathbb{C}$, except for values of $z$ such that $\\cos(z) = 0$. With a bit of work (try it!), one can show that these $z$ occur at isolated points along the real line, at $z = (m+1/2)\\pi$ where $m \\in \\mathbb{Z}$, and nowhere else in the complex plane. The complex derivative is<br/>$$f'(z) = \\frac{\\sin(z)}{[\\cos(z)]^2}.$$<br/>The easiest way to prove these statements is to use the <a href=\"#cauchy_riemann\">Cauchy-Riemann equations</a>, which are discussed below.</td></tr></table>\n",
    "\n",
    "One proviso should be kept in mind. For non-integer powers, $z^a$ where $a\\notin \\mathbb{Z}$, the situation is more complicated because the operation is multi-valued. We'll postpone the discussion of these special operations until the discussion on [branch points and branch cuts](07_branch_cuts.ipynb)."
   ]
  },
  {
   "cell_type": "markdown",
   "metadata": {},
   "source": [
    "### Numerical example of an analytic function\n",
    "\n",
    "In the following Python example, we look at the complex derivative of the function\n",
    "\n",
    "$$f(z) = \\sin(z),$$\n",
    "\n",
    "which is analytic everywhere in $\\mathbb{C}$. The derivative can be estimated numerically as\n",
    "\n",
    "$$\\frac{\\delta f}{\\delta z} = \\frac{\\sin(z + \\delta z) - \\sin(z)}{\\delta z}$$\n",
    "\n",
    "for $\\delta z$ with very small magnitude.  Note that these are complex numbers, since the sine and cosine functions give complex outputs when the input $z$ is complex.\n",
    "\n",
    "We observe that the numerical results are insensitive to the choice of $\\delta z$ (including real and imaginary values), so long as $|\\delta z|$ is small.  In the limit where $|\\delta z| \\rightarrow 0$, the value should become independent of $\\mathrm{arg}(z)$, and approach the limiting value of the complex derivative:\n",
    "\n",
    "$$\\frac{df}{dz} = \\lim_{|\\delta z| \\rightarrow 0} \\frac{\\delta f}{\\delta z} = \\cos(z).$$"
   ]
  },
  {
   "cell_type": "code",
   "execution_count": 1,
   "metadata": {},
   "outputs": [
    {
     "name": "stdout",
     "output_type": "stream",
     "text": [
      "z      =  (0.75+0.3j)\n",
      "sin(z) =  (0.7125432485754309+0.2228141090614638j)\n",
      "\n",
      "derivative_1 =  (0.764862562174784-0.2075728394723697j)\n",
      "derivative_2 =  (0.7648625566236689-0.2075728477990424j)\n",
      "derivative_3 =  (0.764862562739492-0.20757284152516733j)\n",
      "cos(z)       =  (0.7648625549931866-0.20757283522725212j)\n"
     ]
    }
   ],
   "source": [
    "from scipy import sin, cos, exp\n",
    "\n",
    "## Value of sin(z) for a particular (arbitrary) choice of z:\n",
    "z = 0.75+0.3j\n",
    "print('z      = ', z)\n",
    "print('sin(z) = ', sin(z))\n",
    "print('')\n",
    "\n",
    "## Calculate the derivative for different choices of dz:\n",
    "dz_1 = 1e-8             # Real dz\n",
    "dz_2 = 1e-8j            # Imaginary dz\n",
    "dz_3 = 1e-8*exp(0.4j)   # dz with an arbitrarily chosen arg\n",
    "print('derivative_1 = ', (sin(z+dz_1) - sin(z))/dz_1)\n",
    "print('derivative_2 = ', (sin(z+dz_2) - sin(z))/dz_2)\n",
    "print('derivative_3 = ', (sin(z+dz_3) - sin(z))/dz_3)\n",
    "print('cos(z)       = ', cos(z))"
   ]
  },
  {
   "cell_type": "markdown",
   "metadata": {},
   "source": [
    "## The Cauchy-Riemann equations<a name=\"cauchy_riemann\"></a>\n",
    "\n",
    "The **Cauchy-Riemann equations** are a pair of real [partial differential equations](01_derivatives.ipynb#PDE) that provide an alternative way to understand complex derivatives. Their importance comes from the following theorem:\n",
    "\n",
    "> Let $f$ be a complex function that can be written as the sum of real and imaginary parts,\n",
    "> $$f(z = x + iy) \\;=\\; u(x,y) + i v(x,y),$$\n",
    "> where $u(x,y)$ and $v(x,y)$ are real functions of two real inputs. Then $f$ is complex-differentiable at a given $z$ if and only if the following equations are well-defined and true:\n",
    "> $$\\frac{\\partial u}{\\partial x} = \\frac{\\partial v}{\\partial y}\\;\\;\\;\\textrm{and}\\;\\;\\; \\frac{\\partial u}{\\partial y} = -\\frac{\\partial v}{\\partial x}.$$\n",
    "\n",
    "The two partial differential equations in the above line are the Cauchy-Riemann equations. \"Well-defined\", in the context of this theorem, means that the functions $u(x,y)$ and $v(x,y)$ must have valid partial derivatives, i.e. they must be [differentiable (in the real sense)](01_derivatives.ipynb) at that point in both the $x$ and $y$ directions."
   ]
  },
  {
   "cell_type": "markdown",
   "metadata": {},
   "source": [
    "### Proof\n",
    "\n",
    "We will now prove the first part of the above \"if and only if\" statement, which states that $f$ being complex-differentiable implies the Cauchy-Riemann equations.  The proof of the converse is left as an [exercise](#exercises).\n",
    "\n",
    "Suppose the function $f$ is complex-differentiable at some point $z$.  Following from the definition of complex differentiability, there exists a derivative $f'(z)$ defined as\n",
    "\n",
    "$$f'(z) = \\lim_{\\delta z \\rightarrow 0} \\frac{f(z+\\delta z) - f(z)}{\\delta z},$$\n",
    "\n",
    "whose value is independent of the argument that we take for the infinitesimal $\\delta z$.  If we take this to be real, i.e. $\\delta z = \\delta x \\in \\mathbb{R}$, the expression for the derivative can be written as\n",
    "\n",
    "$$\\begin{aligned}f'(z) &= \\lim_{\\delta x \\rightarrow 0} \\frac{f(x+\\delta x + i y) - f(x + i y)}{\\delta x} \\\\ &= \\lim_{\\delta x \\rightarrow 0} \\frac{\\left[u(x+\\delta x, y) + iv(x+\\delta x, y)\\right] - \\left[u(x, y) + i v(x,y)\\right]}{\\delta x}\\\\ &= \\lim_{\\delta x \\rightarrow 0} \\frac{\\left[u(x+\\delta x, y) - u(x,y)\\right] + i \\left[v(x+\\delta x, y)-v(x,y)\\right]}{\\delta x} \\\\ &= \\left[ \\lim_{\\delta x \\rightarrow 0} \\frac{u(x+\\delta x, y) - u(x,y)}{\\delta x}\\right] + i \\left[ \\lim_{\\delta x \\rightarrow 0} \\frac{v(x+\\delta x, y) - v(x,y)}{\\delta x}\\right]\\end{aligned}$$\n",
    "\n",
    "On the last line, the quantities in square brackets are the real partial derivatives of $u$ and $v$ (with respect to $x$). Therefore those partial derivatives are well-defined, and\n",
    "\n",
    "$$f'(z) = \\frac{\\partial u}{\\partial x} + i \\frac{\\partial v}{\\partial x}.$$\n",
    "\n",
    "On the other hand, we could also take an infinitesimal displacement in the imaginary direction, by setting $\\delta z = i \\delta y$ where $\\delta y \\in \\mathbb{R}$.  Then the expression for the derivative is\n",
    "\n",
    "$$\\begin{aligned}f'(z) &= \\lim_{\\delta y \\rightarrow 0} \\frac{f(x+ i y + i\\delta y) - f(x + i y)}{i\\delta y} \\\\ &= \\lim_{\\delta y \\rightarrow 0} \\frac{\\left[u(x, y+\\delta y) + iv(x, y+\\delta y)\\right] - \\left[u(x, y) + i v(x,y)\\right]}{i\\delta y}\\\\ &= \\lim_{\\delta y \\rightarrow 0} \\frac{\\left[u(x, y+\\delta y) - u(x,y)\\right] + i \\left[v(x, y+\\delta y)-v(x,y)\\right]}{i\\delta y} \\\\ & = -i\\frac{\\partial u}{\\partial y} + \\frac{\\partial v}{\\partial y}\\end{aligned}$$\n",
    "\n",
    "Since $f(z)$ is complex-differentiable, these two expressions must be equal, so\n",
    "\n",
    "$$\\frac{\\partial u}{\\partial x} + i \\frac{\\partial v}{\\partial x} = -i\\frac{\\partial u}{\\partial y} + \\frac{\\partial v}{\\partial y}.$$\n",
    "\n",
    "Noting that $u$ and $v$ are real functions, we can take the real and imaginary parts of the above equation separately.  This yields a pair of real equations,\n",
    "\n",
    "$$\\frac{\\partial u}{\\partial x} = \\frac{\\partial v}{\\partial y}, \\;\\;\\; \\frac{\\partial v}{\\partial x} = -\\frac{\\partial u}{\\partial y}.$$\n",
    "\n",
    "These are precisely the Cauchy-Riemann equations.  As a corollary, we also obtain a set of convenient expressions for the complex derivative of $f(z)$:\n",
    "\n",
    "$$\\begin{aligned}\\mathrm{Re}\\left[f'(z)\\right] &= \\frac{\\partial u}{\\partial x} = \\frac{\\partial v}{\\partial y} \\\\ \\mathrm{Im}\\left[f'(z)\\right] &= \\frac{\\partial v}{\\partial x} = -\\frac{\\partial u}{\\partial y}.\\end{aligned}$$"
   ]
  },
  {
   "cell_type": "code",
   "execution_count": 13,
   "metadata": {},
   "outputs": [
    {
     "name": "stdout",
     "output_type": "stream",
     "text": [
      "z      =   (0.75+0.3j)\n",
      "sin(z) =   (0.7125432485754309+0.2228141090614638j)\n",
      "\n",
      "du/dx  =   0.764862562174784\n",
      "dv/dy  =   0.7648625566236689\n",
      "du/dy  =   0.2075728477990424\n",
      "dv/dx  =  -0.2075728394723697\n"
     ]
    }
   ],
   "source": [
    "## We can verify the above results numerically, for the sine function:\n",
    "\n",
    "from scipy import sin, cos, exp\n",
    "z = 0.75+0.3j          # Arbitrarily chosen value of z\n",
    "print('z      =  ', z)\n",
    "print('sin(z) =  ', sin(z))\n",
    "print('')\n",
    "\n",
    "dx = dy = 1e-8\n",
    "\n",
    "## Derivatives of u and v w.r.t. x\n",
    "df_dx = (sin(z+dx) - sin(z))/dx\n",
    "du_dx = df_dx.real\n",
    "dv_dx = df_dx.imag\n",
    "\n",
    "## Derivatives of u and v w.r.t. y\n",
    "df_dy = (sin(z+1j*dy) - sin(z))/dy\n",
    "du_dy = df_dy.real\n",
    "dv_dy = df_dy.imag\n",
    "\n",
    "print('du/dx  =  ', du_dx)\n",
    "print('dv/dy  =  ', dv_dy)\n",
    "print('du/dy  =  ', du_dy)\n",
    "print('dv/dx  = ', dv_dx)"
   ]
  },
  {
   "cell_type": "markdown",
   "metadata": {},
   "source": [
    "### Interpretation of the Cauchy-Riemann equations\n",
    "\n",
    "The central message of the Cauchy-Riemann equations is that when dealing with analytic functions, the real and imaginary parts of complex numbers cannot be regarded as independent quantities, but are closely intertwined.  There are two complementary ways to think about this:\n",
    "\n",
    "* For an analytic function $f(z)$, the real and imaginary parts of the input $z$ do not independently affect the output value.  If I tell you how the function varies in the $x$ direction, by giving you $\\partial u/\\partial x$ and $\\partial v/\\partial x$, then you can work out how the function varies in the $y$ direction, by using the Cauchy-Riemann equations to find $\\partial u/\\partial y$ and $\\partial v/\\partial y$.\n",
    "* Similarly, for the complex outputs of $f(z)$, the real and imaginary parts cannot be regarded as independent.  If I tell you how the real part of the output varies, by giving you $\\partial u/\\partial x$ and $\\partial u/\\partial y$, then you can work out how the imaginary part of the output varies, by using the Cauchy-Riemann equations to find $\\partial v/\\partial x$ and $\\partial v/\\partial y$.\n",
    "\n",
    "These constraints have profound implications for the mathematical discipline of complex analysis, one of the most important being Cauchy's integral theorem, which we will encounter when studying [contour integration](08_contour_integration.ipynb)."
   ]
  },
  {
   "cell_type": "markdown",
   "metadata": {},
   "source": [
    "### Consequences of the Cauchy-Riemann equations<a name=\"using_cauchy_riemann\"></a>\n",
    "\n",
    "Often, the easiest way to prove that a function is analytic in a given domain is to prove that the Cauchy-Riemann equations are satisfied.\n",
    "\n",
    "<a name=\"example2\"></a>\n",
    "<table width=\"75%\" style=\"font-size: 100%; border: 1px solid gray;\">\n",
    "<tr><td style=\"text-align:left\"><strong>Example</strong></td></tr>\n",
    "<tr><td style=\"text-align:left\">We can use the Cauchy-Riemann equations to prove that the function<br/>$$f(z)=1/z$$</br>is analytic everywhere, except at $z = 0$.  Let us write the function as<br/>$$f(x+iy) = \\frac{1}{x+iy} = \\frac{x-iy}{x^2+y^2}.$$<br/>Hence the real and imaginary component functions are<br/>$$u(x,y) = \\frac{x}{x^2+y^2}, \\;\\;v(x,y) = - \\frac{y}{x^2+y^2}.$$<br/>Except at the point $x = y = 0$, these functions are differentiable, and their partial derivatives satisfy:<br/>$$\\begin{aligned}\\frac{\\partial u}{\\partial x} &= \\frac{-x^2+y^2}{(x^2+y^2)^2}\\!\\!\\!\\!\\!\\! &=& \\;\\;\\;\\frac{\\partial v}{\\partial y} \\\\ \\frac{\\partial v}{\\partial x} &= \\; \\frac{2xy}{(x^2+y^2)^2} &=& -\\frac{\\partial u}{\\partial y}.\\end{aligned}$$</td></tr></table>\n",
    "\n",
    "More generally, we can use the Cauchy-Riemann equations to prove the following facts about analytic functions:\n",
    "\n",
    "* *Compositions of analytic functions are analytic*.  If $f(z)$ is analytic in $D \\subset \\mathbb{C}$ and $g(z)$ is analytic in the range of $f$, then $g(f(z))$ is analytic in $D$.\n",
    "* *Reciprocals of analytic functions are analytic, except at singularities*. If $f(z)$ is analytic in $D \\subset \\mathbb{C}$, then $1/f(z)$ is analytic everywhere in $D$ except where $f(z) = 0$.\n",
    "\n",
    "The proofs for these can be obtained by direct substitution into the Cauchy-Riemann equations, and are left as [exercises](#exercises)."
   ]
  },
  {
   "cell_type": "markdown",
   "metadata": {},
   "source": [
    "## Exercises<a name=\"exercises\"></a>\n",
    "\n",
    "1. For each of the following functions $f(z)$, find the real and imaginary component functions $u(x,y)$ and $v(x,y)$, and hence verify whether they satisfy the Cauchy-Riemann equations.\n",
    "    1. $f(z) = z$\n",
    "    2. $f(z) = z^2$\n",
    "    3. $f(z) = |z|$\n",
    "    4. $f(z) = |z|^2$\n",
    "    5. $f(z) = \\exp(z)$\n",
    "    6. $f(z) = \\cos(z)$\n",
    "    7. $f(z) = 1/z$\n",
    "2. Suppose a function $f(z)$ is well-defined and obeys the Cauchy-Riemann equations at a point $z$, and the partial derivatives in the Cauchy-Riemann equations are continuous at that point.  Show that the function is complex differentiable at that point.  Hint: consider an arbitary displacement $\\Delta z = \\Delta x + i \\Delta y$.</li>\n",
    "3. Prove that products of analytic functions are analytic: if $f(z)$ and $g(z)$ are analytic in $D \\subset \\mathbb{C}$, then $f(z) g(z)$ is analytic in $D$. [(Solution)](99_solutions.ipynb#06_03)\n",
    "4. Prove that compositions of analytic functions are analytic: if $f(z)$ is analytic in $D \\subset \\mathbb{C}$ and $g(z)$ is analytic in the range of $f$, then $g(f(z))$ is analytic in $D$.\n",
    "5. Prove that reciprocals of analytic functions are analytic away from poles: if $f(z)$ is analytic in $D \\subset \\mathbb{C}$, then $1/f(z)$ is analytic everywhere in $D$ except where $f(z) = 0$.\n",
    "6. Show that if $f(z = x + iy) = u(x,y) + i v(x,y)$ satisfies the Cauchy-Riemann equations, then the real functions $u$ and $v$ each obey Laplace's equation: $$\\frac{\\partial^2 u}{\\partial x^2} + \\frac{\\partial^2u}{\\partial y^2} = \\frac{\\partial^2 v}{\\partial x^2} + \\frac{\\partial^2 v}{\\partial y^2} = 0.$$ (Such functions are called \"harmonic functions\".)\n",
    "7. We can write the real and imaginary parts of a function in terms of polar coordinates: $f(z) = u(r,\\theta) + i v(r,\\theta)$, where $z = re^{i\\theta}$. Using the formula for [how partial derivatives transform under a change of variables](01_derivatives.ipynb#change_of_variables), show that the Cauchy-Riemann equations can be re-written in polar form as $$\\frac{\\partial u}{\\partial r} =  \\frac{1}{r} \\frac{\\partial v}{\\partial \\theta}, \\quad \\frac{\\partial v}{\\partial r} =  - \\frac{1}{r}\\,  \\frac{\\partial u}{\\partial \\theta}.$$\n"
   ]
  }
 ],
 "metadata": {
  "kernelspec": {
   "display_name": "Python 3",
   "language": "python",
   "name": "python3"
  },
  "language_info": {
   "codemirror_mode": {
    "name": "ipython",
    "version": 3
   },
   "file_extension": ".py",
   "mimetype": "text/x-python",
   "name": "python",
   "nbconvert_exporter": "python",
   "pygments_lexer": "ipython3",
   "version": "3.8.3"
  }
 },
 "nbformat": 4,
 "nbformat_minor": 1
}
