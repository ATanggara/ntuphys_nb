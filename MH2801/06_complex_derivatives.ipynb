{
 "cells": [
  {
   "cell_type": "markdown",
   "metadata": {},
   "source": [
    "# 6. Complex Derivatives\n",
    "\n",
    "We have studied functions that take real inputs and give complex outputs (e.g., complex solutions to the [damped harmonic oscillator](04_complex_oscillations.ipynb), which are complex functions of time).  For such functions, the [derivative](01_derivatives.ipynb) with respect to its real input is much like the derivative of a real function of real inputs.  It is equivalent to taking the derivative of the real and imaginary parts, separately:\n",
    "\n",
    "$$\\frac{d\\psi}{dx} = \\frac{d\\mathrm{Re}(\\psi)}{dx} + i \\frac{d\\mathrm{Im}(\\psi)}{dx}.$$\n",
    "\n",
    "Now consider the more complicated case of a function of a *complex* variable:\n",
    "\n",
    "$$f(z) \\in \\mathbb{C}, \\;\\;\\mathrm{where}\\;\\; z \\in \\mathbb{C}.$$\n",
    "\n",
    "At one level, we could just treat this as a function of two independent real inputs: $f(x,y)$, where $z = x + i y$. However, in doing so we would be disregarding the mathematical structure of the complex input&mdash;the fact that $z$ is not just a mere collection of two real numbers, but a complex *number* that can be subjected to algebraic operations.  This structure has far-reaching consequences for the differential calculus of complex functions."
   ]
  },
  {
   "cell_type": "markdown",
   "metadata": {},
   "source": [
    "## Complex continuity and differentiability\n",
    "\n",
    "The concept of a **continuous complex function** makes use of an \"epsilon-delta definition\", similar to the [definition of continuity for functions of real variables](00_mathfunctions.ipynb#continuity).  A complex function $f(z)$ is continuous at $z_0 \\in \\mathbb{C}$ if, for any $\\epsilon > 0$, we can find a $\\delta > 0$ such that\n",
    "\n",
    "$$\\big|\\, z - z_0 \\,\\big| < \\delta \\;\\;\\; \\Rightarrow \\;\\;\\; \\big|\\, f(z) - f(z_0) \\,\\big| < \\epsilon.$$\n",
    "\n",
    "In this definition, $\\big|\\cdots\\big|$ indicates the [magnitude of a complex number](03_complex_numbers.ipynb#magnitude).  What this definition basically means is that as we vary $z$ smoothly, there should be no abrupt jumps in the value of $f(z)$.\n",
    "\n",
    "If a function is continuous at a point $z$, we then can define its **complex derivative** as\n",
    "\n",
    "$$f'(z) = \\lim_{\\delta z\\rightarrow 0} \\frac{f(z+\\delta z) - f(z)}{\\delta z}.$$\n",
    "\n",
    "This is very similar to the [definition of the derivative](01_derivatives.ipynb) for a function of a real variable.  However, there's a complication which doesn't appear in the real case: the infinitesimal $\\delta z$ is a complex number, not just a real number.  The above definition does not specify the [argument](03_complex_numbers.ipynb#polar) of the  complex number. The choice of the argument of $\\delta z$ is equivalent to the direction in the complex plane in which $\\delta z$ points, as shown in the following figure:\n",
    "\n",
    "<img src=\"img/complex_derivative.png\" alt=\"Choice of delta z.\" width=30%>\n",
    "\n",
    "In principle, we might get different results from the above formula when we plug in different infinitesimals $\\delta z$, even in the limit where $\\delta z \\rightarrow 0$ and even though $f(z)$ is continuous.\n",
    "\n",
    "<a name=\"example2\"></a>\n",
    "<table width=75%>\n",
    "<tr><td style=\"text-align:left\">**Example**</td></tr>\n",
    "<tr><td style=\"text-align:left\">Consider the function $f(z) = z^*$.  According to the formula for the complex derivative,<br/>$$\\lim_{\\delta z \\rightarrow0} \\frac{f(z+\\delta z) - f(z)}{\\delta z} = \\lim_{\\delta z \\rightarrow0} \\frac{z^*+\\delta z^* - z^*}{\\delta z} = \\lim_{\\delta z \\rightarrow0} \\frac{\\delta z^*}{\\delta z}.$$<br/>But if we plug in a real $\\delta z$, we get a different result than if we plug in an imaginary $\\delta z$:<br/>$$\\begin{aligned}\\delta z \\in \\mathbb{R} \\;\\; &\\Rightarrow \\frac{\\delta z^*}{\\delta z} = 1.\\\\ \\delta z \\in i \\cdot \\mathbb{R} &\\Rightarrow \\frac{\\delta z^*}{\\delta z} = -1.\\end{aligned}$$</td></tr></table>\n",
    "\n",
    "To cope with this complication, we regard the complex derivative as well-defined *only if* the above definition gives the same answer regardless of the argument of $\\delta z$. If a function $f(z)$ satisfies this property at a point $z$, then we say that the function is **complex-differentiable** at $z$. In other words, a complex-differentiable function is one possessing an unambiguous complex derivative.\n",
    "\n",
    "As we have seen in the preceding example, $f(z) = z^*$ is not complex-differentiable for any $z \\in \\mathbb{C}$.  On the other hand, the following example shows that the function $f(z) = z$ is complex-differentiable for all $z \\in \\mathbb{C}$:\n",
    "\n",
    "<a name=\"example2\"></a>\n",
    "<table width=75%>\n",
    "<tr><td style=\"text-align:left\">**Example**</td></tr>\n",
    "<tr><td style=\"text-align:left\">The function $f(z) = z$ is complex differentiable for any $z \\in \\mathbb{C}$. To prove this:<br/>$$\\lim_{\\delta z \\rightarrow0} \\frac{f(z+\\delta z) - f(z)}{\\delta z} = \\lim_{\\delta z \\rightarrow0} \\frac{z+\\delta z - z}{\\delta z} = \\lim_{\\delta z \\rightarrow0} \\frac{\\delta z}{\\delta z} = 1.$$<br/>Notice why this result doesn't depend on the argument of the complex infinitesimal $\\delta z$: when the function is plugged into the derivative formula and then simplified, it ends up as the fraction $\\delta z / \\delta z$, which is equal to 1 even as we take the limit $\\delta z \\rightarrow 0$ along any direction.</td></tr></table>\n"
   ]
  },
  {
   "cell_type": "markdown",
   "metadata": {},
   "source": [
    "## Analytic functions<a name=\"analytic\"></a>\n",
    "\n",
    "If a function $f(z)$ is complex-differentiable for all points $z$ in some domain $D\\subset \\mathbb{C}$, then $f(z)$ is said to be **analytic** in $D$ . The concepts of analyticity and complex-differentiability are closely-related. It's mainly a matter of terminology: we speak of a function being complex-differentiable *at a given point*, whereas we speak of a function being analytic *in a given domain*.\n",
    "\n",
    "<a name=\"example2\"></a>\n",
    "<table width=75%>\n",
    "<tr><td style=\"text-align:left\">**Example**</td></tr>\n",
    "<tr><td style=\"text-align:left\">As shown in the preceding section, $f(z) = z$ is complex-differentiable for any point $z \\in \\mathbb{C}$.  Thence, $f(z) = z$ is analytic in $\\mathbb{C}$.</td></tr></table>\n",
    "\n",
    "A function's domain of analyticity is usually described spatially, in terms of parts of the [complex plane](03_complex_numbers.ipynb#complex_plane).  For example, a function might be analytic \"everywhere in the complex plane\", which means the entire domain $\\mathbb{C}$.  Or a function might be analytic \"in the upper half of the complex plane\", meaning for all $z$ such that $\\mathrm{Im}(z) > 0$.  Or a function might be analytic \"everywhere except at the point $z = 0$\".  And so forth."
   ]
  },
  {
   "cell_type": "markdown",
   "metadata": {},
   "source": [
    "### Common analytic functions<a name=\"common_analytic\"></a>\n",
    "\n",
    "Analyticity can be a pretty restrictive condition; for example, we have been that $f(z) = z^*$ is not analytic anywhere in $\\mathbb{C}$. However, there is a class of functions which are analytic over the entire complex plane, except possibly for a discrete set of points.  These are functions generated from formulas which involve $z$ in some \"simple\" combination of algebra operations (addition, multiplication, and integer powers), and which do not involve $z^*$.\n",
    "\n",
    "For example, we have seen that the function $f(z) = z$ is analytic in $\\mathbb{C}$.  Likewise, $f(z) = \\alpha z + \\beta$, where $\\alpha, \\beta$ are complex constants, is analytic everywhere in $\\mathbb{C}$. This can be proven in a similar fashion:\n",
    "\n",
    "$$\\begin{align}f'(z) &= \\lim_{\\delta z\\rightarrow 0} \\frac{[\\alpha\\,(z+\\delta z) + \\beta] - [\\alpha z + \\beta]}{\\delta z} \\\\&= \\lim_{\\delta z\\rightarrow 0} \\frac{\\alpha \\delta z}{\\delta z} \\\\&= \\alpha.\\end{align}$$\n",
    "\n",
    "We can also show that $f(z) = z^n$, with $n \\in \\mathbb{N}$, is analytic everywhere in $\\mathbb{C}$:\n",
    "\n",
    "$$\\begin{aligned}f'(z) &= \\lim_{\\delta z\\rightarrow 0} \\frac{(z+\\delta z)^n - z^n}{\\delta z} \\\\&=\n",
    "\\lim_{\\delta z\\rightarrow 0} \\frac{(z^n + n z^{n-1} \\delta z + \\cdots) - z^n}{\\delta z} \\\\&= n z^{n-1}.\\end{aligned}$$\n",
    "\n",
    "Note that these derivatives have exactly the same algebraic formulas as the corresponding real derivatives. This is no coincidence: to derive the complex derivatives, we take the same series of algebra steps used for deriving the real derivatives.\n",
    "\n",
    "From the discussion so far, it is evident that complex polynomials are analytic everywhere in $\\mathbb{C}$. Functions that are defined in terms of power series, including the [complex exponential function](03_complex_numbers.ipynb#euler_formula) and [complex sine and cosine functions](03_complex_numbers.ipynb#complex_sin_cos), are likewise analytic everywhere in $\\mathbb{C}$.\n",
    "\n",
    "Functions involving reciprocals (negative integer powers), such as $f(z) = z^{-1}$ or $f(z) = z^{-2}$, are analytic everywhere *except* at points where $f(z)$ becomes singular (i.e., the denominator goes to zero). (We will prove this [later](#using_cauchy_riemann), by using the [Cauchy-Riemann equations](#cauchy_riemann).) More generally, whenever a function involves $z$ in some combination of integer polynomials, reciprocals, or functions with power series expansions&mdash;and does not involve $z^*$ in some irreducible way&mdash;then the function is analytic everywhere except at the singular points.  Moreover, the formula for the complex derivative is the same as the corresponding formula for real derivatives.\n",
    "\n",
    "<a name=\"example2\"></a>\n",
    "<table width=75%>\n",
    "<tr><td style=\"text-align:left\">**Example**</td></tr>\n",
    "<tr><td style=\"text-align:left\">The function<br/>$$f(z) = \\frac{1}{\\cos(z)}$$<br/>is analytic everywhere in $\\mathbb{C}$, except for values of $z$ such that $\\cos(z) = 0$. With a bit of work (try it!), one can show that these $z$ occur at isolated points along the real line, at $z = (m+1/2)\\pi$ where $m \\in \\mathbb{Z}$, and nowhere else in the complex plane. The complex derivative is<br/>$$f'(z) = \\frac{\\sin(z)}{[\\cos(z)]^2}.$$<br/>The easiest way to prove these statements is to use the [Cauchy-Riemann equations](#cauchy_riemann), which are discussed below.</td></tr></table>\n",
    "\n",
    "Two provisos should be kept in mind:\n",
    "\n",
    "* For non-integer powers, $z^a$ where $a\\notin \\mathbb{Z}$, the situation is more complicated because the operation is multi-valued. We'll postpone the discussion of these special operations until the discussion on [branch points and branch cuts](07_branch_cuts.ipynb).\n",
    "* Even though simple algebraic combinations of $z$ are analytic, the reverse is not necessarily true: i.e., not all analytic functions are given by simple algebraic expressions within their domain.  One counter-example is the [gamma function](gamma_function.ipynb)."
   ]
  },
  {
   "cell_type": "markdown",
   "metadata": {},
   "source": [
    "### Numerical example of an analytic function\n",
    "\n",
    "In the following Python example, we look at the complex derivative of the function\n",
    "\n",
    "$$f(z) = \\sin(z),$$\n",
    "\n",
    "which is analytic everywhere in $\\mathbb{C}$. The derivative can be estimated numerically as\n",
    "\n",
    "$$\\frac{\\delta f}{\\delta z} = \\frac{\\sin(z + \\delta z) - \\sin(z)}{\\delta z}$$\n",
    "\n",
    "for $\\delta z$ with very small magnitude.  Note that these are complex numbers, since the sine and cosine functions give complex outputs when the input $z$ is complex.\n",
    "\n",
    "We observe that the numerical results are insensitive to the choice of $\\delta z$ (including real and imaginary values), so long as $|\\delta z|$ is small.  In the limit where $|\\delta z| \\rightarrow 0$, the value should become independent of $\\mathrm{arg}(z)$, and approach the limiting value of the complex derivative:\n",
    "\n",
    "$$\\frac{df}{dz} = \\lim_{|\\delta z| \\rightarrow 0} \\frac{\\delta f}{\\delta z} = \\cos(z).$$"
   ]
  },
  {
   "cell_type": "code",
   "execution_count": 2,
   "metadata": {},
   "outputs": [
    {
     "name": "stdout",
     "output_type": "stream",
     "text": [
      "z      =  (0.75+0.3j)\n",
      "sin(z) =  (0.712543248575+0.222814109061j)\n",
      "\n",
      "derivative_1 =  (0.764862198799-0.207572946664j)\n",
      "derivative_2 =  (0.764862666369-0.207573191524j)\n",
      "derivative_3 =  (0.764862270257-0.207573076585j)\n",
      "exact result =  (0.764862554993-0.207572835227j)\n"
     ]
    }
   ],
   "source": [
    "## We can check numerically that a function like sin(z)\n",
    "## has a derivative independent of the argument of dz.\n",
    "from scipy import sin, cos, exp\n",
    "\n",
    "z = 0.75+0.3j          # Arbitrarily chosen value of z\n",
    "print('z      = ', z)\n",
    "print('sin(z) = ', sin(z))\n",
    "print('')\n",
    "\n",
    "dz_1 = 1e-6             # Real dz\n",
    "dz_2 = 1e-6j            # Imaginary dz\n",
    "dz_3 = 1e-6*exp(0.4j)   # dz with an arbitrarily chosen arg\n",
    "print('derivative_1 = ', (sin(z+dz_1) - sin(z))/dz_1)\n",
    "print('derivative_2 = ', (sin(z+dz_2) - sin(z))/dz_2)\n",
    "print('derivative_3 = ', (sin(z+dz_3) - sin(z))/dz_3)\n",
    "print('exact result = ', cos(z))"
   ]
  },
  {
   "cell_type": "markdown",
   "metadata": {},
   "source": [
    "## Cauchy-Riemann equations<a name=\"cauchy_riemann\"></a>\n",
    "\n",
    "The **Cauchy-Riemann equations** are a pair of real [partial differential equations](01_derivatives.ipynb#PDE) that provide an alternative way to define the concept of a complex derivative. Let $f(z)$ be a complex function.  We can write $f$ as the sum of real and imaginary parts,\n",
    "\n",
    "$$f(x + iy) = u(x,y) + i v(x,y),$$\n",
    "\n",
    "where $u(x,y)$ and $v(x,y)$ are real functions of two real inputs.  The Cauchy-Riemann equations are:\n",
    "\n",
    "$$\\frac{\\partial u}{\\partial x} = \\frac{\\partial v}{\\partial y},\\;\\; \\frac{\\partial u}{\\partial y} = -\\frac{\\partial v}{\\partial x}.$$\n",
    "\n",
    "These equations are important for the following reason: ***a function is complex-differentiable at a point $z = x + i y$ if and only if the Cauchy-Riemann equations are well-defined and satisfied at $(x,y)$***.  Here, \"well-defined\" means that the functions $u(x,y)$ and $v(x,y)$ are [real-differentiable](01_derivatives.ipynb), in both $x$ and $y$ directions, at the given point, so that their partial derivatives are well-defined."
   ]
  },
  {
   "cell_type": "markdown",
   "metadata": {},
   "source": [
    "### Proof\n",
    "\n",
    "We will now prove the first part of the preceding \"if and only if\" statement, which states that if a function is complex-differentiable, then the Cauchy-Riemann equations are well-defined and satisfied.  The proof of the converse is left as an [exercise](#exercises).\n",
    "\n",
    "Suppose the function $f$ is complex-differentiable at some point $z$.  Following from the definition of complex differentiability, there exists a derivative $f'(z)$ defined as\n",
    "\n",
    "$$f'(z) = \\lim_{\\delta z \\rightarrow 0} \\frac{f(z+\\delta z) - f(z)}{\\delta z},$$\n",
    "\n",
    "whose value is independent of the argument that we take for the infinitesimal $\\delta z$.  If we take this to be real, i.e. $\\delta z = \\delta x \\in \\mathbb{R}$, the expression for the derivative can be written as\n",
    "\n",
    "$$\\begin{aligned}f'(z) &= \\lim_{\\delta x \\rightarrow 0} \\frac{f(x+\\delta x + i y) - f(x + i y)}{\\delta x} \\\\ &= \\lim_{\\delta x \\rightarrow 0} \\frac{\\left[u(x+\\delta x, y) + iv(x+\\delta x, y)\\right] - \\left[u(x, y) + i v(x,y)\\right]}{\\delta x}\\\\ &= \\lim_{\\delta x \\rightarrow 0} \\frac{\\left[u(x+\\delta x, y) - u(x,y)\\right] + i \\left[v(x+\\delta x, y)-v(x,y)\\right]}{\\delta x} \\\\ & = \\frac{\\partial u}{\\partial x} + i \\frac{\\partial v}{\\partial x}\\end{aligned}$$\n",
    "\n",
    "On the other hand, we could also take an infinitesimal displacement in the imaginary direction, by setting $\\delta z = i \\delta y$ where $\\delta y \\in \\mathbb{R}$.  Then the expression for the derivative is\n",
    "\n",
    "$$\\begin{aligned}f'(z) &= \\lim_{\\delta y \\rightarrow 0} \\frac{f(x+ i y + i\\delta y) - f(x + i y)}{i\\delta y} \\\\ &= \\lim_{\\delta y \\rightarrow 0} \\frac{\\left[u(x, y+\\delta y) + iv(x, y+\\delta y)\\right] - \\left[u(x, y) + i v(x,y)\\right]}{i\\delta y}\\\\ &= \\lim_{\\delta y \\rightarrow 0} \\frac{\\left[u(x, y+\\delta y) - u(x,y)\\right] + i \\left[v(x, y+\\delta y)-v(x,y)\\right]}{i\\delta y} \\\\ & = -i\\frac{\\partial u}{\\partial y} + \\frac{\\partial v}{\\partial y}\\end{aligned}$$\n",
    "\n",
    "Since $f(z)$ is complex-differentiable, these two expressions must be equal, so\n",
    "\n",
    "$$\\frac{\\partial u}{\\partial x} + i \\frac{\\partial v}{\\partial x} = -i\\frac{\\partial u}{\\partial y} + \\frac{\\partial v}{\\partial y}.$$\n",
    "\n",
    "Noting that $u$ and $v$ are real functions, we can take the real and imaginary parts of the above equation separately.  This yields a pair of real equations,\n",
    "\n",
    "$$\\frac{\\partial u}{\\partial x} = \\frac{\\partial v}{\\partial y}, \\;\\;\\; \\frac{\\partial v}{\\partial x} = -\\frac{\\partial u}{\\partial y}.$$\n",
    "\n",
    "These are precisely the Cauchy-Riemann equations.  As a corollary, we also obtain a set of convenient expressions for the complex derivative of $f(z)$:\n",
    "\n",
    "$$\\begin{aligned}\\mathrm{Re}\\left[f'(z)\\right] &= \\frac{\\partial u}{\\partial x} = \\frac{\\partial v}{\\partial y} \\\\ \\mathrm{Im}\\left[f'(z)\\right] &= \\frac{\\partial v}{\\partial x} = -\\frac{\\partial u}{\\partial y}.\\end{aligned}$$"
   ]
  },
  {
   "cell_type": "code",
   "execution_count": 11,
   "metadata": {},
   "outputs": [
    {
     "name": "stdout",
     "output_type": "stream",
     "text": [
      "z      =   (0.75+0.3j)\n",
      "sin(z) =   (0.712543248575+0.222814109061j)\n",
      "\n",
      "du/dx  =   0.764862198799\n",
      "dv/dy  =   0.764862666369\n",
      "du/dy  =   0.207573191524\n",
      "dv/dx  =  -0.207572946664\n"
     ]
    }
   ],
   "source": [
    "## We can verify the above results numerically, for the sine function:\n",
    "\n",
    "from scipy import sin, cos, exp\n",
    "z = 0.75+0.3j          # Arbitrarily chosen value of z\n",
    "print('z      =  ', z)\n",
    "print('sin(z) =  ', sin(z))\n",
    "print('')\n",
    "\n",
    "dx = dy = 1e-6\n",
    "\n",
    "## Derivatives of u and v w.r.t. x\n",
    "df_dx = (sin(z+dx) - sin(z))/dx\n",
    "du_dx = df_dx.real\n",
    "dv_dx = df_dx.imag\n",
    "\n",
    "## Derivatives of u and v w.r.t. y\n",
    "df_dy = (sin(z+1j*dy) - sin(z))/dy\n",
    "du_dy = df_dy.real\n",
    "dv_dy = df_dy.imag\n",
    "\n",
    "print('du/dx  =  ', du_dx)\n",
    "print('dv/dy  =  ', dv_dy)\n",
    "print('du/dy  =  ', du_dy)\n",
    "print('dv/dx  = ', dv_dx)"
   ]
  },
  {
   "cell_type": "markdown",
   "metadata": {},
   "source": [
    "### Interpretation of the Cauchy-Riemann equations\n",
    "\n",
    "The central message of the Cauchy-Riemann equations is that when dealing with analytic functions, the real and imaginary parts of complex numbers cannot be regarded as independent quantities, but are closely intertwined.  There are two complementary ways to think about this:\n",
    "\n",
    "* For an analytic function $f(z)$, the real and imaginary parts of the input $z$ do not independently affect the output value.  If I tell you how the function varies in the $x$ direction, by giving you $\\partial u/\\partial x$ and $\\partial v/\\partial x$, then you can work out how the function varies in the $y$ direction, by using the Cauchy-Riemann equations to find $\\partial u/\\partial y$ and $\\partial v/\\partial y$.\n",
    "* Similarly, for the complex outputs of $f(z)$, the real and imaginary parts cannot be regarded as independent.  If I tell you how the real part of the output varies, by giving you $\\partial u/\\partial x$ and $\\partial u/\\partial y$, then you can work out how the imaginary part of the output varies, by using the Cauchy-Riemann equations to find $\\partial v/\\partial x$ and $\\partial v/\\partial y$.\n",
    "\n",
    "These constraints have profound implications for the mathematical discipline of complex analysis, one of the most important being Cauchy's integral theorem, which we will encounter when studying [contour integration](08_contour_integration.ipynb)."
   ]
  },
  {
   "cell_type": "markdown",
   "metadata": {},
   "source": [
    "### Consequences of the Cauchy-Riemann equations<a name=\"using_cauchy_riemann\"></a>\n",
    "\n",
    "The Cauchy-Riemann equations are a useful tool for showing that a function is analytic in a given domain.  They are often more convenient to use than the first-principles definition of complex differentiability, because it lets you avoid dealing with limiting expressions.\n",
    "\n",
    "<a name=\"example2\"></a>\n",
    "<table width=75%>\n",
    "<tr><td style=\"text-align:left\">**Example**</td></tr>\n",
    "<tr><td style=\"text-align:left\">We can use the Cauchy-Riemann equations to prove that the function<br/>$$f(z)=1/z$$</br>is analytic everywhere, except at $z = 0$.  Let us write the function as<br/>$$f(x+iy) = \\frac{1}{x+iy} = \\frac{x-iy}{x^2+y^2}.$$<br/>Hence the real and imaginary component functions are<br/>$$u(x,y) = \\frac{x}{x^2+y^2}, \\;\\;v(x,y) = - \\frac{y}{x^2+y^2}.$$<br/>Except at the point $x = y = 0$, these functions are differentiable, and their partial derivatives satisfy:<br/>$$\\begin{aligned}\\frac{\\partial u}{\\partial x} &= \\frac{-x^2+y^2}{(x^2+y^2)^2}\\!\\!\\!\\!\\!\\! &=& \\;\\;\\;\\frac{\\partial v}{\\partial y} \\\\ \\frac{\\partial v}{\\partial x} &= \\; \\frac{2xy}{x^2+y^2} &=& -\\frac{\\partial u}{\\partial y}.\\end{aligned}$$</td></tr></table>\n",
    "\n",
    "More generally, we can use the Cauchy-Riemann equations to prove the following facts about analytic functions:\n",
    "\n",
    "* *Compositions of analytic functions are analytic*.  If $f(z)$ is analytic in $D \\subset \\mathbb{C}$ and $g(z)$ is analytic in the range of $f$, then $g(f(z))$ is analytic in $D$.\n",
    "* *Reciprocals of analytic functions are analytic, except at singularities*. If $f(z)$ is analytic in $D \\subset \\mathbb{C}$, then $1/f(z)$ is analytic everywhere in $D$ except where $f(z) = 0$.\n",
    "\n",
    "The proofs for these can be obtained by direct substitution into the Cauchy-Riemann equations, and are left as [exercises](#exercises)."
   ]
  },
  {
   "cell_type": "markdown",
   "metadata": {},
   "source": [
    "## Exercises<a name=\"exercises\"></a>\n",
    "\n",
    "<ol>\n",
    "<li>For each of the following functions $f(z)$, find the real and imaginary component functions $u(x,y)$ and $v(x,y)$, and hence verify whether they satisfy the Cauchy-Riemann equations.<ol style=\"list-style-type:lower-alpha\"> <li>&nbsp;$f(z) = z$</li> <li>&nbsp;$f(z) = z^2$</li>  <li>&nbsp;$f(z) = |z|$</li> <li>&nbsp;$f(z) = |z|^2$</li>  <li>&nbsp;$f(z) = \\exp(z)$</li> <li>&nbsp;$f(z) = \\cos(z)$</li> <li>&nbsp;$f(z) = 1/z$</li></ol>\n",
    "</li>\n",
    "<li>Suppose a function $f(z)$ is well-defined and obeys the Cauchy-Riemann equations at a point $z$, and the partial derivatives in the Cauchy-Riemann equations are continuous at that point.  Show that the function is complex differentiable at that point.  Hint: consider an arbitary displacement $\\Delta z = \\Delta x + i \\Delta y$.</li>\n",
    "<li>Prove that products of analytic functions are analytic: if $f(z)$ and $g(z)$ are analytic in $D \\subset \\mathbb{C}$, then $f(z) g(z)$ is analytic in $D$.</li>\n",
    "<li>Prove that compositions of analytic functions are analytic: if $f(z)$ is analytic in $D \\subset \\mathbb{C}$ and $g(z)$ is analytic in the range of $f$, then $g(f(z))$ is analytic in $D$.</li>\n",
    "<li>Prove that reciprocals of analytic functions are analytic away from poles: if $f(z)$ is analytic in $D \\subset \\mathbb{C}$, then $1/f(z)$ is analytic everywhere in $D$ except where $f(z) = 0$.</li>\n",
    "<li>Show that if $f(z = x + iy) = u(x,y) + i v(x,y)$ satisfies the Cauchy-Riemann equations, then the real functions $u$ and $v$ each obey Laplace's equation:<br/>$$\\frac{\\partial^2 u}{\\partial x^2} + \\frac{\\partial^2u}{\\partial y^2} = \\frac{\\partial^2 v}{\\partial x^2} + \\frac{\\partial^2 v}{\\partial y^2} = 0.$$<br/>(Such functions are called \"harmonic functions\".)</li>\n",
    "<li>We can write the real and imaginary parts of a function in terms of polar coordinates: $f(z) = u(r,\\theta) + i v(r,\\theta)$, where $z = re^{i\\theta}$. Using the formula for [how partial derivatives transform under a change of variables](01_derivatives.ipynb#change_of_variables), show that the Cauchy-Riemann equations can be re-written in polar form as<br/>$$\\frac{\\partial u}{\\partial r} =  \\frac{1}{r} \\frac{\\partial v}{\\partial \\theta}, \\quad \\frac{\\partial v}{\\partial r} =  - \\frac{1}{r}\\,  \\frac{\\partial u}{\\partial \\theta}.$$</li>\n",
    "</ol>"
   ]
  }
 ],
 "metadata": {
  "kernelspec": {
   "display_name": "Python 3",
   "language": "python",
   "name": "python3"
  },
  "language_info": {
   "codemirror_mode": {
    "name": "ipython",
    "version": 3
   },
   "file_extension": ".py",
   "mimetype": "text/x-python",
   "name": "python",
   "nbconvert_exporter": "python",
   "pygments_lexer": "ipython3",
   "version": "3.6.1"
  }
 },
 "nbformat": 4,
 "nbformat_minor": 1
}
