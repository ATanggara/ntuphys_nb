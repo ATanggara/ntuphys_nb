{
 "cells": [
  {
   "cell_type": "markdown",
   "metadata": {
    "ein.tags": [
     "worksheet-0"
    ],
    "slideshow": {
     "slide_type": "-"
    }
   },
   "source": [
    "# 2. Integrals\n",
    "\n",
    "If we have a function $f(x)$ which is well-defined for some $a \\le x \\le b $, its integral over those two values is defined as\n",
    "\n",
    "$$\\int_a^b dx\\, f(x) \\;=\\; \\lim_{N \\rightarrow 0} \\, \\sum_{n=0}^{N} \\Delta x\\; f(x_n) \\;\\;\\;\\mathrm{where}\\;\\; x_n = a + n\\Delta x, \\;\\; \\Delta x \\equiv \\left(\\frac{b-a}{N}\\right).$$\n",
    "\n",
    "This is called a **definite integral**, and it represents the area under the graph of $f(x)$ in the region between $x=a$ and $x=b$, as shown in the figure below.  The function $f(x)$ is called the **integrand**, and the two points $a$ and $b$ are called the **bounds** of the integral. The interval between the two bounds is divided into $N$ segments, of length $(b-a)/N$ each. Each term in the sum represents the area of a rectangle, and as $N\\rightarrow \\infty$, the sum converges to the area under the curve.\n",
    "\n",
    "<img src=\"img/definite_integral.png\" alt=\"Figure of a definite integral.\" width=75%>\n",
    "\n",
    "For the purposes of dimensional analysis, an integral has the units of the integrand times the units of $x$. This is easy to remember if you think of $dx$ as a multiplicative factor with units of $x$.\n",
    "\n",
    "A **multiple integral** involves integration over more than one variable.  For instance, when we have a function $f(x_1,x_2)$ that depends on two independent variables, $x_1$ and $x_2$, we can perform a double integral by integrating over one variable first, then the other variable:\n",
    "\n",
    "$$\\int_{a_1}^{b_1} dx_1 \\int_{a_2}^{b_2} dx_2 \\; f(x_1, x_2) \\equiv \\int_{a_1}^{b_1} dx_1 F(x_1)\\quad\\text{where}\\;\\;F(x_1) \\equiv \\int_{a_2}^{b_2} dx_2 \\; f(x_1, x_2).$$"
   ]
  },
  {
   "cell_type": "markdown",
   "metadata": {
    "ein.tags": [
     "worksheet-0"
    ],
    "slideshow": {
     "slide_type": "-"
    }
   },
   "source": [
    "## Basic properties of definite integrals\n",
    "\n",
    "The value of a definite integral depends only on the integrand, and the two integration bounds. The variable which is integrated over is a \"dummy\" variable, in that changing its symbol does not affect the value of the definite integral itself:\n",
    "\n",
    "$$\\int_a^b dx\\; f(x) = \\int_a^b dy\\; f(y).$$\n",
    "\n",
    "In particular, since the value of the integral does not depend on the dummy variable, it is nonsensical to write something like\n",
    "\n",
    "$$\\frac{d}{dx}\\; \\left[\\int_a^b dx\\; f(x)\\right]. \\;\\;\\;(\\text{Nonsense expression}!)$$\n",
    "\n",
    "Because an integral is defined as the limiting form of a sum, it can be algebraically manipulated in the same way as a summation expression.  For instance, when we have a linear combination of two integrals *with the same bounds*, the linear combination can be brought inside the integral:\n",
    "\n",
    "$$c_1 \\int_{a}^{b} dx \\; f_1(x)\\;\\, +\\;\\, c_2 \\int_{a}^{b} dx\\; f_2(x) = \\int_a^b dx \\;\\Big[c_1 \\,f_1(x) + c_2\\, f_2(x)\\Big].$$\n",
    "\n",
    "This is analogous to how we can bring linear combinations inside summation signs:\n",
    "\n",
    "$$c_1 \\sum_{n = p}^{q} A_n \\, + \\, c_2 \\sum_{n = p}^{q} B_n = \\sum_{n = p}^{q} \\Big[ c_1  A_n \\, + \\, c_2 B_n\\Big].$$\n",
    "\n",
    "For a similar reason, multiple integrals can be manipulated like multiple summations.  If we have a double integral where both integrals have independent bounds, we can swap the order of the integrals:\n",
    "\n",
    "$$\\int_{a_1}^{b_1} dx_1 \\int_{a_2}^{b_2} dx_2 \\;\\; f(x_1, x_2) = \\int_{a_2}^{b_2} dx_2 \\int_{a_1}^{b_1} dx_1 \\;\\; f(x_1, x_2).$$\n",
    "\n",
    "This is analogous to how we can swap the order of two independent summations.  Note, however, that this requires the integrals to have independent bounds.  For instance, if the upper or lower bound of the inner integral depends on the integration variable of the outer integral, we can't swap the two integrals:\n",
    "\n",
    "$$\\int_{a_1}^{b_1} dx_1 \\int_{a_1}^{x_1} dx_2 \\;\\; f(x_1, x_2) \\ne \\int_{a_1}^{x_1} dx_2 \\int_{a_1}^{b_1} dx_1 \\;\\; f(x_1, x_2).\\;\\; (\\text{Nonsense expression}!)$$\n",
    "\n",
    "(Note that the expression on the right is nonsensical---$x_1$ is meant to be a dummy variable, yet it exists outside of any integration sign.)\n",
    "\n",
    "Since the value of a definite integral depends on the values of the upper and lower bounds, we can naturally ask how the definite integral changes as we vary either bound. Using the defintion of the [derivative](01_derivatives.ipynb), we can show that\n",
    "\n",
    "$$ \\frac{d}{db} \\left[\\int_a^b dx\\; f(x)\\right] = f(b), \\quad \\frac{d}{da} \\left[\\int_a^b dx\\; f(x)\\right] = -f(a).$$\n",
    "\n",
    "To prove the first equation, observe that increasing the upper bound from $b$ to $b + \\delta b$ increases the area under the curve by $f(b) \\delta b$ (to lowest order in $\\delta b$).  Hence, the definite integral's rate of change with $b$ is $f(b)$.  Likewise, increasing the lower bound from $a$ to $\\delta a$ will *decrease* the area under the curve, leading to a rate of change of $-f(a)$.\n",
    "\n",
    "Based on the above result, we can define the concept of an **indefinite integral**, or **antiderivative**, as the \"inverse\" of a derivative operation:\n",
    "\n",
    "$$\\int^x dx' f(x') \\equiv F(x) \\;\\;\\mathrm{such}\\;\\mathrm{that}\\;\\; \\frac{d}{dx}F(x) = f(x).$$\n",
    "\n",
    "Since derivatives are not one-to-one (i.e., two different functions can have the same derivative), an antiderivative does not have a unique, well-specified value; its value is only defined up to an additive constant, called an **integration constant**. A definite integral, by contrast, always has a well-defined value.\n",
    "\n",
    "As you may recall from previous math classes, finding antiderivatives is much harder than differentiation.  Once you know how to differentiate a few special functions, differentiating some combination of those functions just involves a straightforward (though possibly tedious) application of [composition rules](01_derivatives.ipynb#composition_rules).  By contrast, there is no general systematic procedure for symbolic integration.  Integration often involves making a series of inspired choices, like guessing a solution and checking if its derivative gives the desired integral expression. Some of the most common and useful techniques are summarized in the following sections."
   ]
  },
  {
   "cell_type": "markdown",
   "metadata": {
    "ein.tags": [
     "worksheet-0"
    ],
    "slideshow": {
     "slide_type": "-"
    }
   },
   "source": [
    "<a name=\"integration_by_parts\"></a>\n",
    "## Integration by parts\n",
    "\n",
    "If the integrand consists of two factors, and you know the antiderivative of one of the factors, you can \"integrate by parts\" to shift the derivative onto the other factor.  Specifically,\n",
    "\n",
    "$$\\int_a^b dx \\; f(x) \\, \\frac{dg}{dx} \\;=\\; \\Big[\\,f(x)\\, g(x)\\,\\Big]_a^b - \\int_a^b \\frac{df}{dx}\\, g(x). $$\n",
    "\n",
    "The first term on the right hand side is a constant denoting $[f(a)g(a) - f(b)g(b)]$.  The second term is an integral, which might be easier to do than the original integral.  Judicious use of integration by parts is a key step for solving many integrals.  For example, consider\n",
    "\n",
    "$$\\int_a^b dx\\; x \\, e^{\\gamma x}.$$\n",
    "\n",
    "The integrand consists of two factors, $x$ and $e^{\\gamma x}$; we happen to know the antiderivative of both factors.  Integrating by parts lets us replace one of these factors with its antiderivative, while applying an additional derivative on the other factor.  The smart thing to do is to apply the derivative on the $x$ factor, and the antiderivative on the $e^{\\gamma x}$. If we do this, the first factor turns into unity:\n",
    "\n",
    "$$\\begin{align}\\int_a^b dx\\; x\\, e^{\\gamma x} \\;&=\\; \\left[\\;x\\, \\frac{e^{\\gamma x}}{\\gamma}\\, \\right]_a^b - \\int_a^b dx\\; \\frac{e^{\\gamma x}}{\\gamma} \\\\&=\\; \\left[\\;x\\, \\frac{e^{\\gamma x}}{\\gamma} - \\frac{e^{\\gamma x}}{\\gamma^2} \\,\\right]_a^b.\\end{align}$$\n",
    "\n",
    "Whenever we finish doing an integral, it is good practice to double-check the result by making sure the dimensions match up.  Note that $\\gamma$ has units of inverse $x$, so the integral on the left-hand side has units of $x^2$.  The solution on the right hand side has two terms, with units $x/\\gamma$ and $1/\\gamma^2$; both of these are equivalent to units of $x^2$, which is what we need!"
   ]
  },
  {
   "cell_type": "markdown",
   "metadata": {
    "ein.tags": [
     "worksheet-0"
    ],
    "slideshow": {
     "slide_type": "-"
    }
   },
   "source": [
    "## Change of variables<a name=\"change_of_variables\"></a>\n",
    "\n",
    "Another useful technique for solving integrals is to change variables.  Consider the integral\n",
    "\n",
    "$$\\int_0^\\infty \\frac{dx}{x^2 + 1}.$$\n",
    "\n",
    "We can solve this by making a change of variables $x = \\tan(u)$.  This involves (i) replacing all occurences of $x$ in the integrand with $\\tan(u)$, (ii) replacing the integral limits, and (iii) replacing $dx$ with $(dx/du) \\, du = 1/[\\cos(u)]^2 du$:\n",
    "\n",
    "$$\\begin{align}\\int_0^\\infty \\frac{dx}{x^2 + 1} &= \\int_0^{\\pi/2} \\frac{1}{[\\tan(u)]^2 + 1} \\cdot \\frac{1}{[\\cos(u)]^2} \\; du \\\\ &= \\int_0^{\\pi/2} \\frac{1}{[\\sin(u)]^2 + [\\cos(u)]^2} \\; du\\end{align}.$$\n",
    "\n",
    "Due to the [Pythagorean theorem](https://en.wikipedia.org/wiki/Pythagorean_theorem), the integrand reduces to 1, so\n",
    "\n",
    "$$\\int_0^\\infty \\frac{dx}{x^2 + 1} = \\int_0^{\\pi/2} du = \\frac{\\pi}{2}.$$\n",
    "\n",
    "Clearly, this technique often requires some cleverness and/or trial-and-error in choosing the right change of variables."
   ]
  },
  {
   "cell_type": "markdown",
   "metadata": {
    "ein.tags": [
     "worksheet-0"
    ],
    "slideshow": {
     "slide_type": "-"
    }
   },
   "source": [
    "## The Gaussian integral<a name=\"gaussian_integral\"></a>\n",
    "\n",
    "Here's a famous integral:\n",
    "\n",
    "$$\\int_{-\\infty}^\\infty \\; e^{-\\gamma x^2} \\; dx.$$\n",
    "\n",
    "The integrand is called a **Gaussian**, or **bell curve**, and is plotted below. The value of the definite integral depends on $\\gamma$; the larger the value of $\\gamma$, the more narrowly-peaked the curve."
   ]
  },
  {
   "cell_type": "code",
   "execution_count": 2,
   "metadata": {
    "autoscroll": "json-false",
    "ein.tags": [
     "worksheet-0"
    ],
    "slideshow": {
     "slide_type": "-"
    }
   },
   "outputs": [
    {
     "data": {
      "application/vnd.jupyter.widget-view+json": {
       "model_id": "8b6fe134c8c94aecb9e7ad02f7da652e"
      }
     },
     "metadata": {},
     "output_type": "display_data"
    }
   ],
   "source": [
    "## Visualize the function f(x) = exp(-gamma x^2).\n",
    "%matplotlib inline\n",
    "from ipywidgets import interact, FloatSlider\n",
    "from scipy import linspace, exp\n",
    "import matplotlib.pyplot as plt\n",
    "\n",
    "def plot_exp(gamma):\n",
    "    plt.figure(figsize=(10,4))\n",
    "    lim, nx = 5.0, 200\n",
    "    x = linspace(-lim, lim, nx)\n",
    "    plt.plot(x, exp(-gamma*x*x), label=\"exp(-gamma x^2)\")\n",
    "    plt.title(\"Use slider to adjust the value of 'gamma'\")\n",
    "    plt.xlabel('x');    plt.xlim(-lim, lim)\n",
    "    plt.ylabel('f(x)'); plt.ylim(0., 1.1)\n",
    "    plt.show()\n",
    "\n",
    "interact(plot_exp,gamma=FloatSlider(min=0.1, max=4.0, step=0.1, value=1.0));\n"
   ]
  },
  {
   "cell_type": "markdown",
   "metadata": {
    "ein.tags": [
     "worksheet-0"
    ],
    "slideshow": {
     "slide_type": "-"
    }
   },
   "source": [
    "The integral was solved by [Gauss](http://en.wikipedia.org/wiki/Carl_Friedrich_Gauss) in a particularly brilliant way.  Let $I(\\gamma)$ denote the value of the integral.  Then $I^2$ is just two independent copies of the integral, multiplied together:\n",
    "\n",
    "$$I^2(\\gamma) = \\left[\\int_{-\\infty}^\\infty \\; e^{-\\gamma x^2} \\; dx\\right] \\times \\left[\\int_{-\\infty}^\\infty \\; e^{-\\gamma y^2} \\; dy\\right].$$\n",
    "\n",
    "Note that in the second integral, we have changed the \"dummy\" label $x$ (the integration variable) into $y$, to avoid ambiguity.  Now, this becomes a two-dimensional integral, taken over the entire 2D plane:\n",
    "\n",
    "$$I^2(\\gamma) = \\int_{-\\infty}^\\infty dx\\, \\int_{-\\infty}^\\infty dy \\; e^{-\\gamma (x^2+y^2)}.$$\n",
    "\n",
    "Next, we change from Cartesian to polar coordinates:\n",
    "\n",
    "$$I^2(\\gamma) = \\int_{0}^\\infty dr\\, r \\int_{0}^{2\\pi} d\\phi \\; e^{-\\gamma r^2} = \\left[ \\int_{0}^\\infty dr\\, r \\, e^{-\\gamma r^2}\\right] \\times \\left[\\int_{0}^{2\\pi} d\\phi \\right] = \\frac{1}{2\\gamma} \\cdot 2\\pi.$$\n",
    "\n",
    "Now, by taking the square root we arrive at the result\n",
    "\n",
    "$$I(\\gamma) = \\int_{-\\infty}^\\infty \\; e^{-\\gamma x^2} \\; dx = \\sqrt{\\frac{\\pi}{\\gamma}}.$$"
   ]
  },
  {
   "cell_type": "markdown",
   "metadata": {
    "ein.tags": [
     "worksheet-0"
    ],
    "slideshow": {
     "slide_type": "-"
    }
   },
   "source": [
    "## Differentiating under the integral sign<a name=\"diff_integral\"></a>\n",
    "\n",
    "In the previous section, we noted that if an integrand contains a parameter (denoted $\\gamma$) which is independent of the integration variable (denoted $x$), then the definite integral can itself be regarded as a function of $\\gamma$.  It can then be shown that taking the derivative of the definite integral with respect to $\\gamma$ is equivalent to taking the ''partial derivative'' of the integrand:\n",
    "\n",
    "$$\\frac{d}{d\\gamma} \\, \\left[\\int_a^b dx\\; f(x,\\gamma)\\right] = \\int_a^b dx \\; \\frac{\\partial f}{\\partial \\gamma}(x,\\gamma).$$\n",
    "\n",
    "This operation, called \"differentiating under the integral sign\", was first used by [Leibniz](https://en.wikipedia.org/wiki/Gottfried_Wilhelm_Leibniz), one of the inventors of calculus.  It can be applied as a technique for solving integrals, as popularized by [Richard Feynman](https://en.wikipedia.org/wiki/Richard_Feynman) in his book [*Surely You're Joking, Mr. Feynman!*](https://en.wikipedia.org/wiki/Surely_You%27re_Joking,_Mr._Feynman!).\n",
    "\n",
    "The technique is as follows.  Given a definite integral $I_0$, (i) come up with a way to generalize the integrand, by introducing a parameter $\\gamma$, such that the generalized integral becomes a function $I(\\gamma)$ which reduces to the original integral $I_0$ for a particular parameter value, say $\\gamma = \\gamma_0$.  Then, (ii) differentiate under the integral sign.  If you have chosen the generalization right, the resulting integral will be easier to solve, so (iii) solve the integral to obtain $I'(\\gamma)$.  Finally, (iv) integrate this over $\\gamma$ to obtain the desired integral $I(\\gamma)$, and evaluate it at $\\gamma_0$ to obtain the desired integral $I_0$.\n",
    "\n",
    "An example is helpful for demonstrating this procedure.  Consider the integral\n",
    "\n",
    "$$\\int_{0}^\\infty dx \\; \\frac{\\sin(x)}{x}.$$\n",
    "\n",
    "First, (i) we generalize the integral as follows (we'll soon see why):\n",
    "\n",
    "$$I(\\gamma) = \\int_{0}^\\infty dx \\; \\frac{\\sin(x)}{x}\\, e^{-\\gamma x}.$$\n",
    "\n",
    "The desired integral is $I(0)$.  Next, (ii) differentiating under the integral gives\n",
    "\n",
    "$$I'(\\gamma) = - \\int_{0}^\\infty dx \\; \\sin(x)\\, e^{-\\gamma x}.$$\n",
    "\n",
    "Taking the partial derivative of the integrand with respect to $\\gamma$ brought down a factor of $-x$, cancelling out the troublesome denominator.  Now, (iii) we solve the new integral, which can be done by integrating by parts twice:\n",
    "\n",
    "$$\\begin{aligned}I'(\\gamma) &= \\left[\\cos(x)\\,e^{-\\gamma x}\\right]_0^\\infty + \\gamma \\int_{0}^\\infty dx \\; \\cos(x)\\, e^{-\\gamma x} \\\\ &= -1 + \\gamma \\left[\\sin(x)\\,e^{-\\gamma x}\\right]_0^\\infty + \\gamma^2 \\int_{0}^\\infty dx \\; \\sin(x)\\, e^{-\\gamma x} \\\\&= -1 - \\gamma^2 I'(\\gamma).\\end{aligned}$$\n",
    "\n",
    "Hence,\n",
    "\n",
    "$$I'(\\gamma) = - \\frac{1}{1+\\gamma^2}.$$\n",
    "\n",
    "Finally, (iv) we need to integrate this over $\\gamma$. But we already saw how to do this particular integral [in a previous section](#change_of_variables), and the result is\n",
    "\n",
    "$$I(\\gamma) = A - \\tan^{-1}(\\gamma),$$\n",
    "\n",
    "where $A$ is a constant of integration. When $\\gamma \\rightarrow \\infty$, the integral must vanish, which implies that $A = \\tan^{-1}(+\\infty) = \\pi/2$.  Finally, we arrive at the result\n",
    "\n",
    "$$\\int_{0}^\\infty dx \\; \\frac{\\sin(x)}{x} = I(0) = \\frac{\\pi}{2}.$$\n",
    "\n",
    "When we discuss [contour integration](08_contour_integration.ipynb), we will see a more straightforward way to do this integral."
   ]
  },
  {
   "cell_type": "markdown",
   "metadata": {
    "ein.tags": [
     "worksheet-0"
    ],
    "slideshow": {
     "slide_type": "-"
    }
   },
   "source": [
    "## Exercises\n",
    "<a name=\"exercises\"></a>\n",
    "\n",
    "<ol><li>Consider the step function<br/>$$\\Theta(x) = \\left\\{\\begin{array}{ll} 1, &\\;\\;\\;\\textrm{for} \\; x \\ge 0\\\\ 0,&\\;\\;\\; \\textrm{otherwise.}\\end{array}\\right.$$<br/>Write down an expression for the antiderivative of $\\Theta(x)$, and sketch its graph.\n",
    "</li>\n",
    "<li>Show that<br/>$$\\int_0^{2\\pi} dx\\, [\\sin(x)]^2 = \\int_0^{2\\pi} dx\\, [\\cos(x)]^2 = \\pi.$$</li>\n",
    "<!-- <li>Derive the following \"moments\" of the Gaussian integral:<br/>&nbsp;&nbsp;&nbsp;$\\int_{-\\infty}^{\\infty} dx\\; x^2\\,e^{-\\gamma x^2} = \\frac{\\sqrt{\\pi}}{2\\gamma^{3/2}}$<br/>&nbsp;&nbsp;&nbsp;$\\int_{-\\infty}^{\\infty} dx\\; x^4\\,e^{-\\gamma x^2} = \\frac{3\\sqrt{\\pi}}{4\\gamma^{5/2}}.$<br/>Then derive the general expression for $\\int_{-\\infty}^{\\infty} dx\\; x^{n}\\,e^{-\\gamma x^2}.$</li>\n",
    "-->\n",
    "<li>Calculate the following definite integrals:<ol style=\"list-style-type:lower-alpha\"><li>$\\displaystyle\\int_{0}^\\pi dx\\; x^2 \\sin(2x)$</li><li>$\\displaystyle\\int_{1}^\\alpha dx\\; x \\ln(x)$</li><li>$\\displaystyle\\int_0^\\infty dx\\;e^{-\\gamma x} \\, \\cos(x)$</li><li>$\\displaystyle\\int_0^\\infty dx\\;e^{-\\gamma x} \\, x \\cos(x)$</li>\n",
    "<li>$\\displaystyle\\int_{-\\infty}^\\infty dx\\;e^{-\\gamma |x|}$</li>\n",
    "<li>$\\displaystyle \\int_{-\\infty}^\\infty dx \\;e^{-|x+1|} \\sin(x)$</li>\n",
    "</ol></li>\n",
    "<li>By differentiating under the integral, solve<br/>$$\\int_0^1 dx\\; \\frac{x^2-1}{\\ln(x)}.$$<br/>Hint: to generalize the integral, replace $x^2$ in the numerator with $x^\\gamma$.\n",
    "<br/><div style=\"text-align: right\">[(Solution)](99_solutions.ipynb#01_02)</div><br/></li>\n",
    "<li>\n",
    "Let $f(x,y)$ be a function that depends on two inputs $x$ and $y$, and define<br/>\n",
    "$$I(x) = \\int_0^x f(x,y) dy.$$<br/>\n",
    "Using the [definition of the derivative](01_derivatives.ipynb), prove that<br/>\n",
    "$$\\frac{dI}{dx} = f(x,y) + \\int_0^x \\frac{\\partial f}{\\partial x}(x,y) \\;dy.$$<br/></li>\n",
    "<li>Consider the ordinary differential equation<br/>$$\\frac{dy}{dt} = - \\gamma y(t) + f(t),$$<br/>where $\\gamma > 0$ and $f(t)$ is some function of $t$. The solution for $y(t)$ can be written in the form<br/>$$y(t) = y(0) + \\int_0^t dt' \\, e^{-\\gamma(t-t')} \\, g(t').$$<br/>Find the appropriate function $g$, in terms of $f$ and $y(0)$.\n",
    "<br/><div style=\"text-align: right\">[(Solution)](99_solutions.ipynb#02_06)</div><br/></li>\n",
    "</ol>\n"
   ]
  }
 ],
 "metadata": {
  "kernelspec": {
   "display_name": "Python 3",
   "language": "python",
   "name": "python3"
  },
  "language_info": {
   "codemirror_mode": {
    "name": "ipython",
    "version": 3
   },
   "file_extension": ".py",
   "mimetype": "text/x-python",
   "name": "python",
   "nbconvert_exporter": "python",
   "pygments_lexer": "ipython3",
   "version": "3.6.1"
  },
  "name": "02_integrals.ipynb"
 },
 "nbformat": 4,
 "nbformat_minor": 1
}
