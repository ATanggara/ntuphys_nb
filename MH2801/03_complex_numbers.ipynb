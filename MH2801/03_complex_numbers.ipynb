{
 "cells": [
  {
   "cell_type": "markdown",
   "metadata": {},
   "source": [
    "# 3. Complex Numbers\n",
    "\n",
    "The **imaginary unit**, denoted $i$, is a hypothetical solution to the quadratic equation\n",
    "\n",
    "$$z^2 + 1 = 0,$$\n",
    "\n",
    "which is an equation that lacks real solutions.  In other words, $i = \\sqrt{-1}$.\n",
    "\n",
    "We can let the imaginary unit take part in the usual arithmetic operations of addition and multiplication, treating it as an algebraic quantity on the same footing as the more familiar real numbers.  Thus, we deal with numbers containing both real and imaginary parts, called **complex numbers**.  It is one of the most profound discoveries of mathematics that this seemingly arbitrary idea gives rise to powerful computational methods for addressing mathematical and physical problems."
   ]
  },
  {
   "cell_type": "markdown",
   "metadata": {},
   "source": [
    "## Complex algebra\n",
    "\n",
    "For any complex number $z$, we can write\n",
    "\n",
    "$$z = x + i y,$$\n",
    "\n",
    "where $x$ and $y$ are real numbers that depend uniquely on $z$.  We refer to these as the **real part of $z$** and the **imaginary part of $z$**, respectively.  These real and imaginary parts are also commonly denoted as $\\mathrm{Re}(z)$ and $\\mathrm{Im}(z)$, where the $\\mathrm{Re}$ and $\\mathrm{Im}$ operations can be regarded as functions mapping complex numbers to real numbers\n",
    "\n",
    "The set of complex numbers is denoted by $\\mathbb{C}$.  We can define algebraic operations on complex numbers&mdash;addition/subtraction, products, and taking powers&mdash;simply by following the usual rules of algebra and setting $i^2 = -1$ whenever it shows up.\n",
    "\n",
    "<table width=75% style=\"font-size: 100%; border: 1px solid gray;\">\n",
    "<tr><td style=\"text-align:left\">**Example**</td></tr>\n",
    "<tr><td style=\"text-align:left\">Let $z = x + i y$, where $x, y \\in \\mathbb{R}$.  What is $z^2$?<br/>$$\\begin{align}z^2 &= (x+iy)^2 \\\\&= x^2 + 2x(iy) + (iy)^2 \\\\&= x^2 - y^2 + 2ixy\\end{align}$$<br/>Hence, the real and imaginary parts are:<br/>$$\\mathrm{Re}(z^2) = x^2 -y^2, \\;\\;\\; \\mathrm{Im}(z^2) = 2xy.$$</td></tr></table>\n",
    "\n",
    "There's one caveat: for now, we'll only consider taking *integer* powers, such as $z^{-1}$ or $z^2$.  Taking non-integer powers, such as $z^{1/3}$, introduces vexatious complications which we'll postpone for now (this will be dealt with when discussing [branch points and branch cuts](07_branch_cuts.ipynb)).\n",
    "\n",
    "Another interesting fact, which can be easily proven, is that real coefficients can be freely moved into or out of $\\textrm{Re}(\\cdots)$ and $\\textrm{Im}(\\cdots)$ operations:\n",
    "\n",
    "$$\\left\\{\\begin{array}{l}\\mathrm{Re}(\\alpha z + \\beta z') = \\alpha \\, \\mathrm{Re}(z) + \\beta\\, \\mathrm{Re}(z')\\\\ \\mathrm{Im}(\\alpha z + \\beta z') = \\alpha \\, \\mathrm{Im}(z) + \\beta\\, \\mathrm{Im}(z')\\end{array}\\right.\\qquad\\mathrm{for}\\;\\alpha, \\beta \\in \\mathbb{R}.$$\n",
    "\n",
    "This has an important consequence: if we have a complex function of a real variable, then we can calculate the derivative of that function from the derivatives of the real and imaginary parts.  This is shown in the example below:\n",
    "\n",
    "<table width=75% style=\"font-size: 100%; border: 1px solid gray;\">\n",
    "<tr><td style=\"text-align:left\">**Example**</td></tr>\n",
    "<tr><td style=\"text-align:left\">If $z(t)$ is a complex function of a real input $t$, then<br/>\n",
    "$$\\mathrm{Re}\\left[\\frac{dz}{dt}\\right] = \\frac{d}{dt} \\mathrm{Re}\\left[z(t)\\right], \\;\\;\\textrm{and}\\;\\;\\; \\mathrm{Im}\\left[\\frac{dz}{dt}\\right] = \\frac{d}{dt} \\mathrm{Im}\\left[z(t)\\right].$$<br/>\n",
    "This can be proven using the definition of the [derivative](01_derivatives.ipynb):<br/>\n",
    "$$\\begin{align}\\mathrm{Re}\\left[\\frac{dz}{dt}\\right] &= \\;\\; \\mathrm{Re}\\left[\\lim_{\\delta t \\rightarrow 0} \\frac{z(t+\\delta t) - z(t)}{\\delta t}\\right] \\\\&= \\lim_{\\delta t \\rightarrow 0} \\left[\\frac{\\mathrm{Re}[z(t+\\delta t)] - \\mathrm{Re}[z(t)]}{\\delta t}\\right] \\\\&= \\frac{d}{dt} \\mathrm{Re}\\left[z(t)\\right].\\end{align}$$<br/>\n",
    "The $\\mathrm{Im}$ case works out similarly.  Note that the infinitesimal quantity $\\delta t$ is real; otherwise, this wouldn't work.</td></tr></table>"
   ]
  },
  {
   "cell_type": "code",
   "execution_count": 5,
   "metadata": {},
   "outputs": [
    {
     "name": "stdout",
     "output_type": "stream",
     "text": [
      "z     =  (1.5+0.4j)\n",
      "Re(z) =  1.5\n",
      "Im(z) =  0.4\n",
      "u     =  1j\n",
      "u     =  1j\n",
      "u + z =  (1.5+1.4j)\n",
      "u * z =  (-0.4+1.5j)\n",
      "u / z =  (0.16597510373443983+0.6224066390041494j)\n"
     ]
    }
   ],
   "source": [
    "## Programming note: in Python, complex numbers are\n",
    "## represented by the notation [x]+[y]j, where x and y\n",
    "## are numbers.\n",
    "\n",
    "z = 1.5+0.4j\n",
    "print('z     = ', z)\n",
    "print('Re(z) = ', z.real)   # Real part\n",
    "print('Im(z) = ', z.imag)   # Imaginary part\n",
    "\n",
    "# You can also write the imaginary unit as 1j:\n",
    "u = 1j\n",
    "print('u     = ', u)\n",
    "\n",
    "## Algebra on complex numbers is handled with the usual notation (+, -, *, etc.):\n",
    "print('u     = ', u)\n",
    "print('u + z = ', u + z)\n",
    "print('u * z = ', u * z)\n",
    "print('u / z = ', u / z)"
   ]
  },
  {
   "cell_type": "markdown",
   "metadata": {},
   "source": [
    "## Conjugates and Magnitudes<a name=\"conjugate\"></a><a name=\"magnitude\"></a>\n",
    "\n",
    "For each complex number $z = x + iy$, we define its **complex conjugate** as a complex number whose imaginary part has its sign flipped:\n",
    "\n",
    "$$z^* = x - i y.$$\n",
    "\n",
    "We can show that conjugation obeys two important properties:\n",
    "\n",
    "$$\\begin{aligned}(z_1 + z_2)^* &= z_1^* + z_2^* \\\\ (z_1 z_2)^* &= z_1^* z_2^*.\\end{aligned}$$\n",
    "\n",
    "<table width=75% style=\"font-size: 100%; border: 1px solid gray;\">\n",
    "<tr><td style=\"text-align:left\">**Example**</td></tr>\n",
    "<tr><td style=\"text-align:left\">Let us prove that $(z_1 z_2)^* = z_1^* z_2^*$.  First, let $z_1 = x_1 + i y_1$ and $z_2 = x_2 + i y_2$.  Then,<br/>$$\\begin{align}(z_1 z_2)^* &= \\left[(x_1+iy_1)(x_2+iy_2)\\right]^* \\\\ &= \\left[\\left(x_1 x_2 - y_1 y_2\\right) + i\\left(x_1y_2+y_1x_2\\right)\\right]^* \\\\ &= \\left(x_1 x_2 - y_1 y_2\\right) - i\\left(x_1y_2+y_1x_2\\right) \\\\ &= \\left(x_1 - i y_1\\right)\\left(x_2 - i y_2\\right) \\\\&= z_1^* z_2^* \\end{align}$$</td></tr></table>\n",
    "\n",
    "For a complex number $z = x + i y$, the **magnitude** of the complex number is\n",
    "\n",
    "$$|z| = \\sqrt{x^2 + y^2}.$$\n",
    "\n",
    "This is a non-negative real number. A complex number and its conjugate have the same magnitude: $|z| = |z^*|$.  Also, we can show that complex magnitudes have the property\n",
    "\n",
    "$$|z_1 z_2| = |z_1| \\, |z_2|.$$\n",
    "\n",
    "This property is similar to the \"absolute value\" operation for real numbers, hence the similar notation.  As a corollary, we can show that taking a power of a complex number raises its magnitude by the same power:\n",
    "\n",
    "\n",
    "$$|z^n| = |z|^n \\;\\;\\;\\textrm{for}\\;\\;n \\in \\mathbb{Z}.$$"
   ]
  },
  {
   "cell_type": "code",
   "execution_count": 7,
   "metadata": {},
   "outputs": [
    {
     "name": "stdout",
     "output_type": "stream",
     "text": [
      "z =  (1.5+0.4j)\n",
      "|z|   =  1.5524174696260025\n",
      "z^*   =  (1.5-0.4j)\n"
     ]
    }
   ],
   "source": [
    "z = 1.5+0.4j\n",
    "print('z = ', z)\n",
    "\n",
    "## The magnitude operation is handled by the built-in `abs` function:\n",
    "print('|z|   = ', abs(z))\n",
    "\n",
    "## To calculate the conjugate, use the `numpy.conj` function:\n",
    "from numpy import conj\n",
    "print('z^*   = ', conj(z))"
   ]
  },
  {
   "cell_type": "markdown",
   "metadata": {},
   "source": [
    "## Euler's formula<a name=\"euler_formula\"></a>\n",
    "\n",
    "Euler's formula is an extremely important result which states that\n",
    "\n",
    "$$e^{iz} = \\cos(z) + i \\sin(z).$$\n",
    "\n",
    "This can be proven using the [series definition of the exponential function](00_mathfunctions.ipynb#exponential), which is\n",
    "\n",
    "$$\\exp(z) = 1 + z + \\frac{z^2}{2!} + \\frac{z^3}{3!} + \\frac{z^4}{4!} + \\frac{z^5}{5!} + \\frac{z^6}{6!} + \\cdots$$\n",
    "\n",
    "Previously, we assumed that the input to the exponential function was a real number.  However, since complex numbers can be added and multiplied using the same rules of algebra as real numbers, we can employ this series formula as the definition of the **complex exponential function**.  This is a function that takes complex inputs and gives complex outputs. When the input happens to be real, the complex exponential function gives the same output as the real exponential function.\n",
    "\n",
    "Plugging $iz$ as the input to the complex exponential function gives\n",
    "\n",
    "$$\\begin{align}\\exp(iz) &= 1 + (iz) + \\frac{(iz)^2}{2!} + \\frac{(iz)^3}{3!} + \\frac{(iz)^4}{4!} + \\frac{(iz)^5}{5!} + \\frac{(iz)^6}{6!} + \\cdots \\\\&= 1 + iz - \\frac{z^2}{2!} - i \\frac{z^3}{3!} + \\frac{z^4}{4!} + i \\frac{z^5}{5!} - \\frac{z^6}{6!} + \\cdots \\\\& = \\left(1 - \\frac{z^2}{2!} + \\frac{z^4}{4!} - \\frac{z^6}{6!} + \\cdots\\right) + i\\left(z  - \\frac{z^3}{3!}  + \\frac{z^5}{5!}  - \\frac{z^7}{7!} + \\cdots\\right).\\end{align}$$\n",
    "\n",
    "Now, compare the two terms in parentheses to the [series expansions for the cosine and sine functions](01_derivatives.ipynb#taylor_useful).  We can define the **complex cosine** and **complex sine** functions using these complex series formulas:\n",
    "\n",
    "$$\\begin{aligned}\\cos(z) &= 1 - \\frac{z^2}{2!} + \\frac{z^4}{4!} - \\frac{z^6}{6!} + \\cdots \\\\ \\sin(z) &= z - \\frac{z^3}{3!} + \\frac{z^5}{5!} - \\frac{z^7}{7!} + \\cdots\\end{aligned}$$\n",
    "\n",
    "These are perfect matches for the two terms in the series expansion of the complex exponential!  Hence, Euler's formula immediately follows:\n",
    "\n",
    "$$e^{iz} = \\cos(z) + i \\sin(z).$$\n",
    "\n",
    "One important consequence of Euler's formula is that\n",
    "\n",
    "$$\\left|e^{i\\theta}\\right| = \\sqrt{\\cos^2(\\theta) + \\sin^2(\\theta)} = 1 \\qquad \\mathrm{for}\\; \\theta \\in \\mathbb{R}.$$\n",
    "\n",
    "Another interesting consequence is that\n",
    "\n",
    "$$e^{i\\pi} = -1,$$\n",
    "\n",
    "which is a formula that relates two transcendental constants $e = 2.7182818285\\dots$ and $\\pi = 3.141592654\\dots$, by means of the imaginary unit.  (We saw a different relationship between these two constants when solving the [Gaussian integral](02_integrals.ipynb#gaussian_integral).)"
   ]
  },
  {
   "cell_type": "code",
   "execution_count": 8,
   "metadata": {},
   "outputs": [
    {
     "name": "stdout",
     "output_type": "stream",
     "text": [
      "theta        =  0.75\n",
      "exp(i*theta) =  (0.7316888688738209+0.6816387600233341j)\n",
      "cos(theta)   =  0.7316888688738209\n",
      "sin(theta)   =  0.6816387600233341\n"
     ]
    }
   ],
   "source": [
    "## Note: the 'exp' function from numpy handles complex inputs.\n",
    "\n",
    "from numpy import exp, sin, cos\n",
    "theta = 0.75\n",
    "print('theta        = ', theta)\n",
    "print('exp(i*theta) = ', exp(1j*theta))\n",
    "print('cos(theta)   = ', cos(theta))\n",
    "print('sin(theta)   = ', sin(theta))"
   ]
  },
  {
   "cell_type": "markdown",
   "metadata": {},
   "source": [
    "## The complex plane<a name=\"complex_plane\"></a>\n",
    "\n",
    "A convenient device for conceptualizing complex numbers is to think of a complex number as a point on a two-dimensional plane, called the **complex plane**.  The real and imaginary parts are the horizontal and vertical Cartesian coordinates in the plane.  The horizontal ($x$) and vertical ($y$) coordinate axes are called the \"real axis\" and the \"imaginary axis\", respectively.\n",
    "\n",
    "<img src=\"img/complex_plane.png\" alt=\"The complex plane.\" width=\"30%\"></img>\n",
    "\n",
    "### Polar representation<a name=\"polar\"></a>\n",
    "\n",
    "If we think of a complex number as a point on the complex plane, its position can also be represented using polar coordinates instead of Cartesian coordinates. For a complex number $z = x + i y$, we can introduce polar coordinates $r$ and $\\theta$ (both real numbers), such that\n",
    "\n",
    "$$r = \\sqrt{x^2 + y^2}, \\;\\;\\; \\theta = \\tan^{-1}(y/x).$$\n",
    "\n",
    "Conversely,\n",
    "\n",
    "$$x = r\\cos\\theta, \\;\\;\\; y = r\\sin\\theta.$$\n",
    "\n",
    "These are the usual formulas for performing a change of coordinate between two-dimensional Cartesian coordinates and  polar coordinates, as shown below.  The radial coordinate is $r$, and from its definition we can see that it is equal to what we have defined as the [magnitude](#magnitude) of the complex number: $r = |z|$.  The azimuthal coordinate $\\theta$ is called the **argument** of the complex number, which we sometimes denote by $\\mathrm{arg}(z)$.\n",
    "\n",
    "<img src=\"img/complex_plane_2.png\" alt=\"The complex plane.\" width=\"30%\"></img>\n",
    "\n",
    "Using [Euler's formula](#euler_formula), we can write\n",
    "\n",
    "$$\\begin{align}z &= r\\cos(\\theta) + i r\\sin(\\theta)\\\\&= r \\left[\\cos(\\theta) + i \\sin(\\theta)\\right] \\\\&= r \\, e^{i\\theta}.\\end{align}$$\n",
    "\n",
    "This tells us that whenever we can manipulate a complex number into a form $A e^{iB}$, where $A$ and $B$ are real numbers, then $A$ is the magnitude and $B$ is the argument.  This is used in the following example:\n",
    "\n",
    "<table width=75% style=\"font-size: 100%; border: 1px solid gray;\">\n",
    "<tr><td style=\"text-align:left\">**Example**</td></tr>\n",
    "<tr><td style=\"text-align:left\">For $z \\in \\mathbb{C}$, it can be shown that the magnitude and argument of $\\exp(z)$ are:<br/>$$\\displaystyle\\left|\\exp(z)\\right| = e^{\\mathrm{Re}(z)}, \\quad \\mathrm{arg}\\left[\\exp(z)\\right] = \\mathrm{Im}(z).$$<br/>Proof: Let $z = x + i y$, where $x, y \\in \\mathbb{R}$; then<br/>$$e^{z} = e^{x + i y} = e^x \\, e^{iy}.$$<br/>By inspection, the magnitude of this complex number is $e^x$, and its argument is $y$.</td></tr></table>\n",
    "\n",
    "Note, by the way, that the complex number zero, $z = 0$, has zero magnitude and *undefined* argument."
   ]
  },
  {
   "cell_type": "code",
   "execution_count": 1,
   "metadata": {},
   "outputs": [
    {
     "name": "stdout",
     "output_type": "stream",
     "text": [
      "z           =  (1.5+0.4j)\n",
      "|exp(z)|    =  4.48168907034\n",
      "exp[Re(z)]  =  4.48168907034\n",
      "arg[exp(z)] =  0.4\n",
      "Im(z)]      =  0.4\n"
     ]
    }
   ],
   "source": [
    "## Verify the above example numerically:\n",
    "from scipy import exp, angle\n",
    "\n",
    "z = 1.5+0.4j\n",
    "print('z           = ', z)\n",
    "print('|exp(z)|    = ', abs(exp(z)))\n",
    "print('exp[Re(z)]  = ', exp(z.real))\n",
    "print('arg[exp(z)] = ', angle(exp(z)))\n",
    "print('Im(z)]      = ', z.imag)"
   ]
  },
  {
   "cell_type": "markdown",
   "metadata": {},
   "source": [
    "### Geometrical interpretation of complex operations\n",
    "\n",
    "Using the complex plane, we can give useful geometric interpretations to the basic operations on complex numbers: \n",
    "\n",
    "<ul><li>Addition of two complex numbers can be interpreted as the addition of two coordinate vectors. If $z_1 = x_1 + i y_1$ and $z_2 = x_2 + i y_2$, then<br/>$$z_1 + z_2 = \\left(x_1 + x_2\\right) + i\\left(y_1 + y_2\\right).$$<br/>Hence, the point corresponding to $z_1 + z_2$ is obtained by adding the two coordinate vectors corresponding to $z_1$ and $z_2$. From this, we can geometrically prove a useful inequality relation between complex numbers, called the \"triangle inequality\":<br/>$$|z_1 + z_2| \\le |z_1| + |z_2|.$$</li>\n",
    "<li>Complex multiplication can be interpreted as a scaling together with a rotation.  If $z_1 = r_1e^{i\\theta_1}$ and $z_2 = r_2e^{i\\theta_2}$, then<br/>$$z_1 z_2 = \\left(r_1 r_2\\right) \\,\\exp[i(\\theta_1 + \\theta_2)].$$<br/>Hence, the point corresponding to $z_1 \\, z_2$ is obtained by scaling the $z_1$ coordinate vector by a factor of $|z_2|$, and rotating it by an angle of $\\theta_2$ around the origin.  In particular, multiplication by $e^{i\\theta}$ is equivalent to a pure rotation of angle $\\theta$.</li>\n",
    "<li>[Complex conjugation](#conjugate) is equivalent to reflection about the real axis.  This moves a point from the \"upper half\" of the complex plane to the \"lower half\", or vice versa.</li></ul>"
   ]
  },
  {
   "cell_type": "markdown",
   "metadata": {},
   "source": [
    "## Complex functions\n",
    "\n",
    "When deriving [Euler's formula](#euler_formula), we introduced **complex functions** that were defined by taking [real mathematical functions](00_mathfunctions.ipynb), such as the [exponential function](00_mathfunctions.ipynb#exponential), and making them accept complex number inputs.  Let us take a closer look at how these complex functions behave.\n",
    "\n",
    "### Complex trigonometric functions<a name=\"complex_sin_cos\"></a>\n",
    "\n",
    "When we derived [Euler's formula](#euler_formula), we noted that it is valid for arbitrary real numbers:\n",
    "\n",
    "$$\\exp(iz) = \\cos(z) + i \\sin(z), \\quad \\mathrm{for}\\;\\;z\\in\\mathbb{C}.$$\n",
    "\n",
    "The cosine and sine functions on the right-hand side of this equation are *complex* trigonometric functions, defined using the same [series expansions](01_derivatives.ipynb#taylor_useful) as the real cosine and sine functions, except that the inputs $z$ are allowed to be complex numbers:\n",
    "\n",
    "$$\\left\\{\\begin{array}{l}\\displaystyle\\sin(z) = z - \\frac{z^3}{3!} + \\frac{z^5}{5!} - \\frac{z^7}{7!} + \\cdots\\\\ \\displaystyle\\cos(z) = 1 - \\frac{z^2}{2!} + \\frac{z^4}{4!} - \\frac{z^6}{6!} + \\cdots,\\end{array}\\right.\\quad\\quad z\\in \\mathbb{C}$$\n",
    "\n",
    "It is important to note that the *outputs* of the complex trigonometric functions are complex numbers too. Therefore, some of the familiar properties of the real trigonometric functions don't apply.  For instance, $|\\sin(z)|$ and $|\\cos(z)|$ are *not* bounded by 1 when $z$ is not real. For example,\n",
    "\n",
    "$$\\Big|\\sin(i)\\Big| \\;=\\; 1.1752\\dots \\; >\\; 1.$$\n",
    "\n",
    "We can also write the complex cosine and sine functions in terms of the exponential:\n",
    "\n",
    "$$\\begin{aligned}\\cos(z) &= \\;\\;\\frac{1}{2}\\left(e^{iz} + e^{-iz}\\right) \\\\\n",
    "\\sin(z) &= -\\frac{i}{2}\\left(e^{iz} - e^{-iz}\\right).\\end{aligned}$$\n",
    "\n",
    "This is often a convenient step when solving integrals, as shown in the following example.\n",
    "\n",
    "<table width=75% style=\"font-size: 100%; border: 1px solid gray;\">\n",
    "<tr><td style=\"text-align:left\">**Example**</td></tr>\n",
    "<tr><td style=\"text-align:left\">Consider the (real) integral<br/>$$I = \\int_0^\\infty dx \\; e^{- x} \\, \\cos(x).$$<br/>One way to solve this is to use [integration by parts](02_integrals.ipynb#integration_by_parts), but another way is to use the complex expansion of the cosine function:<br/>$$\\begin{align}I &= \\int_0^\\infty dx \\; e^{- x} \\,\\frac{1}{2}\\, \\left[e^{ix} + e^{-ix}\\right] \\\\ &= \\frac{1}{2} \\int_0^\\infty dx \\; \\left[e^{(-1+i)x} + e^{(-1-i)x}\\right] \\\\ &= \\frac{1}{2} \\left[ \\frac{e^{(-1+i) x}}{-1+i} + \\frac{e^{(-1 - i) x}}{-1 - i}\\right]_0^\\infty \\\\ &= -\\frac{1}{2} \\left(\\frac{1}{-1+i} + \\frac{1}{-1 - i}\\right) \\\\ &= \\frac{1}{2}.\\end{align}$$</td></tr></table>"
   ]
  },
  {
   "cell_type": "markdown",
   "metadata": {},
   "source": [
    "<a name=\"complex_trigonometric\"></a>\n",
    "### Complex trigonometric identities\n",
    "\n",
    "Euler's formula provides a convenient way to deal with trigonometric functions.  Consider the addition formulas\n",
    "\n",
    "$$\\begin{align}\\sin(z_1 + z_2) &= \\sin(z_1) \\cos(z_2) + \\cos(z_1)\\sin(z_2) \\\\ \\cos(z_1 + z_2) &= \\cos(z_1) \\cos(z_2) - \\sin(z_1)\\sin(z_2).\\end{align}$$\n",
    "\n",
    "As [discussed previously](00_mathfunctions.ipynb#trigonometric), the standard proofs for these formulas are geometric: you draw a figure, and solve a bunch of relations between the angles and sides of the various triangles, making use of the Pythagorean formula. But using the Euler formula, we can prove these algebraically.  For example,\n",
    "\n",
    "$$\\begin{align}\\cos(z_1)\\cos(z_2) &= \\frac{1}{4}\\left(e^{iz_1} + e^{-iz_1}\\right) \\left(e^{iz_2} + e^{-iz_1}\\right)\\\\&= \\frac{1}{4}\\left[e^{i(z_1+z_2)} + e^{i(-z_1 + z_2)} + e^{i(z_1 -z_2)} + e^{-i(z_1+z_2)}\\right] \\\\ \\sin(z_1)\\sin(z_2) &= -\\frac{1}{4}\\left(e^{iz_1} - e^{-iz_1}\\right) \\left(e^{iz_2} - e^{-iz_1}\\right) \\\\ &= -\\frac{1}{4}\\left[e^{i(z_1+z_2)} - e^{i(-z_1 + z_2)} - e^{i(z_1 -z_2)} + e^{-i(z_1+z_2)}\\right].\\end{align}$$\n",
    "\n",
    "Thus,\n",
    "\n",
    "$$\\cos(z_1) \\cos(z_2) - \\sin(z_1)\\sin(z_2) = \\frac{1}{2}\\left[e^{i(z_1+z_2)} + e^{-i(z_1+z_2)}\\right] = \\cos(z_1 + z_2).$$\n",
    "\n",
    "As a bonus, these addition formulas now hold for complex inputs as well, not just real inputs.  Higher-order trigonometric addition formulas can be derived in a similar way."
   ]
  },
  {
   "cell_type": "markdown",
   "metadata": {},
   "source": [
    "### Hyperbolic functions\n",
    "\n",
    "Euler's formula also provides us with a link between the trionometric and hyperbolic functions.  From the definition of the [hyperbolic functions](00_mathfunctions.ipynb#hyperbolic):\n",
    "\n",
    "$$\\sinh(z) = \\frac{1}{2}\\left(e^{z} - e^{-z}\\right), \\quad\\; \\cosh(z) = \\frac{1}{2}\\left(e^{z} + e^{-z}\\right)$$\n",
    "\n",
    "Compare this to [our above definition of the complex trigonometric functions](#complex_trigonometric):\n",
    "\n",
    "$$\\sin(z) = -\\frac{i}{2}\\left(e^{iz} - e^{-iz}\\right), \\;\\;\\; \\cos(z) = \\;\\;\\frac{1}{2}\\left(e^{iz} + e^{-iz}\\right)$$\n",
    "\n",
    "From this, we can see that the trigonometric and hyperbolic functions are related by\n",
    "\n",
    "$$\\begin{aligned}\\sin(z) &= -i \\sinh(iz), \\quad \\cos(z) = \\cosh(iz) \\\\ \\sinh(z) &= -i \\sin(iz), \\quad \\cosh(z) = \\cos(iz)\\end{aligned}$$\n",
    "\n",
    "Using these relations, we can relate the addition formulas for trignometric formulas to the addition formulas for hyperbolic functions, e.g.\n",
    "\n",
    "$$\\begin{align}\\cosh(z_1+z_2) &= \\cos(iz_1 + iz_2) \\\\ &= \\cos(iz_1)\\cos(iz_2) - \\sin(iz_1)\\sin(iz_2) \\\\&= \\cosh(z_1)\\cosh(z_2) + \\sinh(z_1)\\sinh(z_2).\\end{align}$$"
   ]
  },
  {
   "cell_type": "markdown",
   "metadata": {},
   "source": [
    "## Trajectories in the complex plane<a name=\"trajectories\"></a>\n",
    "\n",
    "If we have a function $z(t)$ which takes a real input $t$ and outputs a complex number $z$, it is often useful to plot a curve in the complex plane called the \"parametric trajectory\" of $z$.  Each point on this curve indicates the value of $z$ for a particular value of $t$.  We will give a few examples below.\n",
    "\n",
    "First, consider\n",
    "\n",
    "$$z(t) = e^{i\\omega t}, \\quad \\omega \\in \\mathbb{R}.$$\n",
    "\n",
    "The trajectory is a circle in the complex plane, centered at the origin and with radius 1. To see why, observe that the function has the form $z(t) = r(t)\\,e^{i\\theta(t)}$, where the magnitude (i.e., the distance from the origin) $r(t) = 1$ is a constant, and the argument $\\theta(t) = \\omega t$ varies proportionally with $t$. If $\\omega$ is positive, the argument increases with $t$, so the trajectory is counter-clockwise, as shown below.  If $\\omega$ is negative, the trajectory is clockwise."
   ]
  },
  {
   "cell_type": "code",
   "execution_count": 19,
   "metadata": {},
   "outputs": [
    {
     "data": {
      "application/vnd.jupyter.widget-view+json": {
       "model_id": "69d2b636c294465aa7ec441a2cd4a414"
      }
     },
     "metadata": {},
     "output_type": "display_data"
    }
   ],
   "source": [
    "## Plot the complex plane trajectory of z(t) = exp(i omega t)\n",
    "%matplotlib inline\n",
    "from ipywidgets import interact, FloatSlider\n",
    "from numpy import linspace, sin, cos, pi, exp\n",
    "import matplotlib.pyplot as plt\n",
    "\n",
    "def plot_circle(t, omega):\n",
    "    plt.figure(figsize=(10,5))\n",
    "    plt.axes().set_aspect('equal', 'datalim')\n",
    "\n",
    "    phi = linspace(-pi, pi, 50)\n",
    "    plt.plot(cos(phi), sin(phi), color=\"grey\")  # Plot unit circle as a guide to the eye.\n",
    "\n",
    "    z = exp(1j * omega * t)\n",
    "    plt.plot(z.real, z.imag, 'o', color=\"red\", linewidth=4)\n",
    "    plt.xlabel('Re(z)'); plt.ylim(-1.2, 1.2)\n",
    "    plt.ylabel('Im(z)');\n",
    "    plt.show()\n",
    "\n",
    "interact(plot_circle,\n",
    "         t     = FloatSlider(min=-5., max=5., step=0.2, value=0.),\n",
    "         omega = FloatSlider(min=-2., max=2., step=0.2, value=1.));"
   ]
  },
  {
   "cell_type": "markdown",
   "metadata": {},
   "source": [
    "<a name=\"complex_spiral\"></a>\n",
    "\n",
    "Next, consider\n",
    "\n",
    "$$z(t) = e^{(\\gamma + i \\omega) t},$$\n",
    "\n",
    "where $\\gamma,\\omega \\in \\mathbb{R}.$ For $\\gamma = 0$, this reduces to the previous example.  For $\\gamma \\ne 0$, the trajectory is a spiral.  To see this, we again observe that this function can be written in the form\n",
    "\n",
    "$$z(t) = r(t) \\;e^{i\\theta(t)},$$\n",
    "\n",
    "where $r(t) = e^{\\gamma t}$ and $\\theta = \\omega t.$  Similar to the previous example, the argument varies proportionally with $t$, so the trajectory loops around the origin.  What's different is that the magnitude (i.e., the distance from the origin) now either increases or decreases exponentially with $t$, depending on the sign of $\\gamma$. If $\\gamma$ and $\\omega$ are both positive, then the trajectory is an anticlockwise spiral moving outwards from the origin.  You should work out for yourself how and why the trajectory behaves if we flip the signs of $\\gamma$ and/or $\\omega$."
   ]
  },
  {
   "cell_type": "code",
   "execution_count": 15,
   "metadata": {},
   "outputs": [
    {
     "data": {
      "application/vnd.jupyter.widget-view+json": {
       "model_id": "acb2be70d2a9476cbe5192f779a2ce25"
      }
     },
     "metadata": {},
     "output_type": "display_data"
    }
   ],
   "source": [
    "## Plot the above complex plane trajectory\n",
    "%matplotlib inline\n",
    "from ipywidgets import interact, FloatSlider\n",
    "from numpy import linspace, exp, sin, cos, pi\n",
    "import matplotlib.pyplot as plt\n",
    "\n",
    "def plot_spiral(t,omega, gamma):\n",
    "    plt.figure(figsize=(10,5))\n",
    "    plt.axes().set_aspect('equal')\n",
    "    ## Plot the point z at the specific t\n",
    "    z = exp((gamma + 1j * omega) * t)\n",
    "    plt.plot(z.real, z.imag, 'o', color=\"red\", linewidth=4)\n",
    "    ## Plot the trajectory over a range of t, as a guide to the eye\n",
    "    t1 = linspace(-30, 30, 1000);  z1 = exp((gamma + 1j * omega) * t1)\n",
    "    plt.plot(z1.real, z1.imag, color=\"grey\")\n",
    "    plt.xlabel('Re(z)'); plt.xlim(-5., 5.)\n",
    "    plt.ylabel('Im(z)'); plt.ylim(-5., 5.)\n",
    "    plt.show()\n",
    "\n",
    "interact(plot_spiral,\n",
    "         t     = FloatSlider(min=-6.0, max=6.0, step=0.1,  value=0.0),\n",
    "         omega = FloatSlider(min=-2.0, max=2.0, step=0.2,  value=1.0),\n",
    "         gamma = FloatSlider(min=-0.3, max=0.3, step=0.05, value=0.1));"
   ]
  },
  {
   "cell_type": "markdown",
   "metadata": {},
   "source": [
    "Finally, consider\n",
    "\n",
    "$$z(t) = \\frac{1}{t + ib}, \\quad b \\in \\mathbb{R}.$$\n",
    "\n",
    "This trajectory is a circle which passes through the origin, as shown below.  The center of the circle is located at $z_0 = -i/(2b)$. Showing this requires a bit of ingenuity, and is left as an [exercise](#exercises).  (This is an example of something called a [Möbius transformation](http://en.wikipedia.org/wiki/M%C3%B6bius_transformation).)"
   ]
  },
  {
   "cell_type": "code",
   "execution_count": 14,
   "metadata": {},
   "outputs": [
    {
     "data": {
      "application/vnd.jupyter.widget-view+json": {
       "model_id": "4fc352143b8447b9a93f6e9cfb2f47b1"
      }
     },
     "metadata": {},
     "output_type": "display_data"
    }
   ],
   "source": [
    "## Plot the above complex plane trajectory\n",
    "%matplotlib inline\n",
    "from ipywidgets import interact, FloatSlider\n",
    "from numpy import linspace, exp, sin, cos, pi\n",
    "import matplotlib.pyplot as plt\n",
    "\n",
    "def plot_moebius(t, b):\n",
    "    rlim = 4.0\n",
    "    plt.figure(figsize=(10,5))\n",
    "    plt.axes().set_aspect('equal')\n",
    "    if abs(b) > 1e-6: # Avoid errors for b = 0\n",
    "        z = 1./(t + 1j * b)\n",
    "        plt.plot(z.real, z.imag, 'o', color=\"#e20000\", linewidth=4)\n",
    "        ## Plot overall trajectory via Mobius transform (see Exercises)\n",
    "        phi = linspace(-pi, pi, 40)\n",
    "        z0 = -0.5j/b*(1 + exp(1j*phi))\n",
    "        plt.plot(z0.real, z0.imag, color=\"#a2a2a2\", linewidth=2)\n",
    "    ## Plot guides to the eye, axis labels, etc.\n",
    "    plt.plot([-rlim, rlim], [0., 0.], \"--\", color=\"grey\")\n",
    "    plt.plot([0., 0.], [-rlim, rlim], \"--\", color=\"grey\")\n",
    "    plt.xlabel('Re(z)'); plt.xlim(-rlim, rlim)\n",
    "    plt.ylabel('Im(z)'); plt.ylim(-rlim, rlim)\n",
    "    plt.show()\n",
    "\n",
    "interact(plot_moebius,\n",
    "         t = FloatSlider(min=-5., max=5.0, step=0.1, value=0.0),\n",
    "         b = FloatSlider(min=-1.6, max=1.6, step=0.1, value=0.5));"
   ]
  },
  {
   "cell_type": "markdown",
   "metadata": {},
   "source": [
    "## Why complex numbers?\n",
    "\n",
    "Integers and real numbers have intuitive connections to the phenomena we experience in everyday life, such as the counting of discrete objects, or measuring lengths and weights. By contrast, complex numbers seem to be a mathematical abstraction that has little to do with the physical world. Why should we study them?\n",
    "\n",
    "Here is another related question that might have occurred to you: if we extend the concept of numbers to complex numbers, why stop here?  Could we usefully extend the concept further, and formulate other abstract number systems that are even more complicated?\n",
    "\n",
    "To answer these questions, let's return to our earlier observation that complex numbers can be manipulated using the same rules of algebra as real numbers. We can use them to add, subtract, multiply, and divide (apart from division by zero), without running into any logical inconsistencies.\n",
    "\n",
    "Complex algebra does, however, lack one important feature of real algebra: it only handles *equations*, not *inequality relations*. Real numbers have a property called \"ordering\", meaning that for any two real numbers $a$ and $b$, one and only one of the following is true:\n",
    "\n",
    "$$a < b \\;\\; \\mathrm{OR} \\;\\; a = b \\;\\; \\mathrm{OR}\\;\\; a > b.$$\n",
    "\n",
    "In geometrical terms, these ordering relations exist because the real numbers reside along a one-dimensional line.  By contrast, complex numbers don't reside along a line, but within a [two-dimensional plane](complex_plane).  Therefore, it is nonsensical to write something like $z_1 < z_2$, where $z_1$ and $z_2$ are complex numbers.  (However, it is valid to write $|z_1| < |z_2|$, since magnitudes are real.)\n",
    "\n",
    "On the other hand, complex numbers possess a very important feature that real numbers lack: they are *algebraically closed*. This means that every complex polynomial equation has solution(s) in $\\mathbb{C}$.  The set of real numbers, $\\mathbb{R}$, lacks this property: there are certain real algebraic equations we can write down, like $x^2 + 1 = 0$, which have no solution in $\\mathbb{R}$.  The \"closure\" property of $\\mathbb{C}$ is so important that it's called the [Fundamental Theorem of Algebra](https://en.wikipedia.org/wiki/Fundamental_theorem_of_algebra).  This theorem implies that $\\mathbb{C}$ cannot be generalized to a more complicated number system in the same way we extended $\\mathbb{R}$ into $\\mathbb{C}$.\n",
    "\n",
    "There do exist number systems more complicated than the complex numbers, which are formulated by discarding one or more of the rules of algebra.  The [quaternions](https://en.wikipedia.org/wiki/Quaternion) are a number system where each quaternionic number has four real components. Quaternions obey a non-commutative algebra where, generally, $ab \\ne ba$.  The [octonions](https://en.wikipedia.org/wiki/Octonion) are an even more complicated number system; they have eight components, and are both non-commutative and non-associative, so that generally $(ab)c \\ne a(bc)$.  These and other still-more-complicated number systems have some applications in physics and other fields, but are overall much less important than $\\mathbb{C}$.\n",
    "\n",
    "One big reason that complex numbers are so important and useful, compared to the quaternions and octonions, is that it's easy to formulate a version of calculus for them (i.e., complex derivatives and complex integrals).  The study of smooth complex functions, and their derivatives and integrals, is called **complex analysis**, and is a subject that we will [discuss extensively in this course](06_complex_derivatives.ipynb).  By contrast, since quaternions and octonions are not commutative, the concept of \"derivative\" becomes tricky to define for these number systems, which makes it harder to formulate a useful calculus."
   ]
  },
  {
   "cell_type": "markdown",
   "metadata": {},
   "source": [
    "<a name=\"exercises\"></a>\n",
    "## Exercises\n",
    "\n",
    "<ol>\n",
    "<li>Let $z = x + iy$, where $x, y \\in \\mathbb{R}$. For each of the following expressions, find (i) the real part, (ii) the imaginary part, (iii) the magnitude, and (iv) the complex argument, in terms of $x$ and $y$:<ol style=\"list-style-type:lower-alpha\"> <li>&nbsp;$z^2$</li> <li>&nbsp;$1/z$</li>  <li>&nbsp;$\\exp(z)$</li> <li>&nbsp;$\\exp(iz)$</li>  <li>&nbsp;$\\cos(z)$</li></li></ol>\n",
    "</li>\n",
    "<li>Show that $|z_1 z_2| = |z_1|\\, |z_2|$, by using (i) the polar representation, and (ii) the Cartesian representation.\n",
    "</li>\n",
    "<li>Show that $(z_1 z_2)^* = z_1^* z_2^*$, by using (i) the polar representation, and (ii) the Cartesian representation.\n",
    "</li>\n",
    "<li>Identify the problem with this chain of equations: $-1 = i \\cdot i = \\sqrt{-1}\\,\\sqrt{-1} = \\sqrt{-1 \\cdot -1} = \\sqrt{1} = 1.$</li>\n",
    "<li>With the aid of Euler's formula, prove that<br/>&nbsp;&nbsp;&nbsp;$\\cos(3x) = 4[\\cos(x)]^3 -3\\cos(x)$<br/>&nbsp;&nbsp;&nbsp;$\\sin(3x) = 3\\sin(x)-4[\\sin(x)]^3$</li>\n",
    "<li>For $z_1, z_2 \\in \\mathbb{C}$ and $\\theta \\in \\mathbb{R}$, show that $\\mathrm{Re}\\left[z_1 e^{i\\theta} + z_2 e^{-i\\theta}\\right] = A \\cos(\\theta) + B \\sin(\\theta)$, for some $A, B \\in \\mathbb{R}$.  Find explicit expressions for $A$ and $B$ in terms of $z_1$ and $z_2$.</li>\n",
    "<li>In the [complex plane](#complex_plane), the conjugation operation corresponds to a reflection about the real axis.  What operation corresponds to a reflection about the imaginary axis?</li>\n",
    "<li>Consider the complex function of a real variable $z(t) = 1/(\\alpha t + \\beta)$, where $\\alpha, \\beta \\in \\mathbb{C}$ and $t \\in \\mathbb{R}$.<ol style=\"list-style-type:lower-alpha\"><li>For $\\alpha = 1$ and $\\beta = i$, show that $z(t)$ can be re-expressed as $z(s) = (1+e^{is})/(2i)$, where $s \\in (-\\pi,\\pi)$. Hint: find a real mapping $t(s)$.</li><li>Hence, show that the trajectory for arbitrary complex values of $\\alpha,\\, \\beta$ has the form of a circle.</li></ol></li>\n",
    "<li>With the help of a computer plotting program, generate complex trajectories for the following functions (for real inputs $t \\in\\mathbb{R}$).  Explain their key features, including the directions of the trajectories:<ol style=\"list-style-type:lower-alpha\"><li>$z(t) = \\left[1+\\frac{\\cos(\\beta t)}{2}\\right] \\, \\exp(it)$, for $\\beta = 10$ and for $\\beta = \\sqrt{5}$.</li><li>$z(t) = -it \\pm \\sqrt{1 - t^2}$.</li><li>$z(t) = ae^{it} + be^{-it}$, for $a = 1, b = -2$ and for $a = 1, b = 2$.</li></ol></li>\n",
    "</ol>"
   ]
  }
 ],
 "metadata": {
  "kernelspec": {
   "display_name": "Python 3",
   "language": "python",
   "name": "python3"
  },
  "language_info": {
   "codemirror_mode": {
    "name": "ipython",
    "version": 3
   },
   "file_extension": ".py",
   "mimetype": "text/x-python",
   "name": "python",
   "nbconvert_exporter": "python",
   "pygments_lexer": "ipython3",
   "version": "3.6.5"
  }
 },
 "nbformat": 4,
 "nbformat_minor": 1
}
