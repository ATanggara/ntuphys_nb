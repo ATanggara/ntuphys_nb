{
 "cells": [
  {
   "cell_type": "markdown",
   "metadata": {},
   "source": [
    "# 5. Complex Waves\n",
    "\n",
    "Complex numbers are extremely useful for describing the propagation of waves. This includes electromagnetic waves (radio waves, visible light, X-rays, etc.), sound waves, quantum mechanical wavefunctions, and more. It is therefore very important for physicists to have a good understanding of the complex description of wave phenomena.\n",
    "\n",
    "## The wave equation\n",
    "\n",
    "To describe wave propagation in space and time, we use a [partial differential equation](01_derivatives.ipynb#PDE) (PDE) known as the **time-dependent wave equation**.  For simplicity, we restrict our attention to a single spatial coordinate, denoted $x$.  The time coordinate is denoted $t$. We describe a wave using a function $f(x,t)$, called the **wavefunction**, which specifies the value of some measurable physical quantity at each position $x$ and time $t$.  For instance, for a sound wave $f(x,t)$ stands for the pressure of the air at that position and time.\n",
    "\n",
    "The time-independent wave equation is:\n",
    "\n",
    "$$\\frac{\\partial^2 f}{\\partial x^2} = \\frac{1}{v^2} \\frac{\\partial^2 f}{\\partial t^2}, \\;\\;\\; v \\in\\mathbb{R}^+.$$\n",
    "\n",
    "The parameter $v$, which we currently assume to be a positive real constant, is called the **wave speed**.  The reason for this will shortly become clear.\n",
    "\n",
    "For neatness, we sometimes write the wave equation by putting everything on one side:\n",
    "\n",
    "$$\\left(\\frac{\\partial^2}{\\partial x^2} - \\frac{1}{v^2} \\frac{\\partial^2}{\\partial t^2}\\right) \\; f(x,t) = 0.$$"
   ]
  },
  {
   "cell_type": "markdown",
   "metadata": {},
   "source": [
    "### Real solutions to the wave equation\n",
    "\n",
    "We first consider real solutions to the wave equation. There exists a family of solutions known as **travelling waves**, which have the form\n",
    "\n",
    "$$f(x,t) = f_0 \\, \\cos\\big(kx - \\omega t + \\phi\\big)\\;\\;\\mathrm{where}\\;\\; \\left|\\frac{\\omega}{k}\\right| = v.$$\n",
    "\n",
    "By direct substitution, you can verify that this satisfies the PDE.  Here, $f_0$ is called the **amplitude** of the wave, $\\phi$ is the **phase**, $\\omega$ is the **frequency**, and $k$ is the **wavenumber**. (Note: some authors call $\\omega$ the \"angular frequency\", reserving the term \"frequency\" for the quantity $f = \\omega/2\\pi$.  But we'll simply deal in terms of $\\omega$ rather than $f$, and call $\\omega$ the frequency.)  By convention, we usually take $\\omega > 0$. The frequency and wavenumber are inversely related to the **period** $T = 2\\pi/\\omega$ and the **wavelength** $\\lambda = 2\\pi/|k|$.\n",
    "\n",
    "This solution describes a sinusoidal wave, as shown in the figure below:"
   ]
  },
  {
   "cell_type": "code",
   "execution_count": 1,
   "metadata": {},
   "outputs": [
    {
     "data": {
      "application/vnd.jupyter.widget-view+json": {
       "model_id": "218e866ebe6a4ef7b730203743311bda"
      }
     },
     "metadata": {},
     "output_type": "display_data"
    }
   ],
   "source": [
    "## Plot a wave function versus x, with adjustable t.\n",
    "%matplotlib inline\n",
    "from ipywidgets import interact, FloatSlider\n",
    "from numpy import linspace, cos\n",
    "import matplotlib.pyplot as plt\n",
    "\n",
    "def plot_traveling_wave(t, k, omega, f0, phi):\n",
    "    x  = linspace(0, 20., 150)\n",
    "    y  = f0 * cos(k*x - omega*t + phi)\n",
    "    y0 = f0 * cos(k*x + phi)\n",
    "    plt.figure(figsize=(10,5))\n",
    "    plt.plot(x, y0, color='grey', label=\"f(x,0)\")\n",
    "    plt.plot(x, y,  color='blue', label=\"f(x,t)\")\n",
    "    plt.title(\"Use 't' slider to adjust the time\")\n",
    "    plt.xlabel('x');      plt.xlim(x[0], x[-1])\n",
    "    plt.ylabel('f(x,t)'); plt.ylim(-1.2, 1.2)\n",
    "    plt.legend(loc='lower right')\n",
    "    plt.show()\n",
    "\n",
    "interact(plot_traveling_wave,\n",
    "         t    = FloatSlider(min=0.0,  max=10.0, step=0.1,  value=0.4),\n",
    "         k    = FloatSlider(min=-2.0, max=2.0,  step=0.1,  value=1.0),\n",
    "         omega= FloatSlider(min=1.0,  max=2.0,  step=0.1,  value=1.0),\n",
    "         f0   = FloatSlider(min=0.0,  max=1.0,  step=0.1,  value=1.0),\n",
    "         phi  = FloatSlider(min=0.0,  max=6.28, step=0.02, value=0.0));"
   ]
  },
  {
   "cell_type": "markdown",
   "metadata": {},
   "source": [
    "Observe that the wave moves to the right for positive $k$, or to the left for negative $k$. Here's why: consider a small change in time, $\\delta t$. If, together with this time shift, we change $x$ by $\\delta x = \\omega \\delta t / k$, then the change in the $kx$ term and the change in the $\\omega t$ term in $\\cos(kx - \\omega t + \\phi)$ would cancel each other, leaving the value of the cosine unchanged.  This means that the wave shifts by $\\delta x$ during the time interval $\\delta t$.  The wave velocity is\n",
    "\n",
    "$$\\textrm{velocity} \\; = \\, \\frac{\\delta x}{\\delta t} = \\frac{\\omega \\delta t / k}{\\delta t} = \\frac{\\omega}{k}.$$\n",
    "\n",
    "Note that we have adopted the convention that $\\omega > 0$.  The above equation tells us that the sign of the wave-number determines the propagation direction: positive $k$ means positive wave velocity (a right-moving wave), and negative $k$ means negative wave velocity (a left-moving wave). We can also compute the wave speed by taking the absolute value of the velocity:\n",
    "\n",
    "$$\\textrm{speed}\\; = \\, \\left|\\frac{\\delta x}{\\delta t}\\right| = \\left|\\frac{\\omega}{k}\\right| = v.$$\n",
    "\n",
    "The travelling wave solution is valid for *any* $\\omega > 0$. For sound waves, these different frequencies correspond to the human sensation of pitch. For light waves, the different frequencies correspond to color. Since $|k| = \\omega/v$, higher frequencies correspond to larger wavenumbers, i.e. shorter wavelengths.\n",
    "\n",
    "The wave equation is a **linear** PDE, meaning that any linear superposition of solutions is also a solution.  (You can prove this by direct substitution.) For instance, suppose we have two travelling wave solutions, with equal amplitude and frequency, moving in opposite directions:\n",
    "\n",
    "$$f(x,t) = f_0 \\, \\cos(kx - \\omega t + \\phi_1) + A \\cos(-kx - \\omega t + \\phi_2),$$\n",
    "\n",
    "for some $k = \\omega/c$.  Such a superposition is a solution to the wave equation known as a **standing wave**:\n",
    "\n",
    "$$f(x,t) = 2f_0 \\, \\cos\\big[kx + (\\phi_1-\\phi_2)/2\\big]\\, \\cos\\big[\\omega t - (\\phi_1+\\phi_2)/2\\big].$$\n",
    "\n",
    "This is easily proven for the simplest case, $\\phi_1 = \\phi_2 = 0$.  For arbitrary $\\phi_1, \\phi_2$, the proof involves simple but tedious applications of the trignometric addition formulas."
   ]
  },
  {
   "cell_type": "markdown",
   "metadata": {},
   "source": [
    "### Complex solutions to the wave equation\n",
    "\n",
    "It is much easier to deal with the wave equation if we look at *complex* solutions, by allowing the wavefunction $f(x,t)$ to take on complex values.  (Note: only the value of the wavefunction is complex; we continue to assume that $x$ and $t$ are real.) Since the wave equation is a linear PDE, the real part of any complex solution is a valid real solution:\n",
    "\n",
    "$$\\left(\\frac{\\partial^2}{\\partial x^2} - \\frac{1}{v^2} \\frac{\\partial^2}{\\partial t^2}\\right) f(x,t) = 0 \\;\\;\\;\\Rightarrow \\;\\;\\; \\left(\\frac{\\partial^2}{\\partial x^2} - \\frac{1}{v^2} \\frac{\\partial^2}{\\partial t^2}\\right) \\mathrm{Re}\\left[f(x,t)\\right] = 0.$$\n",
    "\n",
    "There is a very nice set of complex solutions to the wave equation, known as **complex travelling waves**, which take the form\n",
    "\n",
    "$$f(x,t) = A \\, e^{i(kx - \\omega t)} \\quad\\mathrm{where}\\;\\; \\left|\\frac{\\omega}{k}\\right| = v.$$\n",
    "\n",
    "Again, you can verify by direct substitution that this satisfies the PDE.  The complex constant $A$ is called the **complex amplitude** of the wave.\n",
    "\n",
    "Now, consider what happens if we take the real part of the above solution:\n",
    "\n",
    "$$\\begin{aligned}\\mathrm{Re}\\Big\\{A \\, e^{i(kx - \\omega t)}\\Big\\} &= \\mathrm{Re}\\Big\\{ \\left(\\big|A\\big|\\, e^{i\\mathrm{arg}[A]}\\right) \\; e^{i(kx - \\omega t)}\\Big\\} \\\\ &= \\big|A\\big|\\; \\mathrm{Re}\\Big\\{ e^{i\\mathrm{arg}[A]} \\, e^{i(kx - \\omega t)}\\Big\\} \\\\ &= \\big|A\\big|\\; \\cos\\big(kx - \\omega t + \\mathrm{arg}[A]\\big)\\end{aligned}$$\n",
    "\n",
    "Here, we have made use of the [polar representation](03_complex_numbers.ipynb#polar) of the complex amplitude $A$.  Evidently, the magnitude $|A|$ serves as the *real* wave amplitude, while $\\mathrm{arg}(A)$ serves as the phase factor $\\phi$. In this sense, the complex solution is more mathematically succinct: a single complex parameter $A$ combines the roles of two separate parameters in the real solution.\n",
    "\n",
    "The complex representation makes wave superpositions much easier to handle. For example, consider again the superposition of two counter-propagating waves of equal amplitude and frequency, with arbitrary phases. Using complex travelling waves, we can calculate the superposition\n",
    "using a few lines of complex algebra:\n",
    "\n",
    "$$\\begin{aligned}f(x,t) &= \\displaystyle \\big|A\\big| \\, e^{i(kx - \\omega t + \\phi_1)} + \\big|A\\big| \\, e^{i(-kx - \\omega t + \\phi_2)} \\\\ &= \\displaystyle \\big|A\\big|\\, \\left(e^{i(kx + \\phi_1)} + e^{-i(kx - \\phi_2)}\\right)\\, e^{-i\\omega t} \\\\ &= \\displaystyle \\big|A\\big|\\, \\left(e^{i[kx + (\\phi_1-\\phi_2)/2]} + e^{-i[kx + (\\phi_1 - \\phi_2)/2]}\\right)\\, e^{i(\\phi_1 + \\phi_2)/2} \\,e^{-i\\omega t} \\\\ &= \\displaystyle 2\\big|A\\big|\\, \\cos\\left[kx + (\\phi_1-\\phi_2)/2\\right] \\,e^{-i[\\omega t -(\\phi_1+\\phi_2)/2]}\\end{aligned}$$\n",
    "\n",
    "Taking the real part then yields the result that we had previously obtained using trigonometric formulas."
   ]
  },
  {
   "cell_type": "markdown",
   "metadata": {},
   "source": [
    "## Waves in 3D space<a name=\"3dwaves\"></a>\n",
    "\n",
    "The wave equation can be easily generalized to three spatial dimensions.  We replace $f(x,t)$ with a wavefunction that depends on three spatial coordinates, $f(x,y,z,t)$.  The second-order derivative in $x$ is replaced by second-order derivatives in each spatial direction.  The generalized PDE is:\n",
    "\n",
    "$$\\left(\\frac{\\partial^2}{\\partial x^2} + \\frac{\\partial^2}{\\partial y^2} + \\frac{\\partial^2}{\\partial z^2} - \\frac{1}{v^2} \\frac{\\partial^2}{\\partial t^2}\\right) \\; f(x,y,z,t) = 0.$$\n",
    "\n",
    "This PDE supports complex travelling wave solutions of the form\n",
    "\n",
    "$$f(x,y,z,t) = A \\, e^{i(\\vec{k} \\cdot \\vec{r} - \\omega t)},$$\n",
    "\n",
    "where\n",
    "\n",
    "$$\\vec{k} = \\begin{bmatrix}k_x\\\\k_y\\\\k_z\\end{bmatrix}, \\;\\;\\; \\vec{r} = \\begin{bmatrix}x\\\\y\\\\z\\end{bmatrix}, \\;\\;\\;\\frac{\\omega}{\\sqrt{k_x^2 + k_y^2 + k_z^2}} = v.$$\n",
    "\n",
    "Again, you can verify that this is a solution by direct substitution.  We call $\\vec{k}$ the **wave-vector**, which generalizes the wave-number parameter in the solution for 1D space.  The direction of the wave-vector specifies the spatial direction in which the wave travels."
   ]
  },
  {
   "cell_type": "markdown",
   "metadata": {},
   "source": [
    "## Harmonic waves\n",
    "\n",
    "We are often interested in waves undergoing **harmonic oscillation**, i.e. varying sinusoidally with a constant frequency $\\omega$.  Such waves can be described by wavefunctions of the form\n",
    "\n",
    "$$f(x,y,z,t) = \\psi(x,y,z) \\, e^{-i\\omega t}.$$\n",
    "\n",
    "By writing a wavefunction in this form, we are performing a **separation of variables**, which means specializing to solutions consisting of two factors, one depending only on $\\vec{r}$ and the other only on $t$. This is a common method for simplifying PDEs, and is justified by the linearity of the wave equation.  If we can find harmonic solutions for each frequency $\\omega$, then we can linearly combine them to form more general solutions.\n",
    "\n",
    "By direct substitution into the [3D wave equation](#3dwaves), we can show that $\\psi(x)$ satisfies the differential equation\n",
    "\n",
    "$$\\left[\\frac{\\partial^2}{\\partial x^2} + \\frac{\\partial^2}{\\partial y^2} + \\frac{\\partial^2}{\\partial z^2} + \\left(\\frac{\\omega}{v}\\right)^2\\right] \\, \\psi(x,y,z) = 0.$$\n",
    "\n",
    "This is related to the original time-dependent wave equation by the replacement of each $\\partial/\\partial t$ with $-i\\omega$.  Thus, it contains $\\omega$ as a numerical parameter."
   ]
  },
  {
   "cell_type": "markdown",
   "metadata": {},
   "source": [
    "### Waves in complex media<a name=\"complex_media\"></a>\n",
    "\n",
    "So far, our discussion has been limited to waves propagating in a uniform, energy-conserving medium that has a fixed wave speed $v$. There are two important generalizations of this scenario: (i) non-uniform media, in which the wave speed varies with position, and (ii) energy non-conserving media, in which the waves lose or gain energy as they propagate.  To capture these phenomena, we replace the constant $v$ by\n",
    "\n",
    "$$v = \\frac{c}{n},$$\n",
    "\n",
    "where $n$ is called the **refractive index**, and the constant $c$ is the wave speed in the limit $n = 1$.  In the case of electromagnetic waves, $c$ is called the \"speed of light in a vacuum\".\n",
    "\n",
    "If the refractive index is now allowed to vary with position, the wave equation becomes\n",
    "\n",
    "$$\\left[\\frac{\\partial^2}{\\partial x^2} + \\frac{\\partial^2}{\\partial y^2} + \\frac{\\partial^2}{\\partial z^2} + n^2(x,y,z)\\, \\left(\\frac{\\omega}{c}\\right)^2\\right] \\, \\psi(x,y,z) = 0.$$\n",
    "\n",
    "This PDE describes harmonic waves of fixed frequency $\\omega$ propagating within the medium described by $n(x,y,z)$."
   ]
  },
  {
   "cell_type": "markdown",
   "metadata": {},
   "source": [
    "### Wave amplification and attenuation\n",
    "\n",
    "If the refractive index $n$ is allowed to be *complex*, the wave equation can describe **wave amplification** (gain) and **wave attenuation** (loss).  In physics, amplified waves are the underlying basis for lasers, while attenuated waves describe the absorption of light into black objects, or the dissipation of sound into ambient heat. To study these phenomena, let us go back to one-dimensional space and assume that the refractive index is position-independent:\n",
    "\n",
    "$$\\left[\\frac{d^2}{d x^2} + n^2\\, \\left(\\frac{\\omega}{c}\\right)^2\\right] \\, \\psi(x) = 0, \\quad n \\in \\mathbb{C}.$$\n",
    "\n",
    "The solutions to this ODE have the form<a name=\"gainloss_wave\"></a>\n",
    "\n",
    "$$\\psi(x) = A e^{\\pm ikx},\\;\\;\\;\\mathrm{where}\\;\\; A \\in \\mathbb{C}, \\;k = \\frac{n\\omega}{c}.$$\n",
    "\n",
    "As before, we let $\\omega, c \\in \\mathbb{R}^+$.  If $n$ is a complex number with a non-zero imaginary part, then $k$ is likewise complex.  Specifically, if we write\n",
    "\n",
    "$$n = n' + i n'',$$\n",
    "\n",
    "where $n'$ and $n''$ are the real and imaginary parts of the refractive index, then\n",
    "\n",
    "$$\\psi(x) = A e^{\\pm in'(\\omega/c)x}\\, e^{\\mp n''(\\omega/c)x}.$$\n",
    "\n",
    "The first exponential factor describes the oscillation of the wavefunction, with the $\\pm$ sign determining whether the harmonic wave is moving to the right (positive wave-number) or to the left (negative wave-number). The second exponential describes the amplification or attenuation of the wave.  If $n'' \\ne 0$, the amplitude varies exponentially with $x$.  An increase in the direction of propagation describes an amplified wave; a decrease in the direction of propagation describes an attenuated wave. The behavior of the wavefunction can be explored in the plot below."
   ]
  },
  {
   "cell_type": "code",
   "execution_count": 2,
   "metadata": {
    "scrolled": false
   },
   "outputs": [
    {
     "data": {
      "application/vnd.jupyter.widget-view+json": {
       "model_id": "d40699a4541b428b94b4ee03e582f362"
      }
     },
     "metadata": {},
     "output_type": "display_data"
    }
   ],
   "source": [
    "## Plot an amplifying or attenuating wave.\n",
    "%matplotlib inline\n",
    "from ipywidgets import interact, FloatSlider, ToggleButtons\n",
    "from numpy import linspace, exp, sign\n",
    "import matplotlib.pyplot as plt\n",
    "\n",
    "def plot_complex_wave(sgn, n1, n2, omega, absa, arga):\n",
    "    ylim, arrowx, arrowy = 10.0, 1.5, 5.\n",
    "    textx, texty = -2., 6.\n",
    "    A    = absa * exp(1j*arga)\n",
    "    x    = linspace(-10., 10., 200)\n",
    "    \n",
    "    s = 1. if sgn == '+' else -1.\n",
    "\n",
    "    ## Plot the wavefunction\n",
    "    psi = A * exp(1j*s*(n1+1j*n2)*omega*x)\n",
    "    plt.figure(figsize=(10,5))\n",
    "    plt.plot(x, psi.real, color='mediumblue', label=\"Re(psi)\")\n",
    "    plt.plot(x, psi.imag, color='darkorange', label=\"Im(psi)\")\n",
    "\n",
    "    ## Plot the direction of travel as a guide to the eye.\n",
    "    direction = arrowx * s\n",
    "    plt.annotate('', xy=(direction, arrowy),\n",
    "                 xytext=(-direction, arrowy),\n",
    "                 arrowprops=dict(facecolor='red', shrink=0.05))\n",
    "    plt.text(textx, texty, 'Propagation direction', color='red')\n",
    "\n",
    "    ## Axis labels, etc.\n",
    "    plt.title(\"Use 't' slider to adjust the time\")\n",
    "    plt.xlim(x[0], x[-1])\n",
    "    plt.ylim(-ylim, ylim)\n",
    "    plt.xlabel('x')\n",
    "    plt.legend(loc='lower right')\n",
    "    plt.show()\n",
    "\n",
    "interact(plot_complex_wave,\n",
    "         sgn  = ToggleButtons(description='Sign in exponent', options=['+', '-']),\n",
    "         n1   = FloatSlider(min=1.0,   max=4.0,  step=0.1,  value=1.5, description='Re(n)'),\n",
    "         n2   = FloatSlider(min=-0.5,  max=0.5,  step=0.1,  value=0.1, description='Im(n)'),\n",
    "         omega= FloatSlider(min=0.5,   max=2.0,  step=0.1,  value=1.0, description='omega/c'),\n",
    "         absa = FloatSlider(min=0.0,   max=2.0,  step=0.1,  value=1.0, description='|A|'),\n",
    "         arga = FloatSlider(min=-3.14, max=3.14, step=0.01, value=0.0, description='arg(A)'));"
   ]
  },
  {
   "cell_type": "markdown",
   "metadata": {},
   "source": [
    "## Exercises\n",
    "\n",
    "<ol>\n",
    "<li>Consider the 1D wave equation in a enclosed box of length $L$ and uniform refractive index $n\\in\\mathbb{R}$.  Let the walls of the box be at $x = -L/2$ and $x = L/2$, and let the wavefunction go to zero at these points: $\\psi(\\pm L/2) = 0$.  For this boundary conditions, show that $\\psi(x) = 0$ for all $x$, *except* for certain discrete values of the frequency $\\omega$.  Find these frequencies, and the corresponding non-zero solutions $\\psi(x)$.</li>\n",
    "<li>\n",
    "What determines whether the [travelling-wave solution](#gainloss_wave) is amplified, rather than attenuated? Can a wave equation with given complex refractive index $n$ possess both amplified wave solutions and attenuated wave solutions?</li>\n",
    "<li>\n",
    "When the refractive index is complex, can the real part of the complex wavefunction be regarded as the solution to the same wave equation? If not, derive a real differential equation whose solution is the real part of the [complex travelling wave solution](#gainloss_wave).</li>\n",
    "</ol>"
   ]
  }
 ],
 "metadata": {
  "kernelspec": {
   "display_name": "Python 3",
   "language": "python",
   "name": "python3"
  },
  "language_info": {
   "codemirror_mode": {
    "name": "ipython",
    "version": 3
   },
   "file_extension": ".py",
   "mimetype": "text/x-python",
   "name": "python",
   "nbconvert_exporter": "python",
   "pygments_lexer": "ipython3",
   "version": "3.6.6"
  }
 },
 "nbformat": 4,
 "nbformat_minor": 1
}
