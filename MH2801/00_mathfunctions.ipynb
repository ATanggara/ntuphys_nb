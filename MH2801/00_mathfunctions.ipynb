{
 "cells": [
  {
   "cell_type": "markdown",
   "metadata": {
    "ein.tags": [
     "worksheet-0"
    ],
    "slideshow": {
     "slide_type": "-"
    }
   },
   "source": [
    "# 0. Mathematical Functions\n",
    "\n",
    "This is a course on complex methods in the physical sciences. Before dealing with complex numbers, however, let us undertake a brief review of real mathematical functions and their properties.\n",
    "\n",
    "## Real functions\n",
    "\n",
    "A mathematical function, denoted $f$, takes an **input** $x$ (which is also called an **argument**), and returns an **output** $f(x)$. For now, we consider the case where both $x$ and $f(x)$ are real numbers. The set of possible inputs is the function's **domain**, and the set of possible outputs is the **range**.\n",
    "\n",
    "Every function must have a well-defined output: for any $x$ in the domain, $f(x)$ must be a specific, unambiguous number. In other words, a function must be either a one-to-one (injective) mapping or a many-to-one mapping; the mapping cannot be one-to-many or many-to-many:\n",
    "\n",
    "<img src=\"img/mathfunctions.png\" alt=\"Figure of one-to-one, many-to-one, and one-to-many mappings.\">\n",
    "\n",
    "Simple examples of functions are those based on elementary algebra operations:\n",
    "\n",
    "$$f(x) = x + 2 \\,\\;\\;\\qquad\\qquad \\text{(a one-to-one function)}$$\n",
    "$$f(x) = x^2 + 2x + 4 \\qquad \\text{(a many-to-one function)}$$\n"
   ]
  },
  {
   "cell_type": "markdown",
   "metadata": {
    "ein.tags": [
     "worksheet-0"
    ],
    "slideshow": {
     "slide_type": "-"
    }
   },
   "source": [
    "<a name=\"exponential\"></a>\n",
    "## The exponential function\n",
    "\n",
    "The exponential function, denoted by \"$\\exp$\", is one of the most important functions in mathematics. We will deal with it numerous times, in many different contexts.\n",
    "\n",
    "To motivate its definition, let us start by thinking about what it means to take a number $x$ to the power of $y$:\n",
    "\n",
    "$$f(x) = x^y.$$\n",
    "\n",
    "For values of $y$ in the natural numbers $\\mathbb{N} \\equiv \\{1,2,3,\\dots\\}$, the power operation simply means multiplying $x$ by itself $y$ times.  For example, $x^4 = x \\cdot x \\cdot x \\cdot x$.  But what about non natural number powers, like $x^{-1}$ or $x^{1/2}$ or $x^{\\pi}$?\n",
    "\n",
    "To help answer this question, we define the exponential function as the following limiting infinite series:\n",
    "\n",
    "$$\\exp(x) \\equiv 1 + \\sum_{n=1}^\\infty\\frac{x^n}{n!}, \\quad\\mathrm{for}\\;\\, x \\in \\mathbb{R}.$$\n",
    "\n",
    "Note that the infinite series in this definition uses natural number powers only.  The domain of this function is the set of real numbers, $\\mathbb{R}$, and its range is the set of positive numbers, $\\mathbb{R}^+$.\n",
    "\n",
    "In Python, you can compute the exponential using the [`exp`](https://docs.scipy.org/doc/numpy/reference/generated/numpy.exp.html) function, which is defined in the Numpy (Numeric Python) package, as shown in the following example:"
   ]
  },
  {
   "cell_type": "code",
   "execution_count": 1,
   "metadata": {},
   "outputs": [
    {
     "name": "stdout",
     "output_type": "stream",
     "text": [
      "7.38905609893065\n",
      "7.266666666666667\n"
     ]
    }
   ],
   "source": [
    "from numpy import exp\n",
    "\n",
    "x = 2.0\n",
    "\n",
    "## Print the value of exp(x)\n",
    "print(exp(x))\n",
    "\n",
    "## Compare this to the first few orders of the series expansion:\n",
    "print(1 + x + x**2/2 + x**3/6 + x**4/24 + x**5/120)"
   ]
  },
  {
   "cell_type": "markdown",
   "metadata": {},
   "source": [
    "In the above example, try altering the value of $x$ and see how the outputs change.  (When you encounter other Python examples in these notebooks, feel free to play around with them similarly.)\n",
    "\n",
    "Here is a graph of the exponential function:\n",
    "<a name=\"exponential_plot\"></a>"
   ]
  },
  {
   "cell_type": "code",
   "execution_count": 16,
   "metadata": {
    "autoscroll": "json-false",
    "ein.tags": [
     "worksheet-0"
    ],
    "scrolled": true,
    "slideshow": {
     "slide_type": "-"
    }
   },
   "outputs": [
    {
     "data": {
      "image/png": "[encoded data removed]",
      "text/plain": [
       "<Figure size 720x360 with 1 Axes>"
      ]
     },
     "metadata": {
      "needs_background": "light"
     },
     "output_type": "display_data"
    }
   ],
   "source": [
    "## Plot the exponential function\n",
    "%matplotlib inline\n",
    "from numpy import linspace, exp\n",
    "import matplotlib.pyplot as plt\n",
    "\n",
    "x = linspace(-4, 4, 200)   # Array of 200 numbers from -5 to 5\n",
    "y = exp(x)                 # The corresponding values of the exp function\n",
    "\n",
    "plt.figure(figsize=(10,5))\n",
    "plt.plot(x, y)\n",
    "plt.xlabel('x'); plt.ylabel('exp(x)');\n",
    "plt.show()"
   ]
  },
  {
   "cell_type": "markdown",
   "metadata": {
    "ein.tags": [
     "worksheet-0"
    ],
    "slideshow": {
     "slide_type": "-"
    }
   },
   "source": [
    "<a name=\"exponential_properties\"></a>\n",
    "From the above, we see that the exponential has several noteworthy features:\n",
    "\n",
    "1. The value of $\\exp(x)$ increases *extremely* quickly with increasing $x$.  Going in the other direction, the value approaches zero very quickly with decreasing $x$.\n",
    "2. $\\exp(0) = 1$. (This follows from the definition of the exponential.)\n",
    "3. For all $x, y \\in \\mathbb{R}$, $$\\exp(x+y) = \\exp(x)\\,\\exp(y)$$ ([Try proving this as an exercise](#exercises). The key ingredients for the proof are (i) the above definition of the exponential and (ii) the binomial theorem.)\n",
    "4. As a corollary of properties 2 and 3, $$\\exp(-x) = 1/\\exp(x).$$.\n"
   ]
  },
  {
   "cell_type": "markdown",
   "metadata": {
    "ein.tags": [
     "worksheet-0"
    ],
    "slideshow": {
     "slide_type": "-"
    }
   },
   "source": [
    "## The logarithm function\n",
    "\n",
    "Since the exponential is a one-to-one function, its inverse is a well-defined function.  We call this the **natural logarithm**:\n",
    "\n",
    "$$\\ln(x) \\equiv y \\;\\; \\mathrm{such}~\\mathrm{that}\\; \\exp(y) = x.$$\n",
    "\n",
    "For brevity, we will henceforth use \"logarithm\" to refer to the natural logarithm, unless otherwise stated (the \"non-natural\" logarithms are not our concern in this course). The domain of the logarithm is $y \\in \\mathbb{R}^+$, and its range is $\\mathbb{R}$.\n",
    "\n",
    "In Python, the logarithm can be computed using [`log`](https://docs.scipy.org/doc/numpy/reference/generated/numpy.log.html) from the Numpy module, as shown in the following example:"
   ]
  },
  {
   "cell_type": "code",
   "execution_count": 17,
   "metadata": {
    "autoscroll": "json-false",
    "ein.tags": [
     "worksheet-0"
    ],
    "slideshow": {
     "slide_type": "-"
    }
   },
   "outputs": [
    {
     "data": {
      "image/png": "[encoded data removed]",
      "text/plain": [
       "<Figure size 432x288 with 1 Axes>"
      ]
     },
     "metadata": {
      "needs_background": "light"
     },
     "output_type": "display_data"
    }
   ],
   "source": [
    "## Plot the natural logarithm function\n",
    "%matplotlib inline\n",
    "from numpy import linspace, log\n",
    "import matplotlib.pyplot as plt\n",
    "\n",
    "x = linspace(1e-3, 5.0, 200)\n",
    "y = log(x)\n",
    "\n",
    "plt.plot(x, y)\n",
    "plt.plot([0., xlim], [0., 0.], '--')   # Plot horizontal dashes at x = 0\n",
    "plt.xlabel('x'); plt.ylabel('ln(x)')\n",
    "plt.show()"
   ]
  },
  {
   "cell_type": "markdown",
   "metadata": {
    "ein.tags": [
     "worksheet-0"
    ],
    "slideshow": {
     "slide_type": "-"
    }
   },
   "source": [
    "In the above graph, observe that $\\ln(x)$ increases extremely slowly with $x$, which is precisely the opposite of the exponential's behavior.\n",
    "\n",
    "Using the [previously-defined properties of the exponential](#exponential_properties), we can prove that the logarithm satisfies the product and quotient rules\n",
    "\n",
    "$$\\begin{aligned}\\ln(xy) &= \\ln(x) + \\ln(y) \\\\ \\ln(x/y) &= \\ln(x) - \\ln(y)\\end{aligned}$$"
   ]
  },
  {
   "cell_type": "markdown",
   "metadata": {
    "ein.tags": [
     "worksheet-0"
    ],
    "slideshow": {
     "slide_type": "-"
    }
   },
   "source": [
    "<a name=\"powers\"></a>\n",
    "## Non-natural powers\n",
    "\n",
    "Having defined the exponential and logarithm, we have the tools needed to address the issue raised earlier, i.e. how to define non-natural power operations.  First, observe that\n",
    "\n",
    "$$\\textrm{For}\\;\\,y \\in \\mathbb{N}, \\;\\;\\;\\ln(x^y) = \\underbrace{\\ln(x)\\ln(x)\\cdots\\ln(x)}_{y\\;\\text{times}} = y \\ln(x).$$\n",
    "\n",
    "Hence, by applying the exponential to each side of the above equation,\n",
    "\n",
    "$$x^y = \\exp[y \\ln(x)] \\quad \\mathrm{for} \\;\\,y \\in \\mathbb{N}.$$\n",
    "\n",
    "We can generalize the above equation so that it holds for any positive $x$ and real $y$, not just $y \\in \\mathbb{N}$.  In other words, we treat this as our *definition* of the power operation for non-natural powers:\n",
    "\n",
    "$$x^y \\equiv \\exp[y \\ln(x)] \\quad\\; \\mathrm{for}\\;\\, x \\in \\mathbb{R}^+, \\;y \\notin \\mathbb{N}.$$\n",
    "\n",
    "By this definition, the power operation always gives a positive result.  And for $y \\in \\mathbb{N}$, the result of the formula is consistent with the standard definition based on multiplying $x$ by itself $y$ times.\n",
    "\n",
    "This generalization of the power operation leads to several important consequences:\n",
    "1. $\\displaystyle x^0 = 1 \\;\\;\\mathrm{for}\\;\\, x \\in \\mathbb{R}^+.$\n",
    "2. Negative powers are reciprocals: $$x^{-y} = \\exp[-y\\ln(x)] = \\exp[-\\ln(x^y)] = \\frac{1}{x^y}.$$\n",
    "3. The output of the exponential function is equivalent to a power operation:$$\\displaystyle\\exp(y) = e^y\\quad\\mathrm{where}\\;\\, e \\equiv \\exp(1) = 2.718281828459\\!\\dots$$(This follows by plugging in $x=e$ and using the fact that $\\ln(e) = 1$.)\n",
    "4. For $x \\le 0$, the meaning of $x^y$ for non-natural $y$ is ill-defined, since the logarithm does not accept negative inputs."
   ]
  },
  {
   "cell_type": "markdown",
   "metadata": {
    "ein.tags": [
     "worksheet-0"
    ],
    "slideshow": {
     "slide_type": "-"
    }
   },
   "source": [
    "## Trigonometric functions<a name=\"trigonometric\"></a>\n",
    "\n",
    "Another extremely important group of functions are the fundamental trignonometric functions $\\sin$, $\\cos$, and $\\tan$.  These can be defined in terms of the geometric ratios of the sides of right-angled triangles, as shown below:\n",
    "\n",
    "<img src=\"img/trigonometry.png\" alt=\"Basic definitions of trigonometric functions.\" width=\"300\">\n",
    "\n",
    "If we use this basic definition, the domain is $\\theta \\in [0, \\,\\pi/2)$, where the input angle $\\theta$ is given in radians.\n",
    "\n",
    "We can generalize the definition using the following scheme, which allows for negative values of $a$ and/or $b$:\n",
    "\n",
    "<img src=\"img/trigonometry2.png\" alt=\"Enhanced definitions of trigonometric functions.\" width=\"310\">\n",
    "\n",
    "With this, the domain is extended to $\\theta \\in [0,\\,2\\pi)$. We can further extend the domain to all real numbers, $\\theta \\in \\mathbb{R}$, by treating input values modulo $2\\pi$ as equivalent; in other words, $f(\\theta + 2\\pi) = f(\\theta)$.  With this generalization, the trigonometric functions become many-to-one functions.\n",
    "\n",
    "According to the [Pythagorean theorem](http://www.faculty.umb.edu/gary_zabel/Courses/Phil%20281b/Philosophy%20of%20Magic/Arcana/Neoplatonism/Pythagoras/index.shtml.html),\n",
    "\n",
    "$$\\big[\\sin(\\theta)\\big]^2 + \\big[\\cos(\\theta)\\big]^2 = 1.$$\n",
    "\n",
    "<a name=\"trigonometric_addition\"></a>\n",
    "Using this, we can go on to prove a variety of identities, like the addition identities\n",
    "\n",
    "$$\\begin{aligned}\\sin(\\theta_1 + \\theta_2) &= \\sin(\\theta_1) \\cos(\\theta_2) + \\cos(\\theta_1)\\sin(\\theta_2) \\\\\\cos(\\theta_1 + \\theta_2) &= \\cos(\\theta_1) \\cos(\\theta_2) - \\sin(\\theta_1)\\sin(\\theta_2)\\end{aligned}$$\n",
    "\n",
    "As you may recall, the trigonometric proofs for these identities involve drawing complicated triangle diagrams, cleverly applying the Pythagorean formula, etc.  ([As an exercise](#exercises), try proving either of the above identities trigonometrically.)  There are two problems with such proofs: (i) they require some ingenuity in the construction of the triangle diagrams, and (ii) it may not be obvious whether the proofs work if the angles lie outside $[0,\\pi/2)$.\n",
    "\n",
    "Happily, there is a solution to both problems. As we'll soon see, such trigonometric identities can be proven algebraically by using [complex numbers](03_complex_numbers.ipynb)."
   ]
  },
  {
   "cell_type": "markdown",
   "metadata": {
    "ein.tags": [
     "worksheet-0"
    ],
    "slideshow": {
     "slide_type": "-"
    }
   },
   "source": [
    "## Hyperbolic functions<a name=\"hyperbolic\"></a>\n",
    "\n",
    "The hyperbolic functions are important functions defined in terms of exponentials:\n",
    "\n",
    "$$\\begin{aligned}\\sinh(x) &= \\frac{1}{2}\\left(e^{x} - e^{-x}\\right) \\\\ \\cosh(x) &= \\frac{1}{2}\\left(e^{x} + e^{-x}\\right) \\\\ \\tanh(x) &= \\frac{e^{x} - e^{-x}}{e^{x} + e^{-x}}\\end{aligned}$$\n",
    "\n",
    "They have properties that are intriguingly similar to the trignometric functions. For example,\n",
    "\n",
    "$$\\begin{aligned}\\sinh(x+y) &= \\sinh(x)\\cosh(y) + \\cosh(x)\\sinh(y) \\\\\n",
    "\\cosh(x+y) &= \\cosh(x)\\cosh(y) + \\sinh(x)\\sinh(y)\\end{aligned}$$\n",
    "\n",
    "Because of these identities, it is sometimes more convenient to work with hyperbolic functions rather than exponentials. During this course, we will learn about the intricate relationship between the hyperbolic and trigonometric functions."
   ]
  },
  {
   "cell_type": "markdown",
   "metadata": {
    "ein.tags": [
     "worksheet-0"
    ],
    "slideshow": {
     "slide_type": "-"
    }
   },
   "source": [
    "<a name=\"continuity\"></a>\n",
    "## Continuity\n",
    "\n",
    "**Continuity** is an important concept in the theory of real functions. A continuous function is one whose output $f(x)$ does not undergo abrupt jumps when $x$ changes by tiny amounts.  A function can be continuous over its entire domain, or only a subset of its domain. For example, $\\sin(x)$ is continuous for all $x$, whereas $f(x) = 1/x$ is discontinuous at $x = 0$.  Another function that is discontinuous at $x=0$ is the step function\n",
    "\n",
    "$$\\Theta(x) = \\left\\{\\begin{array}{ll} 1, &\\;\\;\\;\\textrm{for} \\; x \\ge 0\\\\ 0,&\\;\\;\\; \\textrm{otherwise.}\\end{array}\\right.$$\n",
    "\n",
    "Mathematicians have even come up with functions that are discontinuous everywhere in their domain, but we won't be dealing with such cases.\n",
    "\n",
    "The rigorous definition of continuity is as follows:\n",
    "\n",
    "> A function $f$ is continuous at a point $x_0$ if, for any $\\epsilon > 0$, we can find a $\\delta > 0$ such that setting $x$ closer to $x_0$ than a distance of $\\delta$ brings $f(x)$ closer to $f(x_0)$ than the specified distance $\\epsilon$.\n",
    "\n",
    "That's a pretty complicated sentence, and it may be easier to understand using the illustration below:"
   ]
  },
  {
   "cell_type": "code",
   "execution_count": 90,
   "metadata": {
    "autoscroll": "json-false",
    "ein.tags": [
     "worksheet-0"
    ],
    "scrolled": false,
    "slideshow": {
     "slide_type": "-"
    }
   },
   "outputs": [
    {
     "data": {
      "application/vnd.jupyter.widget-view+json": {
       "model_id": "37540d1f89704b2180fb7f41db040414",
       "version_major": 2,
       "version_minor": 0
      },
      "text/plain": [
       "interactive(children=(FloatSlider(value=0.6, description='epsilon', max=0.8, min=0.2, step=0.05), Output()), _…"
      ]
     },
     "metadata": {},
     "output_type": "display_data"
    }
   ],
   "source": [
    "## Generate an interactive graph illustrating the concept of continuity\n",
    "%matplotlib inline\n",
    "from ipywidgets import interact, FloatSlider\n",
    "from numpy import array, linspace, tanh, arctanh\n",
    "import matplotlib.pyplot as plt\n",
    "\n",
    "def plot_continuity(epsilon):\n",
    "    x = linspace(0.0, 3.0, 100)\n",
    "    y = tanh(x-1) \n",
    "\n",
    "    xsteps = array([1.0, 1 + arctanh(epsilon), 1 + 0.5 * arctanh(epsilon)])\n",
    "    ysteps = tanh(xsteps - 1)\n",
    "    colors = ['black', 'blue', 'red']\n",
    "    \n",
    "    plt.figure(figsize=(10,5))\n",
    "    ax = plt.subplot(1,1,1)\n",
    "    plt.plot(x, y)\n",
    "    for n in range(3):  # Plot vertical/horizontal guiding lines\n",
    "        plt.plot([xsteps[n], xsteps[n]], [-1, ysteps[n]], 'grey')\n",
    "        plt.plot([0, xsteps[n]], [ysteps[n], ysteps[n]], 'grey')\n",
    "        plt.plot(0, ysteps[n], 'o', color=colors[n], markersize=8)\n",
    "\n",
    "    plt.title(\"For each epsilon, f(x0)+epsilon is indicated by a blue dot.\\n\\\n",
    "One can choose delta so that for all x0 < x < x0 + delta,\\n\\\n",
    "f(x) is closer to f(x0) than the blue dot.\")\n",
    "    plt.text(xsteps[0]-0.03, -0.9, 'x0', color='black')\n",
    "    plt.text(xsteps[2]-0.06, -0.9, 'x0+delta', color='red')\n",
    "\n",
    "    plt.text(0.04, ysteps[0]+0.04, 'f(x0)', color='black')\n",
    "    plt.text(0.04, ysteps[1]+0.04, 'f(x0) + epsilon', color='blue')\n",
    "    \n",
    "    plt.axis([-0.05, 2.4, -0.8, 1.0])\n",
    "    plt.xlabel('x', labelpad=25); plt.ylabel('f(x)')\n",
    "    ax.get_xaxis().set_ticks([]); ax.get_yaxis().set_ticks([])\n",
    "    plt.show()\n",
    "\n",
    "interact(plot_continuity,\n",
    "         epsilon=FloatSlider(min=0.2, max=0.8, step=0.05, value=0.6));"
   ]
  },
  {
   "cell_type": "markdown",
   "metadata": {
    "ein.tags": [
     "worksheet-0"
    ],
    "slideshow": {
     "slide_type": "-"
    }
   },
   "source": [
    "A counter-example, with a function that has a discontinuity at some $x_0$, is shown below.  If we choose $\\epsilon$ smaller than the gap, then no matter what value of $\\delta > 0$ we try, any choice of $0 < x < \\delta$ will give a value of $f(x)$ that's further than $\\epsilon$ from $f(x_0)$. Hence, the continuity condition is violated for sufficiently small choices of $\\epsilon = 1/2$, and we say that $f$ is **discontinuous** at $x_0$."
   ]
  },
  {
   "cell_type": "code",
   "execution_count": 102,
   "metadata": {
    "autoscroll": "json-false",
    "ein.tags": [
     "worksheet-0"
    ],
    "slideshow": {
     "slide_type": "-"
    }
   },
   "outputs": [
    {
     "data": {
      "application/vnd.jupyter.widget-view+json": {
       "model_id": "65e29b2ae5b14afeaef72017f35065cc",
       "version_major": 2,
       "version_minor": 0
      },
      "text/plain": [
       "interactive(children=(FloatSlider(value=0.8, description='epsilon', max=1.2, min=0.2, step=0.05), Output()), _…"
      ]
     },
     "metadata": {},
     "output_type": "display_data"
    }
   ],
   "source": [
    "## Run this code cell to see an interactive graph demonstrating discontinuity\n",
    "%matplotlib inline\n",
    "from ipywidgets import interact, FloatSlider\n",
    "from numpy import linspace, tanh, arctanh\n",
    "import matplotlib.pyplot as plt\n",
    "\n",
    "def plot_discontinuity(epsilon):\n",
    "    dy = 0.25\n",
    "    xa, xb, x0 = linspace(0., 1., 50), linspace(1.0, 3.0, 50), 1.0\n",
    "    ya, yb, y0 = tanh(xa-1)- dy, tanh(xb-1)+dy, tanh(x0-1)-dy\n",
    "\n",
    "    y1 = y0 + epsilon; x1 = max(x0, 1 + arctanh(y1-dy))\n",
    "    \n",
    "    plt.figure(figsize=(10,5))\n",
    "    ax = plt.subplot(1,1,1)\n",
    "    plt.plot(xa, ya, color='#7812ff')\n",
    "    plt.plot(xb, yb, color='#7812ff')\n",
    "    plt.plot([x0,x0], [-1.,y0], 'grey', [0, x0], [y0, y0], 'grey')\n",
    "    plt.plot([x1,x1], [-1.,y1], 'grey', [0, x1], [y1, y1], 'grey')\n",
    "    plt.plot(0, y0, 'o', color='black', markersize=8)\n",
    "    plt.plot(0, y1, 'o', color='blue', markersize=8)\n",
    "    plt.title(\"If epsilon is smaller than the gap,\\n\\\n",
    "For any delta and x0 < x < x0 + delta,\\n\\\n",
    "f(x) is closer to f(x0) than the blue dot.\")\n",
    "    plt.text(x0-0.02, -0.9, 'x0', color='black')\n",
    "    plt.text(-0.03, y0-0.15, 'f(x0)', color='black')\n",
    "    plt.annotate('', xy=(0.5, y0), xycoords='data', xytext=(0.5, y1), textcoords='data',\n",
    "                 arrowprops={'color': 'blue', 'arrowstyle': '<->', 'linewidth':2})\n",
    "    plt.text(0.55, 0.5*y0+0.5*y1, 'epsilon', color='blue')\n",
    "    \n",
    "    if epsilon > 2*dy:\n",
    "        delta = 0.5 * (x1 - x0)\n",
    "        x2 = x0 + delta\n",
    "        y2 = tanh(x2-1) + dy\n",
    "        plt.plot([x2,x2], [-1.,y2], 'grey', [0, x2], [y2, y2], 'grey')\n",
    "        plt.plot(0, y2, 'o', color='red', markersize=8)\n",
    "        plt.annotate('', xy=(x0, -0.6), xycoords='data', xytext=(x2, -0.6), textcoords='data',\n",
    "                     arrowprops={'color': 'red', 'arrowstyle': '<->', 'linewidth':2})\n",
    "        plt.text(0.5*(x0+x2)-0.05, -0.5, 'delta', color='red')\n",
    "    else:\n",
    "        plt.plot([x0,x0], [-1.,yb[0]], 'grey', [0, x0], [yb[0], yb[0]], 'grey')\n",
    "        plt.plot(0, yb[0], 'o', color='red', markersize=10)\n",
    "\n",
    "    plt.axis([-0.05, 2.0, -0.8, 1.0])\n",
    "    plt.xlabel('x', labelpad=25); plt.ylabel('f(x)')\n",
    "    ax.get_xaxis().set_ticks([]); ax.get_yaxis().set_ticks([])\n",
    "    plt.show()\n",
    "\n",
    "interact(plot_discontinuity,\n",
    "         epsilon=FloatSlider(min=0.2, max=1.2, step=0.05, value=0.8));"
   ]
  },
  {
   "cell_type": "markdown",
   "metadata": {
    "ein.tags": [
     "worksheet-0"
    ],
    "slideshow": {
     "slide_type": "-"
    }
   },
   "source": [
    "## Exercises\n",
    "<a name=\"exercises\"></a>\n",
    "\n",
    "1. <a name=\"exp_alt\"></a>An alternative definition of the exponential function is the limiting expression$$\\exp(x) \\equiv \\lim_{n\\rightarrow\\infty} \\left(1+\\frac{x}{n}\\right)^n.$$Prove that this is equivalent to the definition in terms of an infinite series,<br/>$$\\exp(x) \\equiv 1 + \\sum_{n=1}^\\infty\\frac{x^n}{n!}.$$\n",
    "2. Prove that $$\\exp(x+y) = \\exp(x)\\,\\exp(y)$$using the definition of the exponential as an infinite series.  Your proof must avoid using the concept of \"raising to the power\" of a non-natural number; this is to avoid circular logic, since this feature of the exponential function can be used in the [generalized definition of the power operation](#powers).<br/>[(Solution)](11_solutions.ipynb#00_02)\n",
    "3. One of the most important features of the exponential function $\\exp(x)$ is that it becomes large *extremely* quickly with increasing $x$.  To illustrate this behavior, consider the [graph of the exponential function](#exponential_plot) shown previously in this notebook. By default, the graph plots up to $x = 4$, and on your computer screen the height of the graph should be around 4 cm.  Suppose we keep to the same resolution, and plot up to $x = 10$; how high would the graph be?  What if we plot up to $x = 20$?\n",
    "4. Prove that$$\\exp(x) = e^x.$$\n",
    "[(Solution)](11_solutions.ipynb#00_04)\n",
    "5. A \"non-natural\" logarithm of base $c$ is defined as\n",
    "$$\\log_c(x) = y \\quad\\mathrm{where}\\;\\; c^y = x.$$\n",
    "Using the [generalized definition of the power operation](#powers), derive an expression for the non-natural logarithm in terms of the natural logarithm.\n",
    "6. Prove, using trigonometry, that$$\\sin(\\theta_1 + \\theta_2) = \\sin(\\theta_1) \\cos(\\theta_2) + \\cos(\\theta_1)\\sin(\\theta_2).$$You may assume that $\\theta_1, \\theta_2 \\in [0, \\pi/2].$\n",
    "7. Prove, using the [trigonometric addition formulas](#trigonometric_addition), that$$\\begin{align} \\cos(3x) &= 4[\\cos(x)]^3 -3\\cos(x) \\\\ \\sin(3x) &= 3\\sin(x)-4[\\sin(x)]^3\\end{align}$$\n"
   ]
  }
 ],
 "metadata": {
  "kernelspec": {
   "display_name": "Python 3",
   "language": "python",
   "name": "python3"
  },
  "language_info": {
   "codemirror_mode": {
    "name": "ipython",
    "version": 3
   },
   "file_extension": ".py",
   "mimetype": "text/x-python",
   "name": "python",
   "nbconvert_exporter": "python",
   "pygments_lexer": "ipython3",
   "version": "3.8.5"
  },
  "name": "00_mathfunctions.ipynb"
 },
 "nbformat": 4,
 "nbformat_minor": 1
}
