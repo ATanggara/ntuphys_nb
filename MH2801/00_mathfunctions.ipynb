{
 "cells": [
  {
   "cell_type": "markdown",
   "metadata": {
    "ein.tags": [
     "worksheet-0"
    ],
    "slideshow": {
     "slide_type": "-"
    }
   },
   "source": [
    "# 0. Mathematical Functions\n",
    "\n",
    "This is a course on complex methods in the physical sciences. Before dealing with complex numbers, however, let us undertake a brief review of real mathematical functions and their properties.\n",
    "\n",
    "## Real functions\n",
    "\n",
    "A mathematical function, denoted $f$, takes an input $x$ (which is also called an **argument**), and returns an output $f(x)$. For now, we consider the case where both $x$ and $f(x)$ are real numbers. The set of possible inputs is called the **domain** of the function, and the set of possible outputs is called the **range**.\n",
    "\n",
    "A well-defined function must have an unambiguous output: for any $x$ in the domain, $f(x)$ must be a specific number in the range. In other words, functions must be either one-to-one (injective) mappings, or many-to-one mappings. They can't be one-to-many or many-to-many. This is illustrated by the following graphs:\n",
    "\n",
    "<img src=\"img/mathfunctions.png\" alt=\"Figure of one-to-one, many-to-one, and one-to-many mappings.\" width=50%>\n",
    "\n",
    "Simple examples of mathematical functions are those based on elementary algebra operations:\n",
    "\n",
    "$$f(x) = x + 2 \\,\\;\\;\\qquad\\qquad \\text{(a one-to-one function)}$$\n",
    "$$f(x) = x^2 + 2x + 4 \\qquad \\text{(a many-to-one function)}$$\n"
   ]
  },
  {
   "cell_type": "markdown",
   "metadata": {
    "ein.tags": [
     "worksheet-0"
    ],
    "slideshow": {
     "slide_type": "-"
    }
   },
   "source": [
    "<a name=\"exponential\"></a>\n",
    "### Exponential and logarithm\n",
    "\n",
    "The exponential function $\\exp(x)$ is a particularly important and ubiquitous function.  You've probably come across this function before, but let's recall the motivation for it.  We begin with a meditation on what it means to take a number $x$ to the power of $y$:\n",
    "\n",
    "$$f(x) = x^y.$$\n",
    "\n",
    "For values of $y$ in the natural numbers $\\mathbb{N} \\equiv \\{1,2,3,\\dots\\}$, the power operation simply means multiplying $x$ by itself $y$ times.  For example, $x^4 = x \\cdot x \\cdot x \\cdot x$.  But what about non natural number powers, like $x^{-1}$ or $x^{1/2}$ or $x^{3.14}$?\n",
    "\n",
    "To help answer this question, we introduce the exponential function, defined as the following limiting infinite series:\n",
    "\n",
    "$$\\exp(x) \\equiv = 1 + \\sum_{n=1}^\\infty\\frac{x^n}{n!}, \\qquad x \\in \\mathbb{R}.$$\n",
    "\n",
    "Note that the infinite series in this definition uses natural number powers only.  This is therefore a well-defined function, relying on the algebraic concepts discussed so far.  Its domain is the entire set of real numbers, $\\mathbb{R}$, and its range is the set of positive numbers, $\\mathbb{R}^+$. Its graph is as follows:\n",
    "<a name=\"exponential function plot\"></a>\n"
   ]
  },
  {
   "cell_type": "code",
   "execution_count": 1,
   "metadata": {
    "autoscroll": "json-false",
    "ein.tags": [
     "worksheet-0"
    ],
    "slideshow": {
     "slide_type": "-"
    }
   },
   "outputs": [
    {
     "data": {
      "application/vnd.jupyter.widget-view+json": {
       "model_id": "3bee9bcc947646fe85f543634aa2ac15"
      }
     },
     "metadata": {},
     "output_type": "display_data"
    }
   ],
   "source": [
    "## Plot the exponential function over an adjustable x range.\n",
    "%matplotlib inline\n",
    "from ipywidgets import interact, FloatSlider\n",
    "from scipy import linspace, exp\n",
    "import matplotlib.pyplot as plt\n",
    "\n",
    "def plot_exponential(xlim):\n",
    "    x = linspace(-xlim, xlim, 200)\n",
    "    y = exp(x)\n",
    "    plt.figure(figsize=(10,5))\n",
    "    plt.plot(x, y, 'b')\n",
    "    plt.plot([0., 0.], [0., y[-1]], '--', color='grey')\n",
    "    plt.title(\"Use 'xlim' slider to adjust the range of x\")\n",
    "    plt.xlabel('x');      plt.xlim(-xlim, xlim)\n",
    "    plt.ylabel('exp(x)'); plt.ylim(0., y[-1])\n",
    "    plt.show()\n",
    "\n",
    "interact(plot_exponential,\n",
    "         xlim=FloatSlider(min=1.0, max=16.0, step=1.0, value=2.0));"
   ]
  },
  {
   "cell_type": "markdown",
   "metadata": {
    "ein.tags": [
     "worksheet-0"
    ],
    "slideshow": {
     "slide_type": "-"
    }
   },
   "source": [
    "A highly noteworthy feature of $\\exp(x)$ is that, for $x > 0$, it becomes large extremely quickly with increasing $x$; and for $x < 0$, it becomes small extremely quickly with decreasing $x$.\n",
    "\n",
    "The exponential function has a number of other useful mathematical properties.  For instance, one can show that\n",
    "\n",
    "$$\\exp(x+y) = \\exp(x)\\,\\exp(y) \\quad \\forall x, y \\in \\mathbb{R}.$$\n",
    "\n",
    "[Try proving this as an exercise](#exercises); the solution is given [here](#solutions).\n",
    "\n",
    "As a corollary,\n",
    "\n",
    "$$\\exp(-x) = 1/\\exp(x).$$\n",
    "\n",
    "Because the exponential function is one-to-one, its inverse is also a well-defined function.  We call this the natural logarithm:\n",
    "\n",
    "$$\\ln(x) \\equiv y \\;\\; \\mathrm{such}\\;\\mathrm{that}\\;\\;\\exp(y) = x.$$\n",
    "\n",
    "Unless otherwise noted, we will always mean the natural logarithm when we say \"logarithm\".  The domain of the logarithm is $y \\in \\mathbb{R}^+$, and its range is $\\mathbb{R}$.  Its graph is shown below:"
   ]
  },
  {
   "cell_type": "code",
   "execution_count": 4,
   "metadata": {
    "autoscroll": "json-false",
    "ein.tags": [
     "worksheet-0"
    ],
    "slideshow": {
     "slide_type": "-"
    }
   },
   "outputs": [
    {
     "data": {
      "application/vnd.jupyter.widget-view+json": {
       "model_id": "ae618ed9153f4d2e90f1edfe5f34cf31"
      }
     },
     "metadata": {},
     "output_type": "display_data"
    }
   ],
   "source": [
    "## Plot the natural logarithm function over an adjustable x range.\n",
    "%matplotlib inline\n",
    "from ipywidgets import interact, FloatSlider\n",
    "from scipy import linspace, log\n",
    "import matplotlib.pyplot as plt\n",
    "\n",
    "def plot_logarithm(xlim):\n",
    "    x = linspace(1e-3, xlim, 250)\n",
    "    y = log(x)\n",
    "    plt.figure(figsize=(10,5))\n",
    "    plt.plot(x, y, 'b')\n",
    "    plt.plot([0., 0.], [0., y[-1]], '--', color='grey')\n",
    "\n",
    "    plt.title(\"Use 'xlim' slider to adjust the range of x\")\n",
    "    plt.xlabel('x');     plt.xlim(0., xlim)\n",
    "    plt.ylabel('ln(x)'); plt.ylim(-6, 6.5)\n",
    "    plt.show()\n",
    "\n",
    "interact(plot_logarithm,\n",
    "         xlim=FloatSlider(min=10.0, max=500., step=10.0, value=5.0));"
   ]
  },
  {
   "cell_type": "markdown",
   "metadata": {
    "ein.tags": [
     "worksheet-0"
    ],
    "slideshow": {
     "slide_type": "-"
    }
   },
   "source": [
    "Observe that for $x>0$, $\\ln(x)$ increases very slowly with $x$; this is the opposite of the exponential function's behavior, where $\\exp(x)$ increases very quickly with $x$.  Furthremore, one can prove that the logarithm satisfies the property\n",
    "\n",
    "$$\\ln(xy) = \\ln(x) + \\ln(y).$$\n",
    "\n",
    "As a result, the power operation interacts with the exponential and logarithm functions in the following manner:\n",
    "\n",
    "$$\\begin{align} \\ln(x^y) &= y \\ln(x)\\qquad\\quad&\\mathrm{for}&\\;\\;y \\in \\mathbb{N} \\\\ \\Rightarrow\\quad\\quad x^y &= \\exp[y \\ln(x)] \\quad &\\mathrm{for}&\\;\\;y \\in \\mathbb{N}.\\end{align}$$\n",
    "\n",
    "<a name=\"powers\"></a>\n",
    "Now we have the tools needed to address the issue raised at the beginning of this section, i.e. how to deal with the concept of a non-natural power.  We do this by generalizing the above equation so that it holds for any positive $x$ and real $y$, not just $y \\in \\mathbb{N}$.  In other words, we treat this as our *definition* of what it means to perform the power operation, for non-natural powers:\n",
    "\n",
    "$$x^y \\equiv \\exp[y \\ln(x)] \\qquad\\; \\mathrm{for}\\; x \\in \\mathbb{R}^+, \\;y \\notin \\mathbb{N}.$$\n",
    "\n",
    "By this definition, the power operation always gives a positive result.  You can also check for yourself that, for $y \\in \\mathbb{N}$, the formula is consistent with the results based on using the standard definition of \"multiply $x$ by itself $y$ times\".\n",
    "\n",
    "This generalization of the power operation leads to many important consequences:\n",
    "* Raising a positive number to the zeroth power gives unity: $\\displaystyle x^0 = 1.$\n",
    "* Negative powers are reciprocals: $\\displaystyle x^{-y} = \\exp[-y\\ln(x)] = \\exp[-\\ln(x^y)] = \\frac{1}{x^y}.$\n",
    "* The exponential function can itself can be written as a power: $\\displaystyle\\exp(y) = e^y$, where $e \\equiv \\exp(1) = 2.718281828459\\dots$\n",
    "* Non-integer powers are only defined for non-negative $x$, since the logarithm in the definition does not accept negative inputs."
   ]
  },
  {
   "cell_type": "markdown",
   "metadata": {
    "ein.tags": [
     "worksheet-0"
    ],
    "slideshow": {
     "slide_type": "-"
    }
   },
   "source": [
    "### Trigonometric functions<a name=\"trigonometric\"></a>\n",
    "\n",
    "The fundamental trignonometric functions $\\sin(\\theta)$, $\\cos(\\theta)$, and $\\tan(\\theta)$ can be defined in terms of the geometric ratios of the sides of right-angled triangles, as shown here:\n",
    "<img src=\"img/trigonometry.png\" alt=\"Basic definitions of trigonometric functions.\" width=30%>\n",
    "\n",
    "In this basic definition, the domain is $\\theta \\in [0, \\,\\pi/2)$, where the angle $\\theta$ is given in radians.  We can generalize the definitions to allow for negative values of $a$ and/or $b$, using the following scheme:\n",
    "<img src=\"img/trigonometry2.png\" alt=\"Enhanced definitions of trigonometric functions.\" width=30%>\n",
    "Now the angle $\\theta$ lies within a larger domain: $\\theta \\in [0,\\,2\\pi)$.\n",
    "\n",
    "We can further generalize the trigonometric functions by extending the domain to all real numbers: $\\theta \\in \\mathbb{R}$. This is done by treating all values of $\\theta$ modulo $2\\pi$ as equivalent, i.e. $f(\\theta + 2\\pi) = f(\\theta)$.  With this generalization, the trigonometric functions become many-to-one functions.\n",
    "\n",
    "From the [Pythagorean theorem](http://en.wikipedia.org/wiki/Pythagoras_theorem) (which can be proved in [many, many ways](http://www.faculty.umb.edu/gary_zabel/Courses/Phil%20281b/Philosophy%20of%20Magic/Arcana/Neoplatonism/Pythagoras/index.shtml.html)),\n",
    "\n",
    "$$\\big[\\sin(\\theta)\\big]^2 + \\big[\\cos(\\theta)\\big]^2 = 1.$$\n",
    "\n",
    "Armed with this result, we can go on to prove a variety of identities, like the addition identities\n",
    "\n",
    "$$\\begin{aligned}\\sin(\\theta_1 + \\theta_2) &= \\sin(\\theta_1) \\cos(\\theta_2) + \\cos(\\theta_1)\\sin(\\theta_2) \\\\\\cos(\\theta_1 + \\theta_2) &= \\cos(\\theta_1) \\cos(\\theta_2) - \\sin(\\theta_1)\\sin(\\theta_2)\\end{aligned}$$\n",
    "\n",
    "As you may recall, these identities can be proved by trigonometry; the proofs involve drawing the correct set of triangles, and choosing which sides of the triangles to put into the Pythagorean formula.  ([As an exercise](#exercises), try proving either of the above identities trigonometrically.)  There are two problems with such proofs: (i) they require a certain amount of ingenuity in choosing which triangle diagrams to draw, and (ii) it's not immediately obvious that the proofs work if the angles lie outside $[0,\\pi/2]$.  Happily, there is a solution to both problems: as we'll soon see, trigonometric identities of this sort can be proven algebraically, with the aid of [complex numbers](03_complex_numbers.ipynb)."
   ]
  },
  {
   "cell_type": "markdown",
   "metadata": {
    "ein.tags": [
     "worksheet-0"
    ],
    "slideshow": {
     "slide_type": "-"
    }
   },
   "source": [
    "### Hyperbolic functions<a name=\"hyperbolic\"></a>\n",
    "\n",
    "The hyperbolic functions are important special functions which are defined in terms of exponentials:\n",
    "\n",
    "$$\\begin{aligned}\\sinh(x) &= \\frac{1}{2}\\left(e^{x} - e^{-x}\\right) \\\\ \\cosh(x) &= \\frac{1}{2}\\left(e^{x} + e^{-x}\\right) \\\\ \\tanh(x) &= \\frac{e^{x} - e^{-x}}{e^{x} + e^{-x}}\\end{aligned}$$\n",
    "\n",
    "These functions have properties intriguingly similar to the trignometric functions. For example, they have addition identities\n",
    "\n",
    "$$\\begin{aligned}\\sinh(x+y) &= \\sinh(x)\\cosh(y) + \\cosh(x)\\sinh(y) \\\\\n",
    "\\cosh(x+y) &= \\cosh(x)\\cosh(y) + \\sinh(x)\\sinh(y)\\end{aligned}$$\n",
    "\n",
    "Because of these identities, it's sometimes more convenient to work with hyperbolic functions rather than exponentials. We'll see some examples later in the course."
   ]
  },
  {
   "cell_type": "markdown",
   "metadata": {
    "ein.tags": [
     "worksheet-0"
    ],
    "slideshow": {
     "slide_type": "-"
    }
   },
   "source": [
    "<a name=\"continuity\"></a>\n",
    "## Continuity\n",
    "\n",
    "**Continuity** is an important concept in the theory of real functions. A function is said to be continuous if its output $f(x)$ does not undergo any abrupt jumps when the input $x$ is varied by tiny amounts.  A function can be continuous over its entire domain, or only a subset of its domain. For example, $f(x) = 1/x$ is discontinuous at the origin $x = 0$.  So is the step function\n",
    "$$\\Theta(x) = \\left\\{\\begin{array}{ll} 1, &\\;\\;\\;\\textrm{for} \\; x \\ge 0\\\\ 0,&\\;\\;\\; \\textrm{otherwise.}\\end{array}\\right.$$\n",
    "Mathematicians have even come up with functions that are discontinuous everywhere in their domain, but such pathological cases are not commonly encountered, and we won't have to worry about them in this course.\n",
    "\n",
    "The rigorous definition of continuity is as follows.  A function is continuous at a point $x_0$ if, for any $\\epsilon > 0$, we can find a $\\delta > 0$ such that setting $x$ closer to $x_0$ than a distance of $\\delta$ brings $f(x)$ closer to $f(x_0)$ than the specified distance $\\epsilon$.  This sounds like a very complicated sentence (and it is!), and it may be easier to understand it using the illustration below:"
   ]
  },
  {
   "cell_type": "code",
   "execution_count": 6,
   "metadata": {
    "autoscroll": "json-false",
    "ein.tags": [
     "worksheet-0"
    ],
    "slideshow": {
     "slide_type": "-"
    }
   },
   "outputs": [
    {
     "data": {
      "application/vnd.jupyter.widget-view+json": {
       "model_id": "3cdc2b291e54480088ad338bcde1c231"
      }
     },
     "metadata": {},
     "output_type": "display_data"
    }
   ],
   "source": [
    "## Illustrate the concept of continuity based on the \"delta/epsilon\" definition.\n",
    "%matplotlib inline\n",
    "from ipywidgets import interact, FloatSlider\n",
    "from scipy import linspace, tanh, arctanh\n",
    "import matplotlib.pyplot as plt\n",
    "\n",
    "def plot_continuity(epsilon):\n",
    "    x, x0 = linspace(0.0, 3.0, 100), 1.0\n",
    "    y, y0 = tanh(x-1), tanh(x0-1)\n",
    "    y1 = y0 + epsilon;  x1 = 1 + arctanh(y1); delta = 0.5 * (x1 - x0)\n",
    "    x2    = x0 + delta; y2 = tanh(x2-1)\n",
    "    \n",
    "    plt.figure(figsize=(10,5))\n",
    "    ax = plt.subplot(1,1,1)\n",
    "    plt.plot(x, y, '#7812ff')\n",
    "    plt.plot([x0,x0], [-1.,y0], 'grey', [0, x0], [y0, y0], 'grey')\n",
    "    plt.plot([x1,x1], [-1.,y1], 'grey', [0, x1], [y1, y1], 'grey')\n",
    "    plt.plot([x2,x2], [-1.,y2], 'grey', [0, x2], [y2, y2], 'grey')\n",
    "    plt.plot(0, y0, 'o', color='black', markersize=10)\n",
    "    plt.plot(0, y1, 'o', color='blue', markersize=10)\n",
    "    plt.plot(0, y2, 'o', color='red', markersize=10)\n",
    "    plt.title(\"For each epsilon, f(x0)+epsilon is denoted by a blue dot.\\n\\\n",
    "I can choose delta so that for all x0 < x < x0 + delta,\\n\\\n",
    "f(x) is closer to f(x0) than the blue dot.\")\n",
    "    plt.text(x0-0.03, -0.9, 'x0', fontsize=15, color='black')\n",
    "    plt.text(-0.03, y0-0.15, 'f(x0)', fontsize=15, color='black')\n",
    "    plt.annotate('', xy=(0.5, y0), xycoords='data', xytext=(0.5, y1), textcoords='data',\n",
    "                 arrowprops={'color': 'blue', 'arrowstyle': '<->', 'linewidth':2})\n",
    "    plt.text(0.55, 0.3*y0+0.7*y1, 'epsilon', fontsize=15, color='blue')\n",
    "    plt.annotate('', xy=(x0, -0.6), xycoords='data', xytext=(x2, -0.6), textcoords='data',\n",
    "                 arrowprops={'color': 'red', 'arrowstyle': '<->', 'linewidth':2})\n",
    "    plt.text(0.02+x0, -0.5, 'delta', fontsize=15, color='red')\n",
    "    plt.xlabel('x');    plt.xlim(-0.05, 2.4)\n",
    "    plt.ylabel('f(x)'); plt.ylim(-0.8, 1.0)\n",
    "    ax.get_xaxis().set_ticks([]); ax.get_yaxis().set_ticks([])\n",
    "\n",
    "    plt.show()\n",
    "\n",
    "interact(plot_continuity,\n",
    "         epsilon=FloatSlider(min=0.2, max=0.8, step=0.05, value=0.5));"
   ]
  },
  {
   "cell_type": "markdown",
   "metadata": {
    "ein.tags": [
     "worksheet-0"
    ],
    "slideshow": {
     "slide_type": "-"
    }
   },
   "source": [
    "A counter-example, with a function that has a discontinuity at some $x_0$, is shown below.  If we choose $\\epsilon$ smaller than the gap, then no matter what value of $\\delta > 0$ we try, any choice of $0 < x < \\delta$ will give a value of $f(x)$ that's further than $\\epsilon$ from $f(x_0)$. Hence, the continuity condition is violated for sufficiently small choices of $\\epsilon = 1/2$, and we say that $f(x)$ is **discontinuous** at $x_0$."
   ]
  },
  {
   "cell_type": "code",
   "execution_count": 8,
   "metadata": {
    "autoscroll": "json-false",
    "ein.tags": [
     "worksheet-0"
    ],
    "slideshow": {
     "slide_type": "-"
    }
   },
   "outputs": [
    {
     "data": {
      "application/vnd.jupyter.widget-view+json": {
       "model_id": "e08f9622965c47b5b653f63cdc599036"
      }
     },
     "metadata": {},
     "output_type": "display_data"
    }
   ],
   "source": [
    "## Illustrate the concept of discontinuity based on the \"delta/epsilon\" definition.\n",
    "%matplotlib inline\n",
    "from ipywidgets import interact, FloatSlider\n",
    "from scipy import linspace, tanh, arctanh\n",
    "import matplotlib.pyplot as plt\n",
    "\n",
    "def plot_discontinuity(epsilon):\n",
    "    dy = 0.25\n",
    "    xa, xb, x0 = linspace(0., 1., 50), linspace(1.0, 3.0, 50), 1.0\n",
    "    ya, yb, y0 = tanh(xa-1)- dy, tanh(xb-1)+dy, tanh(x0-1)-dy\n",
    "\n",
    "    y1 = y0 + epsilon; x1 = max(x0, 1 + arctanh(y1-dy))\n",
    "    \n",
    "    plt.figure(figsize=(10,5))\n",
    "    ax = plt.subplot(1,1,1)\n",
    "    plt.plot(xa, ya, color='#7812ff')\n",
    "    plt.plot(xb, yb, color='#7812ff')\n",
    "    plt.plot([x0,x0], [-1.,y0], 'grey', [0, x0], [y0, y0], 'grey')\n",
    "    plt.plot([x1,x1], [-1.,y1], 'grey', [0, x1], [y1, y1], 'grey')\n",
    "    plt.plot(0, y0, 'o', color='black', markersize=10)\n",
    "    plt.plot(0, y1, 'o', color='blue', markersize=10)\n",
    "    plt.title(\"If epsilon is smaller than the gap,\\n\\\n",
    "For any delta and x0 < x < x0 + delta,\\n\\\n",
    "f(x) will be closer to f(x0) than the blue dot.\")\n",
    "    plt.text(x0+0.01, -0.75, 'x0', fontsize=15, color='black')\n",
    "    plt.text(-0.03, y0-0.15, 'f(x0)', fontsize=15, color='black')\n",
    "    plt.annotate('', xy=(0.5, y0), xycoords='data', xytext=(0.5, y1), textcoords='data',\n",
    "                 arrowprops={'color': 'blue', 'arrowstyle': '<->', 'linewidth':2})\n",
    "    plt.text(0.55, 0.3*y0+0.7*y1, 'epsilon', fontsize=15, color='blue')\n",
    "    \n",
    "    if epsilon > 2*dy:\n",
    "        delta = 0.5 * (x1 - x0)\n",
    "        x2    = x0 + delta\n",
    "        y2    = tanh(x2-1) + dy\n",
    "        plt.plot([x2,x2], [-1.,y2], 'grey', [0, x2], [y2, y2], 'grey')\n",
    "        plt.plot(0, y2, 'o', color='red', markersize=10)\n",
    "        plt.annotate('', xy=(x0, -0.6), xycoords='data', xytext=(x2, -0.6), textcoords='data',\n",
    "                     arrowprops={'color': 'red', 'arrowstyle': '<->', 'linewidth':2})\n",
    "        plt.text(0.02+x0, -0.5, 'delta', fontsize=15, color='red')\n",
    "    else:\n",
    "        plt.plot([x0,x0], [-1.,yb[0]], 'grey', [0, x0], [yb[0], yb[0]], 'grey')\n",
    "        plt.plot(0, yb[0], 'o', color='red', markersize=10)\n",
    "\n",
    "    plt.plot(xa[-1], ya[-1], 'o', color='#7812ff')\n",
    "    plt.plot(xb[0], yb[0], 'o', markeredgecolor='#7812ff',\n",
    "             markersize=7, markeredgewidth=2, markerfacecolor='#ffffff')\n",
    "    \n",
    "    plt.xlabel('x'); plt.xlim(-0.05, 2.0)\n",
    "    plt.ylabel('f(x)'); plt.ylim(-0.8, 1.0)\n",
    "    ax.get_xaxis().set_ticks([]); ax.get_yaxis().set_ticks([])\n",
    "    plt.show()\n",
    "\n",
    "interact(plot_discontinuity,\n",
    "         epsilon=FloatSlider(min=0.2, max=1.0, step=0.05, value=0.8));"
   ]
  },
  {
   "cell_type": "markdown",
   "metadata": {
    "ein.tags": [
     "worksheet-0"
    ],
    "slideshow": {
     "slide_type": "-"
    }
   },
   "source": [
    "## Exercises\n",
    "<a name=\"exercises\"></a>\n",
    "\n",
    "<ol>\n",
    "<li>An alternative definition of the exponential function is the limiting expression<br/>\n",
    "$$\\exp(x) \\equiv \\lim_{n\\rightarrow\\infty} \\left(1+\\frac{x}{n}\\right)^n.$$<br/>\n",
    "Prove that this is equivalent to the definition in terms of an infinite series:<br/>$$\\exp(x) \\equiv 1 + \\sum_{n=1}^\\infty\\frac{x^n}{n!}.$$</li>\n",
    "<li>Prove that $\\exp(x+y) = \\exp(x)\\,\\exp(y)$, using the definition of the exponential as an infinite series.  Your proof must avoid using the concept of \"raising to the power\" of a non-natural number (this is to avoid circular logic, since this feature of the exponential function can be used in the [generalized definition of the power operation](#powers)).<br/>\n",
    "<div style=\"text-align: right\">[(Solution)](99_solutions.ipynb#00_02)</div><br/></li>\n",
    "<li>One of the most important features of the exponential function $\\exp(x)$ is that it becomes large *extremely* quickly with increasing $x$.  To illustrate this behavior, consider the [graph of the exponential function](#exponential function plot) above.  By default, the graph plots up to $x = 4$, and on your computer screen the height of the graph should be around 4cm.  Suppose we keep the same resolution, and plot up to $x = 10$; how high would the graph be?  What about if we plotted up to $x = 20$?</li>\n",
    "<li>Prove that<br/>$$\\exp(x) = e^x.$$<br/>\n",
    "<div style=\"text-align: right\">[(Solution)](99_solutions.ipynb#00_04)</div><br/></li>\n",
    "<li>A \"non-natural\" logarithm of base $c$ is defined as<br/>\n",
    "$$\\log_c(x) = y \\quad\\mathrm{where}\\;\\; c^y = x.$$<br/>\n",
    "Using the [generalized definition of the power operation](#exponential), derive an expression for the non-natural logarithm in terms of the natural logarithm.</li>\n",
    "<li>Prove, using trigonometry, that<br/>$$\\sin(\\theta_1 + \\theta_2) = \\sin(\\theta_1) \\cos(\\theta_2) + \\cos(\\theta_1)\\sin(\\theta_2).$$<br/>You may assume that $\\theta_1, \\theta_2 \\in [0, \\pi/2].$</li>\n",
    "<li>Prove, using the [trigonometric addition formulas](#trigonometric), that<br/>$$\\begin{align} \\cos(3x) &= 4[\\cos(x)]^3 -3\\cos(x) \\\\ \\sin(3x) &= 3\\sin(x)-4[\\sin(x)]^3\\end{align}$$</li>\n",
    "</ol>\n"
   ]
  }
 ],
 "metadata": {
  "kernelspec": {
   "display_name": "Python 3",
   "language": "python",
   "name": "python3"
  },
  "language_info": {
   "codemirror_mode": {
    "name": "ipython",
    "version": 3
   },
   "file_extension": ".py",
   "mimetype": "text/x-python",
   "name": "python",
   "nbconvert_exporter": "python",
   "pygments_lexer": "ipython3",
   "version": "3.6.1"
  },
  "name": "00_mathfunctions.ipynb"
 },
 "nbformat": 4,
 "nbformat_minor": 1
}
