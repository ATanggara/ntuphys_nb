{
 "cells": [
  {
   "cell_type": "code",
   "execution_count": 1,
   "metadata": {
    "collapsed": false
   },
   "outputs": [
    {
     "data": {
      "text/html": [
       "<style>\n",
       ".output_png {\n",
       "    display: table-cell;\n",
       "    text-align: center;\n",
       "    vertical-align: middle;\n",
       "}\n",
       "</style>\n",
       "<script>\n",
       "code_show=true; \n",
       "function code_toggle() {\n",
       " if (code_show){\n",
       " $('div.input').hide();\n",
       " } else {\n",
       " $('div.input').show();\n",
       " }\n",
       " code_show = !code_show\n",
       "} \n",
       "$( document ).ready(code_toggle);\n",
       "</script>\n",
       "Source code for figures hidden by default; to toggle code display, click <a href=\"javascript:code_toggle()\">here</a>."
      ],
      "text/plain": [
       "<IPython.core.display.HTML object>"
      ]
     },
     "execution_count": 1,
     "metadata": {},
     "output_type": "execute_result"
    }
   ],
   "source": [
    "import nbsettings\n",
    "from IPython.display import HTML\n",
    "HTML('''<style>\n",
    ".output_png {\n",
    "    display: table-cell;\n",
    "    text-align: center;\n",
    "    vertical-align: middle;\n",
    "}\n",
    "</style>\n",
    "<script>\n",
    "code_show=true; \n",
    "function code_toggle() {\n",
    " if (code_show){\n",
    " $('div.input').hide();\n",
    " } else {\n",
    " $('div.input').show();\n",
    " }\n",
    " code_show = !code_show\n",
    "} \n",
    "$( document ).ready(code_toggle);\n",
    "</script>\n",
    "Source code for figures hidden by default; to toggle code display, click <a href=\"javascript:code_toggle()\">here</a>.''')"
   ]
  },
  {
   "cell_type": "markdown",
   "metadata": {},
   "source": [
    "# Complex oscillations\n",
    "\n",
    "The most common use of complex numbers in physics is for analyzing oscillations and waves.  We will illustrate this with a simple but crucially important model, the **damped harmonic oscillator**.\n",
    "\n",
    "## The harmonic oscillator equation\n",
    "\n",
    "The damped harmonic oscillator describes a mechanical system consisting of a particle of mass $m$, subject to a spring force and a damping force.  The particle can move along one dimension, and we let $x(t)$ denote its displacement from the origin.  The damping coefficient is $2m \\gamma$, and the spring constant is $k = m\\omega_0^2$.  The parameters $m$, $\\gamma$, and $\\omega_0$ are all positive real numbers.  (The quantity $\\omega_0$ is called the \"natural frequency of oscillation\", because in the absence of the damping force this system would act as a simple harmonic oscillator with frequency $\\omega_0$.)\n",
    "\n",
    "<img src=\"img/oscillator.png\" alt=\"Mechanical model of a damped harmonic oscillator.\" width=30%>\n",
    "\n",
    "The motion of the particle is described by Newton's second law:\n",
    "\n",
    "$$m \\frac{d^2 x}{dt^2} = F(x,t) = - 2m\\gamma \\frac{dx}{dt} - m\\omega_0^2 x(t).$$\n",
    "\n",
    "Dividing by the common factor of $m$, and bringing everything to one side, gives\n",
    "\n",
    "$$\\frac{d^2 x}{dt^2} + 2\\gamma \\frac{dx}{dt} + \\omega_0^2 x(t) = 0.$$\n",
    "\n",
    "We call this ordinary differential equation the \"damped harmonic oscillator equation\".  Since it's a second-order [ordinary differential equation](derivatives.ipynb#ODE) (ODE), the general solution must contain two independent parameters.  If we state the initial displacement and velocity, $x(0)$ and $\\dot{x}(0)$, there is a unique specific solution.\n",
    "\n",
    "<table width=75%>\n",
    "<tr><td>Note</td></tr>\n",
    "<tr><td>Sometimes, we write the damped harmonic oscillator equation a bit differently:<br/>$$\\left[\\frac{d^2}{dt^2} + 2\\gamma \\frac{d}{dt} + \\omega_0^2 \\right]\\, x(t) = 0.$$<br/>The quantity in the square brackets is regarded as an operator acting on $x(t)$.  This operator consists of the sum of three terms: a second-derivative operator, a constant times a first derivative, and multiplication by a constant.</td></tr></table>"
   ]
  },
  {
   "cell_type": "markdown",
   "metadata": {},
   "source": [
    "## Complex solution<a name=\"ansatz\"></a>\n",
    "\n",
    "The variable $x(t)$ stands for the displacement of a particle, which is a real quantity.  But in order to solve the damped harmonic oscillator equation, it's useful if we generalize $x(t)$ to complex values.  In other words, let's treat the harmonic oscillator equation as a ''complex'' ODE:\n",
    "\n",
    "$$\\frac{d^2 z}{dt^2} + 2\\gamma \\frac{dz}{dt} + \\omega_0^2 z(t) = 0, \\quad z(t) \\in \\mathbb{C}.$$\n",
    "\n",
    "The same parameter-counting rule applies to complex ODEs just the same as real ODEs, except that we use complex parameters in place of real parameters.  Since the complex damped harmonic oscillator equation is second-order, its general solution should contain two independent ''complex'' parameters&mdash;which is equivalent to four real parameters.\n",
    "\n",
    "Once we have that general solution, we can do one of two things: (i) plug in a complete set of (real) boundary conditions, which will give a ''real'' specific solution, or (ii) take the real part of the complex general solution, which will give the general solution to the ''real'' differential equation. We will discuss these two approaches later; for the moment, let's focus on finding the solution to the complex ODE.\n",
    "\n",
    "To find the complex solution, first note that the equation is ''linear''.  If we have two solutions $z_1(t)$ and $z_2(t)$, then any combination\n",
    "\n",
    "$$\\alpha \\, z_1(t) + \\beta \\,z_2(t),\\quad \\mathrm{where}\\;\\; \\alpha, \\beta \\in \\mathbb{C}$$\n",
    "\n",
    "is also a solution.  Therefore, a good strategy is to find several specific solutions, and then combine them linearly to form a more general solution.  We simply make a guess (or an **ansatz**) for a specific solution:\n",
    "\n",
    "$$z(t) = e^{-i\\omega t},$$\n",
    "\n",
    "where $\\omega$ is a constant to be determined (which could be complex).  The first and second derivatives are:\n",
    "\n",
    "$$\\begin{align}\\frac{dz}{dt} &= -i\\omega\\, e^{-i\\omega t} \\\\ \\frac{d^2z}{dt^2} &= -\\omega^2\\, e^{-i\\omega t}\\end{align}$$\n",
    "\n",
    "Substituting these into the differential equation gives:\n",
    "\n",
    "$$\\left[-\\omega^2 - 2i\\gamma \\omega + \\omega_0^2 \\right] e^{-i\\omega t} = 0.$$\n",
    "\n",
    "This equation can be satisfied for all $t$ if the complex second-order polynomial on the left-hand side is zero:\n",
    "\n",
    "$$-\\omega^2 - 2i\\gamma \\omega + \\omega_0^2 = 0.$$\n",
    "\n",
    "In other words, we need values of $\\omega$ which solve this quadratic equation.  The solutions can be obtained from the quadratic formula:\n",
    "\n",
    "$$\\omega = -i\\gamma \\pm \\sqrt{\\omega_0^2 - \\gamma^2}.$$\n",
    "\n",
    "Hence, we arrive at solutions which are oscillations with ''complex'' frequencies:\n",
    "\n",
    "$$z(t) = \\exp\\left(-i\\omega_\\pm t\\right), \\;\\;\\mathrm{where}\\;\\; \\omega_\\pm = -i\\gamma \\pm \\sqrt{\\omega_0^2 - \\gamma^2}.$$\n",
    "\n",
    "For each value of $\\gamma$ and $\\omega_0$, there are two possible frequencies, $\\omega_+$ and $\\omega_-$.  For either choice of complex frequency, the above expression for $x(t)$ gives a valid specific solution for the complex damped harmonic oscillator equation."
   ]
  },
  {
   "cell_type": "markdown",
   "metadata": {},
   "source": [
    "## Complex frequencies\n",
    "\n",
    "What does it mean to have an oscillation with a complex frequency?  If we write the real and imaginary parts of the frequency as $\\omega = \\omega_R + i \\omega_I$, then\n",
    "\n",
    "$$z(t) = e^{-i\\omega t} = e^{\\omega_I t} \\; e^{-i\\omega_R t}.$$\n",
    "\n",
    "If both $\\omega_R$ and $\\omega_I$ are non-zero, this describes [a spiral trajectory in the complex plane](complex_numbers.ipynb#complex_spiral), whose magnitude is either increasing or decreasing with time, depending on the sign of $\\omega_O$.  This is because we can write\n",
    "\n",
    "$$z(t) = e^{\\omega_I t} \\; e^{-i\\omega_R t} = R(t)\\, e^{i\\theta(t)}, \\;\\;\\mathrm{where}\\;\\;R(t) = e^{\\omega_I t}, \\; \\theta(t) = -\\omega_R t.$$\n",
    "\n",
    "We therefore conclude that the real part of $\\omega$ determines the (angular) frequency of oscillation, whereas the imaginary part determines whether the oscillation amplitude is either growing with time (amplification) or shrinking with time (damping).  A positive imaginary part implies amplification, and a negative imaginary part implies damping, while zero imaginary part (i.e., a real frequency) implies constant-amplitude oscillation.\n",
    "\n",
    "Now let's look at the damped harmonic oscillator's complex frequencies, $\\omega_\\pm$, which we derived in the [previous section](#ansatz):\n",
    "\n",
    "$$\\omega_\\pm = -i\\gamma \\pm \\sqrt{\\omega_0^2 - \\gamma^2}.$$\n",
    "\n",
    "These depend on two real parameters: $\\gamma$ and $\\omega_0$. In the plot below, you can see how the position of $\\omega_\\pm$ in the complex plane depends on the values of these parameters."
   ]
  },
  {
   "cell_type": "code",
   "execution_count": 1,
   "metadata": {
    "collapsed": false
   },
   "outputs": [
    {
     "data": {
      "image/png": "[encoded data removed]",
      "text/plain": [
       "<matplotlib.figure.Figure at 0x7f96845a3630>"
      ]
     },
     "metadata": {},
     "output_type": "display_data"
    }
   ],
   "source": [
    "%matplotlib inline\n",
    "from ipywidgets import interact, FloatSlider\n",
    "from numpy import linspace, sin, cos, pi, sqrt\n",
    "import matplotlib.pyplot as plt\n",
    "\n",
    "def plot_frequencies(omega0, gamma):\n",
    "    ## (Plot the circular arc that the points lie on.)\n",
    "    phi = linspace(-pi, 0, 50)\n",
    "    plt.figure(figsize=(10,5))\n",
    "    plt.plot(omega0*cos(phi), omega0*sin(phi), color=\"grey\")\n",
    "    rmax = 1.7\n",
    "\n",
    "    ## Compute omega_+ and omega_- and plot in the complex plane.\n",
    "    u = sqrt(abs(omega0**2 - gamma**2))\n",
    "    if omega0 >= gamma:\n",
    "        w1, w2 = -1j * gamma + u, -1j * gamma - u\n",
    "    else:\n",
    "        w1, w2 = -1j * (gamma - u), -1j * (gamma + u)\n",
    "    \n",
    "    ax = plt.subplot(1,1,1)\n",
    "    plt.plot(w1.real, w1.imag, 'o', color=\"red\", linewidth=4, label=\"omega_+\")\n",
    "    plt.plot(w2.real, w2.imag, 'o', color=\"blue\", linewidth=4, label=\"omega_-\")\n",
    "    plt.xlabel('Re(omega)')\n",
    "    plt.ylabel('Im(omega)')\n",
    "    plt.xlim(-rmax, rmax)\n",
    "    plt.ylim(min(-rmax, 1.1*w2.imag), 0)\n",
    "    plt.axes().set_aspect('equal')\n",
    "    ax.legend(numpoints=1, loc='lower right')\n",
    "\n",
    "interact(plot_frequencies,\n",
    "         omega0 = FloatSlider(min=0.5, max=1.5, step=0.05, value=1.0),\n",
    "         gamma  = FloatSlider(min=0.0, max=2.0, step=0.05, value=0.1));"
   ]
  },
  {
   "cell_type": "markdown",
   "metadata": {},
   "source": [
    "In particular, note the following features:\n",
    "\n",
    "* For $\\gamma = 0$ (zero damping), the two frequencies are both real, and take the values $\\pm \\omega_0$. This corresponds to undamped (or \"simple\") harmonic oscillation at the oscillator's natural frequency.\n",
    "* If we increase $\\gamma$ from zero with $\\omega_0$ fixed, both $\\omega_+$ and $\\omega_-$ move downwards in the complex plane, along a circular arc.  Because the imaginary part of the frequencies are negative, this implies damped oscillation.\n",
    "* At $\\gamma = \\omega_0$, the frequencies meet along the imaginary axis. We will have more to say about this case [later](#critical_damping).\n",
    "* For $\\gamma > \\omega_0$, the two frequencies move apart along the imaginary axis. Purely imaginary frequencies correspond to a trajectory that simply decays without oscillating.  We'll say more about this kind of motion [later](#overdamped)."
   ]
  },
  {
   "cell_type": "markdown",
   "metadata": {},
   "source": [
    "## General solution for the damped harmonic oscillator\n",
    "\n",
    "First, suppose $\\omega_0 \\ne \\gamma$.  In the previous section, we found two classes of specific solutions, with complex frequencies $\\omega_+$ and $\\omega_-$:\n",
    "\n",
    "$$z_+(t) = e^{-i\\omega_+ t} \\;\\;\\mathrm{and}\\;\\; z_-(t) = e^{-i\\omega_- t}, \\;\\;\\mathrm{where}\\;\\;\\; \\omega_\\pm = -i\\gamma \\pm \\sqrt{\\omega_0^2 - \\gamma^2}.$$\n",
    "\n",
    "We can write down a more general solution consisting of a linear superposition of these specific solutions:\n",
    "\n",
    "$$\\begin{aligned}z(t) &= \\psi_+ e^{-i\\omega_+ t} + \\psi_- e^{-i\\omega_- t} \\\\ &= \\psi_+ \\, \\exp\\left[\\left(-\\gamma  - i \\sqrt{\\omega_0^2 - \\gamma^2}\\right)t\\right] \\; +\\; \\psi_- \\, \\exp\\left[\\left(-\\gamma +i\\sqrt{\\omega_0^2 - \\gamma^2}\\right)t\\right].\\end{aligned}$$\n",
    "\n",
    "This contains two undetermined complex parameters, $\\psi_+$ and $\\psi_-$. These are *independent* parameters since they are the coefficients that multiply different functions (the functions are different because $\\omega_0 \\ne \\gamma$ implies that $\\omega_+ \\ne \\omega_-$).  Hence, the above equation for $z(t)$ is a general solution for the complex damped harmonic oscillator equation.\n",
    "\n",
    "To obtain the general solution to the ''real'' damped harmonic oscillator equation, we have to take the real part of the complex solution. The result can be further simplified depending on whether the term $\\omega_0^2 - \\gamma^2$ in the formula is positive or negative. This leads to what are called **under-damped solutions** and **over-damped solutions**, to be discussed in the following subsections.\n",
    "\n",
    "What about if $\\omega_0 = \\gamma$? In this instance, $\\omega_+ = \\omega_-$, which means that $\\psi_+$ and $\\psi_-$ aren't independent parameters.  Therefore, the above equation for $z(t)$ isn't a valid general solution in this particular case!  Instead, the general solution is something called a **critically-damped solution**, which we will [discuss later](#critical_damping)."
   ]
  },
  {
   "cell_type": "markdown",
   "metadata": {},
   "source": [
    "### Under-damped motion<a name=\"underdamped\"></a>\n",
    "\n",
    "For $\\omega_0 > \\gamma$, let us define, for convenience,\n",
    "\n",
    "$$\\Omega = \\sqrt{\\omega_0^2 - \\gamma^2}.$$\n",
    "\n",
    "Then we can simplify the real solution as follows:\n",
    "\n",
    "$$\\begin{align}x(t) &= \\mathrm{Re}\\left[z(t)\\right] \\\\ &= e^{-\\gamma t} \\; \\mathrm{Re}\\left[\\psi_+ \\, e^{-i \\Omega t} \\,+\\, \\psi_- \\, e^{i\\Omega t}\\right] \\\\ &= e^{-\\gamma t} \\left[ A\\cos\\left(\\Omega t\\right) + B \\sin\\left(\\Omega t\\right)\\right], \\;\\;\\mathrm{where}\\;\\; A, B \\in \\mathbb{R}\\end{align}$$\n",
    "\n",
    "With a bit of algebra, we can show that\n",
    "\n",
    "$$A = \\mathrm{Re}\\left[\\psi_+ + \\psi_-\\right], \\quad B = \\mathrm{Im}\\left[\\psi_+ - \\psi_-\\right].$$\n",
    "\n",
    "The coefficients $A$ and $B$ act as two independent ''real'' parameters, so this is a valid general solution for the real damped harmonic oscillator equation.  Using the trigonometric formulas, the solution can be equivalently written as\n",
    "\n",
    "$$x(t) = C e^{-\\gamma t} \\cos\\left[\\Omega t + \\Phi\\right],$$\n",
    "\n",
    "with the parameters $C = \\sqrt{A^2 + B^2}$ and $\\Phi = - \\tan^{-1}\\left[B/A\\right]$.\n",
    "\n",
    "Either way, this is called an **under-damped solution**.  As shown below, the trajectory is an oscillation whose amplitude decreases with time.  The decrease in the amplitude can be visualized using a smooth \"envelope\" given by $\\pm C e^{-\\gamma t}$, which is drawn with dashes in the figure.  Inside this envelope, the trajectory oscillates with frequency $\\Omega = \\sqrt{\\omega_0^2 - \\gamma^2}$, which is slightly less than the natural frequency of oscillation $\\omega_0$."
   ]
  },
  {
   "cell_type": "code",
   "execution_count": 2,
   "metadata": {
    "collapsed": false
   },
   "outputs": [
    {
     "data": {
      "image/png": "[encoded data removed]",
      "text/plain": [
       "<matplotlib.figure.Figure at 0x7f966585dcc0>"
      ]
     },
     "metadata": {},
     "output_type": "display_data"
    }
   ],
   "source": [
    "%matplotlib inline\n",
    "from ipywidgets import interact, FloatSlider\n",
    "from numpy import linspace, cos, sqrt, exp\n",
    "import matplotlib.pyplot as plt\n",
    "\n",
    "def plot_underdamped(omega0, gamma, C, phi):\n",
    "    x0, t = 1.0, linspace(0, 20, 200)\n",
    "    xe = C * exp(-gamma*t)\n",
    "    x  = xe * cos(sqrt(omega0**2 - gamma**2)*t+phi)\n",
    "    \n",
    "    plt.figure(figsize=(10,5))\n",
    "    plt.title('Motion of an underdamped oscillator')\n",
    "    plt.plot(t, x, 'b', label='x(t)')\n",
    "    ## Plot envelope\n",
    "    ax = plt.subplot(1,1,1)\n",
    "    plt.plot(t, xe, 'r--', label='Envelope')\n",
    "    plt.plot(t, -xe, 'r--')\n",
    "    plt.xlabel('t')\n",
    "    plt.ylabel('x')\n",
    "    plt.xlim(t[0], t[-1])\n",
    "    plt.ylim(-x0, x0)\n",
    "    ax.legend(numpoints=1, loc='upper right')\n",
    "    plt.show()\n",
    "\n",
    "interact(plot_underdamped,\n",
    "         omega0 = FloatSlider(min=0.5, max=1.5, step=0.02, value=1.0),\n",
    "         gamma  = FloatSlider(min=0.0, max=0.5, step=0.02, value=0.1),\n",
    "         C      = FloatSlider(min=0.0, max=1.0, step=0.05, value=1.0),\n",
    "         phi    = FloatSlider(min=-3.14, max=3.14, step=0.002, value=0.0));"
   ]
  },
  {
   "cell_type": "markdown",
   "metadata": {},
   "source": [
    "### Over-damped motion<a name=\"overdamped\"></a>\n",
    "\n",
    "For $\\omega_0 < \\gamma$, the square root term becomes imaginary.  It is convenient to define\n",
    "\n",
    "$$\\Gamma = \\sqrt{\\gamma^2 - \\omega_0^2} \\quad \\Rightarrow \\quad \\sqrt{\\omega_0^2 - \\gamma^2} = i \\Gamma.$$\n",
    "\n",
    "Then the real solution simplifies in a different way:\n",
    "\n",
    "$$\\begin{align} x(t) &= \\mathrm{Re}\\left[z(t)\\right] \\\\&= \\mathrm{Re}\\left[\\psi_+ e^{\\left(-\\gamma  + \\Gamma\\right)t} + \\psi_- e^{\\left(-\\gamma - \\Gamma\\right)t} \\right] \\\\ &= C_+ e^{-(\\gamma - \\Gamma) t} + C_- e^{-(\\gamma + \\Gamma) t},\\end{align}$$\n",
    "\n",
    "where\n",
    "\n",
    "$$C_\\pm = \\mathrm{Re}[\\psi_\\pm].$$\n",
    "\n",
    "This is called an **over-damped** solution. The solution consists of two terms, both exponentially decaying in time, with $(\\gamma-\\Gamma)$ and $(\\gamma + \\Gamma)$ serving as the decay rates. Note that both decay rates are positive real numbers, because  $\\Gamma < \\gamma$ from the definition of $\\Gamma$.  Also, note that the first decay rate $(\\gamma - \\Gamma)$ is a *decreasing* function of $\\gamma$, whereas the second decay rate $(\\gamma + \\Gamma)$ is an *increasing* function of $\\gamma$."
   ]
  },
  {
   "cell_type": "code",
   "execution_count": 4,
   "metadata": {
    "collapsed": false
   },
   "outputs": [
    {
     "data": {
      "image/png": "[encoded data removed]",
      "text/plain": [
       "<matplotlib.figure.Figure at 0x7f9665ae9ba8>"
      ]
     },
     "metadata": {},
     "output_type": "display_data"
    }
   ],
   "source": [
    "%matplotlib inline\n",
    "from ipywidgets import interact, FloatSlider\n",
    "from numpy import linspace, sqrt, exp\n",
    "import matplotlib.pyplot as plt\n",
    "\n",
    "def plot_overdamped(omega0, gamma, C1, C2):\n",
    "    x0, t = 2.0, linspace(0, 10, 200)\n",
    "\n",
    "    G = sqrt(gamma**2 - omega0**2)\n",
    "    xe = C1 * exp(-(gamma-G)*t)\n",
    "    x  = xe + C2 * exp(-(gamma+G)*t)\n",
    "    \n",
    "    plt.figure(figsize=(10,5))\n",
    "    plt.title('Motion of an overdamped oscillator')\n",
    "    ax = plt.subplot(1,1,1)\n",
    "    plt.plot(t, x, 'b', label='x(t)')\n",
    "    plt.plot(t, xe, 'r--', label='Limit')\n",
    "    plt.xlabel('t')\n",
    "    plt.ylabel('x')\n",
    "    plt.xlim(t[0], t[-1])\n",
    "    plt.ylim(-0.1*x0, x0)\n",
    "    ax.legend(numpoints=1, loc='upper right')\n",
    "\n",
    "interact(plot_overdamped,\n",
    "         omega0= FloatSlider(min=0.1, max=1.0, step=0.05, value=1.0),\n",
    "         gamma = FloatSlider(min=1.0, max=5.0, step=0.05, value=0.1),\n",
    "         C1    = FloatSlider(min=0.0, max=1.0, step=0.05, value=1.0),\n",
    "         C2    = FloatSlider(min=0.0, max=1.0, step=0.05, value=1.0));"
   ]
  },
  {
   "cell_type": "markdown",
   "metadata": {},
   "source": [
    "The larger decay rate, $(\\gamma + \\Gamma)$, is associated with a faster-decaying exponential. Therefore, at long times the second term becomes negligible compared to the first term. Then the solution approaches the limit\n",
    "\n",
    "$$x(t) \\approx C_+ e^{-(\\gamma - \\Gamma) t} \\qquad (\\mathrm{large}\\;\\;t).$$\n",
    "\n",
    "This limiting curve is shown as a red dash in the above figure.\n",
    "\n",
    "This has an interesting implication: *the stronger the damping, the slower the effective decay rate at long times*.  Why does this happen? In the over-damped regime, the motion of the oscillator is dominated by the damping force rather than the spring force; as the oscillator tries to return to its equilibrium position $x = 0$, the damping acts against this motion.  Hence, the stronger the damping, the slower the decay to equilibrium.\n",
    "\n",
    "This contrasts sharply with the \"under-damped\" regime discussed [above](#underdamped), in which the spring force dominates the damping force. In that case, stronger damping speeds up the decay to equilibrium, by causing the kinetic energy of the oscillation to be dissipated more rapidly."
   ]
  },
  {
   "cell_type": "markdown",
   "metadata": {},
   "source": [
    "### Critical damping<a name=\"critical_damping\"></a>\n",
    "\n",
    "**Critical damping** occurs when $\\omega_0 = \\gamma$.  Under this special condition, [the solution that we previously derived](#ansatz) reduces to\n",
    "\n",
    "$$z(t) = \\left(\\psi_+ + \\psi_-\\right) e^{-\\gamma t}.$$\n",
    "\n",
    "This has only *one* independent complex parameter, i.e. the parameter $(\\psi_+ + \\psi_-)$.  Therefore, it cannot be a general solution for the complex damped harmonic oscillator equation, which is still a second-order ODE.\n",
    "\n",
    "We will not go into detail here regarding the procedure for finding the general solution for the critically-damped oscillator, leaving it as an [exercise](#exercises) for the interested reader. Basically, we can Taylor expand the solution on either side of the critical point, and then show that there is a solution of the form\n",
    "\n",
    "$$z(t) = \\left(A + B t\\right)\\, e^{-\\gamma t},$$\n",
    "\n",
    "which contains the desired two independent parameters.\n",
    "\n",
    "The critically-damped solution contains an exponential decay constant of $\\gamma$, which is the same as the decay constant for the [envelope function in the under-damped regime](#underdamped), and *smaller* than the (long-time) decay constants in the [over-damped regime](#overdamped).  Hence, we can regard the critically-damped solution as the *fastest-decaying non-oscillatory solution*.\n",
    "\n",
    "This feature of critical damping is employed in many engineering contexts, the most familiar being automatic door closers. If the damping is too weak or the spring force is too strong (under-damped), the door will tend to slam shut, whereas if the damping is too strong or the spring force is too weak (under-damping), the door will take unnecessarily long to close.  Hence, door closers need to be tuned to a \"sweet spot\" that corresponds to the critical damping point."
   ]
  },
  {
   "cell_type": "markdown",
   "metadata": {},
   "source": [
    "## Stating the solution in terms of initial conditions\n",
    "\n",
    "The general solution for the complex damped harmonic oscillator equation, which we [obtained above](#ansatz), contains two undetermined parameters which are the complex amplitudes of the \"clockwise\" and \"counterclockwise\" complex oscillations:\n",
    "\n",
    "$$z(t) = \\psi_+ e^{-i\\omega_+ t} + \\psi_- e^{-i\\omega_- t}, \\quad\\mathrm{where} \\;\\; \\omega_\\pm =  -i\\gamma  \\pm \\sqrt{\\omega_0^2 - \\gamma^2}.$$\n",
    "\n",
    "However, mechanics problems are often expressed in terms of an **initial-value problem**, which expresses the state of the system at some initial time $t = 0$.  Suppose we are given $z(0) \\equiv x_0$ and $\\dot{z}(0) \\equiv v_0$; then what is $z(t)$ in terms of $x_0$ and $v_0$?\n",
    "\n",
    "We can solve the initial-value problem by finding $z(0)$ and $\\dot{z}(0)$ in terms of the above general solution for $z(t)$.  The results are\n",
    "\n",
    "$$\\begin{aligned} z(0) &= \\quad \\psi_+ + \\psi_- &= x_0& \\\\ \\dot{z}(0) &= -i\\omega_+ \\psi_+ - i \\omega_- \\psi_- &= v_0&.\\end{aligned}$$\n",
    "\n",
    "These two equations can be combined into a 2x2 matrix equation:\n",
    "\n",
    "$$\\begin{bmatrix}1 & 1 \\\\ -i\\omega_+ & -i\\omega_-\\end{bmatrix} \\begin{bmatrix}\\psi_+ \\\\ \\psi_-\\end{bmatrix} = \\begin{bmatrix}x_0 \\\\ v_0\\end{bmatrix}.$$\n",
    "\n",
    "So long as the system is not at the critical point (i.e., $\\omega_+ \\ne \\omega_-$), the matrix is non-singular, and we can invert it to obtain $\\psi_\\pm$:\n",
    "\n",
    "$$\\begin{bmatrix}\\psi_+ \\\\ \\psi_-\\end{bmatrix} = \\frac{1}{i(\\omega_+-\\omega_-)}\\begin{bmatrix}-i\\omega_-x_0 - v_0 \\\\ i\\omega_+x_0 + v_0 \\end{bmatrix}.$$\n",
    "\n",
    "We can plug these coefficients back into the general solution. After some algebra, the result simplifies to\n",
    "\n",
    "$$z(t) = e^{-\\gamma t} \\left[x_0 \\cos(\\Omega t) + \\frac{\\gamma x_0 + v_0}{\\Omega} \\, \\sin(\\Omega t)\\right], \\;\\; \\mathrm{where}\\;\\; \\Omega \\equiv \\sqrt{\\omega_0^2 - \\gamma^2}.$$\n",
    "\n",
    "For the under-damped case, $\\Omega$ is real, and this solution is consistent with the one [we previously derived](#underdamped), except that it is now explicitly expressed in terms our initial conditions $x_0$ and $v_0$. As for the [over-damped case](#overdamped), we can perform the replacement\n",
    "\n",
    "$$\\Omega \\rightarrow i \\Gamma = i \\sqrt{\\gamma^2 - \\omega_0^2}.$$\n",
    "\n",
    "Then, using the [relationship between trigonometric and hyperbolic functions](mathfunctions.ipynb#hyperbolic), the solution can be re-written as\n",
    "\n",
    "$$\\begin{aligned}z(t) &= e^{-\\gamma t} \\left[x_0 \\cosh(\\Gamma t) + \\frac{\\gamma x_0 + v_0}{i\\Gamma} \\, i \\sinh(\\Gamma t)\\right] \\\\ &= \\left(\\frac{x_0}{2} + \\frac{\\gamma x_0 + v_0}{2\\Gamma}\\right) e^{-(\\gamma - \\Gamma) t} + \\left(\\frac{x_0}{2} - \\frac{\\gamma x_0 + v_0}{2\\Gamma}\\right) e^{-(\\gamma+\\Gamma)t},\\end{aligned}$$\n",
    "\n",
    "which is again consistent with our [previous result](#overdamped).\n",
    "\n",
    "In either case, so long as we plug in real values for $x_0$ and $v_0$, the solution is guaranteed to be real for all $t$.  That's to be expected, since the real solution is also one of the specific solutions for the complex harmonic oscillator equation. The resulting solution is plotted below."
   ]
  },
  {
   "cell_type": "code",
   "execution_count": 5,
   "metadata": {
    "collapsed": false
   },
   "outputs": [
    {
     "data": {
      "image/png": "[encoded data removed]",
      "text/plain": [
       "<matplotlib.figure.Figure at 0x7f888dcd85f8>"
      ]
     },
     "metadata": {},
     "output_type": "display_data"
    }
   ],
   "source": [
    "%matplotlib inline\n",
    "from ipywidgets import interact, FloatSlider\n",
    "from numpy import linspace, sin, cos, sqrt, exp\n",
    "import matplotlib.pyplot as plt\n",
    "from math import ceil\n",
    "\n",
    "def plot_oscillator(omega0, gamma, x0, v0):\n",
    "    t = linspace(0, 20, 200)\n",
    "\n",
    "    if omega0 > gamma:\n",
    "        W = sqrt(omega0**2 - gamma**2)\n",
    "        A, B = x0, (gamma*x0+v0)/W\n",
    "        x = exp(-gamma*t) * (A * cos(W*t) + B * sin(W*t))\n",
    "    elif omega0 < gamma:\n",
    "        G = sqrt(gamma**2 - omega0**2)\n",
    "        A = 0.5*(x0 + (gamma*x0 + v0)/G)\n",
    "        B = 0.5*(x0 - (gamma*x0 + v0)/G)\n",
    "        x = A*exp(-(gamma-G)*t) + B * exp(-(gamma+G)*t)\n",
    "    else:\n",
    "        x = (x0 + (v0+gamma*x0)*t) * exp(-gamma*t)\n",
    "\n",
    "    plt.figure(figsize=(10,5))\n",
    "    plt.title('Motion of a damped harmonic oscillator')\n",
    "    plt.plot(t, x, 'b', label='x(t)')\n",
    "    ax = plt.subplot(1,1,1)\n",
    "    plt.xlabel('t')\n",
    "    plt.ylabel('x')\n",
    "    lim = max(ceil(1.1*max(abs(x))), 1.0)\n",
    "    plt.ylim(-lim, lim)\n",
    "    ax.legend(numpoints=1, loc='upper right')\n",
    "\n",
    "interact(plot_oscillator,\n",
    "         omega0 = FloatSlider(min=0.1, max=1.9, step=0.05, value=1.0),\n",
    "         gamma  = FloatSlider(min=0.0, max=2.0, step=0.05, value=1.0),\n",
    "         x0     = FloatSlider(min=-2., max=2.0, step=0.05, value=1.0),\n",
    "         v0     = FloatSlider(min=-5., max=5.0, step=0.05, value=5.0));"
   ]
  },
  {
   "cell_type": "markdown",
   "metadata": {},
   "source": [
    "## Exercises\n",
    "\n",
    "<ol>\n",
    "<li>In the [general solution for the complex damped harmonic oscillator equation](#ansatz), we encountered the complex frequencies<br/>$$\\omega_\\pm = -i\\gamma \\pm \\sqrt{\\omega_0^2 - \\gamma^2}.$$<br/>For fixed $\\omega_0$ and $\\omega_0 > \\gamma$ (under-damping), prove that $\\omega_\\pm$ lie along a circular arc in the complex plane.\n",
    "</li>\n",
    "<li>\n",
    "Derive the [general solution for the critically-damped oscillator](#critical_damping), by following these steps:\n",
    "<ol>\n",
    "<li>Consider the complex ODE, in the under-damped regime $\\omega_0 > \\gamma$.  We [have shown](#ansatz) that the general solution has the form<br/>$$z(t) = \\psi_+ \\, \\exp\\left[\\left(-\\gamma  - i \\sqrt{\\omega_0^2 - \\gamma^2}\\right)t\\right] \\; +\\; \\psi_- \\, \\exp\\left[\\left(-\\gamma +i\\sqrt{\\omega_0^2 - \\gamma^2}\\right)t\\right]$$<br/>for some complex parameters $\\psi_+$ and $\\psi_-$.  Let us define the positive parameter $\\varepsilon = \\sqrt{\\omega_0^2 - \\gamma^2}$.  Re-write $z(t)$ in terms of $\\gamma$ and $\\varepsilon$ (i.e., eliminating $\\omega_0$).</li>\n",
    "<li>Taylor expand $z(t)$ in the parameter $\\varepsilon$.</li>\n",
    "<li>The expression for $z(t)$ is presently parameterized by $\\psi_+$, $\\psi_-$, $\\varepsilon$, and $\\gamma$.  We are free to re-define the parameters, e.g. by taking<br/>$$\\begin{aligned}\\alpha &= \\psi_+ + \\psi_- \\\\ \\beta &= -i\\varepsilon(\\psi_+ - \\psi_-).\\end{aligned}$$<br/>Show that<br/>$$z(t) = e^{-\\gamma t}\\left[\\alpha + \\beta t + \\cdots\\right],$$<br/>where the omitted terms are of order $\\varepsilon^2$ and higher.</li>\n",
    "<li>Show that in the limit $\\varepsilon \\rightarrow 0$, the re-parameterized form for $z(t)$ reduces to the [critically-coupled general solution](#critical_damping).</li>\n",
    "</ol>\n",
    "</li>\n",
    "<li>Repeat the above derivation for the critically-damped solution, but starting from the over-damped regime $\\gamma > \\omega_0$.</li>\n",
    "<li>A **parametric oscillator** is an oscillator whose spring \"constant\" varies with time, as described by the ordinary differential equation\n",
    "\n",
    "$$\\left[\\frac{d^2}{dt^2} + 2\\gamma\\frac{d}{dt} + \\Omega(t)^2\\right]x(t) = 0, \\quad\\mathrm{where}\\;\\;\\Omega(t) = \\omega_0\\left[1 + \\alpha \\cos(2\\omega_1 t)\\right].$$\n",
    "\n",
    "The term \"parametric\" refers to the fact that the parameter $\\Omega$, which is normally a constant, has been turned into a time-dependent quantity.\n",
    "\n",
    "Suppose the \"modulation frequency\", $\\omega_1$, is much smaller than the natural frequency $\\omega_0$.  Let's make $x(t)$ complex, and look for a solution of the form\n",
    "\n",
    "$$x(t) = \\psi(t) \\, e^{-i\\omega_0 t},$$\n",
    "\n",
    "where $\\psi(t)$ is a complex \"envelope function\" which varies much more slowly than the $e^{-i\\omega_0 t}$ factor.  Mathematically, the slowness of the variation is represented by the condition\n",
    "\n",
    "$$\\left|\\frac{d^2\\psi}{dt^2}\\right| \\ll \\omega_0 \\left|\\frac{d\\psi}{dt}\\right|.$$\n",
    "\n",
    "In such a situation, the second time derivative can be neglected; this is called the \"slowly-varying envelope approximation\".  By making this approximation, show that the parametric oscillator equation reduces to the form\n",
    "\n",
    "$$\\frac{d\\left[\\ln(\\psi)\\right]}{dt} = f(t),$$\n",
    "\n",
    "and find $f(t)$.  Hence, solve for $\\psi(t)$ and show that the oscillation ampitude $|\\psi(t)|$ consists of an exponential decay overlaid on a sinusoidal modulation.\n",
    "</li>\n",
    "</ol>"
   ]
  },
  {
   "cell_type": "code",
   "execution_count": null,
   "metadata": {
    "collapsed": true
   },
   "outputs": [],
   "source": []
  }
 ],
 "metadata": {
  "kernelspec": {
   "display_name": "Python 3",
   "language": "python",
   "name": "python3"
  },
  "language_info": {
   "codemirror_mode": {
    "name": "ipython",
    "version": 3
   },
   "file_extension": ".py",
   "mimetype": "text/x-python",
   "name": "python",
   "nbconvert_exporter": "python",
   "pygments_lexer": "ipython3",
   "version": "3.5.1"
  }
 },
 "nbformat": 4,
 "nbformat_minor": 0
}
