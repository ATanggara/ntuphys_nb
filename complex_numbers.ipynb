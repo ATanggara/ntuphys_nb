{
 "cells": [
  {
   "cell_type": "markdown",
   "metadata": {},
   "source": [
    "# Complex Numbers\n",
    "\n",
    "The **imaginary unit**, denoted $i$, is a hypothetical solution to the quadratic equation\n",
    "\n",
    "$$z^2 + 1 = 0,$$\n",
    "\n",
    "which is an equation that lacks real solutions.  In other words, $i = \\sqrt{-1}$.\n",
    "\n",
    "We can let the imaginary unit take part in the usual arithmetic operations of addition and multiplication, treating it as an algebraic quantity on the same footing as the more familiar real numbers.  Thus, we deal with numbers containing both real and imaginary parts, called **complex numbers**.  It is one of the most profound discoveries of mathematics that this seemingly arbitrary idea gives rise to powerful computational methods for addressing mathematical and physical problems."
   ]
  },
  {
   "cell_type": "markdown",
   "metadata": {},
   "source": [
    "## Complex algebra\n",
    "\n",
    "For any complex number $z$, we can write\n",
    "\n",
    "$$z = x + i y,$$\n",
    "\n",
    "where $x$ and $y$ are real numbers that depend uniquely on $z$.  We refer to these as the real and imaginary parts of $z$, and denote them as $\\mathrm{Re}(z)$ and $\\mathrm{Im}(z)$.  The $\\mathrm{Re}$ and $\\mathrm{Im}$ operations can be regarded as functions mapping complex numbers to real numbers\n",
    "\n",
    "The set of complex numbers is denoted by $\\mathbb{C}$.  We can define algebraic operations on complex numbers&mdash;addition/subtraction, products, and taking powers&mdash;simply by following the usual rules of algebra and setting $i^2 = -1$ whenever it shows up.\n",
    "\n",
    "<table width=75%>\n",
    "<tr><td>Example</td></tr>\n",
    "<tr><td>Let $z = x + i y$, where $x, y \\in \\mathbb{R}$.  What is $z^2$?<br/>$$\\begin{align}z^2 &= (x+iy)^2 \\\\&= x^2 + 2x(iy) + (iy)^2 \\\\&= x^2 - y^2 + 2ixy\\end{align}$$<br/>Hence, the solution is:<br/>$$\\mathrm{Re}(z^2) = x^2 -y^2, \\;\\;\\; \\mathrm{Im}(z^2) = 2xy.$$</td></tr></table>\n",
    "\n",
    "There's one caveat: for now, we'll only consider taking *integer* powers, such as $z^{-1}$ or $z^2$.  Taking non-integer powers, such as $z^{1/3}$, introduces vexatious complications which we'll postpone for now (we'll deal with this when discussing [branch points and branch cuts](branch_cuts.ipynb)).\n",
    "\n",
    "Of particular interest is the fact that\n",
    "\n",
    "$$\\left\\{\\begin{array}{l}\\mathrm{Re}(\\alpha z + \\beta z') = \\alpha \\, \\mathrm{Re}(z) + \\beta\\, \\mathrm{Re}(z')\\\\ \\mathrm{Im}(\\alpha z + \\beta z') = \\alpha \\, \\mathrm{Im}(z) + \\beta\\, \\mathrm{Im}(z')\\end{array}\\right.\\qquad\\mathrm{for}\\;\\alpha, \\beta \\in \\mathbb{R}.$$\n",
    "\n",
    "This has an important consequence: if we have a complex function of a real variable, then we can calculate the derivative of that function from the derivatives of the real and imaginary parts, as proven in the example below:\n",
    "\n",
    "<table width=75%>\n",
    "<tr><td>Example</td></tr>\n",
    "<tr><td>If $z(t)$ is a complex function of a real input $t$, then<br/>\n",
    "$$\\mathrm{Re}\\left[\\frac{dz}{dt}\\right] = \\frac{d}{dt} \\mathrm{Re}\\left[z(t)\\right], \\;\\;\\textrm{and}\\;\\;\\; \\mathrm{Im}\\left[\\frac{dz}{dt}\\right] = \\frac{d}{dt} \\mathrm{Im}\\left[z(t)\\right].$$<br/>\n",
    "This can be proven using the definition of the [derivative](derivatives.ipynb):<br/>\n",
    "$$\\begin{align}\\mathrm{Re}\\left[\\frac{dz}{dt}\\right] &= \\;\\; \\mathrm{Re}\\left[\\lim_{\\delta t \\rightarrow 0} \\frac{z(t+\\delta t) - z(t)}{\\delta t}\\right] \\\\&= \\lim_{\\delta t \\rightarrow 0} \\left[\\frac{\\mathrm{Re}[z(t+\\delta t)] - \\mathrm{Re}[z(t)]}{\\delta t}\\right] \\\\&= \\frac{d}{dt} \\mathrm{Re}\\left[z(t)\\right].\\end{align}$$<br/>\n",
    "The $\\mathrm{Im}$ case works out similarly.  Note that the infinitesimal quantity $\\delta t$ is real; otherwise, this wouldn't work.</td></tr></table>"
   ]
  },
  {
   "cell_type": "markdown",
   "metadata": {},
   "source": [
    "<a name=\"conjugate\"></a>\n",
    "<a name=\"magnitude\"></a>\n",
    "## Magnitudes and conjugates\n",
    "\n",
    "For a complex number $z = x + i y$, the **magnitude** of the complex number is\n",
    "\n",
    "$$|z| = \\sqrt{x^2 + y^2}.$$\n",
    "\n",
    "This is a non-negative real number.  We can show that complex magnitudes have the property\n",
    "\n",
    "$$|z_1 z_2| = |z_1| \\, |z_2|.$$\n",
    "\n",
    "This property is similar to the \"absolute value\" operation for real numbers, hence the similar notation.  In particular, taking a power of a complex number raises its magnitude by the same power:\n",
    "\n",
    "$$|z^n| = |z|^n.$$\n",
    "\n",
    "For each complex number $z = x + iy$, we define its **complex conjugate** as a complex number whose imaginary part has its sign flipped: $z^* = x - i y$.   A complex number and its conjugate have the same magnitude: $|z| = |z^*|$.  We can show that conjugation obeys the properties\n",
    "\n",
    "$$(z_1 + z_2)^* = z_1^* + z_2^*.$$\n",
    "$$(z_1 z_2)^* = z_1^* z_2^*.$$\n",
    "\n",
    "<table width=75%>\n",
    "<tr><td>Example</td></tr>\n",
    "<tr><td>Let us prove that $(z_1 z_2)^* = z_1^* z_2^*$.  First, let $z_1 = x_1 + i y_1$ and $z_2 = x_2 + i y_2$.  Then,<br/>$$\\begin{align}(z_1 z_2)^* &= \\left[(x_1+iy_1)(x_2+iy_2)\\right]^* \\\\ &= \\left[\\left(x_1 x_2 - y_1 y_2\\right) + i\\left(x_1y_2+y_1x_2\\right)\\right]^* \\\\ &= \\left(x_1 x_2 - y_1 y_2\\right) - i\\left(x_1y_2+y_1x_2\\right) \\\\ &= \\left(x_1 - i y_1\\right)\\left(x_2 - i y_2\\right) \\\\&= z_1^* z_2^* \\end{align}$$</td></tr></table>"
   ]
  },
  {
   "cell_type": "markdown",
   "metadata": {},
   "source": [
    "<a name=\"euler_formula\"></a>\n",
    "## Euler's formula\n",
    "\n",
    "Euler's formula is an extremely important result which states that\n",
    "\n",
    "$$e^{iz} = \\cos(z) + i \\sin(z).$$\n",
    "\n",
    "This can be proven using the [series definition of the exponential function](mathfunctions.ipynb#exponential), which is\n",
    "\n",
    "$$\\exp(z) = 1 + z + \\frac{z^2}{2!} + \\frac{z^3}{3!} + \\frac{z^4}{4!} + \\frac{z^5}{5!} + \\frac{z^6}{6!} + \\cdots$$\n",
    "\n",
    "Previously, we assumed that the input to the exponential function was a real number.  However, since complex numbers can be added and multiplied using the same rules of algebra as real numbers, we can employ this series formula as the definition of the **complex exponential function**.  This is a function that takes complex inputs and gives complex outputs. When the input happens to be real, the complex exponential function gives the same output as the real exponential function.\n",
    "\n",
    "Plugging $iz$ as the input to the complex exponential function gives\n",
    "\n",
    "$$\\begin{align}\\exp(iz) &= 1 + (iz) + \\frac{(iz)^2}{2!} + \\frac{(iz)^3}{3!} + \\frac{(iz)^4}{4!} + \\frac{(iz)^5}{5!} + \\frac{(iz)^6}{6!} + \\cdots \\\\&= 1 + iz - \\frac{z^2}{2!} - i \\frac{z^3}{3!} + \\frac{z^4}{4!} + i \\frac{z^5}{5!} - \\frac{z^6}{6!} + \\cdots \\\\& = \\left(1 - \\frac{z^2}{2!} + \\frac{z^4}{4!} - \\frac{z^6}{6!} + \\cdots\\right) + i\\left(z  - \\frac{z^3}{3!}  + \\frac{z^5}{5!}  - \\frac{z^7}{7!} + \\cdots\\right).\\end{align}$$\n",
    "\n",
    "Now, compare the two terms in parentheses to the [series expansions for the cosine and sine functions](derivatives.ipynb#taylor_useful).  We can define the **complex cosine** and **complex sine** functions using these complex series formulas:\n",
    "\n",
    "$$\\cos(z) = 1 - \\frac{z^2}{2!} + \\frac{z^4}{4!} - \\frac{z^6}{6!} + \\cdots$$\n",
    "$$\\sin(z) = z - \\frac{z^3}{3!} + \\frac{z^5}{5!} - \\frac{z^7}{7!} + \\cdots$$\n",
    "\n",
    "These are perfect matches for the two terms in the series expansion of the complex exponential!  Hence, Euler's formula (above) immediately follows:\n",
    "\n",
    "$$e^{iz} = \\cos(z) + i \\sin(z).$$\n",
    "\n",
    "One immediate consequence of Euler's formula is that\n",
    "\n",
    "$$\\left|e^{i\\theta}\\right| = \\sqrt{\\cos^2(\\theta) + \\sin^2(\\theta)} = 1 \\qquad \\mathrm{for}\\; \\theta \\in \\mathbb{R}.$$\n",
    "\n",
    "Another interesting consequence is that\n",
    "\n",
    "$$e^{i\\pi} = -1,$$\n",
    "\n",
    "which is a formula that relates two transcendental constants $e = 2.7182818285\\dots$ and $\\pi = 3.141592654\\dots$, by means of the imaginary unit.  (We saw a different relationship between these two constants when solving the [Gaussian integral](integrals.ipynb#gaussian_integral).)"
   ]
  },
  {
   "cell_type": "markdown",
   "metadata": {},
   "source": [
    "## The complex plane\n",
    "\n",
    "A convenient device for conceptualizing complex numbers is to think of a complex number as a point on a two-dimensional plane, called the **complex plane**.  The real and imaginary parts are the horizontal and vertical Cartesian coordinates in the plane.  The horizontal ($x$) and vertical ($y$) coordinate axes are called the \"real axis\" and the \"imaginary axis\", respectively.\n",
    "\n",
    "<img src=\"img/complex_plane.png\" alt=\"The complex plane.\" width=\"30%\"></img>\n",
    "\n",
    "### Polar representation\n",
    "\n",
    "If we think of a complex number as a point on the complex plane, such a position can also be represented using polar coordinates instead of Cartesian coordinates. For a complex number $z = x + i y$, we can introduce polar coordinates $r$ and $\\theta$ (both real numbers), such that\n",
    "\n",
    "$$r = \\sqrt{x^2 + y^2}, \\;\\;\\; \\theta = \\tan^{-1}(y/x).$$\n",
    "\n",
    "Conversely,\n",
    "\n",
    "$$x = r\\cos\\theta, \\;\\;\\; y = r\\sin\\theta.$$\n",
    "\n",
    "These are the usual formulas for the change of coordinate between two-dimensional Cartesian coordinates and  polar coordinates, as shown below.  The radial coordinate is $r$, and from its definition we can see that it is equal to what we have defined as the [magnitude](#magnitude) of the complex number: $r = |z|$.  The azimuthal coordinate $\\theta$ is called the **argument** of the complex number, which we sometimes denote by $\\mathrm{arg}(z)$.\n",
    "\n",
    "<img src=\"img/complex_plane_2.png\" alt=\"The complex plane.\" width=\"30%\"></img>\n",
    "\n",
    "Using [Euler's formula](#euler_formula), we can write\n",
    "\n",
    "$$\\begin{align}z &= r\\cos(\\theta) + i r\\sin(\\theta)\\\\&= r \\left[\\cos(\\theta) + i \\sin(\\theta)\\right] \\\\&= r \\, e^{i\\theta}.\\end{align}$$\n",
    "\n",
    "This tells us that whenever we can manipulate a complex number into a form $A e^{iB}$, where $A$ and $B$ are real numbers, then $A$ is the magnitude and $B$ is the argument.  This is used in the following example:\n",
    "\n",
    "<table width=75%>\n",
    "<tr><td>Example</td></tr>\n",
    "<tr><td>If $z$ is a complex number, then the magnitude and agument of $\\exp(z)$ can be written as:<br/>$$\\displaystyle\\left|\\exp(z)\\right| = e^{\\mathrm{Re}(z)}, \\quad \\mathrm{arg}\\left[\\exp(z)\\right] = \\mathrm{Im}(z).$$<br/>Proof: Let $z = x + i y$, where $x, y \\in \\mathbb{R}$; then<br/>$$e^{z} = e^{x + i y} = e^x \\, e^{iy}.$$<br/>By inspection, the magnitude of this complex number is $e^x$, and its argument is $y$.</td></tr></table>"
   ]
  },
  {
   "cell_type": "markdown",
   "metadata": {},
   "source": [
    "### Geometrical interpretation of complex operations\n",
    "\n",
    "Using the complex plane, we can give useful geometric interpretations to the basic operations on complex numbers: \n",
    "\n",
    "<ul><li>Addition of two complex numbers can be interpreted as the addition of two coordinate vectors. If $z_1 = x_1 + i y_1$ and $z_2 = x_2 + i y_2$, then<br/>&nbsp;&nbsp;&nbsp;$z_1 + z_2 = \\left(x_1 + x_2\\right) + i\\left(y_1 + y_2\\right).$<br/>Hence, the point corresponding to $z_1 + z_2$ is obtained by adding the two coordinate vectors corresponding to $z_1$ and $z_2$. From this, we can geometrically prove a useful inequality relation between complex numbers, called the \"triangle inequality\":<br/>&nbsp;&nbsp;&nbsp;$|z_1 + z_2| \\le |z_1| + |z_2|.$</li>\n",
    "<li>Complex multiplication can be interpreted as a scaling together with a rotation.  If $z_1 = r_1e^{i\\theta_1}$ and $z_2 = r_2e^{i\\theta_2}$, then<br/>&nbsp;&nbsp;&nbsp;$z_1 z_2 = \\left(r_1 r_2\\right) \\,\\exp[i(\\theta_1 + \\theta_2)]$<br/>Hence, the point corresponding to $z_1 \\, z_2$ is obtained by scaling the $z_1$ coordinate vector by a factor of $|z_2|$, and rotating it by an angle of $\\theta_2$ around the origin.  In particular, multiplication by $e^{i\\theta}$ is equivalent to a pure rotation of angle $\\theta$.</li>\n",
    "<li>[Complex conjugation](#conjugate) is equivalent to reflection about the real axis.  This moves a point from the \"upper half\" of the complex plane to the \"lower half\", or vice versa.</li></ul>"
   ]
  },
  {
   "cell_type": "markdown",
   "metadata": {},
   "source": [
    "## Complex functions\n",
    "\n",
    "When deriving [Euler's formula](#euler_formula), we introduced **complex functions** that were defined by taking [real mathematical functions](mathfunctions.ipynb), such as the [exponential function](mathfunctions.ipynb#exponential), and making them accept complex number inputs.  Let us take a closer look at how these complex functions behave.\n",
    "\n",
    "### Complex trigonometric functions\n",
    "\n",
    "When we derived [Euler's formula](#euler_formula), we noted that it is valid for arbitrary real numbers:\n",
    "\n",
    "$$\\exp(iz) = \\cos(z) + i \\sin(z), \\quad \\mathrm{for}\\;\\;z\\in\\mathbb{C}.$$\n",
    "\n",
    "The cosine and sine functions on the right-hand side of this equation are ''complex'' trigonometric functions, defined using the same [series expansions](derivatives.ipynb#taylor_useful) as the real cosine and sine functions, except that the inputs $z$ are allowed to be complex numbers:\n",
    "\n",
    "$$\\left\\{\\begin{array}{l}\\displaystyle\\sin(z) = z - \\frac{z^3}{3!} + \\frac{z^5}{5!} - \\frac{z^7}{7!} + \\cdots\\\\ \\displaystyle\\cos(z) = 1 - \\frac{z^2}{2!} + \\frac{z^4}{4!} - \\frac{z^6}{6!} + \\cdots,\\end{array}\\right.\\quad\\quad z\\in \\mathbb{C}$$\n",
    "\n",
    "It is important to note that the ''outputs'' of the complex trigonometric functions are complex numbers too. Therefore, some of the familiar properties of the real trigonometric functions don't apply.  For instance, $|\\sin(z)|$ and $|\\cos(z)|$ are ''not'' bounded by 1 when $z$ is not real. For example,\n",
    "\n",
    "$$\\Big|\\sin(i)\\Big| \\;=\\; 1.1752\\dots \\; >\\; 1.$$\n",
    "\n",
    "We can also write the complex cosine and sine functions in terms of the exponential function:\n",
    "\n",
    "$$\\cos(z) = \\;\\;\\frac{1}{2}\\left(e^{iz} + e^{-iz}\\right)$$\n",
    "$$\\sin(z) = -\\frac{i}{2}\\left(e^{iz} - e^{-iz}\\right).$$\n",
    "\n",
    "This is often a convenient step when solving integrals, as shown in the following example.\n",
    "\n",
    "<table width=75%>\n",
    "<tr><td>Example</td></tr>\n",
    "<tr><td>Consider the (real) integral<br/>$$I = \\int_0^\\infty dx \\; e^{- x} \\, \\cos(x).$$<br/>One way to solve this is to use [integration by parts](integrals.ipynb#integration_by_parts), but another way is to use the complex expansion of the cosine function:<br/>$$\\begin{align}I &= \\int_0^\\infty dx \\; e^{- x} \\,\\frac{1}{2}\\, \\left[e^{ix} + e^{-ix}\\right] \\\\ &= \\frac{1}{2} \\int_0^\\infty dx \\; \\left[e^{(-1+i)x} + e^{(-1-i)x}\\right] \\\\ &= \\frac{1}{2} \\left[ \\frac{e^{(-1+i) x}}{-1+i} + \\frac{e^{(-1 - i) x}}{-1 - i}\\right]_0^\\infty \\\\ &= -\\frac{1}{2} \\left(\\frac{1}{-1+i} + \\frac{1}{-1 - i}\\right) \\\\ &= \\frac{1}{2}.\\end{align}$$</td></tr></table>"
   ]
  },
  {
   "cell_type": "markdown",
   "metadata": {},
   "source": [
    "### Complex trigonometric identities\n",
    "\n",
    "Euler's formula provides a convenient way to deal with trigonometric functions.  Consider the addition formulas\n",
    "\n",
    "$$\\begin{align}\\sin(z_1 + z_2) &= \\sin(z_1) \\cos(z_2) + \\cos(z_1)\\sin(z_2) \\\\ \\cos(z_1 + z_2) &= \\cos(z_1) \\cos(z_2) - \\sin(z_1)\\sin(z_2).\\end{align}$$\n",
    "\n",
    "As [discussed previously](mathfunctions.ipynb#trigonometric), the standard proofs for these formulas are geometric: you have to figure out the figure to draw, and solve a bunch of relations between the angles and sides of the various triangles, making use of the Pythagorean formula.  But using the Euler formula, we can prove these algebraically.  For example,\n",
    "\n",
    "$$\\begin{align}\\cos(z_1)\\cos(z_2) &= \\frac{1}{4}\\left(e^{iz_1} + e^{-iz_1}\\right) \\left(e^{iz_2} + e^{-iz_1}\\right)\\\\&= \\frac{1}{4}\\left[e^{i(z_1+z_2)} + e^{i(-z_1 + z_2)} + e^{i(z_1 -z_2)} + e^{-i(z_1+z_2)}\\right] \\\\ \\sin(z_1)\\sin(z_2) &= -\\frac{1}{4}\\left(e^{iz_1} - e^{-iz_1}\\right) \\left(e^{iz_2} - e^{-iz_1}\\right) \\\\ &= -\\frac{1}{4}\\left[e^{i(z_1+z_2)} - e^{i(-z_1 + z_2)} - e^{i(z_1 -z_2)} + e^{-i(z_1+z_2)}\\right].\\end{align}$$\n",
    "\n",
    "Thus,\n",
    "\n",
    "$$\\cos(z_1) \\cos(z_2) - \\sin(z_1)\\sin(z_2) = \\frac{1}{2}\\left[e^{i(z_1+z_2)} + e^{-i(z_1+z_2)}\\right] = \\cos(z_1 + z_2).$$\n",
    "\n",
    "As a bonus, these addition formulas now hold for complex inputs as well, not just real inputs.  Higher-order trigonometric addition formulas can be derived in a similar way."
   ]
  },
  {
   "cell_type": "markdown",
   "metadata": {},
   "source": [
    "### Hyperbolic functions\n",
    "\n",
    "Euler's formula also provides us with a link between the trionometric and hyperbolic functions.  From the definition of the [[Mathematical functions#Hyperbolic functions|hyperbolic functions]]:\n",
    "\n",
    "$$\\sinh(z) = \\frac{1}{2}\\left(e^{z} - e^{-z}\\right), \\quad\\; \\cosh(z) = \\frac{1}{2}\\left(e^{z} + e^{-z}\\right)$$\n",
    "\n",
    "Compare this to [[#Complex trigonometric functions|our above definition of the complex trigonometric functions]]:\n",
    "\n",
    "$$\\sin(z) = -\\frac{i}{2}\\left(e^{iz} - e^{-iz}\\right), \\;\\;\\; \\cos(z) = \\;\\;\\frac{1}{2}\\left(e^{iz} + e^{-iz}\\right)$$\n",
    "\n",
    "From this, we can see that the trigonometric and hyperbolic functions are related by\n",
    "\n",
    "$$\\sin(z) \\;\\;= -i \\sinh(iz), \\quad \\cos(z) = \\cosh(iz)$$\n",
    "$$\\sinh(z) = -i \\sin(iz), \\quad \\cosh(z) = \\cos(iz)$$\n",
    "\n",
    "Using these relations, we can relate the addition formulas for trignometric formulas to the addition formulas for hyperbolic functions, e.g.\n",
    "\n",
    "$$\\begin{align}\\cosh(z_1+z_2) &= \\cos(iz_1 + iz_2) \\\\ &= \\cos(iz_1)\\cos(iz_2) - \\sin(iz_1)\\sin(iz_2) \\\\&= \\cosh(z_1)\\cosh(z_2) + \\sinh(z_1)\\sinh(z_2).\\end{align}$$"
   ]
  },
  {
   "cell_type": "markdown",
   "metadata": {},
   "source": [
    "## Trajectories in the complex plane\n",
    "\n",
    "If we have a function $z(t)$ which takes a real input $t$ and outputs a complex number $z$, it is often useful to plot a curve in the complex plane called the \"parametric trajectory\" of $z$.  Each point on this curve indicates the value of $z$ for a particular value of $t$.  We will give a few examples below.\n",
    "\n",
    "First, consider\n",
    "\n",
    "$$z(t) = e^{i\\omega t}, \\quad \\omega \\in \\mathbb{R}.$$\n",
    "\n",
    "The trajectory is a circle in the complex plane, centered at the origin and with radius 1. If you can't immediately see why this is the case, observe that the function has the form $z(t) = r(t)\\,e^{i\\theta(t)}$, where the magnitude (i.e., the distance from the origin) $r(t) = 1$ is a constant, and the argument $\\theta(t) = \\omega t$ varies proportionally with $t$. If $\\omega$ is positive, the argument increases with $t$, so the trajectory is counter-clockwise, as shown below.  If $\\omega$ is negative, the trajectory is clockwise."
   ]
  },
  {
   "cell_type": "code",
   "execution_count": 1,
   "metadata": {
    "collapsed": false
   },
   "outputs": [
    {
     "data": {
      "image/png": "[encoded data removed]",
      "text/plain": [
       "<matplotlib.figure.Figure at 0x7fcc8d76dfd0>"
      ]
     },
     "metadata": {},
     "output_type": "display_data"
    }
   ],
   "source": [
    "%matplotlib inline\n",
    "from ipywidgets import interact, FloatSlider\n",
    "from numpy import linspace, sin, cos, pi\n",
    "import matplotlib.pyplot as plt\n",
    "\n",
    "phi = linspace(-pi, pi, 250)\n",
    "wmin, wmax, wstep, wval = -5, 5., 0.2, 1.\n",
    "tmin, tmax, tstep, tval = -5., 5., 0.2, 0.\n",
    "\n",
    "def plot_circle(omega,t):\n",
    "    x, y = cos(omega*t), sin(omega*t)\n",
    "    plt.plot(cos(phi), sin(phi), color=\"#a2a2a2\", linewidth=2)\n",
    "    plt.plot([0,x], [0,y], '--', color=\"#a2a2a2\", linewidth=2)\n",
    "    plt.plot(x, y, 'o', color=\"#e20000\", linewidth=4)\n",
    "    plt.xlabel('Re(z)')\n",
    "    plt.ylabel('Im(z)')\n",
    "    plt.ylim(-1.2, 1.2)\n",
    "    plt.axes().set_aspect('equal', 'datalim')\n",
    "    plt.show()\n",
    "\n",
    "interact(plot_circle,omega=FloatSlider(min=tmin, max=tmax, step=tstep, value=wval),\n",
    "         t=FloatSlider(min=tmin, max=tmax, step=tstep, value=tval));"
   ]
  },
  {
   "cell_type": "markdown",
   "metadata": {},
   "source": [
    "Next, consider\n",
    "\n",
    "$$z(t) = e^{(\\gamma + i \\omega) t},$$\n",
    "\n",
    "where $\\gamma,\\omega \\in \\mathbb{R}.$ For $\\gamma = 0$, this reduces to the previous example.  For $\\gamma \\ne 0$, the trajectory is a spiral.  To see this, we again observe that this function can be written in the form\n",
    "\n",
    "$$z(t) = r(t) \\;e^{i\\theta(t)},$$\n",
    "\n",
    "where $r(t) = e^{\\gamma t}$ and $\\theta = \\omega t.$  Similar to the previous example, the argument varies proportionally with $t$, so the trajectory loops around the origin.  What's different is that the magnitude (i.e., the distance from the origin) now either increases or decreases exponentially with $t$, depending on the sign of $\\gamma$. If $\\gamma$ and $\\omega$ are both positive, then the trajectory is an anticlockwise spiral moving outwards from the origin.  You should work out for yourself how and why the trajectory behaves if we flip the signs of $\\gamma$ and/or $\\omega$."
   ]
  },
  {
   "cell_type": "code",
   "execution_count": 2,
   "metadata": {
    "collapsed": false
   },
   "outputs": [
    {
     "data": {
      "image/png": "[encoded data removed]",
      "text/plain": [
       "<matplotlib.figure.Figure at 0x7fcc8d6a9128>"
      ]
     },
     "metadata": {},
     "output_type": "display_data"
    }
   ],
   "source": [
    "%matplotlib inline\n",
    "from ipywidgets import interact, FloatSlider\n",
    "from numpy import linspace, exp, sin, cos, pi\n",
    "import matplotlib.pyplot as plt\n",
    "\n",
    "phi = linspace(-10*pi, 10*pi, 2000)\n",
    "wmin, wmax, wstep, wval = -5, 5., 0.1, 1.\n",
    "gmin, gmax, gstep, gval = -0.3, 0.3, 0.05, 0.1\n",
    "tmin, tmax, tstep, tval = -6., 6., 0.1, 0.\n",
    "\n",
    "def plot_circle(omega, gamm, t):\n",
    "    x, y = exp(gamm*t) * cos(omega*t), exp(gamm*t) * sin(omega*t)\n",
    "    plt.plot(exp(gamm*phi) * cos(omega*phi), exp(gamm*phi) * sin(omega*phi), color=\"#a2a2a2\", linewidth=2)\n",
    "    plt.plot([0,x], [0,y], '--', color=\"#a2a2a2\", linewidth=2)\n",
    "    plt.plot(x, y, 'o', color=\"#e20000\", linewidth=4)\n",
    "    plt.xlabel('Re(z)')\n",
    "    plt.ylabel('Im(z)')\n",
    "    plt.axes().set_aspect('equal')\n",
    "    plt.ylim(-5., 5.)\n",
    "    plt.xlim(-5., 5.)\n",
    "    plt.show()\n",
    "\n",
    "interact(plot_circle,omega=FloatSlider(min=wmin, max=wmax, step=wstep, value=wval),\n",
    "         gamm=FloatSlider(min=gmin, max=gmax, step=gstep, value=gval),\n",
    "         t=FloatSlider(min=tmin, max=tmax, step=tstep, value=tval));"
   ]
  },
  {
   "cell_type": "markdown",
   "metadata": {},
   "source": [
    "Finally, consider\n",
    "\n",
    "$$z(t) = \\frac{1}{t + ib}, \\quad b \\in \\mathbb{R}.$$\n",
    "\n",
    "This trajectory is a circle which passes through the origin, as shown below.  The center of the circle is located at $z_0 = -i/(2b)$. Showing this requires a bit of ingenuity, and is left as an [exercise](#exercises).  (This is an example of something called a [Möbius transformation](http://en.wikipedia.org/wiki/M%C3%B6bius_transformation).)"
   ]
  },
  {
   "cell_type": "code",
   "execution_count": 3,
   "metadata": {
    "collapsed": false
   },
   "outputs": [
    {
     "data": {
      "image/png": "[encoded data removed]",
      "text/plain": [
       "<matplotlib.figure.Figure at 0x7fcc8d688160>"
      ]
     },
     "metadata": {},
     "output_type": "display_data"
    }
   ],
   "source": [
    "%matplotlib inline\n",
    "from ipywidgets import interact, FloatSlider\n",
    "from numpy import linspace, exp, sin, cos, pi\n",
    "import matplotlib.pyplot as plt\n",
    "\n",
    "phi = linspace(-pi, pi, 300)\n",
    "bmin, bmax, bstep, bval = 0.25, 2., 0.25, 1.\n",
    "tmin, tmax, tstep, tval = -5, 5., 0.2, 0.\n",
    "\n",
    "def plot_moebius(b, t):\n",
    "    z0 = -0.5j/b*(1 + exp(1j*phi))\n",
    "    plt.plot(z0.real, z0.imag, color=\"#a2a2a2\", linewidth=2)\n",
    "\n",
    "    z = 1./(t + 1j * b)\n",
    "    x, y = z.real, z.imag    \n",
    "    plt.plot([0,x], [0,y], '--', color=\"#a2a2a2\", linewidth=2)\n",
    "    plt.plot(x, y, 'o', color=\"#e20000\", linewidth=4)\n",
    "    plt.xlabel('Re(z)')\n",
    "    plt.ylabel('Im(z)')\n",
    "    plt.axes().set_aspect('equal')\n",
    "    plt.ylim(-4, 1)\n",
    "    plt.xlim(-2.5, 2.5)\n",
    "    plt.show()\n",
    "\n",
    "interact(plot_moebius,b=FloatSlider(min=bmin, max=bmax, step=bstep, value=bval),\n",
    "         t=FloatSlider(min=tmin, max=tmax, step=tstep, value=tval));"
   ]
  },
  {
   "cell_type": "markdown",
   "metadata": {},
   "source": [
    "## Why complex numbers? (Optional)\n",
    "\n",
    "You may wonder what makes the square root of $-1$ an interesting mathematical object, such that it's used to define a whole new system of \"complex numbers\". You may also wonder whether complex numbers are the only generalization of real numbers; could the concept be usefully extended to even more complicated number systems?\n",
    "\n",
    "To answer these questions, let's return to our earlier observation that complex numbers can be manipulated using the same rules of algebra as real numbers. We can add, subtract, multiply, and divide (apart from division by zero) complex numbers, without running into any inconsistencies.\n",
    "\n",
    "The set of complex numbers $\\mathbb{C}$ turns out to have a special property: it is ''algebraically closed'', meaning that every complex polynomial equation has solution(s) in $\\mathbb{C}$.  The set of real numbers, $\\mathbb{R}$, lacks this property, since equations like $x^2 + 1 = 0$ have no solution in $\\mathbb{R}$ (this was the motivation for introducing the imaginary unit in the first place).  The \"closure\" property of $\\mathbb{C}$ is so important that it's called the [Fundamental Theorem of Algebra](https://en.wikipedia.org/wiki/Fundamental_theorem_of_algebra).  The Fundamental Theorem implies that $\\mathbb{C}$ can't be \"algebraically extended\" into a more complicated number system the way we extended $\\mathbb{R}$ into $\\mathbb{C}$.\n",
    "\n",
    "There do exist extensions of complex numbers that discard one or more of the rules of algebra.  The [quaternions](https://en.wikipedia.org/wiki/Quaternion) are a kind of number system where each quaternionic number has four real components; these obey a non-commutative algebra where, generally, $ab \\ne ba$.  [Octonions](https://en.wikipedia.org/wiki/Octonion) are eight-component numbers which are both non-commutative and non-associative: $(ab)c \\ne a(bc)$.  These and other still-more-complicated number systems have some applications in physics and other fields, but are overall much less important than $\\mathbb{C}$.\n",
    "\n",
    "Another reason complex numbers are so mathematically rich is that you can do calculus on them.  The study of smooth complex functions is called **complex analysis**, which will be discussed [later](complex_derivatives.ipynb).  As we shall see, it is possible to extend the concepts of differentiation and integration from real functions to complex functions, with many profound outcomes.  By contrast, because quaternions are not commutative, even the concept of \"derivative\" becomes tricky to define. Thus, it's a lot harder to perform mathematical analysis on quaternions and other more complicated number systems."
   ]
  },
  {
   "cell_type": "markdown",
   "metadata": {},
   "source": [
    "<a name=\"exercises\"></a>\n",
    "## Exercises\n",
    "\n",
    "<ol>\n",
    "<li>Let $z = x + iy$, where $x, y \\in \\mathbb{R}$. For each of the following expressions, find (i) the real part, (ii) the imaginary part, (iii) the magnitude, and (iv) the complex argument, in terms of $x$ and $y$:<ol style=\"list-style-type:lower-alpha\"> <li>&nbsp;$z^2$</li> <li>&nbsp;$1/z$</li>  <li>&nbsp;$\\exp(z)$</li> <li>&nbsp;$\\exp(iz)$</li>  <li>&nbsp;$\\cos(z)$</li></li></ol>\n",
    "</li>\n",
    "<li>Show that $|z_1 z_2| = |z_1|\\, |z_2|$, by using (i) the polar representation, and (ii) the Cartesian representation.\n",
    "</li>\n",
    "<li>Show that $(z_1 z_2)^* = z_1^* z_2^*$, by using (i) the polar representation, and (ii) the Cartesian representation.\n",
    "</li>\n",
    "<li>Identify the problem with this chain of equations: $-1 = i \\cdot i = \\sqrt{-1}\\,\\sqrt{-1} = \\sqrt{-1 \\cdot -1} = \\sqrt{1} = 1.$</li>\n",
    "<li>With the aid of Euler's formula, prove that<br/>&nbsp;&nbsp;&nbsp;$\\cos(3x) = 4[\\cos(x)]^3 -3\\cos(x)$<br/>&nbsp;&nbsp;&nbsp;$\\sin(3x) = 3\\sin(x)-4[\\sin(x)]^3$</li>\n",
    "<li>For $z_1, z_2 \\in \\mathbb{C}$ and $\\theta \\in \\mathbb{R}$, show that $\\mathrm{Re}\\left[z_1 e^{i\\theta} + z_2 e^{-i\\theta}\\right] = A \\cos(\\theta) + B \\sin(\\theta)$, for some $A, B \\in \\mathbb{R}$.  Find explicit expressions for $A$ and $B$ in terms of $z_1$ and $z_2$.</li>\n",
    "<li>In the complex plane, [[#The complex plane|as previously discussed]], the conjugation operation corresponds to a reflection about the real axis.  What operation corresponds to a reflection about the imaginary axis?</li>\n",
    "<li>Consider the complex function of a real variable $z(t) = 1/(\\alpha t + \\beta)$, where $\\alpha, \\beta \\in \\mathbb{C}$ and $t \\in \\mathbb{R}$.<ol style=\"list-style-type:lower-alpha\"><li>For $\\alpha = 1$ and $\\beta = i$, show that $z(t)$ can be re-expressed as $z(s) = (1+e^{is})/(2i)$, where $s \\in (-\\pi,\\pi)$. Hint: find a real mapping $t(s)$.</li><li>Hence, show that the trajectory for arbitrary complex values of $\\alpha,\\, \\beta$ has the form of a circle.</li></ol></li>\n",
    "<li>With the help of a computer plotting program, generate complex trajectories for the following functions (for real inputs $t \\in\\mathbb{R}$).  Explain their key features, including the ''directions'' of the trajectories:<ol style=\"list-style-type:lower-alpha\"><li>$z(t) = \\left[1+\\frac{\\cos(\\beta t)}{2}\\right] \\, \\exp(it)$, for $\\beta = 10$ and for $\\beta = \\sqrt{5}$.</li><li>$z(t) = -it \\pm \\sqrt{1 - t^2}$.</li><li>$z(t) = ae^{it} + be^{-it}$, for $a = 1, b = -2$ and for $a = 1, b = 2$.</li></ol></li>\n",
    "</ol>"
   ]
  }
 ],
 "metadata": {
  "kernelspec": {
   "display_name": "Python 3",
   "language": "python",
   "name": "python3"
  },
  "language_info": {
   "codemirror_mode": {
    "name": "ipython",
    "version": 3
   },
   "file_extension": ".py",
   "mimetype": "text/x-python",
   "name": "python",
   "nbconvert_exporter": "python",
   "pygments_lexer": "ipython3",
   "version": "3.5.1"
  }
 },
 "nbformat": 4,
 "nbformat_minor": 0
}
