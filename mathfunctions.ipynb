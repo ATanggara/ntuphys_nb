{
 "cells": [
  {
   "cell_type": "code",
   "execution_count": 5,
   "metadata": {
    "collapsed": false,
    "scrolled": true
   },
   "outputs": [
    {
     "data": {
      "text/html": [
       "<style>\n",
       ".output_png {\n",
       "    display: table-cell;\n",
       "    text-align: center;\n",
       "    vertical-align: middle;\n",
       "}\n",
       "</style>\n",
       "<script>\n",
       "code_show=true; \n",
       "function code_toggle() {\n",
       " if (code_show){\n",
       " $('div.input').hide();\n",
       " } else {\n",
       " $('div.input').show();\n",
       " }\n",
       " code_show = !code_show\n",
       "} \n",
       "$( document ).ready(code_toggle);\n",
       "</script>\n",
       "Source code for figures hidden by default; to toggle code display, click <a href=\"javascript:code_toggle()\">here</a>."
      ],
      "text/plain": [
       "<IPython.core.display.HTML object>"
      ]
     },
     "execution_count": 5,
     "metadata": {},
     "output_type": "execute_result"
    }
   ],
   "source": [
    "from IPython.display import HTML\n",
    "HTML('''<style>\n",
    ".output_png {\n",
    "    display: table-cell;\n",
    "    text-align: center;\n",
    "    vertical-align: middle;\n",
    "}\n",
    "</style>\n",
    "<script>\n",
    "code_show=true; \n",
    "function code_toggle() {\n",
    " if (code_show){\n",
    " $('div.input').hide();\n",
    " } else {\n",
    " $('div.input').show();\n",
    " }\n",
    " code_show = !code_show\n",
    "} \n",
    "$( document ).ready(code_toggle);\n",
    "</script>\n",
    "Source code for figures hidden by default; to toggle code display, click <a href=\"javascript:code_toggle()\">here</a>.''')\n"
   ]
  },
  {
   "cell_type": "markdown",
   "metadata": {},
   "source": [
    "# Mathematical functions\n",
    "\n",
    "This page presents a brief summary of common mathematical functions and their properties.\n",
    "\n",
    "## Standard mathematical functions\n",
    "\n",
    "A mathematical function, denoted $f$, takes an input $x$ (which is sometimes also called an *argument*), and returns an output $f(x)$. For now, we consider the case where both $x$ and $f(x)$ are real numbers. The set of possible inputs is called the *domain* of the function, and the set of possible outputs is called the *range*.\n",
    "\n",
    "A well-defined function must have an unambiguous output: for any $x$ in the domain, $f(x)$ must be a specific number in the range. In other words, functions must be either one-to-one (\"injective\") mappings, or many-to-one mappings. They can't be one-to-many or many-to-many. This is illustrated below:\n",
    "\n",
    "<img src=\"img/mathfunctions.png\" alt=\"Figure of one-to-one, many-to-one, and one-to-many mappings.\" width=50%>\n",
    "\n",
    "Simple examples of mathematical functions are those based on elementary algebra operations:\n",
    "\n",
    "$$f(x) = x + 2 \\,\\;\\;\\qquad\\qquad \\text{(a one-to-one function)}$$\n",
    "$$f(x) = x^2 + 2x + 4 \\qquad \\text{(a many-to-one function)}$$\n"
   ]
  },
  {
   "cell_type": "markdown",
   "metadata": {
    "collapsed": true
   },
   "source": [
    "<a name=\"exponential\"></a>\n",
    "### Exponential and logarithm\n",
    "\n",
    "The exponential function $\\exp(x)$ is a particularly important and ubiquitous function.  You've probably come across this function before, but let's remind ourselves of how and why it's defined.  We begin with a meditation on what it means to take a number $x$ to the power of $y$:\n",
    "\n",
    "$$f(x) = x^y.$$\n",
    "\n",
    "For values of $y$ in natural numbers $\\mathbb{N} \\equiv \\{1,2,3,\\dots\\}$, the power operation simply means multiplying $x$ by itself $y$ times.  For example, $x^4 = x \\cdot x \\cdot x \\cdot x$.  But what about non natural number powers, like $x^{-1}$ or $x^{1/2}$ or $x^{3.14}$?  To answer this question, we introduce the natural exponential function, defined as the following limiting infinite series:\n",
    "\n",
    "$$\\exp(x) \\equiv \\lim_{n\\rightarrow\\infty} \\left(1+\\frac{x}{n}\\right)^n = 1 + \\sum_{n=1}^\\infty\\frac{x^n}{n!}, \\qquad x \\in \\mathbb{R}.$$\n",
    "\n",
    "It is [left as an exercise](#exercises) for you to show that the two infinite series formulas in this definition are equivalent.  Note that both the infinite series use natural number powers only.  The function's domain is the entire set of real numbers, $\\mathbb{R}$, and its range is the set of positive numbers, $\\mathbb{R}^+$. Its graph is as follows:\n",
    "<a name=\"exponential function plot\"></a>\n"
   ]
  },
  {
   "cell_type": "code",
   "execution_count": 2,
   "metadata": {
    "collapsed": false
   },
   "outputs": [
    {
     "data": {
      "image/png": "[encoded data removed]",
      "text/plain": [
       "<matplotlib.figure.Figure at 0x7f0a10912d68>"
      ]
     },
     "metadata": {},
     "output_type": "display_data"
    }
   ],
   "source": [
    "%matplotlib inline\n",
    "from numpy import linspace, exp\n",
    "import matplotlib.pyplot as plt\n",
    "import nbsettings\n",
    "\n",
    "x = linspace(-4., 4., 200)\n",
    "y = exp(x)\n",
    "plt.plot(x, y)\n",
    "plt.xlabel('x')\n",
    "plt.ylabel('exp(x)')\n",
    "plt.show()"
   ]
  },
  {
   "cell_type": "markdown",
   "metadata": {},
   "source": [
    "One of the most noteworthy features of the exponential function is that, for $x > 0$, it becomes large extremely quickly with increasing $x$.  Conversely, for $x < 0$, it becomes small extremely quickly with decreasing $x$.  It also has a number of other useful mathematical properties.  For instance, one can show that\n",
    "\n",
    "$$\\exp(x+y) = \\exp(x)\\,\\exp(y) \\quad \\forall x, y \\in \\mathbb{R}.$$\n",
    "\n",
    "([Try proving this as an exercise](#exercises).)\n",
    "\n",
    "As a corollary,\n",
    "\n",
    "$$\\exp(-x) = 1/\\exp(x).$$\n",
    "\n",
    "Because the exponential function is one-to-one, its inverse is also a well-defined function.  We call this the natural logarithm:\n",
    "\n",
    "$$\\ln(x) \\equiv y \\;\\; \\mathrm{such}\\;\\mathrm{that}\\;\\;\\exp(y) = x.$$\n",
    "\n",
    "Unless otherwise noted, we will always mean the natural logarithm when we say \"logarithm\".  The domain of the logarithm is $y \\in \\mathbb{R}^+$, and its range is $\\mathbb{R}$.  Its graph is shown below:"
   ]
  },
  {
   "cell_type": "code",
   "execution_count": 3,
   "metadata": {
    "collapsed": false
   },
   "outputs": [
    {
     "data": {
      "image/png": "[encoded data removed]",
      "text/plain": [
       "<matplotlib.figure.Figure at 0x7f0a22fe46a0>"
      ]
     },
     "metadata": {},
     "output_type": "display_data"
    }
   ],
   "source": [
    "%matplotlib inline\n",
    "from numpy import linspace, log, arange\n",
    "import matplotlib.pyplot as plt\n",
    "import nbsettings\n",
    "\n",
    "x = linspace(1e-3, 50, 250)\n",
    "y = log(x)\n",
    "plt.plot(x, y)\n",
    "plt.yticks(arange(-4,6,2))\n",
    "plt.ylim(-5,5)\n",
    "plt.xlabel('x')\n",
    "plt.ylabel('ln(x)')\n",
    "plt.show()"
   ]
  },
  {
   "cell_type": "markdown",
   "metadata": {},
   "source": [
    "One can show that the logarithm satisfies the important property\n",
    "\n",
    "$$\\ln(xy) = \\ln(x) + \\ln(y).$$\n",
    "\n",
    "Hence, the power operation interacts with the exponential and logarithm functions in the following manner:\n",
    "\n",
    "$$\\begin{align} \\ln(x^y) &= y \\ln(x)\\qquad\\quad\\mathrm{for}\\;\\;y \\in \\mathbb{N} \\\\ \\Rightarrow\\; x^y &= \\exp[y \\ln(x)] \\quad \\mathrm{for}\\;\\;y \\in \\mathbb{N}.\\end{align}$$\n",
    "\n",
    "Now, we have the tools we need to discuss the issue raised at the beginning of this section, i.e. how to deal with the concept of taking a non-natural power.  Let us generalize the above equation by assuming that it continues to hold true for any positive $x$ and real $y$, not just for $y \\in \\mathbb{N}$.  In other words, we treat this as our ''definition'' of what it means to perform the power operation, for non-natural powers:\n",
    "\n",
    "$$x^y \\equiv \\exp[y \\ln(x)] \\qquad\\; \\mathrm{for}\\; x \\in \\mathbb{R}^+, \\;y \\notin \\mathbb{N}.$$\n",
    "\n",
    "Based on this definition, the power operation always gives a positive result.  You can also check for yourself that, for $y \\in \\mathbb{N}$, the formula is consistent with the results based on using the standard definition of \"multiply $x$ by itself $y$ times\".\n",
    "\n",
    "This generalization of the power operation leads to many ''extremely'' important consequences, which are worth taking some time to appreciate:\n",
    "* Raising a positive number to the zeroth power gives unity: $x^0 = 1$\n",
    "* Negative powers are reciprocals: $x^{-y} = \\exp[-y\\ln(x)] = \\exp[-\\ln(x^y)] = \\frac{1}{x^y}.$\n",
    "* The exponential function can itself can be written as a power: $\\exp(y) = e^y$, where $e \\equiv \\exp(1) = 2.718281828459\\dots$\n",
    "* Non-integer powers are only defined for non-negative $x$, since the logarithm in the definition does not accept negative inputs.  This fact will be the starting point for the theory of [complex numbers](complex_numbers.ipynb)."
   ]
  },
  {
   "cell_type": "markdown",
   "metadata": {},
   "source": [
    "<a name=\"trigonometric\"></a>\n",
    "### Trigonometric functions\n",
    "\n",
    "The fundamental trignonometric functions $\\sin(\\theta)$, $\\cos(\\theta)$, and $\\tan(\\theta)$ can be defined in terms of the geometric ratios of the sides of right-angled triangles, as shown here:\n",
    "<img src=\"img/trigonometry.png\" alt=\"Basic definitions of trigonometric functions.\" width=30%>\n",
    "\n",
    "In this basic definition, the domain is $\\theta \\in [0, \\,\\pi/2)$, where the angle $\\theta$ is given in radians.  We can generalize the definitions to allow for negative values of $a$ and/or $b$, using the following scheme:\n",
    "<img src=\"img/trigonometry2.png\" alt=\"Enhanced definitions of trigonometric functions.\" width=30%>\n",
    "Now the angle $\\theta$ lies within a larger domain: $\\theta \\in [0,\\,2\\pi)$.\n",
    "\n",
    "We can further generalize the trigonometric functions by extending the domain to all real numbers: $\\theta \\in \\mathbb{R}$. This is done by treating all values of $\\theta$ modulo $2\\pi$ as equivalent, i.e. $f(\\theta + 2\\pi) = f(\\theta)$.  With this generalization, the trigonometric functions become many-to-one functions.\n",
    "\n",
    "From the [Pythagorean theorem](http://en.wikipedia.org/wiki/Pythagoras_theorem) (which can be proved in [many, many ways](http://www.faculty.umb.edu/gary_zabel/Courses/Phil%20281b/Philosophy%20of%20Magic/Arcana/Neoplatonism/Pythagoras/index.shtml.html)),\n",
    "\n",
    "$$\\Big[\\sin(\\theta)\\Big]^2 + \\Big[\\cos(\\theta)\\Big]^2 = 1.$$\n",
    "\n",
    "Armed with this result, we can go on to prove a variety of identities, like the addition identities\n",
    "\n",
    "$$\\begin{aligned}\\sin(\\theta_1 + \\theta_2) &= \\sin(\\theta_1) \\cos(\\theta_2) + \\cos(\\theta_1)\\sin(\\theta_2) \\\\\\cos(\\theta_1 + \\theta_2) &= \\cos(\\theta_1) \\cos(\\theta_2) - \\sin(\\theta_1)\\sin(\\theta_2)\\end{aligned}$$\n",
    "\n",
    "As you may recall, these identities can be proved by trigonometry; the proofs involve drawing the correct set of triangles, and choosing which sides of the triangles to put into the Pythagorean formula.  ([As an exercise](#exercises), try proving either of the above identities trigonometrically.)  There are two problems with such proofs: (i) they require a certain amount of ingenuity in choosing which triangle diagrams to draw, and (ii) it's not immediately obvious that the proofs work if the angles lie outside $[0,\\pi/2]$.  Happily, there is a solution to both problems: as we'll soon see, trigonometric identities of this sort can be proven algebraically, with the aid of [complex numbers](complex_numbers.ipynb)."
   ]
  },
  {
   "cell_type": "markdown",
   "metadata": {},
   "source": [
    "### Hyperbolic functions<a name=\"hyperbolic\"></a>\n",
    "\n",
    "The hyperbolic functions are important special functions which are defined in terms of exponentials:\n",
    "\n",
    "$$\\begin{aligned}\\sinh(x) &= \\frac{1}{2}\\left(e^{x} - e^{-x}\\right) \\\\ \\cosh(x) &= \\frac{1}{2}\\left(e^{x} + e^{-x}\\right) \\\\ \\tanh(x) &= \\frac{e^{x} - e^{-x}}{e^{x} + e^{-x}}\\end{aligned}$$\n",
    "\n",
    "These functions have properties intriguingly similar to the trignometric functions. For example, they have addition identities\n",
    "\n",
    "$$\\begin{aligned}\\sinh(x+y) &= \\sinh(x)\\cosh(y) + \\cosh(x)\\sinh(y) \\\\\n",
    "\\cosh(x+y) &= \\cosh(x)\\cosh(y) + \\sinh(x)\\sinh(y)\\end{aligned}$$\n",
    "\n",
    "Because of these identities, it's sometimes more convenient to work with hyperbolic functions rather than exponentials. We'll deal with such situations when we get to them."
   ]
  },
  {
   "cell_type": "markdown",
   "metadata": {},
   "source": [
    "<a name=\"continuity\"></a>\n",
    "## Continuity\n",
    "\n",
    "'''Continuity''' is an important concept which refers to the idea that a function's output $x$ does not make any abrupt jumps as we vary the input $x$.  A function can be continuous over its entire domain, or only a subset of its domain (mathematicians have even come up with functions that are discontinuous everywhere in their domain, but such pathological cases are uncommon in physics applications). For example, $f(x) = 1/x$ is discontinuous at the origin $x = 0$.  So is the step function\n",
    "$$\\Theta(x) = \\left\\{\\begin{array}{ll} 1, &\\;\\;\\;\\textrm{for} \\; x \\ge 0\\\\ 0,&\\;\\;\\; \\textrm{otherwise.}\\end{array}\\right.$$\n",
    "\n",
    "The rigorous definition of continuity is as follows.  A function is continuous at a point $x_0$ if, for any $\\epsilon > 0$, we can come up with a $\\delta > 0$ such that setting $x$ closer to $x_0$ than a distance of $\\delta$ will necessarily bring $f(x)$ closer to $f(x_0)$ than the specified distance $\\epsilon$.  This is illustrated below:\n",
    "\n",
    "<img src=\"img/continuity.png\" alt=\"Continuity defined in terms of epsilon and delta variables.\" width=40%>\n",
    "\n",
    "Consider a counter-example, consisting of the step function $\\Theta(x)$, which was defined above.  Take $x_0 = 0$, and consider $\\epsilon = 1/2$.  No matter what value of $\\delta > 0$ we might choose, taking $0 < x < \\delta$ (i.e. within a distance of $\\delta$ from the origin) gives $\\Theta(x) = 1 > \\epsilon$. Hence, the continuity condition is violated for $\\epsilon = 1/2$, and indeed for any value of $\\epsilon$ between zero and one.\n",
    "\n",
    "<img src=\"img/discontinuity.png\" alt=\"Violation of the epsilon-delta continuity condition by a step function.\" width=40%>"
   ]
  },
  {
   "cell_type": "markdown",
   "metadata": {},
   "source": [
    "## Exercises\n",
    "<a name=\"exercises\"></a>\n",
    "\n",
    "<ol>\n",
    "<li>Prove that the two infinite series definitions of the exponential are equivalent:<br/>$$\\lim_{n\\rightarrow\\infty} \\left(1+\\frac{x}{n}\\right)^n = 1 + \\sum_{n=1}^\\infty\\frac{x^n}{n!}.$$</li>\n",
    "<li>Prove that $\\exp(x+y) = \\exp(x)\\,\\exp(y)$, using the definition<br/>$$\\exp(x) \\equiv 1 + \\sum_{n=1}^\\infty\\frac{x^n}{n!}.$$<br/>In this proof, avoid using the concept of \"raising to the power\" of a non-natural number (this is so that we can use this property of the exponential function in [the definition of a non-natural number power](#exponential)).</li>\n",
    "<li>One of the most important features of the exponential function $\\exp(x)$ is that it becomes large ''extremely'' quickly with increasing $x$.  To illustrate this behavior, consider the [graph of the exponential function](#exponential function plot) above.  By default, the graph plots up to $x = 4$, and on your computer screen the height of the graph should be around 4cm.  Suppose we keep the same resolution, and plot up to $x = 10$; how high would the graph be?  What about if we plotted up to $x = 20$?</li>\n",
    "<li>Prove, using the [generalized definition of the power operation](#exponential), that<br/>$$\\exp(x) = [\\exp(1)]^x.$$</li>\n",
    "<li>A \"non-natural\" logarithm of base $c$ is defined as<br/>\n",
    "$$\\log_c(x) = y \\quad\\mathrm{where}\\;\\; c^y = x.$$<br/>\n",
    "Using the [generalized definition of the power operation](#exponential), derive an expression for the non-natural logarithm in terms of the natural logarithm.</li>\n",
    "<li>Prove, using trigonometry, that<br/>$$\\sin(\\theta_1 + \\theta_2) = \\sin(\\theta_1) \\cos(\\theta_2) + \\cos(\\theta_1)\\sin(\\theta_2).$$<br/>You may assume that $\\theta_1, \\theta_2 \\in [0, \\pi/2].$</li>\n",
    "<li>Prove, using the [trigonometric addition formulas](#trigonometric), that<br/>$$\\begin{align} \\cos(3x) &= 4[\\cos(x)]^3 -3\\cos(x) \\\\ \\sin(3x) &= 3\\sin(x)-4[\\sin(x)]^3\\end{align}$$</li>\n",
    "</ol>\n"
   ]
  },
  {
   "cell_type": "code",
   "execution_count": null,
   "metadata": {
    "collapsed": true
   },
   "outputs": [],
   "source": []
  }
 ],
 "metadata": {
  "kernelspec": {
   "display_name": "Python 3",
   "language": "python",
   "name": "python3"
  },
  "language_info": {
   "codemirror_mode": {
    "name": "ipython",
    "version": 3
   },
   "file_extension": ".py",
   "mimetype": "text/x-python",
   "name": "python",
   "nbconvert_exporter": "python",
   "pygments_lexer": "ipython3",
   "version": "3.5.1"
  }
 },
 "nbformat": 4,
 "nbformat_minor": 0
}
