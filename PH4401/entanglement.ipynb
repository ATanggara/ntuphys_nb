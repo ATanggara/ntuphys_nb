{
 "cells": [
  {
   "cell_type": "markdown",
   "metadata": {},
   "source": [
    "# Decoherence\n",
    "\n",
    "In this notebook, we will perform some numerical studies of multiple-particle quantum mechanics. It is assumed that you are familiar with the basics of using Python 1D arrays to represent vectors, and 2D arrays to represent matrices/operators. For a detailed discussion of some of the topics covered below, you may optionally refer to Appendix D (Numerical Tensor Products) in the course notes, but that is not necessary to complete this notebook.\n",
    "\n",
    "## Numerical tensor products\n",
    "\n",
    "Tensor products are implemented using the [`kron`](https://docs.scipy.org/doc/numpy/reference/generated/numpy.kron.html) function from the `numpy` module.\n",
    "\n",
    "### 1. Tensor products of vectors\n",
    "\n",
    "Consider vectors $|a\\rangle \\in \\mathscr{H}_A$ and $|b\\rangle \\in \\mathscr{H}_B$, represented by 1D arrays `a` and `b`. Their tensor product is computed as follows:\n",
    "\n",
    "> $|a\\rangle \\otimes |b\\rangle \\quad \\leftrightarrow\\quad$ `kron(a, b)`\n",
    "\n",
    "The result is a 1D array of length $\\mathrm{dim}(\\mathscr{H}_A\\otimes\\mathscr{H}_B) = \\mathrm{dim}(\\mathscr{H}_A) \\mathrm{dim}(\\mathscr{H}_B)$. Note that $\\mathscr{H}_A$ and $\\mathscr{H}_B$ need not have the same dimensionality.\n",
    "\n",
    "Here is an example:"
   ]
  },
  {
   "cell_type": "code",
   "execution_count": 2,
   "metadata": {},
   "outputs": [
    {
     "name": "stdout",
     "output_type": "stream",
     "text": [
      "[ 2.  4.  6. -1. -2. -3.]\n"
     ]
    }
   ],
   "source": [
    "from scipy import *   # Note: this imports numpy automatically\n",
    "\n",
    "a   = array([2., -1.])     # vector in a 2D space\n",
    "b   = array([1., 2., 3.])  # vector in a 3D space\n",
    "psi = kron(a, b)           # vector in the 6D tensor product space\n",
    "\n",
    "print(psi)"
   ]
  },
  {
   "cell_type": "markdown",
   "metadata": {},
   "source": [
    "We can verify the above example in bra-ket notation.  Let $\\{|m\\rangle, |n\\rangle\\}$ be the basis for space $\\mathscr{H}_A$, and let $\\{|p\\rangle, |q\\rangle, |r\\rangle\\}$ be the basis for space $\\mathscr{H}_B$:\n",
    "\n",
    "$$\\begin{aligned}|a\\rangle &= 2|m\\rangle - |n\\rangle \\\\ |b\\rangle &= 1|p\\rangle + 2|q\\rangle + 3|r\\rangle \\\\  \\Rightarrow \\;\\; |a\\rangle \\otimes |b \\rangle &= 2|m\\rangle |p\\rangle + 4|m\\rangle |q\\rangle + 6|m\\rangle |r\\rangle - |n\\rangle |p\\rangle -2 |n\\rangle |q\\rangle - 3|n\\rangle |r\\rangle \\end{aligned}$$\n",
    "\n",
    "Note that the basis vectors are in a specific order, and `kron(a,b)` is NOT generally the same as `kron(b,a)`:"
   ]
  },
  {
   "cell_type": "code",
   "execution_count": 3,
   "metadata": {
    "scrolled": true
   },
   "outputs": [
    {
     "name": "stdout",
     "output_type": "stream",
     "text": [
      "[ 2. -1.  4. -2.  6. -3.]\n"
     ]
    }
   ],
   "source": [
    "foo = kron(b, a)  # This doesn't give the same result as kron(a, b)\n",
    "print(foo)"
   ]
  },
  {
   "cell_type": "markdown",
   "metadata": {},
   "source": [
    "### 2. Tensor products of arrays\n",
    "\n",
    "Consider operators $\\hat{O}_A$ and $\\hat{O}_B$, whose matrix components are given by 2D arrays `OA` and `OB`. Their tensor product is computed as follows:\n",
    "\n",
    "> $\\hat{O}_A \\otimes \\hat{O}_B \\quad\\leftrightarrow\\quad$ `kron(OA, OB)`.\n",
    "\n",
    "This is a 2D array of size $\\mathrm{dim}(\\mathscr{H}_A\\otimes\\mathscr{H}_B) \\, \\times \\, \\mathrm{dim}(\\mathscr{H}_A\\otimes\\mathscr{H}_B)$.\n",
    "\n",
    "We could examine the contents of this 2D array in detail, but that's quite time-consuming (read Appendix D later if you're interested). Let's do a simpler test instead. The following example verifies that\n",
    "\n",
    "$$\\Big(\\hat{O}_A \\otimes \\hat{O}_B \\Big) \\Big(|\\psi_A\\rangle \\otimes |\\psi_B\\rangle\\Big) = \\Big(\\hat{O}_A |\\psi_A\\rangle\\Big) \\otimes \\Big(\\hat{O}_B |\\psi_B\\rangle\\Big) $$"
   ]
  },
  {
   "cell_type": "code",
   "execution_count": 6,
   "metadata": {},
   "outputs": [
    {
     "name": "stdout",
     "output_type": "stream",
     "text": [
      "LHS:  [12. +9.j 32.+24.j  4. +3.j -3. +9.j -8.+24.j -1. +3.j]\n",
      "RHS:  [12. +9.j 32.+24.j  4. +3.j -3. +9.j -8.+24.j -1. +3.j]\n"
     ]
    }
   ],
   "source": [
    "## Define new example vectors a and b, this time as complex arrays...\n",
    "a  = array([2.+1j, 1j],     dtype=complex)\n",
    "b  = array([-1j, 2., 1-1j], dtype=complex)\n",
    "\n",
    "## Define two example operators (2D arrays), OA and OB:\n",
    "OA = array([[2., 1.], [1j, 1.]], dtype=complex)\n",
    "OB = array([[1., 2j, 3.], [0., 4., 0.], [1., 0., 1j]], dtype=complex)\n",
    "\n",
    "O_total = kron(OA, OB)                     # Tensor product of OA and OB\n",
    "\n",
    "OAa = dot(OA, a)                           # OA * a is a vector (1D array)\n",
    "OBb = dot(OB, b)                           # OB * b is a vector (1D array)\n",
    "\n",
    "print(\"LHS: \",  dot(O_total, kron(a, b)))  # LHS of the above equation\n",
    "print(\"RHS: \",  kron(OAa, OBb))            # RHS of the above equation"
   ]
  },
  {
   "cell_type": "markdown",
   "metadata": {},
   "source": [
    "## Task 1: Calculate measurement probabilities (10 marks)\n",
    "\n",
    "As before, let Hilbert space $\\mathscr{H}_A$ be spanned by $\\{|m\\rangle, |n\\rangle\\}$, and let Hilbert space $\\mathscr{H}_B$ be spanned by $\\{|p\\rangle, |q\\rangle, |r\\rangle\\}$. Consider the state\n",
    "\n",
    "$$|\\psi\\rangle = \\frac{1}{\\sqrt{3}} |m\\rangle |p\\rangle + \\frac{1}{3} |n\\rangle |q\\rangle + \\frac{\\sqrt{2}}{3} |m\\rangle |q\\rangle + \\frac{1}{\\sqrt{3}} |n\\rangle |r\\rangle.$$\n",
    "\n",
    "Write code to compute the following measurement probabilities:\n",
    "\n",
    "* Probability of obtaining result $m$ by doing a measurement on $A$\n",
    "* Probability of obtaining result $n$ by doing a measurement on $A$\n",
    "* Probability of obtaining result $p$ by doing a measurement on $B$\n",
    "* Probability of obtaining result $q$ by doing a measurement on $B$\n",
    "* Probability of obtaining result $r$ by doing a measurement on $B$\n",
    "\n",
    "Your code should make use of projection operators; don't just solve the problem analytically and write the answers into the program. Some additional hints are given below."
   ]
  },
  {
   "cell_type": "code",
   "execution_count": 7,
   "metadata": {},
   "outputs": [],
   "source": [
    "## Define the |m>, |n>, |p>, |q>, and |r> vectors as 1D arrays.\n",
    "m = array([1., 0.], dtype=complex)\n",
    "n = array([0., 1.], dtype=complex)\n",
    "p = array([1., 0., 0.], dtype=complex)\n",
    "q = array([0., 1., 0.], dtype=complex)\n",
    "r = array([0., 0., 1.], dtype=complex)\n",
    "\n",
    "## Insert the rest of the code here...\n",
    "psi = kron(m,p) #FIXME"
   ]
  },
  {
   "cell_type": "markdown",
   "metadata": {},
   "source": [
    "### Hints for Task 1\n",
    "\n",
    "<ul><li>\n",
    "To calculate (say) the probability of obtaining a result $m$ on $A$, construct the operator\n",
    "$$\\hat{\\Pi}_m = \\Big(|m\\rangle\\langle m|\\Big)\\otimes \\hat{I}_B $$\n",
    "where $\\hat{I}_B$ is the identity operator for $\\mathscr{H}_B$. Then compute\n",
    "$$| \\psi'\\rangle = \\hat{\\Pi}_m |\\psi\\rangle.$$\n",
    "The desired probability is $P_m = \\langle \\psi' | \\psi'\\rangle.$</li>\n",
    "</ul>\n",
    "\n",
    "* To compute a matrix-vector product $\\hat{Q} |v\\rangle$, use the [`dot`](https://docs.scipy.org/doc/numpy/reference/generated/numpy.dot.html) function: `dot(Q, v)`.\n",
    "\n",
    "* To compute an inner product $\\langle u|v\\rangle$, use the [`dot`](https://docs.scipy.org/doc/numpy/reference/generated/numpy.dot.html) function: `dot(u.conj(), v)`.  Note the complex conjugate on the bra (the first input).\n",
    "\n",
    "* To compute an outer product $|u\\rangle\\langle v|$, use the [`outer`](https://docs.scipy.org/doc/numpy/reference/generated/numpy.outer.html) function: `outer(u, v.conj())`. Note the complex conjugate on the bra (the second input).\n",
    "\n",
    "* To generate an identity matrix, use the [`eye`](https://docs.scipy.org/doc/numpy/reference/generated/numpy.eye.html) function: e.g., `eye(2)` or `eye(3)`."
   ]
  },
  {
   "cell_type": "markdown",
   "metadata": {},
   "source": [
    "## Partial projections\n",
    "\n",
    "Computing density matrices requires performing partial projections. There are two cases to worry about.\n",
    "\n",
    "### 1. Left projections\n",
    "\n",
    "A partial projection acting from the left can be implemented via the recipe\n",
    "\n",
    "> $\\quad \\langle \\alpha | \\otimes \\hat{O}_B \\quad \\leftrightarrow \\quad$ `kron(alpha.conj(), OB)`\n",
    "\n",
    "> $\\quad \\hat{O}_A \\otimes \\langle \\beta| \\quad\\leftrightarrow \\quad$ `kron(OA, beta.conj())`\n",
    "\n",
    "The following example verifies that\n",
    "\n",
    "$$\\begin{aligned}\\Big(\\langle \\alpha | \\otimes \\hat{O}_B\\Big) \\Big(|a\\rangle |b\\rangle\\Big) &= \\langle \\alpha | a\\rangle \\Big(\\hat{O}_B |b\\rangle\\Big) \\;\\;\\in\\;\\;\\mathscr{H}_B, \\\\ \\Big(\\hat{O}_A \\otimes \\langle \\beta |\\Big) \\Big(|a\\rangle |b\\rangle\\Big) &= \\langle \\beta | b\\rangle \\Big(\\hat{O}_A |a\\rangle\\Big) \\;\\;\\in\\;\\;\\mathscr{H}_A.\\end{aligned}$$\n"
   ]
  },
  {
   "cell_type": "code",
   "execution_count": 11,
   "metadata": {},
   "outputs": [
    {
     "name": "stdout",
     "output_type": "stream",
     "text": [
      "LHS1:  [ 9.+3.j 24.+8.j  3.+1.j]\n",
      "RHS1:  [ 9.+3.j 24.+8.j  3.+1.j]\n",
      "LHS2:  [ -8.+19.j -13. -1.j]\n",
      "RHS2:  [ -8.+19.j -13. -1.j]\n"
     ]
    }
   ],
   "source": [
    "## Note: a, b, OA, and OB were defined in a previous code cell.\n",
    "\n",
    "alpha     = array([2+1j, 1-2j], dtype=complex)\n",
    "projector = kron(alpha.conj(), OB)\n",
    "print(\"LHS1: \",  dot(projector, kron(a, b)))          # LHS of the first equation above\n",
    "print(\"RHS1: \",  dot(alpha.conj(), a) * dot(OB, b))   # RHS of the first equation\n",
    "\n",
    "beta      = array([2+1j, 1-2j, -1-1j], dtype=complex)\n",
    "projector = kron(OA, beta.conj())\n",
    "print(\"LHS2: \",  dot(projector, kron(a, b)))         # LHS of the second equation\n",
    "print(\"RHS2: \",  dot(beta.conj(), b) * dot(OA, a))   # RHS of the second equation"
   ]
  },
  {
   "cell_type": "markdown",
   "metadata": {},
   "source": [
    "### 2. Right projections\n",
    "\n",
    "Partial projections acting from the right are a bit trickier. We won't go into details, but here are the recipes:\n",
    "\n",
    "> $\\quad |\\alpha\\rangle \\otimes \\hat{O}_B \\quad \\leftrightarrow \\quad$ `kron(alpha, OB.T).T`\n",
    "\n",
    "> $\\quad \\hat{O}_A \\otimes |\\beta\\rangle \\quad \\leftrightarrow \\quad$ `kron(OA.T, beta).T`\n",
    "\n",
    "The following example verifies that\n",
    "\n",
    "$$\\begin{aligned}\\Big(\\langle a|\\langle b|\\Big) \\Big(|\\alpha\\rangle \\otimes \\hat{O}_B\\Big) &= \\langle a|\\alpha\\rangle \\, \\Big(\\langle b|\\hat{O}_B \\Big) \\\\ \\Big(\\langle a|\\langle b|\\Big) \\Big(\\hat{O}_A \\otimes |\\beta\\rangle\\Big) &= \\langle b|\\beta\\rangle\\, \\Big(\\langle a|\\hat{O}_A\\Big)\\end{aligned}$$"
   ]
  },
  {
   "cell_type": "code",
   "execution_count": 12,
   "metadata": {},
   "outputs": [
    {
     "name": "stdout",
     "output_type": "stream",
     "text": [
      "LHS1:  [ 5. +5.j 18. -6.j  1.+13.j]\n",
      "RHS1:  [ 5. +5.j 18. -6.j  1.+13.j]\n",
      "LHS2:  [-3.-22.j -6.-10.j]\n",
      "RHS2:  [-3.-22.j -6.-10.j]\n"
     ]
    }
   ],
   "source": [
    "## Note: a, b, alpha, beta, and OB were defined previously.\n",
    "\n",
    "projector1 = kron(alpha, OB.T).T\n",
    "print(\"LHS1: \",  dot(kron(a,b).conj(), projector1))\n",
    "print(\"RHS1: \",  dot(a.conj(), alpha) * dot(b.conj(), OB))\n",
    "\n",
    "projector2 = kron(OA.T, beta).T\n",
    "print(\"LHS2: \",  dot(kron(a,b).conj(), projector2))\n",
    "print(\"RHS2: \",  dot(b.conj(), beta) * dot(a.conj(), OA))"
   ]
  },
  {
   "cell_type": "markdown",
   "metadata": {},
   "source": [
    "# Task 2: Calculating reduced density matrices (10 marks)\n",
    "\n",
    "Write a function that takes a density matrix $\\hat{\\rho}$ (acting on $\\mathscr{H}_A \\otimes \\mathscr{H}_B$), and returns the reduced density matrix $\\hat{\\rho}_A$.  The reduced density matrix is defined as\n",
    "\n",
    "$$\\begin{aligned}\\hat{\\rho}_A &= \\mathrm{Tr}_B \\big[\\, \\hat{\\rho}\\, \\big] \\\\ &= \\sum_{b} \\Big(\\hat{I}_A \\otimes \\langle b|\\Big) \\; \\hat{\\rho} \\;\\Big(\\hat{I}_A \\otimes | b\\rangle\\Big)\\end{aligned}$$\n",
    "\n",
    "where $\\hat{I}_A$ denotes the identity operator in $\\mathscr{H}_A$ and $\\sum_b$ denotes a sum over basis vectors $\\{|b\\rangle\\}$ spanning $\\mathscr{H}_B$.\n",
    "\n",
    "Note: **don't worry about optimizing the code for performance; focus on correctness**."
   ]
  },
  {
   "cell_type": "code",
   "execution_count": 17,
   "metadata": {},
   "outputs": [],
   "source": [
    "## Function returning a reduced density matrix, traced over the B subspace.\n",
    "## The parameter dimA specifies the dimensionality of the A subspace.\n",
    "def reduced_density_matrix_A(rho, dimA):\n",
    "    assert rho.shape[0] == rho.shape[1]    # rho must be a square matrix\n",
    "    dimB = rho.shape[0] // dimA            # determine dim(H_B)\n",
    "\n",
    "    ## Insert the rest of the code here...\n",
    "    return eye(dimA) # FIXME"
   ]
  },
  {
   "cell_type": "markdown",
   "metadata": {},
   "source": [
    "### Hints for Task 2\n",
    "\n",
    "To check whether you have written the function correctly, there are a couple of things you can do:\n",
    "\n",
    "* Check that if you supply a pure state density matrix as the input `rho`, the return value has all the necessary properties of a density matrix: e.g., it must be Hermitian, and all the eigenvalues are real numbers between 0 and 1, summing to 1.\n",
    "* Run the following code snippet to verify that the state\n",
    "$$|\\psi\\rangle = \\frac{1}{\\sqrt{2}} \\Big(|\\!+\\!z\\rangle\\, |\\!-\\!z\\rangle \\,-\\, |\\!-\\!z\\rangle\\,|\\!+\\!z\\rangle\\Big)$$\n",
    "has the maximum possible entropy $k_B \\log(2)$, as discussed in class:"
   ]
  },
  {
   "cell_type": "code",
   "execution_count": 21,
   "metadata": {},
   "outputs": [
    {
     "name": "stdout",
     "output_type": "stream",
     "text": [
      "S =  -0.0\n",
      "Expected entropy =  0.6931471805599453\n"
     ]
    }
   ],
   "source": [
    "up   = array([1.0, 0.0])\n",
    "down = array([0.0, 1.0])\n",
    "\n",
    "psi = 1/sqrt(2) * (kron(up, down) - kron(down, up))\n",
    "rho = outer(psi.conj(), psi)\n",
    "rhoA = reduced_density_matrix_A(rho, 2)\n",
    "\n",
    "from scipy.linalg import logm            # The matrix logarithm function\n",
    "S = - trace(dot(rhoA, logm(rhoA))).real\n",
    "\n",
    "print(\"S = \", S)\n",
    "print(\"Expected entropy = \", log(2))"
   ]
  },
  {
   "cell_type": "markdown",
   "metadata": {},
   "source": [
    "# Task 3: Evolution of the entropy (0 marks - optional)\n",
    "\n",
    "This is an optional part for the curious. It awards no extra marks.\n",
    "\n",
    "Consider a 2D Hilbert space $\\mathscr{H}_A$ coupled to an $N$-dimensional Hilbert space $\\mathscr{H}_B$, with initial state\n",
    "\n",
    "$$|\\psi(t=0)\\rangle = \\frac{1}{\\sqrt{2}}\\Big(|\\!+\\!z\\rangle + |\\!-\\!z\\rangle\\Big) \\otimes |\\psi_B\\rangle,$$\n",
    "\n",
    "where $|\\psi_B\\rangle \\in \\mathscr{H}_B$ is a *randomly chosen* vector with unit norm. Let the combined system evolve under the Hamiltonian\n",
    "\n",
    "$$\\hat{H} = \\hat{\\sigma}_z \\otimes \\hat{V},$$\n",
    "\n",
    "where $\\hat{\\sigma}_z$ is a Pauli matrix and $\\hat{V}$ is a *randomly chosen* Hermitian operator.  A convenient way to generate $\\hat{V}$ is to take\n",
    "\n",
    "$$  \\begin{aligned}A_{ij} &\\sim u_{ij} + i v_{ij}, \\;\\;\\;\\mathrm{where}\\;\\;u_{ij},v_{ij}\\sim N(0,1)\\\\ \\hat{V} &= \\frac{1}{2\\sqrt{d}} \\left(\\hat{A} + \\hat{A}^\\dagger\\right).\\end{aligned}$$\n",
    "\n",
    "with $N(\\cdots)$ representing the standard normal distribution.\n",
    "\n",
    "Compute the entanglement entropy as a function of time. Compare two cases: (i) $N$ on the order of unity, and (ii) $N \\gg 1$."
   ]
  },
  {
   "cell_type": "code",
   "execution_count": null,
   "metadata": {},
   "outputs": [],
   "source": []
  }
 ],
 "metadata": {
  "kernelspec": {
   "display_name": "Python 3",
   "language": "python",
   "name": "python3"
  },
  "language_info": {
   "codemirror_mode": {
    "name": "ipython",
    "version": 3
   },
   "file_extension": ".py",
   "mimetype": "text/x-python",
   "name": "python",
   "nbconvert_exporter": "python",
   "pygments_lexer": "ipython3",
   "version": "3.7.2"
  }
 },
 "nbformat": 4,
 "nbformat_minor": 2
}
