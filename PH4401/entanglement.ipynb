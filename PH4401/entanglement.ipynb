{
 "cells": [
  {
   "cell_type": "markdown",
   "metadata": {},
   "source": [
    "# Numerical Studies of Quantum Entanglement\n",
    "\n",
    "In this notebook, we will perform some numerical studies of multiple-particle quantum mechanics. It is assumed that you are familiar with the basics of using Python 1D arrays to represent vectors, and 2D arrays to represent matrices/operators. For a detailed discussion of some of the topics covered below, you may optionally refer to Appendix D (Numerical Tensor Products) in the course notes, but that is not necessary to complete this notebook.\n",
    "\n",
    "## Numerical tensor products\n",
    "\n",
    "Tensor products are implemented using the [`kron`](https://docs.scipy.org/doc/numpy/reference/generated/numpy.kron.html) function from the `numpy` module.\n",
    "\n",
    "### 1. Tensor products of vectors\n",
    "\n",
    "Consider vectors $|a\\rangle \\in \\mathscr{H}_A$ and $|b\\rangle \\in \\mathscr{H}_B$, represented by 1D arrays `a` and `b`. Their tensor product is computed as follows:\n",
    "\n",
    "> $|a\\rangle \\otimes |b\\rangle \\quad \\leftrightarrow\\quad$ `kron(a, b)`\n",
    "\n",
    "The result is a 1D array of length $\\mathrm{dim}(\\mathscr{H}_A\\otimes\\mathscr{H}_B) = \\mathrm{dim}(\\mathscr{H}_A) \\mathrm{dim}(\\mathscr{H}_B)$. Note that $\\mathscr{H}_A$ and $\\mathscr{H}_B$ need not have the same dimensionality.\n",
    "\n",
    "Here is an example:"
   ]
  },
  {
   "cell_type": "code",
   "execution_count": 1,
   "metadata": {},
   "outputs": [
    {
     "name": "stdout",
     "output_type": "stream",
     "text": [
      "[ 2.  4.  6. -1. -2. -3.]\n"
     ]
    }
   ],
   "source": [
    "import numpy as np\n",
    "\n",
    "a   = np.array([2., -1.])     # vector in a 2D space\n",
    "b   = np.array([1., 2., 3.])  # vector in a 3D space\n",
    "psi = np.kron(a, b)           # vector in the 6D tensor product space\n",
    "\n",
    "print(psi)"
   ]
  },
  {
   "cell_type": "markdown",
   "metadata": {},
   "source": [
    "We can verify the above example in bra-ket notation.  Let $\\{|m\\rangle, |n\\rangle\\}$ be the basis for space $\\mathscr{H}_A$, and let $\\{|p\\rangle, |q\\rangle, |r\\rangle\\}$ be the basis for space $\\mathscr{H}_B$:\n",
    "\n",
    "$$\\begin{aligned}|a\\rangle &= 2|m\\rangle - |n\\rangle \\\\ |b\\rangle &= 1|p\\rangle + 2|q\\rangle + 3|r\\rangle \\\\  \\Rightarrow \\;\\; |a\\rangle \\otimes |b \\rangle &= 2|m\\rangle |p\\rangle + 4|m\\rangle |q\\rangle + 6|m\\rangle |r\\rangle - |n\\rangle |p\\rangle -2 |n\\rangle |q\\rangle - 3|n\\rangle |r\\rangle \\end{aligned}$$\n",
    "\n",
    "Note that the basis vectors are in a specific order, and `kron(a,b)` is NOT generally the same as `kron(b,a)`:"
   ]
  },
  {
   "cell_type": "code",
   "execution_count": 2,
   "metadata": {
    "scrolled": true
   },
   "outputs": [
    {
     "name": "stdout",
     "output_type": "stream",
     "text": [
      "[ 2. -1.  4. -2.  6. -3.]\n"
     ]
    }
   ],
   "source": [
    "foo = np.kron(b, a)  # This doesn't give the same result as kron(a, b)\n",
    "print(foo)"
   ]
  },
  {
   "cell_type": "markdown",
   "metadata": {},
   "source": [
    "### 2. Tensor products of arrays\n",
    "\n",
    "Consider operators $\\hat{O}_A$ and $\\hat{O}_B$, whose matrix components are given by 2D arrays `OA` and `OB`. Their tensor product is computed as follows:\n",
    "\n",
    "> $\\hat{O}_A \\otimes \\hat{O}_B \\quad\\leftrightarrow\\quad$ `kron(OA, OB)`.\n",
    "\n",
    "This is a 2D array of size $\\mathrm{dim}(\\mathscr{H}_A\\otimes\\mathscr{H}_B) \\, \\times \\, \\mathrm{dim}(\\mathscr{H}_A\\otimes\\mathscr{H}_B)$.\n",
    "\n",
    "Here is an example to verify that\n",
    "\n",
    "$$\\Big(\\hat{O}_A \\otimes \\hat{O}_B \\Big) \\Big(|\\psi_A\\rangle \\otimes |\\psi_B\\rangle\\Big) = \\Big(\\hat{O}_A |\\psi_A\\rangle\\Big) \\otimes \\Big(\\hat{O}_B |\\psi_B\\rangle\\Big) $$"
   ]
  },
  {
   "cell_type": "code",
   "execution_count": 7,
   "metadata": {},
   "outputs": [
    {
     "name": "stdout",
     "output_type": "stream",
     "text": [
      "LHS:  [12. +9.j 32.+24.j  4. +3.j -3. +9.j -8.+24.j -1. +3.j]\n",
      "RHS:  [12. +9.j 32.+24.j  4. +3.j -3. +9.j -8.+24.j -1. +3.j]\n"
     ]
    }
   ],
   "source": [
    "## Define new example vectors a and b, this time as complex arrays...\n",
    "a  = np.array([2.+1j, 1j],     dtype=complex)\n",
    "b  = np.array([-1j, 2., 1-1j], dtype=complex)\n",
    "\n",
    "## Define two example operators (2D arrays), OA and OB:\n",
    "OA = np.array([[2., 1.], [1j, 1.]], dtype=complex)\n",
    "OB = np.array([[1., 2j, 3.], [0., 4., 0.], [1., 0., 1j]], dtype=complex)\n",
    "\n",
    "O_total = np.kron(OA, OB)                     # Tensor product of OA and OB\n",
    "\n",
    "OAa = np.dot(OA, a)                           # OA * a is a vector (1D array)\n",
    "OBb = np.dot(OB, b)                           # OB * b is a vector (1D array)\n",
    "\n",
    "print(\"LHS: \",  np.dot(O_total, np.kron(a, b)))  # LHS\n",
    "print(\"RHS: \",  np.kron(OAa, OBb))               # RHS"
   ]
  },
  {
   "cell_type": "markdown",
   "metadata": {},
   "source": [
    "## Task 1: Calculate measurement probabilities (6 marks)\n",
    "\n",
    "As before, let Hilbert space $\\mathscr{H}_A$ be spanned by $\\{|m\\rangle, |n\\rangle\\}$, and let Hilbert space $\\mathscr{H}_B$ be spanned by $\\{|p\\rangle, |q\\rangle, |r\\rangle\\}$. Consider the state\n",
    "\n",
    "$$|\\psi\\rangle = \\frac{1}{\\sqrt{3}} |m\\rangle |p\\rangle + \\frac{1}{3} |n\\rangle |q\\rangle + \\frac{\\sqrt{2}}{3} |m\\rangle |q\\rangle + \\frac{1}{\\sqrt{3}} |n\\rangle |r\\rangle.$$\n",
    "\n",
    "Write code to compute the following measurement probabilities:\n",
    "\n",
    "* Probability of obtaining result $m$ by doing a measurement on $A$\n",
    "* Probability of obtaining result $n$ by doing a measurement on $A$\n",
    "* Probability of obtaining result $p$ by doing a measurement on $B$\n",
    "* Probability of obtaining result $q$ by doing a measurement on $B$\n",
    "* Probability of obtaining result $r$ by doing a measurement on $B$\n",
    "\n",
    "Your code should make use of projection operators; don't just solve the problem analytically and write the answers into the program. Some additional hints are given below."
   ]
  },
  {
   "cell_type": "code",
   "execution_count": 11,
   "metadata": {},
   "outputs": [],
   "source": [
    "## Define the |m>, |n>, |p>, |q>, and |r> vectors as 1D arrays.\n",
    "m = np.array([1., 0.], dtype=complex)\n",
    "n = np.array([0., 1.], dtype=complex)\n",
    "p = np.array([1., 0., 0.], dtype=complex)\n",
    "q = np.array([0., 1., 0.], dtype=complex)\n",
    "r = np.array([0., 0., 1.], dtype=complex)\n",
    "\n",
    "## Insert the rest of the code here...\n"
   ]
  },
  {
   "cell_type": "markdown",
   "metadata": {},
   "source": [
    "### Hints for Task 1\n",
    "\n",
    "<ul><li>\n",
    "To calculate (say) the probability of obtaining a result $m$ on $A$, construct the operator\n",
    "$$\\hat{\\Pi}_m = \\Big(|m\\rangle\\langle m|\\Big)\\otimes \\hat{I}_B $$\n",
    "where $\\hat{I}_B$ is the identity operator for $\\mathscr{H}_B$. Then compute\n",
    "$$| \\psi'\\rangle = \\hat{\\Pi}_m |\\psi\\rangle.$$\n",
    "The desired probability is $P_m = \\langle \\psi' | \\psi'\\rangle.$</li>\n",
    "</ul>\n",
    "\n",
    "* To compute a matrix-vector product $\\hat{Q} |v\\rangle$, use the [`np.dot`](https://docs.scipy.org/doc/numpy/reference/generated/numpy.dot.html) function: `dot(Q, v)`.\n",
    "\n",
    "* To compute an inner product $\\langle u|v\\rangle$, use the [`np.dot`](https://docs.scipy.org/doc/numpy/reference/generated/numpy.dot.html) function: `dot(u.conj(), v)`.  Note the complex conjugate on the bra (the first input).\n",
    "\n",
    "* To compute an outer product $|u\\rangle\\langle v|$, use the [`np.outer`](https://docs.scipy.org/doc/numpy/reference/generated/numpy.outer.html) function: `outer(u, v.conj())`. Note the complex conjugate on the bra (the second input).\n",
    "\n",
    "* To generate an identity matrix, use the [`np.eye`](https://docs.scipy.org/doc/numpy/reference/generated/numpy.eye.html) function: e.g., `eye(2)` or `eye(3)`."
   ]
  },
  {
   "cell_type": "markdown",
   "metadata": {},
   "source": [
    "## Partial projections\n",
    "\n",
    "Computing density matrices requires performing partial projections. There are two cases to worry about.\n",
    "\n",
    "### 1. Left projections\n",
    "\n",
    "A partial projection acting from the left can be implemented via the recipe\n",
    "\n",
    "> $\\quad \\langle \\alpha | \\otimes \\hat{O}_B \\quad \\leftrightarrow \\quad$ `kron(alpha.conj(), OB)`\n",
    "\n",
    "> $\\quad \\hat{O}_A \\otimes \\langle \\beta| \\quad\\leftrightarrow \\quad$ `kron(OA, beta.conj())`\n",
    "\n",
    "The following example verifies that\n",
    "\n",
    "$$\\begin{aligned}\\Big(\\langle \\alpha | \\otimes \\hat{O}_B\\Big) \\Big(|a\\rangle |b\\rangle\\Big) &= \\langle \\alpha | a\\rangle \\Big(\\hat{O}_B |b\\rangle\\Big) \\;\\;\\in\\;\\;\\mathscr{H}_B, \\\\ \\Big(\\hat{O}_A \\otimes \\langle \\beta |\\Big) \\Big(|a\\rangle |b\\rangle\\Big) &= \\langle \\beta | b\\rangle \\Big(\\hat{O}_A |a\\rangle\\Big) \\;\\;\\in\\;\\;\\mathscr{H}_A.\\end{aligned}$$\n"
   ]
  },
  {
   "cell_type": "code",
   "execution_count": 22,
   "metadata": {},
   "outputs": [
    {
     "name": "stdout",
     "output_type": "stream",
     "text": [
      "LHS1:  [ 9.+3.j 24.+8.j  3.+1.j]\n",
      "RHS1:  [ 9.+3.j 24.+8.j  3.+1.j]\n",
      "Shape of the <alpha| x O_B matrix is (3, 6)\n",
      "LHS2:  [ -8.+19.j -13. -1.j]\n",
      "RHS2:  [ -8.+19.j -13. -1.j]\n",
      "Shape of the O_A x <beta| matrix is (2, 6)\n"
     ]
    }
   ],
   "source": [
    "## Note: a, b, OA, and OB were defined in a previous code cell.\n",
    "\n",
    "alpha     = np.array([2+1j, 1-2j], dtype=complex)\n",
    "projector = np.kron(alpha.conj(), OB)\n",
    "print(\"LHS1: \",  np.dot(projector, np.kron(a, b)))          # LHS of the first equation above\n",
    "print(\"RHS1: \",  np.dot(alpha.conj(), a) * np.dot(OB, b))   # RHS of the first equation\n",
    "print(\"Shape of the <alpha| x O_B matrix is\", projector.shape)\n",
    "\n",
    "beta      = np.array([2+1j, 1-2j, -1-1j], dtype=complex)\n",
    "projector = np.kron(OA, beta.conj())\n",
    "print(\"LHS2: \",  np.dot(projector, np.kron(a, b)))         # LHS of the second equation\n",
    "print(\"RHS2: \",  np.dot(beta.conj(), b) * np.dot(OA, a))   # RHS of the second equation\n",
    "print(\"Shape of the O_A x <beta| matrix is\", projector.shape)"
   ]
  },
  {
   "cell_type": "markdown",
   "metadata": {},
   "source": [
    "### 2. Right projections\n",
    "\n",
    "Partial projections acting from the right are a bit trickier. We won't go into details, but here are the recipes:\n",
    "\n",
    "> $\\quad |\\alpha\\rangle \\otimes \\hat{O}_B \\quad \\leftrightarrow \\quad$ `kron(alpha, OB.T).T`\n",
    "\n",
    "> $\\quad \\hat{O}_A \\otimes |\\beta\\rangle \\quad \\leftrightarrow \\quad$ `kron(OA.T, beta).T`\n",
    "\n",
    "The following example verifies that\n",
    "\n",
    "$$\\begin{aligned}\\Big(\\langle a|\\langle b|\\Big) \\Big(|\\alpha\\rangle \\otimes \\hat{O}_B\\Big) &= \\langle a|\\alpha\\rangle \\, \\Big(\\langle b|\\hat{O}_B \\Big) \\\\ \\Big(\\langle a|\\langle b|\\Big) \\Big(\\hat{O}_A \\otimes |\\beta\\rangle\\Big) &= \\langle b|\\beta\\rangle\\, \\Big(\\langle a|\\hat{O}_A\\Big)\\end{aligned}$$"
   ]
  },
  {
   "cell_type": "code",
   "execution_count": 25,
   "metadata": {},
   "outputs": [
    {
     "name": "stdout",
     "output_type": "stream",
     "text": [
      "LHS1:  [ 5. +5.j 18. -6.j  1.+13.j]\n",
      "RHS1:  [ 5. +5.j 18. -6.j  1.+13.j]\n",
      "LHS2:  [-3.-22.j -6.-10.j]\n",
      "RHS2:  [-3.-22.j -6.-10.j]\n"
     ]
    }
   ],
   "source": [
    "## Note: a, b, alpha, beta, and OB were defined previously.\n",
    "\n",
    "projector1 = np.kron(alpha, OB.T).T\n",
    "print(\"LHS1: \",  np.dot(np.kron(a,b).conj(), projector1))\n",
    "print(\"RHS1: \",  np.dot(a.conj(), alpha) * np.dot(b.conj(), OB))\n",
    "\n",
    "projector2 = np.kron(OA.T, beta).T\n",
    "print(\"LHS2: \",  np.dot(np.kron(a,b).conj(), projector2))\n",
    "print(\"RHS2: \",  np.dot(b.conj(), beta) * np.dot(a.conj(), OA))"
   ]
  },
  {
   "cell_type": "markdown",
   "metadata": {},
   "source": [
    "# Task 2: Calculating reduced density matrices (6 marks)\n",
    "\n",
    "Using the above projection rules, write a Python function that takes a density matrix $\\hat{\\rho}$ (acting on some space $\\mathscr{H}_A \\otimes \\mathscr{H}_B$), and returns the reduced density matrix $\\hat{\\rho}_A$.  The reduced density matrix is defined as\n",
    "\n",
    "$$\\begin{aligned}\\hat{\\rho}_A &= \\mathrm{Tr}_B \\big[\\, \\hat{\\rho}\\, \\big] \\\\ &= \\sum_{b} \\Big(\\hat{I}_A \\otimes \\langle b|\\Big) \\; \\hat{\\rho} \\;\\Big(\\hat{I}_A \\otimes | b\\rangle\\Big)\\end{aligned}$$\n",
    "\n",
    "where $\\hat{I}_A$ denotes the identity operator in $\\mathscr{H}_A$ and $\\sum_b$ denotes a sum over basis vectors $\\{|b\\rangle\\}$ spanning $\\mathscr{H}_B$.\n",
    "\n",
    "Note: **don't worry about optimizing the code for performance; focus on correctness**."
   ]
  },
  {
   "cell_type": "code",
   "execution_count": 27,
   "metadata": {},
   "outputs": [],
   "source": [
    "## Function returning a reduced density matrix, traced over the B subspace.\n",
    "## The parameter dimA specifies the dimensionality of the A subspace.\n",
    "def reduced_density_matrix_A(rho, dimA):\n",
    "    assert rho.shape[0] == rho.shape[1]    # rho must be a square matrix\n",
    "    dimB = rho.shape[0] // dimA            # determine dim(H_B)\n",
    "\n",
    "    ## Insert the rest of the code here...\n",
    "    return np.eye(dimA) # FIXME"
   ]
  },
  {
   "cell_type": "markdown",
   "metadata": {},
   "source": [
    "### Hints for Task 2\n",
    "\n",
    "To check whether you have written the function correctly, there are a couple of things you can do:\n",
    "\n",
    "* Check that if you supply a pure state density matrix as the input `rho`, the return value has all the necessary properties of a density matrix: e.g., it must be Hermitian, and all the eigenvalues are real numbers between 0 and 1, summing to 1.\n",
    "* Run the following code snippet to verify that the state\n",
    "$$|\\psi\\rangle = \\frac{1}{\\sqrt{2}} \\Big(|\\!+\\!z\\rangle\\, |\\!-\\!z\\rangle \\,-\\, |\\!-\\!z\\rangle\\,|\\!+\\!z\\rangle\\Big)$$\n",
    "has the maximum possible entropy $k_B \\log(2)$, as discussed in class:"
   ]
  },
  {
   "cell_type": "code",
   "execution_count": 32,
   "metadata": {},
   "outputs": [
    {
     "name": "stdout",
     "output_type": "stream",
     "text": [
      "S =  -0.0\n",
      "Expected entropy =  0.6931471805599453\n"
     ]
    }
   ],
   "source": [
    "up   = np.array([1.0, 0.0])\n",
    "down = np.array([0.0, 1.0])\n",
    "\n",
    "psi = 1/np.sqrt(2) * (np.kron(up, down) - np.kron(down, up))\n",
    "rho = np.outer(psi, psi.conj())\n",
    "rhoA = reduced_density_matrix_A(rho, 2)\n",
    "\n",
    "from scipy.linalg import logm            # The matrix logarithm function\n",
    "S = - np.trace(np.dot(rhoA, logm(rhoA))).real\n",
    "\n",
    "print(\"S = \", S)\n",
    "print(\"Expected entropy = \", np.log(2))"
   ]
  },
  {
   "cell_type": "markdown",
   "metadata": {},
   "source": [
    "# Task 3: Evolution of the entropy (8 marks)\n",
    "\n",
    "Consider a 2D Hilbert space $\\mathscr{H}_A$ coupled to an $N$-dimensional Hilbert space $\\mathscr{H}_B$, with initial state\n",
    "\n",
    "$$|\\psi(t=0)\\rangle = \\frac{1}{\\sqrt{2}}\\Big(|\\!+\\!z\\rangle + |\\!-\\!z\\rangle\\Big) \\otimes |\\psi_B\\rangle,$$\n",
    "\n",
    "where $|\\psi_B\\rangle \\in \\mathscr{H}_B$ is a *randomly chosen* vector with unit norm. Let the combined system evolve under the Hamiltonian\n",
    "\n",
    "$$\\hat{H} = \\hat{\\sigma}_z \\otimes \\hat{V},$$\n",
    "\n",
    "where $\\hat{\\sigma}_z$ is a Pauli matrix and $\\hat{V}$ is a *randomly chosen* Hermitian operator.  A convenient way to generate $\\hat{V}$ is to take\n",
    "\n",
    "$$  \\begin{aligned}A_{ij} &\\sim u_{ij} + i v_{ij}, \\;\\;\\;\\mathrm{where}\\;\\;u_{ij},v_{ij}\\sim N(0,1)\\\\ \\hat{V} &= \\frac{1}{2\\sqrt{d}} \\left(\\hat{A} + \\hat{A}^\\dagger\\right).\\end{aligned}$$\n",
    "\n",
    "with $N(0,1)$ representing the standard normal distribution.\n",
    "\n",
    "Compute the entanglement entropy as a function of time. Compare two cases: (i) $d$ on the order of unity, and (ii) $d \\gg 1$."
   ]
  },
  {
   "cell_type": "code",
   "execution_count": 41,
   "metadata": {},
   "outputs": [
    {
     "data": {
      "image/png": "[encoded data removed]",
      "text/plain": [
       "<Figure size 432x288 with 1 Axes>"
      ]
     },
     "metadata": {
      "needs_background": "light"
     },
     "output_type": "display_data"
    }
   ],
   "source": [
    "## Here's some starter code that draws a random V matrix and plots a histogram\n",
    "## of its eigenvalues. Replace this code with what you actually want to do...\n",
    "\n",
    "import matplotlib.pyplot as plt\n",
    "\n",
    "d = 500\n",
    "A = np.random.randn(d,d) + 1j*np.random.randn(d,d)\n",
    "V = 1/2/np.sqrt(d) * (A + A.T.conj())\n",
    "\n",
    "from scipy.linalg import eigvalsh  # Eigenvalue solver for Hermitian matrices\n",
    "E = eigvalsh(V)\n",
    "plt.hist(E, bins=40)\n",
    "plt.show() # The eigenvalues follow the Wigner-Dyson distribution, falling between [-2,2]."
   ]
  }
 ],
 "metadata": {
  "kernelspec": {
   "display_name": "Python 3",
   "language": "python",
   "name": "python3"
  },
  "language_info": {
   "codemirror_mode": {
    "name": "ipython",
    "version": 3
   },
   "file_extension": ".py",
   "mimetype": "text/x-python",
   "name": "python",
   "nbconvert_exporter": "python",
   "pygments_lexer": "ipython3",
   "version": "3.8.2"
  }
 },
 "nbformat": 4,
 "nbformat_minor": 2
}
