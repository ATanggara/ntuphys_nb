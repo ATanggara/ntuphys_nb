{
 "cells": [
  {
   "cell_type": "markdown",
   "metadata": {},
   "source": [
    "# Quantum mechanical scattering\n",
    "\n",
    "This notebook goes through a numerical calculation of the elastic scattering of a non-relativistic quantum particle, using the Born series.\n",
    "\n",
    "As discussed in class, the key quantity of interest in scattering experiments is the scattering amplitude, $f(\\mathbf{k}_i\\rightarrow\\mathbf{k}_f)$, which describes the quantum amplitude for an incoming plane wave of wavevector $\\mathbf{k}_i$ to scatter into wavevector $\\mathbf{k}_f$."
   ]
  },
  {
   "cell_type": "markdown",
   "metadata": {},
   "source": [
    "## Born series: theory\n",
    "\n",
    "The Born series formula for the scattering amplitude, to second order and for 3D space, is\n",
    "\n",
    "$$f(\\mathbf{k}_i\\rightarrow \\mathbf{k}_f) \\approx - \\frac{2m}{\\hbar^2} \\,\\cdot \\, 2\\pi^2 \\, \\Bigg[\\big\\langle \\mathbf{k}_f\\big| \\hat{V}\\big|\\mathbf{k}_i\\big\\rangle + \\big\\langle \\mathbf{k}_f \\big| \\hat{V}\\hat{G}_0 \\hat{V} \\big|\\mathbf{k}_i\\big\\rangle + \\cdots \\Bigg].$$\n",
    "\n",
    "The particle mass is $m$, the scattering potential operator is $\\hat{V}$, and $|\\mathbf{k}\\rangle$ denotes a momentum eigenstate corresponding to wavevector $\\mathbf{k}$.  In the position basis,\n",
    "\n",
    "$$\\langle \\mathbf{r}|\\mathbf{k}\\rangle = \\frac{e^{i\\mathbf{k}\\cdot \\mathbf{r}}}{(2\\pi)^{3/2}}.$$\n",
    "\n",
    "Hence,\n",
    "\n",
    "$$\\begin{aligned}\\big\\langle \\mathbf{k}_f\\big| \\hat{V}\\big|\\mathbf{k}_i\\big\\rangle &= \\int d^3r_1\\; \\frac{\\exp(-i\\mathbf{k}_f \\cdot \\mathbf{r}_1)}{(2\\pi)^{3/2}} \\, V(\\mathbf{r}_1) \\, \\frac{\\exp(i\\mathbf{k}_i \\cdot \\mathbf{r}_1)}{(2\\pi)^{3/2}} \\\\ &= \\frac{1}{(2\\pi)^3} \\int d^3r_1\\; V(\\mathbf{r}_1) \\; \\exp\\Big[i(\\mathbf{k}_i-\\mathbf{k}_f) \\cdot \\mathbf{r}_1\\Big] \\end{aligned} \\qquad \\mathrm{where}\\; |\\mathbf{k}_i| = |\\mathbf{k}_f| = k.$$\n",
    "\n",
    "Likewise,\n",
    "\n",
    "$$\\big\\langle \\mathbf{k}_f\\big| \\hat{V} \\hat{G}_0\\hat{V}\\big|\\mathbf{k}_i\\big\\rangle = - \\frac{1}{(2\\pi)^3} \\frac{2m}{\\hbar^2} \\int d^3r_1 d^3r_2 \\; V(\\mathbf{r}_1) \\; V(\\mathbf{r}_2) \\; \\exp\\Big[i\\big(\\mathbf{k}_i\\cdot \\mathbf{r}_1 - \\mathbf{k}_f \\cdot \\mathbf{r}_2\\big)\\Big] \\; \\frac{\\exp[ik|\\mathbf{r}_1 - \\mathbf{r}_2|]}{4\\pi|\\mathbf{r}_1 - \\mathbf{r}_2|}$$\n",
    "\n",
    "An expedient way to calculate these integrals is [Monte Carlo integration](https://en.wikipedia.org/wiki/Monte_Carlo_integration). Suppose we want to compute an integral of the form\n",
    "\n",
    "\n",
    "$$I = \\int_{V} d^3r \\, F(\\mathbf{r}),$$\n",
    "\n",
    "taken over some domain of volume $V$.  We randomly sample $N$ points, $\\{F_1, F_2, \\dots, F_N\\}$.  Then the estimate for the integral is\n",
    "\n",
    "$$I \\,\\approx\\, \\frac{V}{N} \\sum_{n=1}^N F_n.$$\n",
    "\n",
    "\n"
   ]
  },
  {
   "cell_type": "markdown",
   "metadata": {},
   "source": [
    "## Born series: code\n",
    "\n",
    "We will assume computational units, $m = \\hbar = 1$. Note that the code below is written for clarity, not performance. If you want to optimize it, please do.\n",
    "\n",
    "First, we import the [Scipy](https://scipy.org/) libraries, and the [Matplotlib](https://matplotlib.org/) library for plotting. Then, we define a function that calculates the first term of the Born series via Monte Carlo integration:"
   ]
  },
  {
   "cell_type": "code",
   "execution_count": 37,
   "metadata": {},
   "outputs": [],
   "source": [
    "import numpy as np\n",
    "import matplotlib.pyplot as plt\n",
    "\n",
    "## Function to estimate the first Born contribution to the scattering amplitude f.\n",
    "## The inputs are:\n",
    "##\n",
    "## Vfun   -- A function object.  This function should take an array [x, y, z]\n",
    "##           and return a number, the value of the potential V(x,y,z).\n",
    "## ki, kf -- Initial and final wavevectors.  Their magnitudes are assumed to be equal.\n",
    "## L      -- Size of sampling box.  Each coordinate is drawn from [-L, L].\n",
    "## N      -- Number of Monte Carlo runs\n",
    "## order  -- The Born series order up to which we calculate.\n",
    "\n",
    "def fborn1(Vfun, ki, kf, L, N=5000):\n",
    "    \n",
    "    assert abs(np.dot(ki,ki) - np.dot(kf,kf)) < 1e-5    # ki and kf should have equal magnitude\n",
    "\n",
    "    volume = (2*L)**3    # Spatial volume of integration\n",
    "    f1 = 0.0             # Scattering amplitude\n",
    "    for n in range(N):\n",
    "        r1  = 2 * L * np.random.random(3) - L # Each coordinate is -L to L\n",
    "        dkr = np.dot(ki - kf, r1)\n",
    "        f1 += - Vfun(r1) * np.exp(1j * dkr) / (2 * np.pi)\n",
    "    return (1/N) * volume * f1\n"
   ]
  },
  {
   "cell_type": "markdown",
   "metadata": {},
   "source": [
    "Here is an explanation of the above code. For $\\hbar = m = 1$, the first-order term in the Born series is\n",
    "\n",
    "$$f^{(1)}(\\mathbf{k}_i\\rightarrow \\mathbf{k}_f) = - \\frac{1}{2\\pi} V(\\mathbf{r}_1) \\int d^3 r_1 \\exp\\Big[i(\\mathbf{k}_i-\\mathbf{k}_f) \\cdot \\mathbf{r}_1\\Big].$$\n",
    "\n",
    "During each Monte Carlo iteration, we draw a random three-component vector $\\mathbf{r}_1$ from a cube of side $2L$, centered at the origin (i.e., each coordinate is drawn from a uniform distribution between $-L$ and $L$). Then we calculate the value of the integrand at that sampling point:\n",
    "\n",
    "$$- \\frac{1}{2\\pi} V(\\mathbf{r}_1) \\; \\exp\\Big[i(\\mathbf{k}_i-\\mathbf{k}_f) \\cdot \\mathbf{r}_1\\Big].$$\n",
    "\n",
    "The result is added to the variable `f1`, and the process is performed a total of $N$ times.  Finally, we divide by $N$ to take the mean, and multiply by the volume $V = (2L)^3$, to get the Monte Carlo estimate for $f^{(1)}$."
   ]
  },
  {
   "cell_type": "markdown",
   "metadata": {},
   "source": [
    "### Task 1 (6 marks)\n",
    "\n",
    "Write a function `fborn2` to calculate the second-order term in the Born series.  The relevant integral is\n",
    "\n",
    "\n",
    "$$f^{(2)} = \\frac{1}{4\\pi^2} \\int d^3 r_1 \\int d^3r_2  V(\\mathbf{r}_1) \\; V(\\mathbf{r}_2) \\; \\exp\\Big[i\\big(\\mathbf{k}_i\\cdot \\mathbf{r}_1 - \\mathbf{k}_f \\cdot \\mathbf{r}_2\\big)\\Big] \\; \\frac{\\exp[ik|\\mathbf{r}_1 - \\mathbf{r}_2|]}{|\\mathbf{r}_1 - \\mathbf{r}_2|}.$$\n",
    "\n",
    "\n",
    "Note: the double integral can be sampled using a *single* Monte Carlo loop---don't use two nested loops!  The relevant hypervolume is $V^2 = (2L)^6$."
   ]
  },
  {
   "cell_type": "code",
   "execution_count": 31,
   "metadata": {},
   "outputs": [],
   "source": [
    "## Function to estimate the first Born contribution to the scattering amplitude f.\n",
    "def fborn2(Vfun, ki, kf, L, N=5000):\n",
    "    # Fill in code here\n",
    "    return 0.0 # FIXME."
   ]
  },
  {
   "cell_type": "markdown",
   "metadata": {},
   "source": [
    "## Born series: plotting\n",
    "\n",
    "We can now use the above code to compute scattering amplitudes. First, let us define a simple scattering potential of the form\n",
    "\n",
    "$$V(\\mathbf{r}) = \\begin{cases}0.1, & |\\mathbf{r}| < 1 \\\\ 0 & \\mathrm{otherwise}\\end{cases}$$"
   ]
  },
  {
   "cell_type": "code",
   "execution_count": 16,
   "metadata": {},
   "outputs": [],
   "source": [
    "def V1(r):\n",
    "    return 0.1 if np.absolute(np.dot(r,r)) < 1.0 else 0.0"
   ]
  },
  {
   "cell_type": "markdown",
   "metadata": {},
   "source": [
    "The following code plots the energy dependence of the scattering amplitude for 90-degree deflection angles, using the first Born approximation:"
   ]
  },
  {
   "cell_type": "code",
   "execution_count": 38,
   "metadata": {},
   "outputs": [
    {
     "data": {
      "application/vnd.jupyter.widget-view+json": {
       "model_id": "183247188c004bc4bcd2971905855651",
       "version_major": 2,
       "version_minor": 0
      },
      "text/plain": [
       "IntProgress(value=0, max=20)"
      ]
     },
     "metadata": {},
     "output_type": "display_data"
    },
    {
     "data": {
      "text/plain": [
       "Text(0, 0.5, '|f|^2')"
      ]
     },
     "execution_count": 38,
     "metadata": {},
     "output_type": "execute_result"
    },
    {
     "data": {
      "image/png": "[encoded data removed]",
      "text/plain": [
       "<Figure size 432x288 with 1 Axes>"
      ]
     },
     "metadata": {
      "needs_background": "light"
     },
     "output_type": "display_data"
    }
   ],
   "source": [
    "from ipywidgets import IntProgress # For progress reporter\n",
    "from IPython.display import display\n",
    "\n",
    "nd   = 20\n",
    "Emin = 0.1\n",
    "Emax = 4.0\n",
    "L    = 1.0\n",
    "\n",
    "progress_bar = IntProgress(min=0, max=nd)\n",
    "display(progress_bar)\n",
    "\n",
    "Evec = np.linspace(Emin, Emax, nd)        # array of energies\n",
    "fvec = np.zeros(len(Evec), dtype=complex) # scattering amplitudes to calculate\n",
    "\n",
    "for n in range(nd):\n",
    "    ## For each E, ki is in the z direction and kf in the x direction.\n",
    "    k  = np.sqrt(2*Evec[n])\n",
    "    ki = np.array([0,0,k])\n",
    "    kf = np.array([k,0,0])\n",
    "    \n",
    "    fvec[n] = fborn1(V1, ki, kf, L)\n",
    "    progress_bar.value += 1\n",
    "\n",
    "## Plot the differential scattering cross section\n",
    "plt.plot(Evec, abs(fvec)**2, 'o')\n",
    "plt.xlabel('E'); plt.ylabel('|f|^2')"
   ]
  },
  {
   "cell_type": "markdown",
   "metadata": {},
   "source": [
    "### Task 2 (6 marks)\n",
    "\n",
    "Modify the above code to plot the first Born approximation and second Born approximation in a single graph.\n",
    "\n",
    "Note: the second Born approximation refers to $f^{(1)} + f^{(2)}$."
   ]
  },
  {
   "cell_type": "markdown",
   "metadata": {},
   "source": [
    "### Task 3 (8 marks)\n",
    "\n",
    "Write code to plot $|f|^2$ versus deflection angle at fixed $E$. In your answer, be sure to explain (in code comments) how the deflection angle is defined."
   ]
  },
  {
   "cell_type": "code",
   "execution_count": null,
   "metadata": {},
   "outputs": [],
   "source": []
  },
  {
   "cell_type": "markdown",
   "metadata": {},
   "source": [
    "## Comparison with exact results (OPTIONAL)\n",
    "\n",
    "### Task 4 (0 marks)\n",
    "\n",
    "It is instructive to compare the Born approximation to exact results. For the spherically symmetric potential defined above, exact formulas for the scattering amplitudes can be obtained from partial wave analysis (Appendix A of the course notes). The results are\n",
    "\n",
    "$$\\begin{aligned}f(\\mathbf{k}_i \\rightarrow k\\hat{\\mathbf{r}}) &= \\frac{1}{2ik}\\, \\sum_{\\ell =0}^\\infty \\big(e^{2i\\delta_\\ell} - 1\\big) \\big(2\\ell+1\\big)\\, P_{\\ell}(\\hat{\\mathbf{k}}_i\\cdot \\hat{\\mathbf{r}}) \\\\ \\delta_\\ell &= \\frac{\\pi}{2} + \\mathrm{arg}\\!\\left[k{h_\\ell^+}'(kR) \\, j_\\ell(qR) - qh_\\ell^+(kR)\\, j_\\ell'(qR)\\right] \\\\ k &= |\\mathbf{k}_i| = \\sqrt{2mE/\\hbar^2}, \\;\\; q = \\sqrt{2m(E+U)/\\hbar^2}.\\end{aligned}$$\n",
    "\n",
    "You can use [`scipy.special.lpmv`](https://docs.scipy.org/doc/scipy/reference/generated/scipy.special.lpmv.html) to compute Legendre polynomials, and [`scipy.special.spherical_jn`](https://docs.scipy.org/doc/scipy/reference/generated/scipy.special.spherical_jn.html) to compute spherical Bessel functions of the first kind ($j_\\ell$) and its first derivative ($j_\\ell'$). To calculate the spherical Hankel functions ($h_\\ell^+$) and its derivative (${h_\\ell^+}'$), use the identity\n",
    "\n",
    "$$h_\\ell = j_\\ell + i y_\\ell$$\n",
    "\n",
    "where $j_\\ell$ is the spherical Bessel function of the first kind, and $y_\\ell$ is the spherical Bessel function of the second kind, which can be computed with [`scipy.special.yn`](https://docs.scipy.org/doc/scipy/reference/generated/scipy.special.spherical_yn.html).\n",
    "\n",
    "Modify the code for Tasks 2 and 3 to plot the exact results in the same graphs, fo"
   ]
  }
 ],
 "metadata": {
  "kernelspec": {
   "display_name": "Python 3",
   "language": "python",
   "name": "python3"
  },
  "language_info": {
   "codemirror_mode": {
    "name": "ipython",
    "version": 3
   },
   "file_extension": ".py",
   "mimetype": "text/x-python",
   "name": "python",
   "nbconvert_exporter": "python",
   "pygments_lexer": "ipython3",
   "version": "3.8.1"
  }
 },
 "nbformat": 4,
 "nbformat_minor": 2
}
