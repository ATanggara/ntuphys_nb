{
 "cells": [
  {
   "cell_type": "markdown",
   "metadata": {},
   "source": [
    "# Quantum mechanical scattering\n",
    "\n",
    "This notebook covers a numerical calculation of the elastic scattering of a non-relativistic quantum particle by a potential, based on the Born series. The key quantity of interest is the scattering amplitude, $f(\\mathbf{k}_i\\rightarrow\\mathbf{k}_f)$, which describes the quantum amplitude for an incoming plane wave with wavevector $\\mathbf{k}_i$ to scatter into wavevector $\\mathbf{k}_f$."
   ]
  },
  {
   "cell_type": "markdown",
   "metadata": {},
   "source": [
    "## Born series: theory\n",
    "\n",
    "The Born series formula for the scattering amplitude, to second order and for 3D space, is\n",
    "\n",
    "$$f(\\mathbf{k}_i\\rightarrow \\mathbf{k}_f) \\approx - \\frac{2m}{\\hbar^2} \\,\\cdot \\, 2\\pi^2 \\, \\Bigg[\\big\\langle \\mathbf{k}_f\\big| \\hat{V}\\big|\\mathbf{k}_i\\big\\rangle + \\big\\langle \\mathbf{k}_f \\big| \\hat{V}\\hat{G}_0 \\hat{V} \\big|\\mathbf{k}_i\\big\\rangle + \\cdots \\Bigg].$$\n",
    "\n",
    "The particle mass is $m$, the scattering potential operator is $\\hat{V}$, and $|\\mathbf{k}\\rangle$ denotes a momentum eigenstate corresponding to wavevector $\\mathbf{k}$.  In the position basis,\n",
    "\n",
    "$$\\langle \\mathbf{r}|\\mathbf{k}\\rangle = \\frac{e^{i\\mathbf{k}\\cdot \\mathbf{r}}}{(2\\pi)^{3/2}}.$$\n",
    "\n",
    "Hence,\n",
    "\n",
    "$$\\begin{aligned}\\big\\langle \\mathbf{k}_f\\big| \\hat{V}\\big|\\mathbf{k}_i\\big\\rangle &= \\int d^3r_1\\; \\frac{\\exp(-i\\mathbf{k}_f \\cdot \\mathbf{r}_1)}{(2\\pi)^{3/2}} \\, V(\\mathbf{r}_1) \\, \\frac{\\exp(i\\mathbf{k}_i \\cdot \\mathbf{r}_1)}{(2\\pi)^{3/2}} \\\\ &= \\frac{1}{(2\\pi)^3} \\int d^3r_1\\; V(\\mathbf{r}_1) \\; \\exp\\Big[i(\\mathbf{k}_i-\\mathbf{k}_f) \\cdot \\mathbf{r}_1\\Big] \\end{aligned} \\qquad \\mathrm{where}\\; |\\mathbf{k}_i| = |\\mathbf{k}_f| = k.$$\n",
    "\n",
    "Likewise,\n",
    "\n",
    "$$\\big\\langle \\mathbf{k}_f\\big| \\hat{V} \\hat{G}_0\\hat{V}\\big|\\mathbf{k}_i\\big\\rangle = - \\frac{1}{(2\\pi)^3} \\frac{2m}{\\hbar^2} \\int d^3r_1 d^3r_2 \\; V(\\mathbf{r}_1) \\; V(\\mathbf{r}_2) \\; \\exp\\Big[i\\big(\\mathbf{k}_i\\cdot \\mathbf{r}_1 - \\mathbf{k}_f \\cdot \\mathbf{r}_2\\big)\\Big] \\; \\frac{\\exp[ik|\\mathbf{r}_1 - \\mathbf{r}_2|]}{4\\pi|\\mathbf{r}_1 - \\mathbf{r}_2|}$$\n",
    "\n",
    "An expedient way to calculate these integrals is [Monte Carlo integration](https://en.wikipedia.org/wiki/Monte_Carlo_integration). Suppose we want to compute an integral of the form\n",
    "\\begin{equation}\n",
    "  I = \\int_{V} d^3r \\, F(\\mathbf{r}),\n",
    "\\end{equation}\n",
    "taken over some domain of volume $V$.  We randomly sample $N$ points, $\\{F_1, F_2, \\dots, F_N\\}$.  Then the estimate for the integral is\n",
    "\n",
    "$$I \\,\\approx\\, \\frac{V}{N} \\sum_{n=1}^N F_n.$$\n",
    "\n",
    "\n"
   ]
  },
  {
   "cell_type": "markdown",
   "metadata": {},
   "source": [
    "## Born series: code\n",
    "\n",
    "We will assume computational units, $m = \\hbar = 1$. Note that the code will be written for clarity, not performance; feel free to optimize it.\n",
    "\n",
    "First, we import the [Scipy](https://scipy.org/) libraries, and the [Matplotlib](https://matplotlib.org/) library for plotting. Next, we write a function to calculate the two terms of the Born series via Monte Carlo integration:"
   ]
  },
  {
   "cell_type": "code",
   "execution_count": 2,
   "metadata": {
    "collapsed": true
   },
   "outputs": [],
   "source": [
    "from scipy import *\n",
    "import matplotlib.pyplot as plt\n",
    "\n",
    "## Estimate the scattering amplitude f.\n",
    "##\n",
    "## Vfun   -- function that takes an array [x, y, z] and returns the potential V(x,y,z)\n",
    "## ki, kf -- initial and final wavevectors.  Their magnitudes are assumed to be equal\n",
    "## L      -- size of box in which to sample points.  Each coordinate is drawn from [-L, L]\n",
    "## N      -- number of Monte Carlo runs\n",
    "\n",
    "def f_monte_carlo(Vfun, ki, kf, L, N=5000):\n",
    "    \n",
    "    assert abs(dot(ki,ki) - dot(kf,kf)) < 1e-5    # ki and kf should have same magnitudes\n",
    "\n",
    "    volume = (2*L)**3    # Spatial volume of integration\n",
    "    f1, f2 = 0.0, 0.0    # First and second order contributions to f\n",
    "\n",
    "    for jj in ranger(N):\n",
    "        f1 += sample_f1(Vfun, ki, kf, L)\n",
    "        f2 += sample_f2(Vfun, ki, kf, L)\n",
    "\n",
    "    ## Note that f2 is a double integral with hypervolume V**2\n",
    "    return (1/N) * (volume * f1 + volume**2 * f2)"
   ]
  },
  {
   "cell_type": "markdown",
   "metadata": {},
   "source": [
    "Observe that `f_monte_carlo` calls two subroutines, `sample_f1` and `sample_f2`. These are responsible for drawing random samples\n",
    "\n",
    "$$\\begin{aligned}f_1 &\\;\\;\\leftarrow\\;\\; - \\frac{1}{2\\pi} V(\\mathbf{r}_1) \\; \\exp\\Big[i(\\mathbf{k}_i-\\mathbf{k}_f) \\cdot \\mathbf{r}_1\\Big] \\\\ f_2 &\\;\\;\\leftarrow\\;\\;  \\frac{1}{4\\pi^2} V(\\mathbf{r}_1) \\; V(\\mathbf{r}_2) \\; \\exp\\Big[i\\big(\\mathbf{k}_i\\cdot \\mathbf{r}_1 - \\mathbf{k}_f \\cdot \\mathbf{r}_2\\big)\\Big] \\; \\frac{\\exp[ik|\\mathbf{r}_1 - \\mathbf{r}_2|]}{|\\mathbf{r}_1 - \\mathbf{r}_2|}\\end{aligned}$$\n",
    "\n",
    "where each $\\mathbf{r}_1$ and $\\mathbf{r}_2$ is a position drawn from a cube of side $2L$, centered at the origin (i.e., each coordinate is drawn from a uniform distribution between $-L$ and $L$).\n",
    "\n",
    "Here is the code for `sample_f1`:"
   ]
  },
  {
   "cell_type": "code",
   "execution_count": 3,
   "metadata": {
    "collapsed": true
   },
   "outputs": [],
   "source": [
    "def sample_f1(Vfun, ki, kf, L):\n",
    "    r1 = 2 *L * (random.random(3) - 0.5)   # Each coordinate is -L to L\n",
    "    V  = Vfun(r1)\n",
    "    return - V * exp(1j * dot(ki - kf, r1)) / (2*pi)"
   ]
  },
  {
   "cell_type": "markdown",
   "metadata": {},
   "source": [
    "**Task 1 (10 marks)**: Fill in the code for `sample_f2`:"
   ]
  },
  {
   "cell_type": "code",
   "execution_count": 7,
   "metadata": {
    "collapsed": true
   },
   "outputs": [],
   "source": [
    "def sample_f2(Vfun, ki, kf, L):\n",
    "    # Fill in code here\n",
    "    return 0.0 # FIXME. Returning 0 means to retain only first-order Born."
   ]
  },
  {
   "cell_type": "markdown",
   "metadata": {},
   "source": [
    "## Born series: plotting\n",
    "\n",
    "We can now use the `f_monte_carlo` function to study how scattering amplitude varies. First, let us define a simple scattering potential of the form\n",
    "\n",
    "$$V(\\mathbf{r}) = \\begin{cases}0.1, & |\\mathbf{r}| < 1 \\\\ 0 & \\mathrm{otherwise}\\end{cases}$$"
   ]
  },
  {
   "cell_type": "code",
   "execution_count": 5,
   "metadata": {
    "collapsed": true
   },
   "outputs": [],
   "source": [
    "def V1(r):\n",
    "    return 0.1 if abs(dot(r,r)) < 1.0 else 0.0"
   ]
  },
  {
   "cell_type": "markdown",
   "metadata": {},
   "source": [
    "The following code plots the energy dependence of the scattering amplitude for 90-degree deflection angles:"
   ]
  },
  {
   "cell_type": "code",
   "execution_count": 6,
   "metadata": {},
   "outputs": [
    {
     "data": {
      "application/vnd.jupyter.widget-view+json": {
       "model_id": "9072e9ff5d5b46e4abba52e68d8e45ae",
       "version_major": 2,
       "version_minor": 0
      },
      "text/plain": [
       "IntProgress(value=0, max=20)"
      ]
     },
     "metadata": {},
     "output_type": "display_data"
    },
    {
     "data": {
      "text/plain": [
       "Text(0, 0.5, '|f|^2')"
      ]
     },
     "execution_count": 6,
     "metadata": {},
     "output_type": "execute_result"
    },
    {
     "data": {
      "image/png": "[encoded data removed]",
      "text/plain": [
       "<Figure size 432x288 with 1 Axes>"
      ]
     },
     "metadata": {
      "needs_background": "light"
     },
     "output_type": "display_data"
    }
   ],
   "source": [
    "from ipywidgets import IntProgress # For progress reporter\n",
    "from IPython.display import display\n",
    "\n",
    "nd   = 20\n",
    "Emin = 0.1\n",
    "Emax = 4.0\n",
    "L    = 1.0\n",
    "\n",
    "progress_bar = IntProgress(min=0, max=nd)\n",
    "display(progress_bar)\n",
    "\n",
    "Evec = linspace(Emin, Emax, nd)        # array of energies\n",
    "fvec = zeros(len(Evec), dtype=complex) # scattering amplitudes to calculate\n",
    "\n",
    "for n in range(nd):\n",
    "    ## For each E, ki is in the z direction and kf in the x direction.\n",
    "    k  = sqrt(2*Evec[n])\n",
    "    ki = array([0,0,k])\n",
    "    kf = array([k,0,0])\n",
    "    \n",
    "    fvec[n] = f_monte_carlo(V1, ki, kf, L)\n",
    "    progress_bar.value += 1\n",
    "\n",
    "## Plot the differential scattering cross section\n",
    "plt.plot(Evec, abs(fvec)**2, 'o')\n",
    "plt.xlabel('E'); plt.ylabel('|f|^2')"
   ]
  },
  {
   "cell_type": "markdown",
   "metadata": {},
   "source": [
    "**Task 2 (10 marks)**: Write code to plot $|f|^2$ versus deflection angle at fixed $E$."
   ]
  },
  {
   "cell_type": "code",
   "execution_count": null,
   "metadata": {
    "collapsed": true
   },
   "outputs": [],
   "source": []
  },
  {
   "cell_type": "markdown",
   "metadata": {},
   "source": [
    "**Task 3 (optional)**: Modify the above code to show also the exact result obtained from partial wave analysis, so as to see how well the Born approximation works. The answer from partial wave analysis is\n",
    "\n",
    "$$\\begin{aligned}f(\\mathbf{k}_i \\rightarrow k\\hat{\\mathbf{r}}) &= \\frac{1}{2ik}\\, \\sum_{\\ell =0}^\\infty \\big(e^{2i\\delta_\\ell} - 1\\big) \\big(2\\ell+1\\big)\\, P_{\\ell}(\\hat{\\mathbf{k}}_i\\cdot \\hat{\\mathbf{r}}) \\\\ \\delta_\\ell &= \\frac{\\pi}{2} + \\mathrm{arg}\\!\\left[k{h_\\ell^+}'(kR) \\, j_\\ell(qR) - qh_\\ell^+(kR)\\, j_\\ell'(qR)\\right] \\\\ k &= |\\mathbf{k}_i| = \\sqrt{2mE/\\hbar^2}, \\;\\; q = \\sqrt{2m(E+U)/\\hbar^2}.\\end{aligned}$$\n",
    "\n",
    "You can use [`scipy.special.lpmv`](https://docs.scipy.org/doc/scipy/reference/generated/scipy.special.lpmv.html) to compute Legendre polynomials, and [`scipy.special.spherical_jn`](https://docs.scipy.org/doc/scipy/reference/generated/scipy.special.spherical_jn.html) to compute spherical Bessel functions of the first kind ($j_\\ell$) and its first derivative ($j_\\ell'$). To calculate the spherical Hankel functions ($h_\\ell^+$) and its derivative (${h_\\ell^+}'$), use the identity\n",
    "\n",
    "$$h_\\ell = j_\\ell + i y_\\ell$$\n",
    "\n",
    "where $j_\\ell$ is the spherical Bessel function of the first kind, and $y_\\ell$ is the spherical Bessel function of the second kind, which can be computed with [`scipy.special.yn`](https://docs.scipy.org/doc/scipy/reference/generated/scipy.special.spherical_yn.html)."
   ]
  }
 ],
 "metadata": {
  "kernelspec": {
   "display_name": "Python 3",
   "language": "python",
   "name": "python3"
  },
  "language_info": {
   "codemirror_mode": {
    "name": "ipython",
    "version": 3
   },
   "file_extension": ".py",
   "mimetype": "text/x-python",
   "name": "python",
   "nbconvert_exporter": "python",
   "pygments_lexer": "ipython3",
   "version": "3.8.0"
  }
 },
 "nbformat": 4,
 "nbformat_minor": 2
}
