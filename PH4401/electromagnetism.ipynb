{
 "cells": [
  {
   "cell_type": "markdown",
   "metadata": {},
   "source": [
    "# Quantum Mechanics of an Electron in an Electromagnetic Field\n",
    "\n",
    "In this notebook, we will study the energy levels and wavefunctions of an electron in an electromagnetic field. We make the following simplifying assumptions:\n",
    "\n",
    "* The problem is two-dimensional and static: the electron moves in the $x$-$y$ plane, and the potentials can vary in $x$ and $y$ but have no $z$ or $t$ dependence.\n",
    "* The electron is non-relativistic.\n",
    "* $e = m = \\hbar = 1$.\n",
    "\n",
    "The time-independent Schrödinger wave equation is\n",
    "\n",
    "$$\\left\\{\\frac{1}{2}\\left[\\left(-i\\frac{\\partial}{\\partial x} + A_x\\right)^2 + \\left(-i\\frac{\\partial}{\\partial y} + A_y\\right)^2\\right] - \\Phi(x,y) \\right\\} \\psi(x,y) = E \\;\\psi(x,y)$$\n",
    "\n",
    "where:\n",
    "\n",
    "* $\\Phi(x,y)$ is the electromagnetic scalar potential\n",
    "* $A_x(x,y)$ and $A_y(x,y)$ are the $x$ and $y$ components of the vector potential\n",
    "* $\\psi(x,y)$ is an energy eigenfunction, and $E$ is the corresponding energy\n",
    "\n",
    "## Numerical solver\n",
    "\n",
    "A numerical solver for the time-independent Schrödinger equation has been written for you below. The details of how it works are beyond the scope of this discussion, and are not required for the exercises below. (It uses a technique called the [finite difference method](https://en.wikipedia.org/wiki/Finite_difference_method), in which space is discretized into a grid, and Taylor expansions are used to convert the partial differential equation into a matrix equation.)\n",
    "\n",
    "Skim through the code below (**there's no need to read through it in detail**), then run the code cell and move on to the subsequent discussion."
   ]
  },
  {
   "cell_type": "code",
   "execution_count": 1,
   "metadata": {},
   "outputs": [],
   "source": [
    "from scipy import *\n",
    "\n",
    "## Numerical solver for Schrodinger equation for electron in 2D\n",
    "## See below for detailed documentation and usage examples.\n",
    "##   Phi, Ax, Ay : functions specifying scalar and vector potential\n",
    "##   args        : tuple of additional inputs to the potential functions\n",
    "##   L           : length of computational domain\n",
    "##   N           : no. of grid points in each direction (x and y)\n",
    "##   neigs       : no. of solutions to find\n",
    "##   E0          : approximate energy of solutions to find\n",
    "\n",
    "def schrodinger2d(Phi, Ax, Ay, args=(), L=1.0, N=50, neigs=30, E0=-100.0):\n",
    "\n",
    "    from scipy.sparse import diags\n",
    "    from scipy.sparse.linalg import eigsh\n",
    "\n",
    "    ## Construct the 2D grid:\n",
    "    a = L/(N+1)                                # lattice spacing\n",
    "    p = linspace(-0.5*L+a, 0.5*L-a, N)\n",
    "    x, y = meshgrid(p, p)\n",
    "    xx = reshape(x, N*N)                       # 1D array of x\n",
    "    yy = reshape(y, N*N)                       # 1D array of y\n",
    "\n",
    "    ## Compute contents of the Hamiltonian matrix:\n",
    "    Hdiag = 2./a**2 - Phi(xx, yy, *args)       # diagonal terms\n",
    "    Axvec = Ax(xx+0.5*a, yy, *args)\n",
    "    offdx = -0.5/a**2 * exp(1j*a*Axvec)        # x-step\n",
    "    offdx[(N-1)::N] = 0.0; offdx = offdx[:-1]  # Dirichlet BCs in x\n",
    "    Ayvec = Ay(xx, yy+0.5*a, *args)\n",
    "    offdy = -0.5/a**2 * exp(1j*a*Ayvec)        # y-step\n",
    "    offdy = offdy[:-N]                         # Dirichlet BCs in y\n",
    "\n",
    "    ## Construct the Hamiltonian matrix and solve it:\n",
    "    H = diags([Hdiag, offdx, conj(offdx), offdy, conj(offdy)],\n",
    "              [0, 1, -1, N, -N], format='csc', dtype=complex)\n",
    "    E, psi = eigsh(H, neigs, sigma=E0, return_eigenvectors=True)\n",
    "    idx = argsort(E); E = E[idx]; psi = psi[:,idx]  # sort in increasing E\n",
    "    psi = reshape(psi, (N, N, neigs))\n",
    "    return E, psi, x, y"
   ]
  },
  {
   "cell_type": "markdown",
   "metadata": {},
   "source": [
    "### Inputs and outputs of the `schrodinger2d` function\n",
    "\n",
    "The inputs to the `schrodinger2d` function that you need to be concerned with are `Phi`, `Ax`, `Ay`, and `args`.\n",
    "\n",
    "For `Phi`, `Ax`, and `Ay`, the caller must supply *helper functions* to specify the scalar and vector potentials. For `args`, the caller supplies a tuple of additional parameters, to be passed to these helper functions; if no additional parameters are needed, omit this input.\n",
    "\n",
    "Each helper function must accept inputs `(x, y, ...)`, where `x` and `y` are arrays specifying the $x$ and $y$ coordinates  at which to compute the potential, and the other inputs, denoted by `...`, are the additional parameters given in `args`. The helper function must return an array giving the potential at the specified positions.\n",
    "\n",
    "The other inputs to `schrodinger2d` may be omitted (i.e., left to their default values). These defaults specify a square computational cell of length `L=1.0`, with `N=50` grid points in each direction. The coordinate origin, $x = y = 0$, is the center of the box, and Dirichlet boundary conditions are imposed at the walls of the box. The solver finds the `neigs=30` solutions whose energy eigenvalues are closest to `E0=-100.0`.\n",
    "\n",
    "The `schrodinger2d` function returns three values:\n",
    "\n",
    "* `E` is an array of energy eigenvalues located by the numerical solver, sorted in increasing order.\n",
    "* `psi` is an array containing the corresponding wavefunctions, such that `psi[:,:,n]` is a 2D array specifying the grid values of the `n`-th wavefunction.\n",
    "* `x` and `y` are 2D arrays specifying the $x$ and $y$ grid coordinates."
   ]
  },
  {
   "cell_type": "markdown",
   "metadata": {},
   "source": [
    "## Example 1: uniform magnetic field and quadratic scalar potential\n",
    "\n",
    "Let us work through an example. Consider these potentials:\n",
    "\n",
    "$$\\begin{aligned} \\Phi &= - V_0 (x^2 + y^2) \\\\ A_x &= - B_0 y \\\\ A_y &= 0. \\end{aligned}$$\n",
    "\n",
    "For $V_0 > 0$, the scalar potential sets up a quadratic potential well centered at the origin (since the electron is negatively charged, more negative $\\Phi$ corresponds to higher potential energy). The vector potential generates a uniform \"out-of-plane\" magnetic field $\\vec{B} = [0, 0, B_0]$ (you can verify this by calculating the curl of $\\vec{A}$).\n",
    "\n",
    "To use the numerical solver, we define Python functions corresponding to these potentials:"
   ]
  },
  {
   "cell_type": "code",
   "execution_count": 2,
   "metadata": {},
   "outputs": [],
   "source": [
    "def Phi_ex1(x, y, V0, B0):\n",
    "    return - V0 * (x*x + y*y)\n",
    "\n",
    "def Ax_ex1(x, y, V0, B0):\n",
    "    return - B0 * y\n",
    "\n",
    "def Ay_ex1(x, y, V0, B0):\n",
    "    return zeros(x.shape)   #  Array of all zeros, with same shape as x."
   ]
  },
  {
   "cell_type": "markdown",
   "metadata": {},
   "source": [
    "Then we can choose some values for $V_0$ and $B_0$, call `schrodinger2d`, and plot the results:"
   ]
  },
  {
   "cell_type": "code",
   "execution_count": 3,
   "metadata": {},
   "outputs": [
    {
     "data": {
      "image/png": "[encoded data removed]",
      "text/plain": [
       "<Figure size 432x288 with 1 Axes>"
      ]
     },
     "metadata": {
      "needs_background": "light"
     },
     "output_type": "display_data"
    },
    {
     "data": {
      "image/png": "[encoded data removed]",
      "text/plain": [
       "<Figure size 432x288 with 6 Axes>"
      ]
     },
     "metadata": {
      "needs_background": "light"
     },
     "output_type": "display_data"
    }
   ],
   "source": [
    "import matplotlib.pyplot as plt\n",
    "\n",
    "V0, B0 = 5.0, 200.0 # V0 and B0\n",
    "E, psi, x, y = schrodinger2d(Phi_ex1, Ax_ex1, Ay_ex1, (V0, B0))\n",
    "\n",
    "## Plot the energy levels\n",
    "plt.figure(1)\n",
    "plt.plot(E, 'o')\n",
    "plt.xlabel('Eigenvalue number'); plt.ylabel('E')\n",
    "\n",
    "## Plot |psi|^2 for lowest 4 eigenstates\n",
    "plt.figure(2)\n",
    "for n in range(6):\n",
    "    plt.subplot(2, 3, n+1)\n",
    "    plt.pcolor(x, y, abs(psi[:,:,n])**2)  # Plot heat map\n",
    "    plt.axis(\"equal\"); plt.axis(\"off\")"
   ]
  },
  {
   "cell_type": "markdown",
   "metadata": {},
   "source": [
    "The upper plot shows the energy spectrum. Notice that there are lots of eigenstates with energy $E \\simeq 100$. This is called a [Landau level](https://en.wikipedia.org/wiki/Landau_quantization); the energy of this Landau level is $\\hbar e B_0 /2m = 100$ (since $B_0 = 200$ and $\\hbar = e = m = 1$). The lower plot shows heat maps of the probability density $|\\psi|^2$ in the $x$-$y$ plane, for the six lowest energy eigenstates. We see that the eigenfunctions form rings analogous to the classical circular orbit of a charged particle in a magnetic field."
   ]
  },
  {
   "cell_type": "markdown",
   "metadata": {},
   "source": [
    "## Task 1: Demonstrate Gauge Invariance (10 marks)\n",
    "\n",
    "Consider the gauge field\n",
    "\n",
    "$$\\lambda(x,y) = ax + by,$$\n",
    "\n",
    "where $a$ and $b$ are arbitrary constants. Amend the above scalar and vector potential functions to include the contributions from this gauge field. Then write code to demonstrate that the system has the same energy eigenvalues and probability densities for various different choices of $a$ and $b$.\n",
    "\n",
    "It is up to you to choose exactly what plots to generate to demonstrate this phenomenon."
   ]
  },
  {
   "cell_type": "code",
   "execution_count": 4,
   "metadata": {},
   "outputs": [],
   "source": [
    "def Phi_task1(x, y, V0, B0, a, b):\n",
    "    return zeros(x.shape) # FIXME\n",
    "\n",
    "def Ax_task1(x, y, V0, B0, a, b):\n",
    "    return zeros(x.shape) # FIXME\n",
    "\n",
    "def Ay_task1(x, y, V0, B0, a, b):\n",
    "    return zeros(x.shape) # FIXME\n",
    "\n",
    "## TO DO: GENERATE PLOTS TO DEMONSTRATE GAUGE INVARIANCE..."
   ]
  },
  {
   "cell_type": "markdown",
   "metadata": {},
   "source": [
    "## Task 2: Threading a magnetic flux (10 marks)\n",
    "\n",
    "Consider the following scalar potential:\n",
    "\n",
    "$$\\Phi = V_0 \\left\\{\\exp\\left[-\\frac{(r-R_0)^2}{2d^2}\\right] - 1\\right\\}$$\n",
    "\n",
    "where $r = \\sqrt{x^2+y^2}$. This scalar potential generates a ring of radius $R_0$, as shown in the plot below. For $V_0 > 0$, the potential tends to push the wavefunctions onto the ring, away from the origin."
   ]
  },
  {
   "cell_type": "code",
   "execution_count": 5,
   "metadata": {},
   "outputs": [
    {
     "data": {
      "image/png": "[encoded data removed]",
      "text/plain": [
       "<Figure size 432x288 with 2 Axes>"
      ]
     },
     "metadata": {
      "needs_background": "light"
     },
     "output_type": "display_data"
    }
   ],
   "source": [
    "def Phi_task2(x, y, V0, R0, d, PhiB):\n",
    "    r = sqrt(x**2 + y**2)\n",
    "    return V0 * (exp(-0.5 * (r-R0)**2 / d**2) - 1.0)    # PhiB is not used here; see below.\n",
    "\n",
    "## Plot Phi for a particular choice of parameters:\n",
    "V0, R0, d, PhiB = 1000, 0.25, 0.1, 0.\n",
    "xa = linspace(-0.5, 0.5, 50); x, y = meshgrid(xa, xa)\n",
    "Phi = Phi_task2(x, y, V0, R0, d, PhiB)\n",
    "\n",
    "plt.pcolor(x, y, Phi)\n",
    "plt.axis(\"equal\")\n",
    "plt.title(\"Heat map of $\\Phi$\")\n",
    "plt.xlabel(\"x\"); plt.ylabel(\"y\")\n",
    "plt.colorbar()\n",
    "plt.show()"
   ]
  },
  {
   "cell_type": "markdown",
   "metadata": {},
   "source": [
    "Take the following vector potential:\n",
    "\n",
    "$$\\begin{aligned} A_x &= - \\frac{\\Phi_B}{2\\pi r} \\sin\\phi \\\\ A_y &= \\;\\;\\frac{\\Phi_B}{2\\pi r} \\cos\\phi. \\end{aligned}$$\n",
    "\n",
    "Here, $\\phi$ is the usual azimuthal coordinate (which can be computed from $x$ and $y$ using the [`arctan2`](https://docs.scipy.org/doc/numpy/reference/generated/numpy.arctan2.html) function). This vector potential corresponds to an infinitesimally narrow spike of magnetic flux $\\Phi_B$ at the coordinate origin. As previously discussed (see the course notes), at every other position the the magnetic field is zero yet the vector potential is nonzero.\n",
    "\n",
    "Write code to generate a plot showing how the energy spectrum varies with $\\Phi_B$. Hence, demonstrate that (i) the spectrum varies with $\\Phi_B$, and (ii) the spectrum returns to itself whenever $\\Phi_B$ varies by $h/e$ (in the present computational units, $h/e = 2\\pi$ )."
   ]
  },
  {
   "cell_type": "code",
   "execution_count": 6,
   "metadata": {},
   "outputs": [],
   "source": [
    "def Ax_task2(x, y, V0, R0, d, PhiB):\n",
    "    phi = arctan2(y, x)   # azimuthal coordinate\n",
    "    return zeros(x.shape) # FIXME\n",
    "\n",
    "def Ay_task2(x, y, V0, R0, d, PhiB):\n",
    "    return zeros(x.shape) # FIXME\n",
    "\n",
    "## TO DO: GENERATE PLOT OF ENERGY VERSUS PhiB...\n"
   ]
  }
 ],
 "metadata": {
  "kernelspec": {
   "display_name": "Python 3",
   "language": "python",
   "name": "python3"
  },
  "language_info": {
   "codemirror_mode": {
    "name": "ipython",
    "version": 3
   },
   "file_extension": ".py",
   "mimetype": "text/x-python",
   "name": "python",
   "nbconvert_exporter": "python",
   "pygments_lexer": "ipython3",
   "version": "3.8.0"
  }
 },
 "nbformat": 4,
 "nbformat_minor": 2
}
