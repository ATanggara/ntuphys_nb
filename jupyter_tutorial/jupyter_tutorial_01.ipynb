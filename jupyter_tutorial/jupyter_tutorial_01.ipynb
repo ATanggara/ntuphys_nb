{
 "cells": [
  {
   "cell_type": "markdown",
   "metadata": {},
   "source": [
    "# Jupyter tutorial (part 1)"
   ]
  },
  {
   "cell_type": "markdown",
   "metadata": {},
   "source": [
    "## Using Jupyter\n",
    "\n",
    "### Getting started"
   ]
  },
  {
   "cell_type": "markdown",
   "metadata": {},
   "source": [
    "### Important Menu Options"
   ]
  },
  {
   "cell_type": "markdown",
   "metadata": {},
   "source": [
    "### Important Keyboard Shortcuts\n",
    "\n",
    "Jupyter provides an extensive list of keyboard shortcuts.  Type `h` (for help) in Command Mode to show them. Here are the most useful ones:\n",
    "\n",
    "**In Command mode**:\n",
    "\n",
    "* `Enter` : Enter edit mode.\n",
    "* `Ctrl-Enter` : Run cell.\n",
    "* `a` : Insert new cell above.\n",
    "* `b` : Insert new cell below.\n",
    "\n",
    "**In Edit Mode**:\n",
    "\n",
    "* `Ctrl-Enter` : Finish editing, run/display cell.\n",
    "* `Ctrl-Shift-Minus` : Split the markdown cell at the current position.\n",
    "* `Ctrl-x`/`Ctrl-c`/`Ctrl-v`/`Ctrl-z` : Cut/copy/paste/undo."
   ]
  },
  {
   "cell_type": "markdown",
   "metadata": {},
   "source": [
    "## Basic usage: Markdown cells"
   ]
  },
  {
   "cell_type": "markdown",
   "metadata": {},
   "source": [
    "## Basic usage: Python code cells"
   ]
  }
 ],
 "metadata": {
  "kernelspec": {
   "display_name": "Python 3",
   "language": "python",
   "name": "python3"
  },
  "language_info": {
   "codemirror_mode": {
    "name": "ipython",
    "version": 3
   },
   "file_extension": ".py",
   "mimetype": "text/x-python",
   "name": "python",
   "nbconvert_exporter": "python",
   "pygments_lexer": "ipython3",
   "version": "3.5.2"
  }
 },
 "nbformat": 4,
 "nbformat_minor": 1
}
